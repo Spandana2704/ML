{
  "nbformat": 4,
  "nbformat_minor": 0,
  "metadata": {
    "colab": {
      "provenance": [],
      "authorship_tag": "ABX9TyPgTSM3eTvaxOOlcx39iNpj",
      "include_colab_link": true
    },
    "kernelspec": {
      "name": "python3",
      "display_name": "Python 3"
    },
    "language_info": {
      "name": "python"
    }
  },
  "cells": [
    {
      "cell_type": "markdown",
      "metadata": {
        "id": "view-in-github",
        "colab_type": "text"
      },
      "source": [
        "<a href=\"https://colab.research.google.com/github/Spandana2704/ML/blob/main/MLW5(2).ipynb\" target=\"_parent\"><img src=\"https://colab.research.google.com/assets/colab-badge.svg\" alt=\"Open In Colab\"/></a>"
      ]
    },
    {
      "cell_type": "code",
      "execution_count": 16,
      "metadata": {
        "id": "63FfvyFv0M4B"
      },
      "outputs": [],
      "source": [
        "import pandas as pd\n",
        "import numpy as np\n",
        "from sklearn.linear_model import LinearRegression\n",
        "import matplotlib.pyplot as plt\n",
        "import seaborn as sns\n",
        "from sklearn.model_selection import train_test_split, cross_val_score\n",
        "from sklearn.preprocessing import PolynomialFeatures, StandardScaler\n",
        "from sklearn.linear_model import LinearRegression, RidgeCV, LassoCV\n",
        "from sklearn.metrics import mean_absolute_error, mean_squared_error, r2_score\n",
        "from sklearn.linear_model import Ridge, Lasso"
      ]
    },
    {
      "cell_type": "code",
      "source": [
        "df = pd.read_csv('/content/car_price_prediction.csv')\n",
        "df = df.dropna(subset=['fiyat'])\n",
        "numeric_cols = ['yil', 'kilometre', 'motor_hacmi', 'motor_gucu', 'fiyat']\n",
        "for col in numeric_cols:\n",
        "    df[col] = df[col].fillna(df[col].median())\n",
        "\n",
        "categorical_cols = ['marka', 'seri', 'model', 'vites_tipi', 'yakit_tipi', 'kasa_tipi', 'renk', 'kimden']\n",
        "df[categorical_cols] = df[categorical_cols].fillna('Unknown')\n",
        "df_encoded = pd.get_dummies(df, columns=categorical_cols, drop_first=True)"
      ],
      "metadata": {
        "id": "tc8shIbC1DX_"
      },
      "execution_count": 17,
      "outputs": []
    },
    {
      "cell_type": "code",
      "source": [
        "y = df_encoded['fiyat']\n",
        "X_selected = df[['kilometre', 'yil', 'motor_gucu']]\n",
        "poly = PolynomialFeatures(degree=2)\n",
        "X_numeric_poly = poly.fit_transform(X_selected)"
      ],
      "metadata": {
        "id": "btSJgwBb1G3h"
      },
      "execution_count": 18,
      "outputs": []
    },
    {
      "cell_type": "code",
      "source": [
        "df_cat_encoded = df_encoded.drop(['kilometre','yil','motor_gucu','fiyat'], axis=1)\n",
        "df_cat_encoded = df_cat_encoded.apply(pd.to_numeric, errors='coerce')\n",
        "cat_array = df_cat_encoded.values.astype(float)\n",
        "X_final = np.concatenate((X_numeric_poly, cat_array), axis=1)\n",
        "\n",
        "X_final = np.nan_to_num(X_final)\n",
        "\n",
        "X_train, X_test, y_train, y_test = train_test_split(X_final, y, test_size=0.2, random_state=42)"
      ],
      "metadata": {
        "id": "rryp_lmz1JLq"
      },
      "execution_count": 19,
      "outputs": []
    },
    {
      "cell_type": "code",
      "source": [
        "scaler = StandardScaler()\n",
        "X_train_scaled = scaler.fit_transform(X_train)\n",
        "X_test_scaled = scaler.transform(X_test)"
      ],
      "metadata": {
        "id": "eUsI_S9R1LjR"
      },
      "execution_count": 20,
      "outputs": []
    },
    {
      "cell_type": "code",
      "source": [
        "model = LinearRegression()\n",
        "model.fit(X_train_scaled, y_train)\n",
        "y_pred = model.predict(X_test_scaled )\n",
        "\n",
        "mse = mean_squared_error(y_test, y_pred)\n",
        "rmse = np.sqrt(mse)\n",
        "\n",
        "print(\"Final R² Score:\", r2_score(y_test, y_pred))\n",
        "print(\"MAE:\", mean_absolute_error(y_test, y_pred))\n",
        "print(\"MSE:\", mse)\n",
        "print(\"RMSE:\", rmse)\n",
        "print(\"Final number of features:\", X_final.shape[1])"
      ],
      "metadata": {
        "colab": {
          "base_uri": "https://localhost:8080/",
          "height": 0
        },
        "id": "kuSeu7Z-1WWm",
        "outputId": "8a701dc0-3832-438d-cc4f-a1a2dcdad94a"
      },
      "execution_count": 28,
      "outputs": [
        {
          "output_type": "stream",
          "name": "stdout",
          "text": [
            "Final R² Score: 0.07065364180659262\n",
            "MAE: 312729.0496356146\n",
            "MSE: 47003705459209.445\n",
            "RMSE: 6855924.843462729\n",
            "Final number of features: 3977\n"
          ]
        }
      ]
    },
    {
      "cell_type": "code",
      "source": [
        "ridge = Ridge(alpha=10)\n",
        "ridge.fit(X_train_scaled, y_train)\n",
        "ridge_pred = ridge.predict(X_test_scaled)"
      ],
      "metadata": {
        "id": "7tY6v21Y91Lc"
      },
      "execution_count": 21,
      "outputs": []
    },
    {
      "cell_type": "code",
      "source": [
        "ridge_mse = mean_squared_error(y_test, ridge_pred)\n",
        "ridge_rmse = np.sqrt(ridge_mse)"
      ],
      "metadata": {
        "id": "o3W34C6K-gMx"
      },
      "execution_count": 22,
      "outputs": []
    },
    {
      "cell_type": "code",
      "source": [
        "print(\"\\n--- Ridge Regression ---\")\n",
        "print(\"R² Score:\", r2_score(y_test, ridge_pred))\n",
        "print(\"MAE:\", mean_absolute_error(y_test, ridge_pred))\n",
        "print(\"MSE:\", ridge_mse)\n",
        "print(\"RMSE:\", ridge_rmse)\n",
        "print(\"Number of non-zero coefficients:\", np.sum(ridge.coef_ != 0))"
      ],
      "metadata": {
        "colab": {
          "base_uri": "https://localhost:8080/",
          "height": 0
        },
        "id": "01Jw8qtE_b5m",
        "outputId": "40e7b336-6e59-46ed-bac7-c6a0e1e5b23a"
      },
      "execution_count": 23,
      "outputs": [
        {
          "output_type": "stream",
          "name": "stdout",
          "text": [
            "\n",
            "--- Ridge Regression ---\n",
            "R² Score: 0.06820991216837358\n",
            "MAE: 307482.27611568273\n",
            "MSE: 47127302379909.79\n",
            "RMSE: 6864932.802286545\n",
            "Number of non-zero coefficients: 3766\n"
          ]
        }
      ]
    },
    {
      "cell_type": "code",
      "source": [
        "lasso = Lasso(alpha=0.1, max_iter=1000)  # Lasso needs more iterations for convergence\n",
        "lasso.fit(X_train, y_train)\n",
        "lasso_pred = lasso.predict(X_test)"
      ],
      "metadata": {
        "colab": {
          "base_uri": "https://localhost:8080/",
          "height": 0
        },
        "id": "52cQM08Q_d0R",
        "outputId": "62910667-738f-4aa7-f658-2aa7fff50a13"
      },
      "execution_count": 24,
      "outputs": [
        {
          "output_type": "stream",
          "name": "stderr",
          "text": [
            "/usr/local/lib/python3.12/dist-packages/sklearn/linear_model/_coordinate_descent.py:695: ConvergenceWarning: Objective did not converge. You might want to increase the number of iterations, check the scale of the features or consider increasing regularisation. Duality gap: 1.112e+17, tolerance: 4.920e+13\n",
            "  model = cd_fast.enet_coordinate_descent(\n"
          ]
        }
      ]
    },
    {
      "cell_type": "code",
      "source": [
        "lasso_mse = mean_squared_error(y_test, lasso_pred)\n",
        "lasso_rmse = np.sqrt(lasso_mse)"
      ],
      "metadata": {
        "id": "WePMaVBu_g67"
      },
      "execution_count": 25,
      "outputs": []
    },
    {
      "cell_type": "code",
      "source": [
        "print(\"\\n--- Lasso Regression ---\")\n",
        "print(\"R² Score:\", r2_score(y_test, lasso_pred))\n",
        "print(\"MAE:\", mean_absolute_error(y_test, lasso_pred))\n",
        "print(\"MSE:\", lasso_mse)\n",
        "print(\"RMSE:\", lasso_rmse)\n",
        "print(\"Number of non-zero coefficients:\", np.sum(lasso.coef_ != 0))"
      ],
      "metadata": {
        "colab": {
          "base_uri": "https://localhost:8080/",
          "height": 0
        },
        "id": "OPIa9rO1BEpY",
        "outputId": "f6e9a846-c9ed-4daa-fb32-21566b2b761d"
      },
      "execution_count": 26,
      "outputs": [
        {
          "output_type": "stream",
          "name": "stdout",
          "text": [
            "\n",
            "--- Lasso Regression ---\n",
            "R² Score: 0.08643565241329088\n",
            "MAE: 305679.2679691992\n",
            "MSE: 46205496081649.28\n",
            "RMSE: 6797462.473721299\n",
            "Number of non-zero coefficients: 3664\n"
          ]
        }
      ]
    },
    {
      "cell_type": "code",
      "source": [
        "print(\"\\n--- Comparison of Models ---\")\n",
        "print(f\"Linear Regression MSE: {mse:.2f}\")\n",
        "print(f\"Ridge Regression MSE: {ridge_mse:.2f}\")\n",
        "print(f\"Lasso Regression MSE: {lasso_mse:.2f}\")"
      ],
      "metadata": {
        "colab": {
          "base_uri": "https://localhost:8080/",
          "height": 0
        },
        "id": "zvNp7HC6BWS9",
        "outputId": "bfed3738-7ed3-4e85-f649-6525cdcea488"
      },
      "execution_count": 29,
      "outputs": [
        {
          "output_type": "stream",
          "name": "stdout",
          "text": [
            "\n",
            "--- Comparison of Models ---\n",
            "Linear Regression MSE: 47003705459209.45\n",
            "Ridge Regression MSE: 47127302379909.79\n",
            "Lasso Regression MSE: 46205496081649.28\n"
          ]
        }
      ]
    },
    {
      "cell_type": "code",
      "source": [],
      "metadata": {
        "id": "XHcKjJYHEsaz"
      },
      "execution_count": null,
      "outputs": []
    }
  ]
}