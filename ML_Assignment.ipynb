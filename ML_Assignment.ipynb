{
  "nbformat": 4,
  "nbformat_minor": 0,
  "metadata": {
    "colab": {
      "provenance": [],
      "authorship_tag": "ABX9TyN4yE1ueX1swRybjNzYXEXC",
      "include_colab_link": true
    },
    "kernelspec": {
      "name": "python3",
      "display_name": "Python 3"
    },
    "language_info": {
      "name": "python"
    }
  },
  "cells": [
    {
      "cell_type": "markdown",
      "metadata": {
        "id": "view-in-github",
        "colab_type": "text"
      },
      "source": [
        "<a href=\"https://colab.research.google.com/github/Spandana2704/ML/blob/main/ML_Assignment.ipynb\" target=\"_parent\"><img src=\"https://colab.research.google.com/assets/colab-badge.svg\" alt=\"Open In Colab\"/></a>"
      ]
    },
    {
      "cell_type": "markdown",
      "source": [
        "**1. Experiment with regression, regularization, and cross-validation on BankNote_Authentication dataset**"
      ],
      "metadata": {
        "id": "bpWwatZLJ_XP"
      }
    },
    {
      "cell_type": "code",
      "execution_count": null,
      "metadata": {
        "id": "NH18arDMkxcb"
      },
      "outputs": [],
      "source": [
        "import pandas as pd\n",
        "import numpy as np"
      ]
    },
    {
      "cell_type": "markdown",
      "source": [
        "**(a) Load the data into memory. Make an appropriate X matrix and y vector.**"
      ],
      "metadata": {
        "id": "tEQnbaSAFQ7o"
      }
    },
    {
      "cell_type": "code",
      "source": [
        "df=pd.read_csv('/content/BankNote_Authentication.csv')\n",
        "df.shape"
      ],
      "metadata": {
        "colab": {
          "base_uri": "https://localhost:8080/"
        },
        "id": "9S4BnFq2nAE7",
        "outputId": "5b80021c-9fd8-4995-a6c6-5c08fc3f194c"
      },
      "execution_count": null,
      "outputs": [
        {
          "output_type": "execute_result",
          "data": {
            "text/plain": [
              "(1372, 5)"
            ]
          },
          "metadata": {},
          "execution_count": 2
        }
      ]
    },
    {
      "cell_type": "code",
      "source": [
        "df.head(3)"
      ],
      "metadata": {
        "colab": {
          "base_uri": "https://localhost:8080/",
          "height": 143
        },
        "id": "2tfccueonId9",
        "outputId": "db3016cd-d3cd-43a6-c2bc-c0fbfd5776ff"
      },
      "execution_count": null,
      "outputs": [
        {
          "output_type": "execute_result",
          "data": {
            "text/plain": [
              "   variance  skewness  curtosis  entropy  class\n",
              "0    3.6216    8.6661   -2.8073 -0.44699      0\n",
              "1    4.5459    8.1674   -2.4586 -1.46210      0\n",
              "2    3.8660   -2.6383    1.9242  0.10645      0"
            ],
            "text/html": [
              "\n",
              "  <div id=\"df-7bcf2925-3c7a-4aac-8af8-8f5d94778309\" class=\"colab-df-container\">\n",
              "    <div>\n",
              "<style scoped>\n",
              "    .dataframe tbody tr th:only-of-type {\n",
              "        vertical-align: middle;\n",
              "    }\n",
              "\n",
              "    .dataframe tbody tr th {\n",
              "        vertical-align: top;\n",
              "    }\n",
              "\n",
              "    .dataframe thead th {\n",
              "        text-align: right;\n",
              "    }\n",
              "</style>\n",
              "<table border=\"1\" class=\"dataframe\">\n",
              "  <thead>\n",
              "    <tr style=\"text-align: right;\">\n",
              "      <th></th>\n",
              "      <th>variance</th>\n",
              "      <th>skewness</th>\n",
              "      <th>curtosis</th>\n",
              "      <th>entropy</th>\n",
              "      <th>class</th>\n",
              "    </tr>\n",
              "  </thead>\n",
              "  <tbody>\n",
              "    <tr>\n",
              "      <th>0</th>\n",
              "      <td>3.6216</td>\n",
              "      <td>8.6661</td>\n",
              "      <td>-2.8073</td>\n",
              "      <td>-0.44699</td>\n",
              "      <td>0</td>\n",
              "    </tr>\n",
              "    <tr>\n",
              "      <th>1</th>\n",
              "      <td>4.5459</td>\n",
              "      <td>8.1674</td>\n",
              "      <td>-2.4586</td>\n",
              "      <td>-1.46210</td>\n",
              "      <td>0</td>\n",
              "    </tr>\n",
              "    <tr>\n",
              "      <th>2</th>\n",
              "      <td>3.8660</td>\n",
              "      <td>-2.6383</td>\n",
              "      <td>1.9242</td>\n",
              "      <td>0.10645</td>\n",
              "      <td>0</td>\n",
              "    </tr>\n",
              "  </tbody>\n",
              "</table>\n",
              "</div>\n",
              "    <div class=\"colab-df-buttons\">\n",
              "\n",
              "  <div class=\"colab-df-container\">\n",
              "    <button class=\"colab-df-convert\" onclick=\"convertToInteractive('df-7bcf2925-3c7a-4aac-8af8-8f5d94778309')\"\n",
              "            title=\"Convert this dataframe to an interactive table.\"\n",
              "            style=\"display:none;\">\n",
              "\n",
              "  <svg xmlns=\"http://www.w3.org/2000/svg\" height=\"24px\" viewBox=\"0 -960 960 960\">\n",
              "    <path d=\"M120-120v-720h720v720H120Zm60-500h600v-160H180v160Zm220 220h160v-160H400v160Zm0 220h160v-160H400v160ZM180-400h160v-160H180v160Zm440 0h160v-160H620v160ZM180-180h160v-160H180v160Zm440 0h160v-160H620v160Z\"/>\n",
              "  </svg>\n",
              "    </button>\n",
              "\n",
              "  <style>\n",
              "    .colab-df-container {\n",
              "      display:flex;\n",
              "      gap: 12px;\n",
              "    }\n",
              "\n",
              "    .colab-df-convert {\n",
              "      background-color: #E8F0FE;\n",
              "      border: none;\n",
              "      border-radius: 50%;\n",
              "      cursor: pointer;\n",
              "      display: none;\n",
              "      fill: #1967D2;\n",
              "      height: 32px;\n",
              "      padding: 0 0 0 0;\n",
              "      width: 32px;\n",
              "    }\n",
              "\n",
              "    .colab-df-convert:hover {\n",
              "      background-color: #E2EBFA;\n",
              "      box-shadow: 0px 1px 2px rgba(60, 64, 67, 0.3), 0px 1px 3px 1px rgba(60, 64, 67, 0.15);\n",
              "      fill: #174EA6;\n",
              "    }\n",
              "\n",
              "    .colab-df-buttons div {\n",
              "      margin-bottom: 4px;\n",
              "    }\n",
              "\n",
              "    [theme=dark] .colab-df-convert {\n",
              "      background-color: #3B4455;\n",
              "      fill: #D2E3FC;\n",
              "    }\n",
              "\n",
              "    [theme=dark] .colab-df-convert:hover {\n",
              "      background-color: #434B5C;\n",
              "      box-shadow: 0px 1px 3px 1px rgba(0, 0, 0, 0.15);\n",
              "      filter: drop-shadow(0px 1px 2px rgba(0, 0, 0, 0.3));\n",
              "      fill: #FFFFFF;\n",
              "    }\n",
              "  </style>\n",
              "\n",
              "    <script>\n",
              "      const buttonEl =\n",
              "        document.querySelector('#df-7bcf2925-3c7a-4aac-8af8-8f5d94778309 button.colab-df-convert');\n",
              "      buttonEl.style.display =\n",
              "        google.colab.kernel.accessAllowed ? 'block' : 'none';\n",
              "\n",
              "      async function convertToInteractive(key) {\n",
              "        const element = document.querySelector('#df-7bcf2925-3c7a-4aac-8af8-8f5d94778309');\n",
              "        const dataTable =\n",
              "          await google.colab.kernel.invokeFunction('convertToInteractive',\n",
              "                                                    [key], {});\n",
              "        if (!dataTable) return;\n",
              "\n",
              "        const docLinkHtml = 'Like what you see? Visit the ' +\n",
              "          '<a target=\"_blank\" href=https://colab.research.google.com/notebooks/data_table.ipynb>data table notebook</a>'\n",
              "          + ' to learn more about interactive tables.';\n",
              "        element.innerHTML = '';\n",
              "        dataTable['output_type'] = 'display_data';\n",
              "        await google.colab.output.renderOutput(dataTable, element);\n",
              "        const docLink = document.createElement('div');\n",
              "        docLink.innerHTML = docLinkHtml;\n",
              "        element.appendChild(docLink);\n",
              "      }\n",
              "    </script>\n",
              "  </div>\n",
              "\n",
              "\n",
              "    <div id=\"df-514911ae-75b0-431c-8ef2-e2a5d0a6af1b\">\n",
              "      <button class=\"colab-df-quickchart\" onclick=\"quickchart('df-514911ae-75b0-431c-8ef2-e2a5d0a6af1b')\"\n",
              "                title=\"Suggest charts\"\n",
              "                style=\"display:none;\">\n",
              "\n",
              "<svg xmlns=\"http://www.w3.org/2000/svg\" height=\"24px\"viewBox=\"0 0 24 24\"\n",
              "     width=\"24px\">\n",
              "    <g>\n",
              "        <path d=\"M19 3H5c-1.1 0-2 .9-2 2v14c0 1.1.9 2 2 2h14c1.1 0 2-.9 2-2V5c0-1.1-.9-2-2-2zM9 17H7v-7h2v7zm4 0h-2V7h2v10zm4 0h-2v-4h2v4z\"/>\n",
              "    </g>\n",
              "</svg>\n",
              "      </button>\n",
              "\n",
              "<style>\n",
              "  .colab-df-quickchart {\n",
              "      --bg-color: #E8F0FE;\n",
              "      --fill-color: #1967D2;\n",
              "      --hover-bg-color: #E2EBFA;\n",
              "      --hover-fill-color: #174EA6;\n",
              "      --disabled-fill-color: #AAA;\n",
              "      --disabled-bg-color: #DDD;\n",
              "  }\n",
              "\n",
              "  [theme=dark] .colab-df-quickchart {\n",
              "      --bg-color: #3B4455;\n",
              "      --fill-color: #D2E3FC;\n",
              "      --hover-bg-color: #434B5C;\n",
              "      --hover-fill-color: #FFFFFF;\n",
              "      --disabled-bg-color: #3B4455;\n",
              "      --disabled-fill-color: #666;\n",
              "  }\n",
              "\n",
              "  .colab-df-quickchart {\n",
              "    background-color: var(--bg-color);\n",
              "    border: none;\n",
              "    border-radius: 50%;\n",
              "    cursor: pointer;\n",
              "    display: none;\n",
              "    fill: var(--fill-color);\n",
              "    height: 32px;\n",
              "    padding: 0;\n",
              "    width: 32px;\n",
              "  }\n",
              "\n",
              "  .colab-df-quickchart:hover {\n",
              "    background-color: var(--hover-bg-color);\n",
              "    box-shadow: 0 1px 2px rgba(60, 64, 67, 0.3), 0 1px 3px 1px rgba(60, 64, 67, 0.15);\n",
              "    fill: var(--button-hover-fill-color);\n",
              "  }\n",
              "\n",
              "  .colab-df-quickchart-complete:disabled,\n",
              "  .colab-df-quickchart-complete:disabled:hover {\n",
              "    background-color: var(--disabled-bg-color);\n",
              "    fill: var(--disabled-fill-color);\n",
              "    box-shadow: none;\n",
              "  }\n",
              "\n",
              "  .colab-df-spinner {\n",
              "    border: 2px solid var(--fill-color);\n",
              "    border-color: transparent;\n",
              "    border-bottom-color: var(--fill-color);\n",
              "    animation:\n",
              "      spin 1s steps(1) infinite;\n",
              "  }\n",
              "\n",
              "  @keyframes spin {\n",
              "    0% {\n",
              "      border-color: transparent;\n",
              "      border-bottom-color: var(--fill-color);\n",
              "      border-left-color: var(--fill-color);\n",
              "    }\n",
              "    20% {\n",
              "      border-color: transparent;\n",
              "      border-left-color: var(--fill-color);\n",
              "      border-top-color: var(--fill-color);\n",
              "    }\n",
              "    30% {\n",
              "      border-color: transparent;\n",
              "      border-left-color: var(--fill-color);\n",
              "      border-top-color: var(--fill-color);\n",
              "      border-right-color: var(--fill-color);\n",
              "    }\n",
              "    40% {\n",
              "      border-color: transparent;\n",
              "      border-right-color: var(--fill-color);\n",
              "      border-top-color: var(--fill-color);\n",
              "    }\n",
              "    60% {\n",
              "      border-color: transparent;\n",
              "      border-right-color: var(--fill-color);\n",
              "    }\n",
              "    80% {\n",
              "      border-color: transparent;\n",
              "      border-right-color: var(--fill-color);\n",
              "      border-bottom-color: var(--fill-color);\n",
              "    }\n",
              "    90% {\n",
              "      border-color: transparent;\n",
              "      border-bottom-color: var(--fill-color);\n",
              "    }\n",
              "  }\n",
              "</style>\n",
              "\n",
              "      <script>\n",
              "        async function quickchart(key) {\n",
              "          const quickchartButtonEl =\n",
              "            document.querySelector('#' + key + ' button');\n",
              "          quickchartButtonEl.disabled = true;  // To prevent multiple clicks.\n",
              "          quickchartButtonEl.classList.add('colab-df-spinner');\n",
              "          try {\n",
              "            const charts = await google.colab.kernel.invokeFunction(\n",
              "                'suggestCharts', [key], {});\n",
              "          } catch (error) {\n",
              "            console.error('Error during call to suggestCharts:', error);\n",
              "          }\n",
              "          quickchartButtonEl.classList.remove('colab-df-spinner');\n",
              "          quickchartButtonEl.classList.add('colab-df-quickchart-complete');\n",
              "        }\n",
              "        (() => {\n",
              "          let quickchartButtonEl =\n",
              "            document.querySelector('#df-514911ae-75b0-431c-8ef2-e2a5d0a6af1b button');\n",
              "          quickchartButtonEl.style.display =\n",
              "            google.colab.kernel.accessAllowed ? 'block' : 'none';\n",
              "        })();\n",
              "      </script>\n",
              "    </div>\n",
              "\n",
              "    </div>\n",
              "  </div>\n"
            ],
            "application/vnd.google.colaboratory.intrinsic+json": {
              "type": "dataframe",
              "variable_name": "df",
              "summary": "{\n  \"name\": \"df\",\n  \"rows\": 1372,\n  \"fields\": [\n    {\n      \"column\": \"variance\",\n      \"properties\": {\n        \"dtype\": \"number\",\n        \"std\": 2.842762586278562,\n        \"min\": -7.0421,\n        \"max\": 6.8248,\n        \"num_unique_values\": 1338,\n        \"samples\": [\n          -2.286,\n          -0.539,\n          0.89512\n        ],\n        \"semantic_type\": \"\",\n        \"description\": \"\"\n      }\n    },\n    {\n      \"column\": \"skewness\",\n      \"properties\": {\n        \"dtype\": \"number\",\n        \"std\": 5.869046743695522,\n        \"min\": -13.7731,\n        \"max\": 12.9516,\n        \"num_unique_values\": 1256,\n        \"samples\": [\n          11.2217,\n          -4.6145,\n          6.1499\n        ],\n        \"semantic_type\": \"\",\n        \"description\": \"\"\n      }\n    },\n    {\n      \"column\": \"curtosis\",\n      \"properties\": {\n        \"dtype\": \"number\",\n        \"std\": 4.310030090106595,\n        \"min\": -5.2861,\n        \"max\": 17.9274,\n        \"num_unique_values\": 1270,\n        \"samples\": [\n          7.8981,\n          9.8208,\n          0.20021\n        ],\n        \"semantic_type\": \"\",\n        \"description\": \"\"\n      }\n    },\n    {\n      \"column\": \"entropy\",\n      \"properties\": {\n        \"dtype\": \"number\",\n        \"std\": 2.1010131373596095,\n        \"min\": -8.5482,\n        \"max\": 2.4495,\n        \"num_unique_values\": 1156,\n        \"samples\": [\n          1.0271,\n          0.90946,\n          -0.026738\n        ],\n        \"semantic_type\": \"\",\n        \"description\": \"\"\n      }\n    },\n    {\n      \"column\": \"class\",\n      \"properties\": {\n        \"dtype\": \"number\",\n        \"std\": 0,\n        \"min\": 0,\n        \"max\": 1,\n        \"num_unique_values\": 2,\n        \"samples\": [\n          1,\n          0\n        ],\n        \"semantic_type\": \"\",\n        \"description\": \"\"\n      }\n    }\n  ]\n}"
            }
          },
          "metadata": {},
          "execution_count": 3
        }
      ]
    },
    {
      "cell_type": "code",
      "source": [
        "[col for col in df.columns if df[col].isnull().sum()>0] #check if there is null data"
      ],
      "metadata": {
        "colab": {
          "base_uri": "https://localhost:8080/"
        },
        "id": "IKQjXPYCnMnR",
        "outputId": "c147555a-332f-4468-bfd2-fed300ebc3bf"
      },
      "execution_count": null,
      "outputs": [
        {
          "output_type": "execute_result",
          "data": {
            "text/plain": [
              "[]"
            ]
          },
          "metadata": {},
          "execution_count": 4
        }
      ]
    },
    {
      "cell_type": "code",
      "source": [
        "df=df.drop_duplicates()"
      ],
      "metadata": {
        "id": "nJM7QFcrUWcP"
      },
      "execution_count": null,
      "outputs": []
    },
    {
      "cell_type": "code",
      "source": [
        "df.shape"
      ],
      "metadata": {
        "colab": {
          "base_uri": "https://localhost:8080/"
        },
        "id": "h8MWWISxUbMq",
        "outputId": "071d4ba9-6cc8-4a48-f593-2717e23252c0"
      },
      "execution_count": null,
      "outputs": [
        {
          "output_type": "execute_result",
          "data": {
            "text/plain": [
              "(1348, 5)"
            ]
          },
          "metadata": {},
          "execution_count": 6
        }
      ]
    },
    {
      "cell_type": "code",
      "source": [
        "X= df.drop(labels=['class'],axis=1) #input variables\n",
        "y=df['class'] #output variable"
      ],
      "metadata": {
        "id": "ourPaDkinohg"
      },
      "execution_count": null,
      "outputs": []
    },
    {
      "cell_type": "markdown",
      "source": [
        "**(b) Split the data at random into one set (Xtrain, ytrain) containing 80% of the instances, which will\n",
        "be used for training + validation, and a testing set Xtest, ytest) (containing remaining instances)**"
      ],
      "metadata": {
        "id": "RqTCsTZWFS-M"
      }
    },
    {
      "cell_type": "code",
      "source": [
        "from sklearn.model_selection import train_test_split"
      ],
      "metadata": {
        "id": "jVtW0poPohAx"
      },
      "execution_count": null,
      "outputs": []
    },
    {
      "cell_type": "code",
      "source": [
        "X_train,X_test,y_train,y_test=train_test_split(X,y,test_size=0.2,random_state=0)"
      ],
      "metadata": {
        "id": "iYMHGheWoRZ5"
      },
      "execution_count": null,
      "outputs": []
    },
    {
      "cell_type": "markdown",
      "source": [
        "**(C) Objective of Logistic Regression with L2 regularization:**\n",
        "\n",
        "* Prevents overfitting by adding a penalty term to the loss function. This penalty is proportional to the square of the magnitude of the coefficients (weights).\n",
        "* The standard loss function:\n",
        "\n",
        "     ![Screenshot 2025-08-30 120613.png](data:image/png;base64,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)\n",
        "\n",
        "    'λ' is the regularization parameter that controls the strength of the penalty, and wi are the coefficients.\n",
        "\n",
        "* Coefficients become as small as possible but not zero, so that no feature dominate the other.\n",
        "* In this regression all features are considered.\n",
        "* The larger the ' λ ' value, the stronger the regularization, and the smaller the coefficients will become."
      ],
      "metadata": {
        "id": "ePID594_pNsE"
      }
    },
    {
      "cell_type": "markdown",
      "source": [
        "**(d) Run logistic regression on the data using L2 regularization, varying the regularization parameter\n",
        "λ ∈ {0, 0.1, 1, 10, 100, 1000}. Plot on one graph the average cross-entropy for the training data\n",
        "and the testing data (averaged over all instances), as a function of λ (you should use a log scale\n",
        "for λ). Plot on another graph the L2 norm of the weight vector you obtain. Plot on the third\n",
        "graph the actual values of the weights obtained (one curve per weight). Finally, plot on a\n",
        "graph the accuracy on the training and test set. Explain briefly what you see.**"
      ],
      "metadata": {
        "id": "MVIhOgdfF8V-"
      }
    },
    {
      "cell_type": "code",
      "source": [
        "import numpy as np\n",
        "import matplotlib.pyplot as plt\n",
        "from sklearn.linear_model import LogisticRegression\n",
        "from sklearn.metrics import log_loss, accuracy_score\n",
        "\n",
        "# Defining lambda values\n",
        "lambda_values = [0, 0.1, 1, 10, 100, 1000]\n",
        "\n",
        "# to store results\n",
        "train_loss = []\n",
        "test_loss = []\n",
        "train_acc = []\n",
        "test_acc = []\n",
        "l2_norms = []\n",
        "weights_list = []\n",
        "\n",
        "for lam in lambda_values:\n",
        "    if lam == 0:\n",
        "        C = 1e10\n",
        "    else:\n",
        "        C = 1 / lam\n",
        "\n",
        "    model = LogisticRegression(C=C, penalty='l2', solver='lbfgs', max_iter=1000)\n",
        "    model.fit(X_train, y_train)\n",
        "\n",
        "    y_train_pred_prob = model.predict_proba(X_train)[:, 1]\n",
        "    y_test_pred_prob = model.predict_proba(X_test)[:, 1]\n",
        "    y_train_pred = model.predict(X_train)\n",
        "    y_test_pred = model.predict(X_test)\n",
        "\n",
        "    train_loss.append(log_loss(y_train, y_train_pred_prob))\n",
        "    test_loss.append(log_loss(y_test, y_test_pred_prob))\n",
        "\n",
        "    train_acc.append(accuracy_score(y_train, y_train_pred))\n",
        "    test_acc.append(accuracy_score(y_test, y_test_pred))\n",
        "\n",
        "    weights = model.coef_.flatten()\n",
        "    l2_norms.append(np.linalg.norm(weights))\n",
        "    weights_list.append(weights)\n",
        "\n",
        "weights_array = np.array(weights_list)\n",
        "\n",
        "plt.figure(figsize=(14, 10))\n",
        "\n",
        "# 1. Cross-entropy vs λ\n",
        "plt.subplot(2, 2, 1)\n",
        "plt.plot(lambda_values, train_loss, marker='o', label='Train')\n",
        "plt.plot(lambda_values, test_loss, marker='o', label='Test')\n",
        "plt.xscale('log')\n",
        "plt.xlabel('λ (log scale)')\n",
        "plt.ylabel('Cross-Entropy Loss')\n",
        "plt.title('Cross-Entropy vs λ')\n",
        "plt.legend()\n",
        "\n",
        "# 2. L2 norm vs λ\n",
        "plt.subplot(2, 2, 2)\n",
        "plt.plot(lambda_values, l2_norms, marker='o')\n",
        "plt.xscale('log')\n",
        "plt.xlabel('λ (log scale)')\n",
        "plt.ylabel('L2 Norm of Weights')\n",
        "plt.title('L2 Norm vs λ')\n",
        "\n",
        "# 3. Weight values vs λ\n",
        "plt.subplot(2, 2, 3)\n",
        "for i in range(weights_array.shape[1]):\n",
        "    plt.plot(lambda_values, weights_array[:, i], marker='o', label=f'w{i+1}')\n",
        "plt.xscale('log')\n",
        "plt.xlabel('λ (log scale)')\n",
        "plt.ylabel('Weight Value')\n",
        "plt.title('Weights vs λ')\n",
        "plt.legend(bbox_to_anchor=(1.05, 1), loc='upper left')\n",
        "\n",
        "# 4. Accuracy vs λ\n",
        "plt.subplot(2, 2, 4)\n",
        "plt.plot(lambda_values, train_acc, marker='o', label='Train')\n",
        "plt.plot(lambda_values, test_acc, marker='o', label='Test')\n",
        "plt.xscale('log')\n",
        "plt.xlabel('λ (log scale)')\n",
        "plt.ylabel('Accuracy')\n",
        "plt.title('Accuracy vs λ')\n",
        "plt.legend()\n",
        "\n",
        "plt.tight_layout()\n",
        "plt.show()\n"
      ],
      "metadata": {
        "colab": {
          "base_uri": "https://localhost:8080/",
          "height": 1000
        },
        "id": "-MqEE0ZLonij",
        "outputId": "bc3048a6-1c0a-481f-cca5-3b35a5e72a1c"
      },
      "execution_count": null,
      "outputs": [
        {
          "output_type": "display_data",
          "data": {
            "text/plain": [
              "<Figure size 1400x1000 with 4 Axes>"
            ],
            "image/png": "[encoded data removed]"
          },
          "metadata": {}
        }
      ]
    },
    {
      "cell_type": "markdown",
      "source": [
        "Observations:\n",
        "1. Cross-Entropy vs λ\n",
        "    * When λ is small (less regularization) → Cross-entropy loss is very low (almost zero) for both train and test → The model fits well..\n",
        "    * When λ becomes large → Loss increases significantly → Model becomes too simple (underfitting).\n",
        "\n",
        "2. L2 Norm of Weights vs λ\n",
        "    * As λ increases, the L2 norm of weights decreases → Stronger regularization shrinks weights toward zero.\n",
        "\n",
        "3. Weights vs λ (Bottom-Right)\n",
        "    * Each weight curve moves toward zero as λ increases.\n",
        "    * With no regularization (λ = 0), weights have large magnitude → Model complexity is high.\n",
        "    * With strong regularization, all weights shrink → Model becomes less flexible.\n",
        "4. Accuracy Vs λ\n",
        "    * Accuracy is highest when λ is small (0.1, 1).\n",
        "    * Accuracy drops when λ becomes very large (100, 1000) because the model underfits."
      ],
      "metadata": {
        "id": "hbDGK8eW0cHK"
      }
    },
    {
      "cell_type": "markdown",
      "source": [
        "**(e) Re-format the data in the following way: take each of the input variables, and feed it through\n",
        "a set of Gaussian basis functions, defined as follows. For each variable (except the bias term),\n",
        "use 5 univariate basis functions with means evenly spaced between -10 and 10 and variance σ.\n",
        "You will experiment with σ values of 0.1, 0.5, 1, 5 and 10.**"
      ],
      "metadata": {
        "id": "yRh-zVyLGQEH"
      }
    },
    {
      "cell_type": "code",
      "source": [
        "import numpy as np\n",
        "\n",
        "num_features = X.shape[1]\n",
        "centers = np.linspace(-10, 10, 5)\n",
        "sigma_values = [0.1, 0.5, 1, 5, 10]\n",
        "\n",
        "def gaussian_basis_transform(X, sigma):\n",
        "    if isinstance(X, pd.DataFrame):\n",
        "        X = X.values\n",
        "\n",
        "    m = X.shape[0]\n",
        "    transformed = []\n",
        "    for j in range(num_features):\n",
        "        xj = X[:, j].reshape(-1, 1)\n",
        "        for mu in centers:\n",
        "            phi = np.exp(- (xj - mu) ** 2 / (2 * sigma ** 2))\n",
        "            transformed.append(phi)\n",
        "    return np.hstack(transformed)\n",
        "\n",
        "for sigma in sigma_values:\n",
        "    X_transformed = gaussian_basis_transform(X, sigma)\n",
        "    print(f\"New shape for sigma={sigma}:\", X_transformed.shape)\n"
      ],
      "metadata": {
        "id": "4w8CgHNgzkuR",
        "colab": {
          "base_uri": "https://localhost:8080/"
        },
        "outputId": "d4b888d1-c890-4c6b-e8e9-bceed3dd7767"
      },
      "execution_count": null,
      "outputs": [
        {
          "output_type": "stream",
          "name": "stdout",
          "text": [
            "New shape for sigma=0.1: (1348, 20)\n",
            "New shape for sigma=0.5: (1348, 20)\n",
            "New shape for sigma=1: (1348, 20)\n",
            "New shape for sigma=5: (1348, 20)\n",
            "New shape for sigma=10: (1348, 20)\n"
          ]
        }
      ]
    },
    {
      "cell_type": "markdown",
      "source": [
        "**(f) Using no regularization and doing regression with this new set of basis functions, plot the\n",
        "training and testing error as a function of σ (when using only basis functions of a given σ). Add\n",
        "constant lines showing the training and testing error you had obtained in part c. Explain how σ\n",
        "influences overfitting and the bias-variance trade-off.**"
      ],
      "metadata": {
        "id": "PNIRP4YjH6PQ"
      }
    },
    {
      "cell_type": "code",
      "source": [
        "from sklearn.linear_model import LogisticRegression\n",
        "from sklearn.metrics import log_loss\n",
        "import matplotlib.pyplot as plt\n",
        "\n",
        "train_errors = []\n",
        "test_errors = []\n",
        "\n",
        "for sigma in sigma_values:\n",
        "\n",
        "    X_train_trans = gaussian_basis_transform(X_train, sigma)\n",
        "    X_test_trans = gaussian_basis_transform(X_test, sigma)\n",
        "\n",
        "    model = LogisticRegression(C=1e10, penalty='l2', solver='lbfgs', max_iter=1000)\n",
        "    model.fit(X_train_trans, y_train)\n",
        "\n",
        "    y_train_pred_prob = model.predict_proba(X_train_trans)[:, 1]\n",
        "    y_test_pred_prob = model.predict_proba(X_test_trans)[:, 1]\n",
        "\n",
        "    train_error = log_loss(y_train, y_train_pred_prob)\n",
        "    test_error = log_loss(y_test, y_test_pred_prob)\n",
        "\n",
        "    train_errors.append(train_error)\n",
        "    test_errors.append(test_error)\n",
        "\n",
        "baseline_train_error = train_loss[0]  # for λ = 0\n",
        "baseline_test_error = test_loss[0]\n",
        "\n",
        "plt.figure(figsize=(8, 6))\n",
        "plt.plot(sigma_values, train_errors, marker='o', label='Train Error')\n",
        "plt.plot(sigma_values, test_errors, marker='o', label='Test Error')\n",
        "plt.axhline(y=baseline_train_error, color='blue', linestyle='--', label='Baseline Train Error')\n",
        "plt.axhline(y=baseline_test_error, color='orange', linestyle='--', label='Baseline Test Error')\n",
        "plt.xscale('log')\n",
        "plt.xlabel('σ (log scale)')\n",
        "plt.ylabel('Cross-Entropy Loss')\n",
        "plt.title('Training and Testing Error vs σ')\n",
        "plt.legend()\n",
        "plt.show()\n"
      ],
      "metadata": {
        "colab": {
          "base_uri": "https://localhost:8080/",
          "height": 569
        },
        "id": "IX9vcp2DFKSN",
        "outputId": "9f3bcf25-a1c8-4e8f-edbe-75b234ce0a45"
      },
      "execution_count": null,
      "outputs": [
        {
          "output_type": "display_data",
          "data": {
            "text/plain": [
              "<Figure size 800x600 with 1 Axes>"
            ],
            "image/png": "[encoded data removed]"
          },
          "metadata": {}
        }
      ]
    },
    {
      "cell_type": "markdown",
      "source": [
        "* Small σ makes Gaussian functions very narrow, so the model becomes very complex and overfits.\n",
        "* Large σ makes them wide, so the model becomes too simple and underfits.\n",
        "* Small σ → Low bias, High variance (complex model).\n",
        "* Large σ → High bias, Low variance (simple model).\n",
        "* A medium σ gives the best balance. This is the bias-variance trade-off."
      ],
      "metadata": {
        "id": "vWQ8vHO7DHdy"
      }
    },
    {
      "cell_type": "markdown",
      "source": [
        "**(g) Add in all the basis function and perform regularized regression with the regularization\n",
        "parameter λ ∈ {0, 0.1, 1, 10, 100, 1000, 10000}. Plot on one graph the average cross- entropy\n",
        "error for the training data and the testing data, as a function of λ (you should use a log scale\n",
        "for λ). Plot on another graph the L2 norm of the weight vector you obtain. Plot on a different\n",
        "graph the L2 norm of the weights for the set of basis functions corresponding to each value\n",
        "of σ, as a function of λ (this will be a graph with 5 lines on it). Explain briefly the results.**"
      ],
      "metadata": {
        "id": "ORHUbh9Eaw_u"
      }
    },
    {
      "cell_type": "code",
      "source": [
        "import numpy as np\n",
        "import matplotlib.pyplot as plt\n",
        "from sklearn.linear_model import LogisticRegression\n",
        "from sklearn.metrics import log_loss\n",
        "import pandas as pd\n",
        "\n",
        "sigma_values = [0.1, 0.5, 1, 5, 10]\n",
        "lambda_values = [0, 0.1, 1, 10, 100, 1000, 10000]\n",
        "C_for_lambda = lambda lam: 1e10 if lam == 0 else 1.0 / lam\n",
        "\n",
        "def gaussian_basis_transform(X, sigma, centers=np.linspace(-10, 10, 5)):\n",
        "    if isinstance(X, pd.DataFrame):\n",
        "        X = X.values\n",
        "    m, num_features = X.shape\n",
        "    transformed = []\n",
        "    for j in range(num_features):\n",
        "        xj = X[:, j].reshape(-1, 1)\n",
        "        for mu in centers:\n",
        "            phi = np.exp(- (xj - mu) ** 2 / (2 * sigma ** 2))\n",
        "            transformed.append(phi)\n",
        "    return np.hstack(transformed)\n",
        "\n",
        "X_train_groups = []\n",
        "X_test_groups = []\n",
        "for sigma in sigma_values:\n",
        "    X_train_groups.append(gaussian_basis_transform(X_train, sigma))\n",
        "    X_test_groups.append(gaussian_basis_transform(X_test, sigma))\n",
        "\n",
        "X_train_all = np.hstack(X_train_groups)\n",
        "X_test_all  = np.hstack(X_test_groups)\n",
        "\n",
        "n_total_features = X_train_all.shape[1]\n",
        "n_group_features = X_train_groups[0].shape[1]\n",
        "\n",
        "print(\"Total features:\", n_total_features, \"Group features:\", n_group_features)\n",
        "try:\n",
        "    baseline_train_error\n",
        "    baseline_test_error\n",
        "except NameError:\n",
        "    baseline_train_error = None\n",
        "    baseline_test_error = None\n",
        "\n",
        "train_losses = []\n",
        "test_losses  = []\n",
        "l2_norms_overall = []\n",
        "l2_norms_per_sigma = []\n",
        "\n",
        "for lam in lambda_values:\n",
        "    C = C_for_lambda(lam)\n",
        "    model = LogisticRegression(\n",
        "        penalty='l2', C=C, solver='lbfgs', max_iter=10000\n",
        "    )\n",
        "    model.fit(X_train_all, y_train)\n",
        "\n",
        "    y_train_prob = model.predict_proba(X_train_all)[:, 1]\n",
        "    y_test_prob  = model.predict_proba(X_test_all)[:, 1]\n",
        "\n",
        "    train_losses.append(log_loss(y_train, y_train_prob))\n",
        "    test_losses.append(log_loss(y_test, y_test_prob))\n",
        "\n",
        "    w = model.coef_.ravel()\n",
        "    l2_norms_overall.append(np.linalg.norm(w))\n",
        "\n",
        "    for i in range(len(sigma_values)):\n",
        "        start = i * n_group_features\n",
        "        end   = (i + 1) * n_group_features\n",
        "        wi = w[start:end]\n",
        "        group_norms.append(np.linalg.norm(wi))\n",
        "    l2_norms_per_sigma.append(group_norms)\n",
        "\n",
        "l2_norms_per_sigma = np.array(l2_norms_per_sigma)\n",
        "\n",
        "# --- PLOT 1: Cross-entropy vs λ (log scale) ---\n",
        "plt.figure(figsize=(7,5))\n",
        "plt.plot(lambda_values, train_losses, marker='o', label='Train cross-entropy')\n",
        "plt.plot(lambda_values, test_losses, marker='o', label='Test cross-entropy')\n",
        "if baseline_train_error is not None:\n",
        "    plt.axhline(y=baseline_train_error, color='blue', linestyle='--', label='Baseline Train Error')\n",
        "if baseline_test_error is not None:\n",
        "    plt.axhline(y=baseline_test_error, color='orange', linestyle='--', label='Baseline Test Error')\n",
        "plt.xscale('log')\n",
        "plt.xlabel('λ (log scale)')\n",
        "plt.ylabel('Cross-Entropy Loss (avg over instances)')\n",
        "plt.title('Cross-Entropy vs λ (all basis functions included)')\n",
        "plt.legend()\n",
        "plt.grid(True)\n",
        "plt.tight_layout()\n",
        "plt.show()\n",
        "\n",
        "# --- PLOT 2: Overall L2 norm vs λ ---\n",
        "plt.figure(figsize=(6,4))\n",
        "plt.plot(lambda_values, l2_norms_overall, marker='o')\n",
        "plt.xscale('log')\n",
        "plt.xlabel('λ (log scale)')\n",
        "plt.ylabel('L2 norm of full weight vector')\n",
        "plt.title('L2 Norm (overall) vs λ')\n",
        "plt.grid(True)\n",
        "plt.tight_layout()\n",
        "plt.show()\n",
        "\n",
        "# --- PLOT 3: L2 norm per σ-group vs λ (one line per sigma) ---\n",
        "plt.figure(figsize=(7,5))\n",
        "for i, sigma in enumerate(sigma_values):\n",
        "    plt.plot(lambda_values, l2_norms_per_sigma[:, i], marker='o', label=f'σ={sigma}')\n",
        "plt.xscale('log')\n",
        "plt.xlabel('λ (log scale)')\n",
        "plt.ylabel('L2 norm of weights (for basis set of that σ)')\n",
        "plt.title('L2 Norm per σ-group vs λ')\n",
        "plt.legend()\n",
        "plt.grid(True)\n",
        "plt.tight_layout()\n",
        "plt.show()\n"
      ],
      "metadata": {
        "colab": {
          "base_uri": "https://localhost:8080/",
          "height": 1000
        },
        "id": "xbNbfhi7IVgt",
        "outputId": "d628abc9-3c93-4ed0-82e9-f9cb45d02bab"
      },
      "execution_count": null,
      "outputs": [
        {
          "output_type": "stream",
          "name": "stdout",
          "text": [
            "Total features: 100 Group features: 20\n"
          ]
        },
        {
          "output_type": "display_data",
          "data": {
            "text/plain": [
              "<Figure size 700x500 with 1 Axes>"
            ],
            "image/png": "[encoded data removed]"
          },
          "metadata": {}
        },
        {
          "output_type": "display_data",
          "data": {
            "text/plain": [
              "<Figure size 600x400 with 1 Axes>"
            ],
            "image/png": "[encoded data removed]"
          },
          "metadata": {}
        },
        {
          "output_type": "display_data",
          "data": {
            "text/plain": [
              "<Figure size 700x500 with 1 Axes>"
            ],
            "image/png": "[encoded data removed]"
          },
          "metadata": {}
        }
      ]
    },
    {
      "cell_type": "markdown",
      "source": [
        "1. Cross-Entropy vs λ\n",
        "    * When λ = 0 (no regularization), training error is low, but test error is slightly higher → some overfitting.\n",
        "    * As λ increases, both training and test error increase → the model becomes too simple (underfits).\n",
        "2. L2 Norm (overall) vs λ\n",
        "    * L2 norm of the full weight vector decreases sharply as λ increases.\n",
        "3. L2 Norm per σ-group vs λ\n",
        "    * For small λ, groups with larger σ (e.g., σ=10) have larger weight norms → the model relies more on smoother, wide Gaussians.\n",
        "    * As λ increases, all groups shrink toward zero, but large-σ groups shrink slower initially because they are more stable and less prone to overfitting"
      ],
      "metadata": {
        "id": "FTHlYYaeEzfa"
      }
    },
    {
      "cell_type": "markdown",
      "source": [
        "**(h) Explain what you would need to do if you wanted to design a set of Gaussian basis functions\n",
        "that capture relationships between the inputs. Explain the impact of this choice on the bias-variance trade-off. No experiments are needed (although you are welcome to explore\n",
        "this on your own)**"
      ],
      "metadata": {
        "id": "kO6jthxkFihi"
      }
    },
    {
      "cell_type": "markdown",
      "source": [
        "If we want Gaussian basis functions to capture relationships between inputs (not just each input separately), you need to use multidimensional Gaussians. That means instead of having basis functions centered on single features, you define them in the full input space, where each basis function depends on multiple inputs together.\n",
        "\n",
        "* What changes?\n",
        "\n",
        "  * Each basis function now has a center vector (for all features) and possibly a covariance matrix to control its shape in multiple dimensions.\n",
        "  * You will need many more basis functions to cover the input space properly.\n",
        "\n",
        "* Impact on bias-variance:\n",
        "\n",
        "  * It reduces bias because the model can learn complex interactions between features.\n",
        "  * But it increases variance (risk of overfitting) because the model becomes more flexible and needs more data to fit reliably.\n",
        "  * Regularization becomes even more important to control complexity.\n",
        "\n"
      ],
      "metadata": {
        "id": "0mGsKSpmGaR9"
      }
    },
    {
      "cell_type": "markdown",
      "source": [
        "**(i) Suppose that instead of wanting to use a fixed set of evenly-spaced basis functions, you would\n",
        "like to adapt the placement of these functions. Derive a learning algorithm that computes\n",
        "both the placement of the basis function, µi and the weight vector w from data (assuming\n",
        "that the width σ isfixed. You should still allow for L2 regularization of the weight vector.\n",
        "Note that your algorithm will need to be iterative.**"
      ],
      "metadata": {
        "id": "qnT-jTEJG3qC"
      }
    },
    {
      "cell_type": "code",
      "source": [
        "import numpy as np\n",
        "\n",
        "def gaussian_basis(X, mus, sigma):\n",
        "    n_samples = X.shape[0]\n",
        "    n_basis = mus.shape[0]\n",
        "    Phi = np.zeros((n_samples, n_basis))\n",
        "    for i in range(n_basis):\n",
        "        diff = X - mus[i]\n",
        "        Phi[:, i] = np.exp(-np.sum(diff ** 2, axis=1) / (2 * sigma ** 2))\n",
        "    return Phi\n",
        "\n",
        "def compute_weights(Phi, y, lam):\n",
        "    A = Phi.T @ Phi + lam * np.eye(Phi.shape[1])\n",
        "    b = Phi.T @ y\n",
        "    return np.linalg.solve(A, b)\n",
        "\n",
        "def gradient_mu(X, y, mus, w, sigma):\n",
        "    n_basis = mus.shape[0]\n",
        "    grad = np.zeros_like(mus)\n",
        "    Phi = gaussian_basis(X, mus, sigma)\n",
        "    error = Phi @ w - y\n",
        "    for i in range(n_basis):\n",
        "        diff = X - mus[i]\n",
        "        grad[i] = np.sum((error * w[i])[:, None] * Phi[:, i][:, None] * diff / (sigma ** 2), axis=0)\n",
        "    return grad\n",
        "\n",
        "def learn_gaussian_centers(X, y, n_basis=5, sigma=1.0, lam=0.1, lr=0.01, max_iter=100):\n",
        "\n",
        "    mus = X[np.random.choice(X.shape[0], n_basis, replace=False)]\n",
        "\n",
        "    for iteration in range(max_iter):\n",
        "        Phi = gaussian_basis(X, mus, sigma)\n",
        "        w = compute_weights(Phi, y, lam)\n",
        "        grad = gradient_mu(X, y, mus, w, sigma)\n",
        "        mus -= lr * grad\n",
        "        loss = np.mean((Phi @ w - y) ** 2)\n",
        "        if iteration % 10 == 0:\n",
        "            print(f\"Iteration {iteration}, Loss: {loss:.4f}\")\n",
        "    return mus, w\n",
        "\n",
        "np.random.seed(42)\n",
        "X = np.random.rand(100, 1) * 10\n",
        "y = np.sin(X).ravel()\n",
        "sigma = 1.0\n",
        "mus, w = learn_gaussian_centers(X, y, n_basis=5, sigma=sigma, lam=0.1, lr=0.01, max_iter=100)\n",
        "print(\"Learned centers:\", mus)\n",
        "print(\"Learned weights:\", w)\n"
      ],
      "metadata": {
        "colab": {
          "base_uri": "https://localhost:8080/"
        },
        "id": "v4wtF8RAFdmB",
        "outputId": "f695a626-f5ec-406f-a854-549b7c72faab"
      },
      "execution_count": null,
      "outputs": [
        {
          "output_type": "stream",
          "name": "stdout",
          "text": [
            "Iteration 0, Loss: 0.2092\n",
            "Iteration 10, Loss: 0.1661\n",
            "Iteration 20, Loss: 0.0996\n",
            "Iteration 30, Loss: 0.0413\n",
            "Iteration 40, Loss: 0.0222\n",
            "Iteration 50, Loss: 0.0160\n",
            "Iteration 60, Loss: 0.0133\n",
            "Iteration 70, Loss: 0.0120\n",
            "Iteration 80, Loss: 0.0113\n",
            "Iteration 90, Loss: 0.0109\n",
            "Learned centers: [[7.69418595]\n",
            " [0.52476683]\n",
            " [1.26709043]\n",
            " [4.68521473]\n",
            " [2.42481909]]\n",
            "Learned weights: [ 0.96490871 -0.40537196  1.1415791  -1.0705076   0.21008622]\n"
          ]
        }
      ]
    },
    {
      "cell_type": "markdown",
      "source": [
        "**(j) Does your algorithm converge? If so, does it obtain a locally or globally optimal solution?\n",
        "Explain your answer.**"
      ],
      "metadata": {
        "id": "ujlY414WHzl0"
      }
    },
    {
      "cell_type": "markdown",
      "source": [
        "Yes, the algorithm converges, but only to a local optimum, not the global one.\n",
        "\n",
        "Reason:\n",
        "\n",
        "* When weights w are fixed, finding w is convex --> easy.\n",
        "\n",
        "* But updating centers μi makes the problem non-convex, so many local minima exist.\n",
        "\n",
        "The above result shows the loss decreasing and stabilizing --> algorithm converged to a local solution, which depends on starting points.\n",
        "\n",
        "Global optimum is not guaranteed."
      ],
      "metadata": {
        "id": "APnH27Z3IS1a"
      }
    },
    {
      "cell_type": "markdown",
      "source": [
        "**2. Experiment on insurance dataset to demonstrate the Linear Regression and its versions, along with complete data preprocessing steps.**"
      ],
      "metadata": {
        "id": "v3AIf-7cJ4tt"
      }
    },
    {
      "cell_type": "code",
      "source": [
        "import matplotlib.pyplot as plt\n",
        "import seaborn as sns\n",
        "\n",
        "from sklearn.model_selection import train_test_split\n",
        "from sklearn.preprocessing import StandardScaler, OneHotEncoder, PolynomialFeatures\n",
        "from sklearn.compose import ColumnTransformer\n",
        "from sklearn.pipeline import Pipeline\n",
        "from sklearn.linear_model import LinearRegression, Ridge, Lasso, ElasticNet\n",
        "from sklearn.metrics import r2_score, mean_squared_error, mean_absolute_error"
      ],
      "metadata": {
        "id": "otL9hvp5K1JM"
      },
      "execution_count": null,
      "outputs": []
    },
    {
      "cell_type": "code",
      "source": [
        "df=pd.read_csv('/content/insurance.csv')\n",
        "df.shape"
      ],
      "metadata": {
        "colab": {
          "base_uri": "https://localhost:8080/"
        },
        "id": "AZAVUZnwI6DW",
        "outputId": "d47bc540-80d9-4a6c-d769-bc97e3338333"
      },
      "execution_count": null,
      "outputs": [
        {
          "output_type": "execute_result",
          "data": {
            "text/plain": [
              "(1338, 7)"
            ]
          },
          "metadata": {},
          "execution_count": 58
        }
      ]
    },
    {
      "cell_type": "code",
      "source": [
        "df.head(3)"
      ],
      "metadata": {
        "colab": {
          "base_uri": "https://localhost:8080/",
          "height": 143
        },
        "id": "QCgek5LLJ1G8",
        "outputId": "ba2cd267-d3aa-4e06-be0c-a56c78f7f073"
      },
      "execution_count": null,
      "outputs": [
        {
          "output_type": "execute_result",
          "data": {
            "text/plain": [
              "   age     sex    bmi  children smoker     region     charges\n",
              "0   19  female  27.90         0    yes  southwest  16884.9240\n",
              "1   18    male  33.77         1     no  southeast   1725.5523\n",
              "2   28    male  33.00         3     no  southeast   4449.4620"
            ],
            "text/html": [
              "\n",
              "  <div id=\"df-b41c278c-d5e8-479f-bc13-ac0792958352\" class=\"colab-df-container\">\n",
              "    <div>\n",
              "<style scoped>\n",
              "    .dataframe tbody tr th:only-of-type {\n",
              "        vertical-align: middle;\n",
              "    }\n",
              "\n",
              "    .dataframe tbody tr th {\n",
              "        vertical-align: top;\n",
              "    }\n",
              "\n",
              "    .dataframe thead th {\n",
              "        text-align: right;\n",
              "    }\n",
              "</style>\n",
              "<table border=\"1\" class=\"dataframe\">\n",
              "  <thead>\n",
              "    <tr style=\"text-align: right;\">\n",
              "      <th></th>\n",
              "      <th>age</th>\n",
              "      <th>sex</th>\n",
              "      <th>bmi</th>\n",
              "      <th>children</th>\n",
              "      <th>smoker</th>\n",
              "      <th>region</th>\n",
              "      <th>charges</th>\n",
              "    </tr>\n",
              "  </thead>\n",
              "  <tbody>\n",
              "    <tr>\n",
              "      <th>0</th>\n",
              "      <td>19</td>\n",
              "      <td>female</td>\n",
              "      <td>27.90</td>\n",
              "      <td>0</td>\n",
              "      <td>yes</td>\n",
              "      <td>southwest</td>\n",
              "      <td>16884.9240</td>\n",
              "    </tr>\n",
              "    <tr>\n",
              "      <th>1</th>\n",
              "      <td>18</td>\n",
              "      <td>male</td>\n",
              "      <td>33.77</td>\n",
              "      <td>1</td>\n",
              "      <td>no</td>\n",
              "      <td>southeast</td>\n",
              "      <td>1725.5523</td>\n",
              "    </tr>\n",
              "    <tr>\n",
              "      <th>2</th>\n",
              "      <td>28</td>\n",
              "      <td>male</td>\n",
              "      <td>33.00</td>\n",
              "      <td>3</td>\n",
              "      <td>no</td>\n",
              "      <td>southeast</td>\n",
              "      <td>4449.4620</td>\n",
              "    </tr>\n",
              "  </tbody>\n",
              "</table>\n",
              "</div>\n",
              "    <div class=\"colab-df-buttons\">\n",
              "\n",
              "  <div class=\"colab-df-container\">\n",
              "    <button class=\"colab-df-convert\" onclick=\"convertToInteractive('df-b41c278c-d5e8-479f-bc13-ac0792958352')\"\n",
              "            title=\"Convert this dataframe to an interactive table.\"\n",
              "            style=\"display:none;\">\n",
              "\n",
              "  <svg xmlns=\"http://www.w3.org/2000/svg\" height=\"24px\" viewBox=\"0 -960 960 960\">\n",
              "    <path d=\"M120-120v-720h720v720H120Zm60-500h600v-160H180v160Zm220 220h160v-160H400v160Zm0 220h160v-160H400v160ZM180-400h160v-160H180v160Zm440 0h160v-160H620v160ZM180-180h160v-160H180v160Zm440 0h160v-160H620v160Z\"/>\n",
              "  </svg>\n",
              "    </button>\n",
              "\n",
              "  <style>\n",
              "    .colab-df-container {\n",
              "      display:flex;\n",
              "      gap: 12px;\n",
              "    }\n",
              "\n",
              "    .colab-df-convert {\n",
              "      background-color: #E8F0FE;\n",
              "      border: none;\n",
              "      border-radius: 50%;\n",
              "      cursor: pointer;\n",
              "      display: none;\n",
              "      fill: #1967D2;\n",
              "      height: 32px;\n",
              "      padding: 0 0 0 0;\n",
              "      width: 32px;\n",
              "    }\n",
              "\n",
              "    .colab-df-convert:hover {\n",
              "      background-color: #E2EBFA;\n",
              "      box-shadow: 0px 1px 2px rgba(60, 64, 67, 0.3), 0px 1px 3px 1px rgba(60, 64, 67, 0.15);\n",
              "      fill: #174EA6;\n",
              "    }\n",
              "\n",
              "    .colab-df-buttons div {\n",
              "      margin-bottom: 4px;\n",
              "    }\n",
              "\n",
              "    [theme=dark] .colab-df-convert {\n",
              "      background-color: #3B4455;\n",
              "      fill: #D2E3FC;\n",
              "    }\n",
              "\n",
              "    [theme=dark] .colab-df-convert:hover {\n",
              "      background-color: #434B5C;\n",
              "      box-shadow: 0px 1px 3px 1px rgba(0, 0, 0, 0.15);\n",
              "      filter: drop-shadow(0px 1px 2px rgba(0, 0, 0, 0.3));\n",
              "      fill: #FFFFFF;\n",
              "    }\n",
              "  </style>\n",
              "\n",
              "    <script>\n",
              "      const buttonEl =\n",
              "        document.querySelector('#df-b41c278c-d5e8-479f-bc13-ac0792958352 button.colab-df-convert');\n",
              "      buttonEl.style.display =\n",
              "        google.colab.kernel.accessAllowed ? 'block' : 'none';\n",
              "\n",
              "      async function convertToInteractive(key) {\n",
              "        const element = document.querySelector('#df-b41c278c-d5e8-479f-bc13-ac0792958352');\n",
              "        const dataTable =\n",
              "          await google.colab.kernel.invokeFunction('convertToInteractive',\n",
              "                                                    [key], {});\n",
              "        if (!dataTable) return;\n",
              "\n",
              "        const docLinkHtml = 'Like what you see? Visit the ' +\n",
              "          '<a target=\"_blank\" href=https://colab.research.google.com/notebooks/data_table.ipynb>data table notebook</a>'\n",
              "          + ' to learn more about interactive tables.';\n",
              "        element.innerHTML = '';\n",
              "        dataTable['output_type'] = 'display_data';\n",
              "        await google.colab.output.renderOutput(dataTable, element);\n",
              "        const docLink = document.createElement('div');\n",
              "        docLink.innerHTML = docLinkHtml;\n",
              "        element.appendChild(docLink);\n",
              "      }\n",
              "    </script>\n",
              "  </div>\n",
              "\n",
              "\n",
              "    <div id=\"df-8e7a9f12-ab82-4933-b7ed-dff209cfc946\">\n",
              "      <button class=\"colab-df-quickchart\" onclick=\"quickchart('df-8e7a9f12-ab82-4933-b7ed-dff209cfc946')\"\n",
              "                title=\"Suggest charts\"\n",
              "                style=\"display:none;\">\n",
              "\n",
              "<svg xmlns=\"http://www.w3.org/2000/svg\" height=\"24px\"viewBox=\"0 0 24 24\"\n",
              "     width=\"24px\">\n",
              "    <g>\n",
              "        <path d=\"M19 3H5c-1.1 0-2 .9-2 2v14c0 1.1.9 2 2 2h14c1.1 0 2-.9 2-2V5c0-1.1-.9-2-2-2zM9 17H7v-7h2v7zm4 0h-2V7h2v10zm4 0h-2v-4h2v4z\"/>\n",
              "    </g>\n",
              "</svg>\n",
              "      </button>\n",
              "\n",
              "<style>\n",
              "  .colab-df-quickchart {\n",
              "      --bg-color: #E8F0FE;\n",
              "      --fill-color: #1967D2;\n",
              "      --hover-bg-color: #E2EBFA;\n",
              "      --hover-fill-color: #174EA6;\n",
              "      --disabled-fill-color: #AAA;\n",
              "      --disabled-bg-color: #DDD;\n",
              "  }\n",
              "\n",
              "  [theme=dark] .colab-df-quickchart {\n",
              "      --bg-color: #3B4455;\n",
              "      --fill-color: #D2E3FC;\n",
              "      --hover-bg-color: #434B5C;\n",
              "      --hover-fill-color: #FFFFFF;\n",
              "      --disabled-bg-color: #3B4455;\n",
              "      --disabled-fill-color: #666;\n",
              "  }\n",
              "\n",
              "  .colab-df-quickchart {\n",
              "    background-color: var(--bg-color);\n",
              "    border: none;\n",
              "    border-radius: 50%;\n",
              "    cursor: pointer;\n",
              "    display: none;\n",
              "    fill: var(--fill-color);\n",
              "    height: 32px;\n",
              "    padding: 0;\n",
              "    width: 32px;\n",
              "  }\n",
              "\n",
              "  .colab-df-quickchart:hover {\n",
              "    background-color: var(--hover-bg-color);\n",
              "    box-shadow: 0 1px 2px rgba(60, 64, 67, 0.3), 0 1px 3px 1px rgba(60, 64, 67, 0.15);\n",
              "    fill: var(--button-hover-fill-color);\n",
              "  }\n",
              "\n",
              "  .colab-df-quickchart-complete:disabled,\n",
              "  .colab-df-quickchart-complete:disabled:hover {\n",
              "    background-color: var(--disabled-bg-color);\n",
              "    fill: var(--disabled-fill-color);\n",
              "    box-shadow: none;\n",
              "  }\n",
              "\n",
              "  .colab-df-spinner {\n",
              "    border: 2px solid var(--fill-color);\n",
              "    border-color: transparent;\n",
              "    border-bottom-color: var(--fill-color);\n",
              "    animation:\n",
              "      spin 1s steps(1) infinite;\n",
              "  }\n",
              "\n",
              "  @keyframes spin {\n",
              "    0% {\n",
              "      border-color: transparent;\n",
              "      border-bottom-color: var(--fill-color);\n",
              "      border-left-color: var(--fill-color);\n",
              "    }\n",
              "    20% {\n",
              "      border-color: transparent;\n",
              "      border-left-color: var(--fill-color);\n",
              "      border-top-color: var(--fill-color);\n",
              "    }\n",
              "    30% {\n",
              "      border-color: transparent;\n",
              "      border-left-color: var(--fill-color);\n",
              "      border-top-color: var(--fill-color);\n",
              "      border-right-color: var(--fill-color);\n",
              "    }\n",
              "    40% {\n",
              "      border-color: transparent;\n",
              "      border-right-color: var(--fill-color);\n",
              "      border-top-color: var(--fill-color);\n",
              "    }\n",
              "    60% {\n",
              "      border-color: transparent;\n",
              "      border-right-color: var(--fill-color);\n",
              "    }\n",
              "    80% {\n",
              "      border-color: transparent;\n",
              "      border-right-color: var(--fill-color);\n",
              "      border-bottom-color: var(--fill-color);\n",
              "    }\n",
              "    90% {\n",
              "      border-color: transparent;\n",
              "      border-bottom-color: var(--fill-color);\n",
              "    }\n",
              "  }\n",
              "</style>\n",
              "\n",
              "      <script>\n",
              "        async function quickchart(key) {\n",
              "          const quickchartButtonEl =\n",
              "            document.querySelector('#' + key + ' button');\n",
              "          quickchartButtonEl.disabled = true;  // To prevent multiple clicks.\n",
              "          quickchartButtonEl.classList.add('colab-df-spinner');\n",
              "          try {\n",
              "            const charts = await google.colab.kernel.invokeFunction(\n",
              "                'suggestCharts', [key], {});\n",
              "          } catch (error) {\n",
              "            console.error('Error during call to suggestCharts:', error);\n",
              "          }\n",
              "          quickchartButtonEl.classList.remove('colab-df-spinner');\n",
              "          quickchartButtonEl.classList.add('colab-df-quickchart-complete');\n",
              "        }\n",
              "        (() => {\n",
              "          let quickchartButtonEl =\n",
              "            document.querySelector('#df-8e7a9f12-ab82-4933-b7ed-dff209cfc946 button');\n",
              "          quickchartButtonEl.style.display =\n",
              "            google.colab.kernel.accessAllowed ? 'block' : 'none';\n",
              "        })();\n",
              "      </script>\n",
              "    </div>\n",
              "\n",
              "    </div>\n",
              "  </div>\n"
            ],
            "application/vnd.google.colaboratory.intrinsic+json": {
              "type": "dataframe",
              "variable_name": "df",
              "summary": "{\n  \"name\": \"df\",\n  \"rows\": 1338,\n  \"fields\": [\n    {\n      \"column\": \"age\",\n      \"properties\": {\n        \"dtype\": \"number\",\n        \"std\": 14,\n        \"min\": 18,\n        \"max\": 64,\n        \"num_unique_values\": 47,\n        \"samples\": [\n          21,\n          45,\n          36\n        ],\n        \"semantic_type\": \"\",\n        \"description\": \"\"\n      }\n    },\n    {\n      \"column\": \"sex\",\n      \"properties\": {\n        \"dtype\": \"category\",\n        \"num_unique_values\": 2,\n        \"samples\": [\n          \"male\",\n          \"female\"\n        ],\n        \"semantic_type\": \"\",\n        \"description\": \"\"\n      }\n    },\n    {\n      \"column\": \"bmi\",\n      \"properties\": {\n        \"dtype\": \"number\",\n        \"std\": 6.098186911679017,\n        \"min\": 15.96,\n        \"max\": 53.13,\n        \"num_unique_values\": 548,\n        \"samples\": [\n          23.18,\n          26.885\n        ],\n        \"semantic_type\": \"\",\n        \"description\": \"\"\n      }\n    },\n    {\n      \"column\": \"children\",\n      \"properties\": {\n        \"dtype\": \"number\",\n        \"std\": 1,\n        \"min\": 0,\n        \"max\": 5,\n        \"num_unique_values\": 6,\n        \"samples\": [\n          0,\n          1\n        ],\n        \"semantic_type\": \"\",\n        \"description\": \"\"\n      }\n    },\n    {\n      \"column\": \"smoker\",\n      \"properties\": {\n        \"dtype\": \"category\",\n        \"num_unique_values\": 2,\n        \"samples\": [\n          \"no\",\n          \"yes\"\n        ],\n        \"semantic_type\": \"\",\n        \"description\": \"\"\n      }\n    },\n    {\n      \"column\": \"region\",\n      \"properties\": {\n        \"dtype\": \"category\",\n        \"num_unique_values\": 4,\n        \"samples\": [\n          \"southeast\",\n          \"northeast\"\n        ],\n        \"semantic_type\": \"\",\n        \"description\": \"\"\n      }\n    },\n    {\n      \"column\": \"charges\",\n      \"properties\": {\n        \"dtype\": \"number\",\n        \"std\": 12110.011236693994,\n        \"min\": 1121.8739,\n        \"max\": 63770.42801,\n        \"num_unique_values\": 1337,\n        \"samples\": [\n          8688.85885,\n          5708.867\n        ],\n        \"semantic_type\": \"\",\n        \"description\": \"\"\n      }\n    }\n  ]\n}"
            }
          },
          "metadata": {},
          "execution_count": 59
        }
      ]
    },
    {
      "cell_type": "code",
      "source": [
        "# Check dataset info\n",
        "print(df.info())\n",
        "print(df.describe())"
      ],
      "metadata": {
        "colab": {
          "base_uri": "https://localhost:8080/"
        },
        "id": "4lLaQCG-LD_o",
        "outputId": "b72c5492-86c2-4db4-9ec4-3d11d7bc8eb0"
      },
      "execution_count": null,
      "outputs": [
        {
          "output_type": "stream",
          "name": "stdout",
          "text": [
            "<class 'pandas.core.frame.DataFrame'>\n",
            "RangeIndex: 1338 entries, 0 to 1337\n",
            "Data columns (total 7 columns):\n",
            " #   Column    Non-Null Count  Dtype  \n",
            "---  ------    --------------  -----  \n",
            " 0   age       1338 non-null   int64  \n",
            " 1   sex       1338 non-null   object \n",
            " 2   bmi       1338 non-null   float64\n",
            " 3   children  1338 non-null   int64  \n",
            " 4   smoker    1338 non-null   object \n",
            " 5   region    1338 non-null   object \n",
            " 6   charges   1338 non-null   float64\n",
            "dtypes: float64(2), int64(2), object(3)\n",
            "memory usage: 73.3+ KB\n",
            "None\n",
            "               age          bmi     children       charges\n",
            "count  1338.000000  1338.000000  1338.000000   1338.000000\n",
            "mean     39.207025    30.663397     1.094918  13270.422265\n",
            "std      14.049960     6.098187     1.205493  12110.011237\n",
            "min      18.000000    15.960000     0.000000   1121.873900\n",
            "25%      27.000000    26.296250     0.000000   4740.287150\n",
            "50%      39.000000    30.400000     1.000000   9382.033000\n",
            "75%      51.000000    34.693750     2.000000  16639.912515\n",
            "max      64.000000    53.130000     5.000000  63770.428010\n"
          ]
        }
      ]
    },
    {
      "cell_type": "code",
      "source": [
        "[col for col in df.columns if df[col].isnull().sum()>0] #check if there is null data"
      ],
      "metadata": {
        "colab": {
          "base_uri": "https://localhost:8080/"
        },
        "id": "cuWJrcalKjaC",
        "outputId": "7a0639d6-bcf5-4f15-8b09-d059a17c7c9f"
      },
      "execution_count": null,
      "outputs": [
        {
          "output_type": "execute_result",
          "data": {
            "text/plain": [
              "[]"
            ]
          },
          "metadata": {},
          "execution_count": 61
        }
      ]
    },
    {
      "cell_type": "code",
      "source": [
        "df=df.drop_duplicates()"
      ],
      "metadata": {
        "id": "NSoKUwUkTzes"
      },
      "execution_count": null,
      "outputs": []
    },
    {
      "cell_type": "code",
      "source": [
        "df.shape"
      ],
      "metadata": {
        "colab": {
          "base_uri": "https://localhost:8080/"
        },
        "id": "LCZPT8ONT9Gd",
        "outputId": "e1853380-6831-404c-8991-4310b0adbe2c"
      },
      "execution_count": null,
      "outputs": [
        {
          "output_type": "execute_result",
          "data": {
            "text/plain": [
              "(1337, 7)"
            ]
          },
          "metadata": {},
          "execution_count": 63
        }
      ]
    },
    {
      "cell_type": "code",
      "source": [
        "df = pd.get_dummies(df, drop_first=True)"
      ],
      "metadata": {
        "id": "vbBN6LG1LVFw"
      },
      "execution_count": null,
      "outputs": []
    },
    {
      "cell_type": "code",
      "source": [
        "X = df.drop('charges', axis=1)\n",
        "y = df['charges']"
      ],
      "metadata": {
        "id": "TOAjJ3zsMLDW"
      },
      "execution_count": null,
      "outputs": []
    },
    {
      "cell_type": "code",
      "source": [
        "X_train, X_test, y_train, y_test = train_test_split(X, y, test_size=0.2, random_state=42)"
      ],
      "metadata": {
        "id": "hV3Sx3VDMSlb"
      },
      "execution_count": null,
      "outputs": []
    },
    {
      "cell_type": "code",
      "source": [
        "# Feature scaling\n",
        "scaler = StandardScaler()\n",
        "X_train_scaled = scaler.fit_transform(X_train)\n",
        "X_test_scaled = scaler.transform(X_test)\n",
        "\n",
        "# Function for evaluation\n",
        "def evaluate_model(name, y_true, y_pred):\n",
        "    r2 = r2_score(y_true, y_pred)\n",
        "    rmse = np.sqrt(mean_squared_error(y_true, y_pred))\n",
        "    mae = mean_absolute_error(y_true, y_pred)\n",
        "    return {'Model': name, 'R2': r2, 'RMSE': rmse, 'MAE': mae}"
      ],
      "metadata": {
        "id": "KddL0qzXMgHJ"
      },
      "execution_count": null,
      "outputs": []
    },
    {
      "cell_type": "code",
      "source": [
        "results = []\n",
        "\n",
        "# Linear Regression\n",
        "lr = LinearRegression()\n",
        "lr.fit(X_train_scaled, y_train)\n",
        "y_pred_lr = lr.predict(X_test_scaled)\n",
        "results.append(evaluate_model('Linear Regression', y_test, y_pred_lr))"
      ],
      "metadata": {
        "id": "1gKEep5DMn7p"
      },
      "execution_count": null,
      "outputs": []
    },
    {
      "cell_type": "code",
      "source": [
        "# Ridge Regression\n",
        "ridge = Ridge(alpha=10)\n",
        "ridge.fit(X_train_scaled, y_train)\n",
        "y_pred_ridge = ridge.predict(X_test_scaled)\n",
        "results.append(evaluate_model('Ridge Regression', y_test, y_pred_ridge))"
      ],
      "metadata": {
        "id": "UJe5t0jrMw6f"
      },
      "execution_count": null,
      "outputs": []
    },
    {
      "cell_type": "code",
      "source": [
        "# Lasso Regression\n",
        "lasso = Lasso(alpha=0.01)\n",
        "lasso.fit(X_train_scaled, y_train)\n",
        "y_pred_lasso = lasso.predict(X_test_scaled)\n",
        "results.append(evaluate_model('Lasso Regression', y_test, y_pred_lasso))"
      ],
      "metadata": {
        "id": "w7GFUJE7M8Ho"
      },
      "execution_count": null,
      "outputs": []
    },
    {
      "cell_type": "code",
      "source": [
        "# 10. Polynomial Regression (degree=2)\n",
        "poly = PolynomialFeatures(degree=2, include_bias=False)\n",
        "X_train_poly = poly.fit_transform(X_train_scaled)\n",
        "X_test_poly = poly.transform(X_test_scaled)\n",
        "\n",
        "poly_lr = LinearRegression()\n",
        "poly_lr.fit(X_train_poly, y_train)\n",
        "y_pred_poly = poly_lr.predict(X_test_poly)\n",
        "results.append(evaluate_model('Polynomial Regression (deg=2)', y_test, y_pred_poly))"
      ],
      "metadata": {
        "id": "29pnd85PM_Ch"
      },
      "execution_count": null,
      "outputs": []
    },
    {
      "cell_type": "code",
      "source": [
        "# Results in DataFrame\n",
        "results_df = pd.DataFrame(results)\n",
        "print(results_df)"
      ],
      "metadata": {
        "colab": {
          "base_uri": "https://localhost:8080/"
        },
        "id": "nyhrGS7DNEyH",
        "outputId": "37876d1e-40f3-484f-cfe3-4c97f0b246a4"
      },
      "execution_count": null,
      "outputs": [
        {
          "output_type": "stream",
          "name": "stdout",
          "text": [
            "                           Model        R2         RMSE          MAE\n",
            "0              Linear Regression  0.806929  5956.342894  4177.045561\n",
            "1               Ridge Regression  0.805019  5985.729537  4202.575787\n",
            "2               Lasso Regression  0.806928  5956.349043  4177.047248\n",
            "3  Polynomial Regression (deg=2)  0.882530  4646.056793  2867.317439\n"
          ]
        }
      ]
    },
    {
      "cell_type": "code",
      "source": [
        "plt.figure(figsize=(10,6))\n",
        "sns.barplot(x='Model', y='R2', data=results_df)\n",
        "plt.title('Model Performance Comparison (R2 Score)')\n",
        "plt.xticks(rotation=30)\n",
        "plt.show()"
      ],
      "metadata": {
        "colab": {
          "base_uri": "https://localhost:8080/",
          "height": 581
        },
        "id": "EJhdYRDdNMDX",
        "outputId": "d1e06459-24cc-4845-a1d5-89f676f7ddcf"
      },
      "execution_count": null,
      "outputs": [
        {
          "output_type": "display_data",
          "data": {
            "text/plain": [
              "<Figure size 1000x600 with 1 Axes>"
            ],
            "image/png": "[encoded data removed]"
          },
          "metadata": {}
        }
      ]
    },
    {
      "cell_type": "markdown",
      "source": [
        " **3. Experiment on Heart disease datasets to demonstrate the Logistic Regression (Classification), along with complete data preprocessing steps.**"
      ],
      "metadata": {
        "id": "IBrJCbGhNX7e"
      }
    },
    {
      "cell_type": "code",
      "source": [
        "df = pd.read_csv('/content/heart.csv')\n",
        "df.shape"
      ],
      "metadata": {
        "colab": {
          "base_uri": "https://localhost:8080/"
        },
        "id": "ej63_bnXNPty",
        "outputId": "844a397c-4417-4748-aea7-f3eb6b028aa5"
      },
      "execution_count": null,
      "outputs": [
        {
          "output_type": "execute_result",
          "data": {
            "text/plain": [
              "(1025, 14)"
            ]
          },
          "metadata": {},
          "execution_count": 74
        }
      ]
    },
    {
      "cell_type": "code",
      "source": [
        "# Check dataset info\n",
        "print(df.info())\n",
        "print(df.describe())"
      ],
      "metadata": {
        "colab": {
          "base_uri": "https://localhost:8080/"
        },
        "id": "Pb8GfmApRqGd",
        "outputId": "c5ddc843-d726-4911-97d0-9f467efac4a5"
      },
      "execution_count": null,
      "outputs": [
        {
          "output_type": "stream",
          "name": "stdout",
          "text": [
            "<class 'pandas.core.frame.DataFrame'>\n",
            "RangeIndex: 1025 entries, 0 to 1024\n",
            "Data columns (total 14 columns):\n",
            " #   Column    Non-Null Count  Dtype  \n",
            "---  ------    --------------  -----  \n",
            " 0   age       1025 non-null   int64  \n",
            " 1   sex       1025 non-null   int64  \n",
            " 2   cp        1025 non-null   int64  \n",
            " 3   trestbps  1025 non-null   int64  \n",
            " 4   chol      1025 non-null   int64  \n",
            " 5   fbs       1025 non-null   int64  \n",
            " 6   restecg   1025 non-null   int64  \n",
            " 7   thalach   1025 non-null   int64  \n",
            " 8   exang     1025 non-null   int64  \n",
            " 9   oldpeak   1025 non-null   float64\n",
            " 10  slope     1025 non-null   int64  \n",
            " 11  ca        1025 non-null   int64  \n",
            " 12  thal      1025 non-null   int64  \n",
            " 13  target    1025 non-null   int64  \n",
            "dtypes: float64(1), int64(13)\n",
            "memory usage: 112.2 KB\n",
            "None\n",
            "               age          sex           cp     trestbps        chol  \\\n",
            "count  1025.000000  1025.000000  1025.000000  1025.000000  1025.00000   \n",
            "mean     54.434146     0.695610     0.942439   131.611707   246.00000   \n",
            "std       9.072290     0.460373     1.029641    17.516718    51.59251   \n",
            "min      29.000000     0.000000     0.000000    94.000000   126.00000   \n",
            "25%      48.000000     0.000000     0.000000   120.000000   211.00000   \n",
            "50%      56.000000     1.000000     1.000000   130.000000   240.00000   \n",
            "75%      61.000000     1.000000     2.000000   140.000000   275.00000   \n",
            "max      77.000000     1.000000     3.000000   200.000000   564.00000   \n",
            "\n",
            "               fbs      restecg      thalach        exang      oldpeak  \\\n",
            "count  1025.000000  1025.000000  1025.000000  1025.000000  1025.000000   \n",
            "mean      0.149268     0.529756   149.114146     0.336585     1.071512   \n",
            "std       0.356527     0.527878    23.005724     0.472772     1.175053   \n",
            "min       0.000000     0.000000    71.000000     0.000000     0.000000   \n",
            "25%       0.000000     0.000000   132.000000     0.000000     0.000000   \n",
            "50%       0.000000     1.000000   152.000000     0.000000     0.800000   \n",
            "75%       0.000000     1.000000   166.000000     1.000000     1.800000   \n",
            "max       1.000000     2.000000   202.000000     1.000000     6.200000   \n",
            "\n",
            "             slope           ca         thal       target  \n",
            "count  1025.000000  1025.000000  1025.000000  1025.000000  \n",
            "mean      1.385366     0.754146     2.323902     0.513171  \n",
            "std       0.617755     1.030798     0.620660     0.500070  \n",
            "min       0.000000     0.000000     0.000000     0.000000  \n",
            "25%       1.000000     0.000000     2.000000     0.000000  \n",
            "50%       1.000000     0.000000     2.000000     1.000000  \n",
            "75%       2.000000     1.000000     3.000000     1.000000  \n",
            "max       2.000000     4.000000     3.000000     1.000000  \n"
          ]
        }
      ]
    },
    {
      "cell_type": "code",
      "source": [
        "[col for col in df.columns if df[col].isnull().sum()>0]  # check if there is null data"
      ],
      "metadata": {
        "colab": {
          "base_uri": "https://localhost:8080/"
        },
        "id": "UYmWl68NR3dH",
        "outputId": "2e294840-5370-4f23-b863-d9e978c5db83"
      },
      "execution_count": null,
      "outputs": [
        {
          "output_type": "execute_result",
          "data": {
            "text/plain": [
              "[]"
            ]
          },
          "metadata": {},
          "execution_count": 76
        }
      ]
    },
    {
      "cell_type": "code",
      "source": [
        "df.head(3)"
      ],
      "metadata": {
        "colab": {
          "base_uri": "https://localhost:8080/",
          "height": 163
        },
        "id": "8iQ7_52OR-6m",
        "outputId": "29774034-a2c0-4e06-e093-6393c50bbdc4"
      },
      "execution_count": null,
      "outputs": [
        {
          "output_type": "execute_result",
          "data": {
            "text/plain": [
              "   age  sex  cp  trestbps  chol  fbs  restecg  thalach  exang  oldpeak  slope  \\\n",
              "0   52    1   0       125   212    0        1      168      0      1.0      2   \n",
              "1   53    1   0       140   203    1        0      155      1      3.1      0   \n",
              "2   70    1   0       145   174    0        1      125      1      2.6      0   \n",
              "\n",
              "   ca  thal  target  \n",
              "0   2     3       0  \n",
              "1   0     3       0  \n",
              "2   0     3       0  "
            ],
            "text/html": [
              "\n",
              "  <div id=\"df-7c19ca1f-586b-4cfb-9e70-26ae279c3448\" class=\"colab-df-container\">\n",
              "    <div>\n",
              "<style scoped>\n",
              "    .dataframe tbody tr th:only-of-type {\n",
              "        vertical-align: middle;\n",
              "    }\n",
              "\n",
              "    .dataframe tbody tr th {\n",
              "        vertical-align: top;\n",
              "    }\n",
              "\n",
              "    .dataframe thead th {\n",
              "        text-align: right;\n",
              "    }\n",
              "</style>\n",
              "<table border=\"1\" class=\"dataframe\">\n",
              "  <thead>\n",
              "    <tr style=\"text-align: right;\">\n",
              "      <th></th>\n",
              "      <th>age</th>\n",
              "      <th>sex</th>\n",
              "      <th>cp</th>\n",
              "      <th>trestbps</th>\n",
              "      <th>chol</th>\n",
              "      <th>fbs</th>\n",
              "      <th>restecg</th>\n",
              "      <th>thalach</th>\n",
              "      <th>exang</th>\n",
              "      <th>oldpeak</th>\n",
              "      <th>slope</th>\n",
              "      <th>ca</th>\n",
              "      <th>thal</th>\n",
              "      <th>target</th>\n",
              "    </tr>\n",
              "  </thead>\n",
              "  <tbody>\n",
              "    <tr>\n",
              "      <th>0</th>\n",
              "      <td>52</td>\n",
              "      <td>1</td>\n",
              "      <td>0</td>\n",
              "      <td>125</td>\n",
              "      <td>212</td>\n",
              "      <td>0</td>\n",
              "      <td>1</td>\n",
              "      <td>168</td>\n",
              "      <td>0</td>\n",
              "      <td>1.0</td>\n",
              "      <td>2</td>\n",
              "      <td>2</td>\n",
              "      <td>3</td>\n",
              "      <td>0</td>\n",
              "    </tr>\n",
              "    <tr>\n",
              "      <th>1</th>\n",
              "      <td>53</td>\n",
              "      <td>1</td>\n",
              "      <td>0</td>\n",
              "      <td>140</td>\n",
              "      <td>203</td>\n",
              "      <td>1</td>\n",
              "      <td>0</td>\n",
              "      <td>155</td>\n",
              "      <td>1</td>\n",
              "      <td>3.1</td>\n",
              "      <td>0</td>\n",
              "      <td>0</td>\n",
              "      <td>3</td>\n",
              "      <td>0</td>\n",
              "    </tr>\n",
              "    <tr>\n",
              "      <th>2</th>\n",
              "      <td>70</td>\n",
              "      <td>1</td>\n",
              "      <td>0</td>\n",
              "      <td>145</td>\n",
              "      <td>174</td>\n",
              "      <td>0</td>\n",
              "      <td>1</td>\n",
              "      <td>125</td>\n",
              "      <td>1</td>\n",
              "      <td>2.6</td>\n",
              "      <td>0</td>\n",
              "      <td>0</td>\n",
              "      <td>3</td>\n",
              "      <td>0</td>\n",
              "    </tr>\n",
              "  </tbody>\n",
              "</table>\n",
              "</div>\n",
              "    <div class=\"colab-df-buttons\">\n",
              "\n",
              "  <div class=\"colab-df-container\">\n",
              "    <button class=\"colab-df-convert\" onclick=\"convertToInteractive('df-7c19ca1f-586b-4cfb-9e70-26ae279c3448')\"\n",
              "            title=\"Convert this dataframe to an interactive table.\"\n",
              "            style=\"display:none;\">\n",
              "\n",
              "  <svg xmlns=\"http://www.w3.org/2000/svg\" height=\"24px\" viewBox=\"0 -960 960 960\">\n",
              "    <path d=\"M120-120v-720h720v720H120Zm60-500h600v-160H180v160Zm220 220h160v-160H400v160Zm0 220h160v-160H400v160ZM180-400h160v-160H180v160Zm440 0h160v-160H620v160ZM180-180h160v-160H180v160Zm440 0h160v-160H620v160Z\"/>\n",
              "  </svg>\n",
              "    </button>\n",
              "\n",
              "  <style>\n",
              "    .colab-df-container {\n",
              "      display:flex;\n",
              "      gap: 12px;\n",
              "    }\n",
              "\n",
              "    .colab-df-convert {\n",
              "      background-color: #E8F0FE;\n",
              "      border: none;\n",
              "      border-radius: 50%;\n",
              "      cursor: pointer;\n",
              "      display: none;\n",
              "      fill: #1967D2;\n",
              "      height: 32px;\n",
              "      padding: 0 0 0 0;\n",
              "      width: 32px;\n",
              "    }\n",
              "\n",
              "    .colab-df-convert:hover {\n",
              "      background-color: #E2EBFA;\n",
              "      box-shadow: 0px 1px 2px rgba(60, 64, 67, 0.3), 0px 1px 3px 1px rgba(60, 64, 67, 0.15);\n",
              "      fill: #174EA6;\n",
              "    }\n",
              "\n",
              "    .colab-df-buttons div {\n",
              "      margin-bottom: 4px;\n",
              "    }\n",
              "\n",
              "    [theme=dark] .colab-df-convert {\n",
              "      background-color: #3B4455;\n",
              "      fill: #D2E3FC;\n",
              "    }\n",
              "\n",
              "    [theme=dark] .colab-df-convert:hover {\n",
              "      background-color: #434B5C;\n",
              "      box-shadow: 0px 1px 3px 1px rgba(0, 0, 0, 0.15);\n",
              "      filter: drop-shadow(0px 1px 2px rgba(0, 0, 0, 0.3));\n",
              "      fill: #FFFFFF;\n",
              "    }\n",
              "  </style>\n",
              "\n",
              "    <script>\n",
              "      const buttonEl =\n",
              "        document.querySelector('#df-7c19ca1f-586b-4cfb-9e70-26ae279c3448 button.colab-df-convert');\n",
              "      buttonEl.style.display =\n",
              "        google.colab.kernel.accessAllowed ? 'block' : 'none';\n",
              "\n",
              "      async function convertToInteractive(key) {\n",
              "        const element = document.querySelector('#df-7c19ca1f-586b-4cfb-9e70-26ae279c3448');\n",
              "        const dataTable =\n",
              "          await google.colab.kernel.invokeFunction('convertToInteractive',\n",
              "                                                    [key], {});\n",
              "        if (!dataTable) return;\n",
              "\n",
              "        const docLinkHtml = 'Like what you see? Visit the ' +\n",
              "          '<a target=\"_blank\" href=https://colab.research.google.com/notebooks/data_table.ipynb>data table notebook</a>'\n",
              "          + ' to learn more about interactive tables.';\n",
              "        element.innerHTML = '';\n",
              "        dataTable['output_type'] = 'display_data';\n",
              "        await google.colab.output.renderOutput(dataTable, element);\n",
              "        const docLink = document.createElement('div');\n",
              "        docLink.innerHTML = docLinkHtml;\n",
              "        element.appendChild(docLink);\n",
              "      }\n",
              "    </script>\n",
              "  </div>\n",
              "\n",
              "\n",
              "    <div id=\"df-657e68e8-be78-4a33-a172-7ec09232510f\">\n",
              "      <button class=\"colab-df-quickchart\" onclick=\"quickchart('df-657e68e8-be78-4a33-a172-7ec09232510f')\"\n",
              "                title=\"Suggest charts\"\n",
              "                style=\"display:none;\">\n",
              "\n",
              "<svg xmlns=\"http://www.w3.org/2000/svg\" height=\"24px\"viewBox=\"0 0 24 24\"\n",
              "     width=\"24px\">\n",
              "    <g>\n",
              "        <path d=\"M19 3H5c-1.1 0-2 .9-2 2v14c0 1.1.9 2 2 2h14c1.1 0 2-.9 2-2V5c0-1.1-.9-2-2-2zM9 17H7v-7h2v7zm4 0h-2V7h2v10zm4 0h-2v-4h2v4z\"/>\n",
              "    </g>\n",
              "</svg>\n",
              "      </button>\n",
              "\n",
              "<style>\n",
              "  .colab-df-quickchart {\n",
              "      --bg-color: #E8F0FE;\n",
              "      --fill-color: #1967D2;\n",
              "      --hover-bg-color: #E2EBFA;\n",
              "      --hover-fill-color: #174EA6;\n",
              "      --disabled-fill-color: #AAA;\n",
              "      --disabled-bg-color: #DDD;\n",
              "  }\n",
              "\n",
              "  [theme=dark] .colab-df-quickchart {\n",
              "      --bg-color: #3B4455;\n",
              "      --fill-color: #D2E3FC;\n",
              "      --hover-bg-color: #434B5C;\n",
              "      --hover-fill-color: #FFFFFF;\n",
              "      --disabled-bg-color: #3B4455;\n",
              "      --disabled-fill-color: #666;\n",
              "  }\n",
              "\n",
              "  .colab-df-quickchart {\n",
              "    background-color: var(--bg-color);\n",
              "    border: none;\n",
              "    border-radius: 50%;\n",
              "    cursor: pointer;\n",
              "    display: none;\n",
              "    fill: var(--fill-color);\n",
              "    height: 32px;\n",
              "    padding: 0;\n",
              "    width: 32px;\n",
              "  }\n",
              "\n",
              "  .colab-df-quickchart:hover {\n",
              "    background-color: var(--hover-bg-color);\n",
              "    box-shadow: 0 1px 2px rgba(60, 64, 67, 0.3), 0 1px 3px 1px rgba(60, 64, 67, 0.15);\n",
              "    fill: var(--button-hover-fill-color);\n",
              "  }\n",
              "\n",
              "  .colab-df-quickchart-complete:disabled,\n",
              "  .colab-df-quickchart-complete:disabled:hover {\n",
              "    background-color: var(--disabled-bg-color);\n",
              "    fill: var(--disabled-fill-color);\n",
              "    box-shadow: none;\n",
              "  }\n",
              "\n",
              "  .colab-df-spinner {\n",
              "    border: 2px solid var(--fill-color);\n",
              "    border-color: transparent;\n",
              "    border-bottom-color: var(--fill-color);\n",
              "    animation:\n",
              "      spin 1s steps(1) infinite;\n",
              "  }\n",
              "\n",
              "  @keyframes spin {\n",
              "    0% {\n",
              "      border-color: transparent;\n",
              "      border-bottom-color: var(--fill-color);\n",
              "      border-left-color: var(--fill-color);\n",
              "    }\n",
              "    20% {\n",
              "      border-color: transparent;\n",
              "      border-left-color: var(--fill-color);\n",
              "      border-top-color: var(--fill-color);\n",
              "    }\n",
              "    30% {\n",
              "      border-color: transparent;\n",
              "      border-left-color: var(--fill-color);\n",
              "      border-top-color: var(--fill-color);\n",
              "      border-right-color: var(--fill-color);\n",
              "    }\n",
              "    40% {\n",
              "      border-color: transparent;\n",
              "      border-right-color: var(--fill-color);\n",
              "      border-top-color: var(--fill-color);\n",
              "    }\n",
              "    60% {\n",
              "      border-color: transparent;\n",
              "      border-right-color: var(--fill-color);\n",
              "    }\n",
              "    80% {\n",
              "      border-color: transparent;\n",
              "      border-right-color: var(--fill-color);\n",
              "      border-bottom-color: var(--fill-color);\n",
              "    }\n",
              "    90% {\n",
              "      border-color: transparent;\n",
              "      border-bottom-color: var(--fill-color);\n",
              "    }\n",
              "  }\n",
              "</style>\n",
              "\n",
              "      <script>\n",
              "        async function quickchart(key) {\n",
              "          const quickchartButtonEl =\n",
              "            document.querySelector('#' + key + ' button');\n",
              "          quickchartButtonEl.disabled = true;  // To prevent multiple clicks.\n",
              "          quickchartButtonEl.classList.add('colab-df-spinner');\n",
              "          try {\n",
              "            const charts = await google.colab.kernel.invokeFunction(\n",
              "                'suggestCharts', [key], {});\n",
              "          } catch (error) {\n",
              "            console.error('Error during call to suggestCharts:', error);\n",
              "          }\n",
              "          quickchartButtonEl.classList.remove('colab-df-spinner');\n",
              "          quickchartButtonEl.classList.add('colab-df-quickchart-complete');\n",
              "        }\n",
              "        (() => {\n",
              "          let quickchartButtonEl =\n",
              "            document.querySelector('#df-657e68e8-be78-4a33-a172-7ec09232510f button');\n",
              "          quickchartButtonEl.style.display =\n",
              "            google.colab.kernel.accessAllowed ? 'block' : 'none';\n",
              "        })();\n",
              "      </script>\n",
              "    </div>\n",
              "\n",
              "    </div>\n",
              "  </div>\n"
            ],
            "application/vnd.google.colaboratory.intrinsic+json": {
              "type": "dataframe",
              "variable_name": "df",
              "summary": "{\n  \"name\": \"df\",\n  \"rows\": 1025,\n  \"fields\": [\n    {\n      \"column\": \"age\",\n      \"properties\": {\n        \"dtype\": \"number\",\n        \"std\": 9,\n        \"min\": 29,\n        \"max\": 77,\n        \"num_unique_values\": 41,\n        \"samples\": [\n          65,\n          50,\n          54\n        ],\n        \"semantic_type\": \"\",\n        \"description\": \"\"\n      }\n    },\n    {\n      \"column\": \"sex\",\n      \"properties\": {\n        \"dtype\": \"number\",\n        \"std\": 0,\n        \"min\": 0,\n        \"max\": 1,\n        \"num_unique_values\": 2,\n        \"samples\": [\n          0,\n          1\n        ],\n        \"semantic_type\": \"\",\n        \"description\": \"\"\n      }\n    },\n    {\n      \"column\": \"cp\",\n      \"properties\": {\n        \"dtype\": \"number\",\n        \"std\": 1,\n        \"min\": 0,\n        \"max\": 3,\n        \"num_unique_values\": 4,\n        \"samples\": [\n          1,\n          3\n        ],\n        \"semantic_type\": \"\",\n        \"description\": \"\"\n      }\n    },\n    {\n      \"column\": \"trestbps\",\n      \"properties\": {\n        \"dtype\": \"number\",\n        \"std\": 17,\n        \"min\": 94,\n        \"max\": 200,\n        \"num_unique_values\": 49,\n        \"samples\": [\n          128,\n          172\n        ],\n        \"semantic_type\": \"\",\n        \"description\": \"\"\n      }\n    },\n    {\n      \"column\": \"chol\",\n      \"properties\": {\n        \"dtype\": \"number\",\n        \"std\": 51,\n        \"min\": 126,\n        \"max\": 564,\n        \"num_unique_values\": 152,\n        \"samples\": [\n          267,\n          262\n        ],\n        \"semantic_type\": \"\",\n        \"description\": \"\"\n      }\n    },\n    {\n      \"column\": \"fbs\",\n      \"properties\": {\n        \"dtype\": \"number\",\n        \"std\": 0,\n        \"min\": 0,\n        \"max\": 1,\n        \"num_unique_values\": 2,\n        \"samples\": [\n          1,\n          0\n        ],\n        \"semantic_type\": \"\",\n        \"description\": \"\"\n      }\n    },\n    {\n      \"column\": \"restecg\",\n      \"properties\": {\n        \"dtype\": \"number\",\n        \"std\": 0,\n        \"min\": 0,\n        \"max\": 2,\n        \"num_unique_values\": 3,\n        \"samples\": [\n          1,\n          0\n        ],\n        \"semantic_type\": \"\",\n        \"description\": \"\"\n      }\n    },\n    {\n      \"column\": \"thalach\",\n      \"properties\": {\n        \"dtype\": \"number\",\n        \"std\": 23,\n        \"min\": 71,\n        \"max\": 202,\n        \"num_unique_values\": 91,\n        \"samples\": [\n          180,\n          152\n        ],\n        \"semantic_type\": \"\",\n        \"description\": \"\"\n      }\n    },\n    {\n      \"column\": \"exang\",\n      \"properties\": {\n        \"dtype\": \"number\",\n        \"std\": 0,\n        \"min\": 0,\n        \"max\": 1,\n        \"num_unique_values\": 2,\n        \"samples\": [\n          1,\n          0\n        ],\n        \"semantic_type\": \"\",\n        \"description\": \"\"\n      }\n    },\n    {\n      \"column\": \"oldpeak\",\n      \"properties\": {\n        \"dtype\": \"number\",\n        \"std\": 1.175053255150173,\n        \"min\": 0.0,\n        \"max\": 6.2,\n        \"num_unique_values\": 40,\n        \"samples\": [\n          2.8,\n          0.4\n        ],\n        \"semantic_type\": \"\",\n        \"description\": \"\"\n      }\n    },\n    {\n      \"column\": \"slope\",\n      \"properties\": {\n        \"dtype\": \"number\",\n        \"std\": 0,\n        \"min\": 0,\n        \"max\": 2,\n        \"num_unique_values\": 3,\n        \"samples\": [\n          2,\n          0\n        ],\n        \"semantic_type\": \"\",\n        \"description\": \"\"\n      }\n    },\n    {\n      \"column\": \"ca\",\n      \"properties\": {\n        \"dtype\": \"number\",\n        \"std\": 1,\n        \"min\": 0,\n        \"max\": 4,\n        \"num_unique_values\": 5,\n        \"samples\": [\n          0,\n          4\n        ],\n        \"semantic_type\": \"\",\n        \"description\": \"\"\n      }\n    },\n    {\n      \"column\": \"thal\",\n      \"properties\": {\n        \"dtype\": \"number\",\n        \"std\": 0,\n        \"min\": 0,\n        \"max\": 3,\n        \"num_unique_values\": 4,\n        \"samples\": [\n          2,\n          0\n        ],\n        \"semantic_type\": \"\",\n        \"description\": \"\"\n      }\n    },\n    {\n      \"column\": \"target\",\n      \"properties\": {\n        \"dtype\": \"number\",\n        \"std\": 0,\n        \"min\": 0,\n        \"max\": 1,\n        \"num_unique_values\": 2,\n        \"samples\": [\n          1,\n          0\n        ],\n        \"semantic_type\": \"\",\n        \"description\": \"\"\n      }\n    }\n  ]\n}"
            }
          },
          "metadata": {},
          "execution_count": 77
        }
      ]
    },
    {
      "cell_type": "code",
      "source": [
        "df=df.drop_duplicates()"
      ],
      "metadata": {
        "id": "60fyQMNESP-V"
      },
      "execution_count": null,
      "outputs": []
    },
    {
      "cell_type": "code",
      "source": [
        "df.shape"
      ],
      "metadata": {
        "colab": {
          "base_uri": "https://localhost:8080/"
        },
        "id": "DxAxalETTmgI",
        "outputId": "daaa8e12-b66b-43dc-e964-5164d4692d66"
      },
      "execution_count": null,
      "outputs": [
        {
          "output_type": "execute_result",
          "data": {
            "text/plain": [
              "(302, 14)"
            ]
          },
          "metadata": {},
          "execution_count": 79
        }
      ]
    },
    {
      "cell_type": "code",
      "source": [
        "X = df.drop('target', axis=1)\n",
        "y = df['target']"
      ],
      "metadata": {
        "id": "2_Tav0VnSu1n"
      },
      "execution_count": null,
      "outputs": []
    },
    {
      "cell_type": "code",
      "source": [
        "X_train, X_test, y_train, y_test = train_test_split(X, y, test_size=0.2, random_state=42)"
      ],
      "metadata": {
        "id": "SqXjjm_RS3sU"
      },
      "execution_count": null,
      "outputs": []
    },
    {
      "cell_type": "code",
      "source": [
        "scaler = StandardScaler()\n",
        "X_train = scaler.fit_transform(X_train)\n",
        "X_test = scaler.transform(X_test)"
      ],
      "metadata": {
        "id": "N-LQeEmfS9qR"
      },
      "execution_count": null,
      "outputs": []
    },
    {
      "cell_type": "code",
      "source": [
        "from sklearn.linear_model import LogisticRegression\n",
        "\n",
        "model = LogisticRegression(max_iter=1000)\n",
        "model.fit(X_train, y_train)"
      ],
      "metadata": {
        "colab": {
          "base_uri": "https://localhost:8080/",
          "height": 80
        },
        "id": "_4e5CuKBTBCM",
        "outputId": "89216f38-5c70-4b5d-9243-abc80cf77a4f"
      },
      "execution_count": null,
      "outputs": [
        {
          "output_type": "execute_result",
          "data": {
            "text/plain": [
              "LogisticRegression(max_iter=1000)"
            ],
            "text/html": [
              "<style>#sk-container-id-2 {\n",
              "  /* Definition of color scheme common for light and dark mode */\n",
              "  --sklearn-color-text: #000;\n",
              "  --sklearn-color-text-muted: #666;\n",
              "  --sklearn-color-line: gray;\n",
              "  /* Definition of color scheme for unfitted estimators */\n",
              "  --sklearn-color-unfitted-level-0: #fff5e6;\n",
              "  --sklearn-color-unfitted-level-1: #f6e4d2;\n",
              "  --sklearn-color-unfitted-level-2: #ffe0b3;\n",
              "  --sklearn-color-unfitted-level-3: chocolate;\n",
              "  /* Definition of color scheme for fitted estimators */\n",
              "  --sklearn-color-fitted-level-0: #f0f8ff;\n",
              "  --sklearn-color-fitted-level-1: #d4ebff;\n",
              "  --sklearn-color-fitted-level-2: #b3dbfd;\n",
              "  --sklearn-color-fitted-level-3: cornflowerblue;\n",
              "\n",
              "  /* Specific color for light theme */\n",
              "  --sklearn-color-text-on-default-background: var(--sg-text-color, var(--theme-code-foreground, var(--jp-content-font-color1, black)));\n",
              "  --sklearn-color-background: var(--sg-background-color, var(--theme-background, var(--jp-layout-color0, white)));\n",
              "  --sklearn-color-border-box: var(--sg-text-color, var(--theme-code-foreground, var(--jp-content-font-color1, black)));\n",
              "  --sklearn-color-icon: #696969;\n",
              "\n",
              "  @media (prefers-color-scheme: dark) {\n",
              "    /* Redefinition of color scheme for dark theme */\n",
              "    --sklearn-color-text-on-default-background: var(--sg-text-color, var(--theme-code-foreground, var(--jp-content-font-color1, white)));\n",
              "    --sklearn-color-background: var(--sg-background-color, var(--theme-background, var(--jp-layout-color0, #111)));\n",
              "    --sklearn-color-border-box: var(--sg-text-color, var(--theme-code-foreground, var(--jp-content-font-color1, white)));\n",
              "    --sklearn-color-icon: #878787;\n",
              "  }\n",
              "}\n",
              "\n",
              "#sk-container-id-2 {\n",
              "  color: var(--sklearn-color-text);\n",
              "}\n",
              "\n",
              "#sk-container-id-2 pre {\n",
              "  padding: 0;\n",
              "}\n",
              "\n",
              "#sk-container-id-2 input.sk-hidden--visually {\n",
              "  border: 0;\n",
              "  clip: rect(1px 1px 1px 1px);\n",
              "  clip: rect(1px, 1px, 1px, 1px);\n",
              "  height: 1px;\n",
              "  margin: -1px;\n",
              "  overflow: hidden;\n",
              "  padding: 0;\n",
              "  position: absolute;\n",
              "  width: 1px;\n",
              "}\n",
              "\n",
              "#sk-container-id-2 div.sk-dashed-wrapped {\n",
              "  border: 1px dashed var(--sklearn-color-line);\n",
              "  margin: 0 0.4em 0.5em 0.4em;\n",
              "  box-sizing: border-box;\n",
              "  padding-bottom: 0.4em;\n",
              "  background-color: var(--sklearn-color-background);\n",
              "}\n",
              "\n",
              "#sk-container-id-2 div.sk-container {\n",
              "  /* jupyter's `normalize.less` sets `[hidden] { display: none; }`\n",
              "     but bootstrap.min.css set `[hidden] { display: none !important; }`\n",
              "     so we also need the `!important` here to be able to override the\n",
              "     default hidden behavior on the sphinx rendered scikit-learn.org.\n",
              "     See: https://github.com/scikit-learn/scikit-learn/issues/21755 */\n",
              "  display: inline-block !important;\n",
              "  position: relative;\n",
              "}\n",
              "\n",
              "#sk-container-id-2 div.sk-text-repr-fallback {\n",
              "  display: none;\n",
              "}\n",
              "\n",
              "div.sk-parallel-item,\n",
              "div.sk-serial,\n",
              "div.sk-item {\n",
              "  /* draw centered vertical line to link estimators */\n",
              "  background-image: linear-gradient(var(--sklearn-color-text-on-default-background), var(--sklearn-color-text-on-default-background));\n",
              "  background-size: 2px 100%;\n",
              "  background-repeat: no-repeat;\n",
              "  background-position: center center;\n",
              "}\n",
              "\n",
              "/* Parallel-specific style estimator block */\n",
              "\n",
              "#sk-container-id-2 div.sk-parallel-item::after {\n",
              "  content: \"\";\n",
              "  width: 100%;\n",
              "  border-bottom: 2px solid var(--sklearn-color-text-on-default-background);\n",
              "  flex-grow: 1;\n",
              "}\n",
              "\n",
              "#sk-container-id-2 div.sk-parallel {\n",
              "  display: flex;\n",
              "  align-items: stretch;\n",
              "  justify-content: center;\n",
              "  background-color: var(--sklearn-color-background);\n",
              "  position: relative;\n",
              "}\n",
              "\n",
              "#sk-container-id-2 div.sk-parallel-item {\n",
              "  display: flex;\n",
              "  flex-direction: column;\n",
              "}\n",
              "\n",
              "#sk-container-id-2 div.sk-parallel-item:first-child::after {\n",
              "  align-self: flex-end;\n",
              "  width: 50%;\n",
              "}\n",
              "\n",
              "#sk-container-id-2 div.sk-parallel-item:last-child::after {\n",
              "  align-self: flex-start;\n",
              "  width: 50%;\n",
              "}\n",
              "\n",
              "#sk-container-id-2 div.sk-parallel-item:only-child::after {\n",
              "  width: 0;\n",
              "}\n",
              "\n",
              "/* Serial-specific style estimator block */\n",
              "\n",
              "#sk-container-id-2 div.sk-serial {\n",
              "  display: flex;\n",
              "  flex-direction: column;\n",
              "  align-items: center;\n",
              "  background-color: var(--sklearn-color-background);\n",
              "  padding-right: 1em;\n",
              "  padding-left: 1em;\n",
              "}\n",
              "\n",
              "\n",
              "/* Toggleable style: style used for estimator/Pipeline/ColumnTransformer box that is\n",
              "clickable and can be expanded/collapsed.\n",
              "- Pipeline and ColumnTransformer use this feature and define the default style\n",
              "- Estimators will overwrite some part of the style using the `sk-estimator` class\n",
              "*/\n",
              "\n",
              "/* Pipeline and ColumnTransformer style (default) */\n",
              "\n",
              "#sk-container-id-2 div.sk-toggleable {\n",
              "  /* Default theme specific background. It is overwritten whether we have a\n",
              "  specific estimator or a Pipeline/ColumnTransformer */\n",
              "  background-color: var(--sklearn-color-background);\n",
              "}\n",
              "\n",
              "/* Toggleable label */\n",
              "#sk-container-id-2 label.sk-toggleable__label {\n",
              "  cursor: pointer;\n",
              "  display: flex;\n",
              "  width: 100%;\n",
              "  margin-bottom: 0;\n",
              "  padding: 0.5em;\n",
              "  box-sizing: border-box;\n",
              "  text-align: center;\n",
              "  align-items: start;\n",
              "  justify-content: space-between;\n",
              "  gap: 0.5em;\n",
              "}\n",
              "\n",
              "#sk-container-id-2 label.sk-toggleable__label .caption {\n",
              "  font-size: 0.6rem;\n",
              "  font-weight: lighter;\n",
              "  color: var(--sklearn-color-text-muted);\n",
              "}\n",
              "\n",
              "#sk-container-id-2 label.sk-toggleable__label-arrow:before {\n",
              "  /* Arrow on the left of the label */\n",
              "  content: \"▸\";\n",
              "  float: left;\n",
              "  margin-right: 0.25em;\n",
              "  color: var(--sklearn-color-icon);\n",
              "}\n",
              "\n",
              "#sk-container-id-2 label.sk-toggleable__label-arrow:hover:before {\n",
              "  color: var(--sklearn-color-text);\n",
              "}\n",
              "\n",
              "/* Toggleable content - dropdown */\n",
              "\n",
              "#sk-container-id-2 div.sk-toggleable__content {\n",
              "  max-height: 0;\n",
              "  max-width: 0;\n",
              "  overflow: hidden;\n",
              "  text-align: left;\n",
              "  /* unfitted */\n",
              "  background-color: var(--sklearn-color-unfitted-level-0);\n",
              "}\n",
              "\n",
              "#sk-container-id-2 div.sk-toggleable__content.fitted {\n",
              "  /* fitted */\n",
              "  background-color: var(--sklearn-color-fitted-level-0);\n",
              "}\n",
              "\n",
              "#sk-container-id-2 div.sk-toggleable__content pre {\n",
              "  margin: 0.2em;\n",
              "  border-radius: 0.25em;\n",
              "  color: var(--sklearn-color-text);\n",
              "  /* unfitted */\n",
              "  background-color: var(--sklearn-color-unfitted-level-0);\n",
              "}\n",
              "\n",
              "#sk-container-id-2 div.sk-toggleable__content.fitted pre {\n",
              "  /* unfitted */\n",
              "  background-color: var(--sklearn-color-fitted-level-0);\n",
              "}\n",
              "\n",
              "#sk-container-id-2 input.sk-toggleable__control:checked~div.sk-toggleable__content {\n",
              "  /* Expand drop-down */\n",
              "  max-height: 200px;\n",
              "  max-width: 100%;\n",
              "  overflow: auto;\n",
              "}\n",
              "\n",
              "#sk-container-id-2 input.sk-toggleable__control:checked~label.sk-toggleable__label-arrow:before {\n",
              "  content: \"▾\";\n",
              "}\n",
              "\n",
              "/* Pipeline/ColumnTransformer-specific style */\n",
              "\n",
              "#sk-container-id-2 div.sk-label input.sk-toggleable__control:checked~label.sk-toggleable__label {\n",
              "  color: var(--sklearn-color-text);\n",
              "  background-color: var(--sklearn-color-unfitted-level-2);\n",
              "}\n",
              "\n",
              "#sk-container-id-2 div.sk-label.fitted input.sk-toggleable__control:checked~label.sk-toggleable__label {\n",
              "  background-color: var(--sklearn-color-fitted-level-2);\n",
              "}\n",
              "\n",
              "/* Estimator-specific style */\n",
              "\n",
              "/* Colorize estimator box */\n",
              "#sk-container-id-2 div.sk-estimator input.sk-toggleable__control:checked~label.sk-toggleable__label {\n",
              "  /* unfitted */\n",
              "  background-color: var(--sklearn-color-unfitted-level-2);\n",
              "}\n",
              "\n",
              "#sk-container-id-2 div.sk-estimator.fitted input.sk-toggleable__control:checked~label.sk-toggleable__label {\n",
              "  /* fitted */\n",
              "  background-color: var(--sklearn-color-fitted-level-2);\n",
              "}\n",
              "\n",
              "#sk-container-id-2 div.sk-label label.sk-toggleable__label,\n",
              "#sk-container-id-2 div.sk-label label {\n",
              "  /* The background is the default theme color */\n",
              "  color: var(--sklearn-color-text-on-default-background);\n",
              "}\n",
              "\n",
              "/* On hover, darken the color of the background */\n",
              "#sk-container-id-2 div.sk-label:hover label.sk-toggleable__label {\n",
              "  color: var(--sklearn-color-text);\n",
              "  background-color: var(--sklearn-color-unfitted-level-2);\n",
              "}\n",
              "\n",
              "/* Label box, darken color on hover, fitted */\n",
              "#sk-container-id-2 div.sk-label.fitted:hover label.sk-toggleable__label.fitted {\n",
              "  color: var(--sklearn-color-text);\n",
              "  background-color: var(--sklearn-color-fitted-level-2);\n",
              "}\n",
              "\n",
              "/* Estimator label */\n",
              "\n",
              "#sk-container-id-2 div.sk-label label {\n",
              "  font-family: monospace;\n",
              "  font-weight: bold;\n",
              "  display: inline-block;\n",
              "  line-height: 1.2em;\n",
              "}\n",
              "\n",
              "#sk-container-id-2 div.sk-label-container {\n",
              "  text-align: center;\n",
              "}\n",
              "\n",
              "/* Estimator-specific */\n",
              "#sk-container-id-2 div.sk-estimator {\n",
              "  font-family: monospace;\n",
              "  border: 1px dotted var(--sklearn-color-border-box);\n",
              "  border-radius: 0.25em;\n",
              "  box-sizing: border-box;\n",
              "  margin-bottom: 0.5em;\n",
              "  /* unfitted */\n",
              "  background-color: var(--sklearn-color-unfitted-level-0);\n",
              "}\n",
              "\n",
              "#sk-container-id-2 div.sk-estimator.fitted {\n",
              "  /* fitted */\n",
              "  background-color: var(--sklearn-color-fitted-level-0);\n",
              "}\n",
              "\n",
              "/* on hover */\n",
              "#sk-container-id-2 div.sk-estimator:hover {\n",
              "  /* unfitted */\n",
              "  background-color: var(--sklearn-color-unfitted-level-2);\n",
              "}\n",
              "\n",
              "#sk-container-id-2 div.sk-estimator.fitted:hover {\n",
              "  /* fitted */\n",
              "  background-color: var(--sklearn-color-fitted-level-2);\n",
              "}\n",
              "\n",
              "/* Specification for estimator info (e.g. \"i\" and \"?\") */\n",
              "\n",
              "/* Common style for \"i\" and \"?\" */\n",
              "\n",
              ".sk-estimator-doc-link,\n",
              "a:link.sk-estimator-doc-link,\n",
              "a:visited.sk-estimator-doc-link {\n",
              "  float: right;\n",
              "  font-size: smaller;\n",
              "  line-height: 1em;\n",
              "  font-family: monospace;\n",
              "  background-color: var(--sklearn-color-background);\n",
              "  border-radius: 1em;\n",
              "  height: 1em;\n",
              "  width: 1em;\n",
              "  text-decoration: none !important;\n",
              "  margin-left: 0.5em;\n",
              "  text-align: center;\n",
              "  /* unfitted */\n",
              "  border: var(--sklearn-color-unfitted-level-1) 1pt solid;\n",
              "  color: var(--sklearn-color-unfitted-level-1);\n",
              "}\n",
              "\n",
              ".sk-estimator-doc-link.fitted,\n",
              "a:link.sk-estimator-doc-link.fitted,\n",
              "a:visited.sk-estimator-doc-link.fitted {\n",
              "  /* fitted */\n",
              "  border: var(--sklearn-color-fitted-level-1) 1pt solid;\n",
              "  color: var(--sklearn-color-fitted-level-1);\n",
              "}\n",
              "\n",
              "/* On hover */\n",
              "div.sk-estimator:hover .sk-estimator-doc-link:hover,\n",
              ".sk-estimator-doc-link:hover,\n",
              "div.sk-label-container:hover .sk-estimator-doc-link:hover,\n",
              ".sk-estimator-doc-link:hover {\n",
              "  /* unfitted */\n",
              "  background-color: var(--sklearn-color-unfitted-level-3);\n",
              "  color: var(--sklearn-color-background);\n",
              "  text-decoration: none;\n",
              "}\n",
              "\n",
              "div.sk-estimator.fitted:hover .sk-estimator-doc-link.fitted:hover,\n",
              ".sk-estimator-doc-link.fitted:hover,\n",
              "div.sk-label-container:hover .sk-estimator-doc-link.fitted:hover,\n",
              ".sk-estimator-doc-link.fitted:hover {\n",
              "  /* fitted */\n",
              "  background-color: var(--sklearn-color-fitted-level-3);\n",
              "  color: var(--sklearn-color-background);\n",
              "  text-decoration: none;\n",
              "}\n",
              "\n",
              "/* Span, style for the box shown on hovering the info icon */\n",
              ".sk-estimator-doc-link span {\n",
              "  display: none;\n",
              "  z-index: 9999;\n",
              "  position: relative;\n",
              "  font-weight: normal;\n",
              "  right: .2ex;\n",
              "  padding: .5ex;\n",
              "  margin: .5ex;\n",
              "  width: min-content;\n",
              "  min-width: 20ex;\n",
              "  max-width: 50ex;\n",
              "  color: var(--sklearn-color-text);\n",
              "  box-shadow: 2pt 2pt 4pt #999;\n",
              "  /* unfitted */\n",
              "  background: var(--sklearn-color-unfitted-level-0);\n",
              "  border: .5pt solid var(--sklearn-color-unfitted-level-3);\n",
              "}\n",
              "\n",
              ".sk-estimator-doc-link.fitted span {\n",
              "  /* fitted */\n",
              "  background: var(--sklearn-color-fitted-level-0);\n",
              "  border: var(--sklearn-color-fitted-level-3);\n",
              "}\n",
              "\n",
              ".sk-estimator-doc-link:hover span {\n",
              "  display: block;\n",
              "}\n",
              "\n",
              "/* \"?\"-specific style due to the `<a>` HTML tag */\n",
              "\n",
              "#sk-container-id-2 a.estimator_doc_link {\n",
              "  float: right;\n",
              "  font-size: 1rem;\n",
              "  line-height: 1em;\n",
              "  font-family: monospace;\n",
              "  background-color: var(--sklearn-color-background);\n",
              "  border-radius: 1rem;\n",
              "  height: 1rem;\n",
              "  width: 1rem;\n",
              "  text-decoration: none;\n",
              "  /* unfitted */\n",
              "  color: var(--sklearn-color-unfitted-level-1);\n",
              "  border: var(--sklearn-color-unfitted-level-1) 1pt solid;\n",
              "}\n",
              "\n",
              "#sk-container-id-2 a.estimator_doc_link.fitted {\n",
              "  /* fitted */\n",
              "  border: var(--sklearn-color-fitted-level-1) 1pt solid;\n",
              "  color: var(--sklearn-color-fitted-level-1);\n",
              "}\n",
              "\n",
              "/* On hover */\n",
              "#sk-container-id-2 a.estimator_doc_link:hover {\n",
              "  /* unfitted */\n",
              "  background-color: var(--sklearn-color-unfitted-level-3);\n",
              "  color: var(--sklearn-color-background);\n",
              "  text-decoration: none;\n",
              "}\n",
              "\n",
              "#sk-container-id-2 a.estimator_doc_link.fitted:hover {\n",
              "  /* fitted */\n",
              "  background-color: var(--sklearn-color-fitted-level-3);\n",
              "}\n",
              "</style><div id=\"sk-container-id-2\" class=\"sk-top-container\"><div class=\"sk-text-repr-fallback\"><pre>LogisticRegression(max_iter=1000)</pre><b>In a Jupyter environment, please rerun this cell to show the HTML representation or trust the notebook. <br />On GitHub, the HTML representation is unable to render, please try loading this page with nbviewer.org.</b></div><div class=\"sk-container\" hidden><div class=\"sk-item\"><div class=\"sk-estimator fitted sk-toggleable\"><input class=\"sk-toggleable__control sk-hidden--visually\" id=\"sk-estimator-id-2\" type=\"checkbox\" checked><label for=\"sk-estimator-id-2\" class=\"sk-toggleable__label fitted sk-toggleable__label-arrow\"><div><div>LogisticRegression</div></div><div><a class=\"sk-estimator-doc-link fitted\" rel=\"noreferrer\" target=\"_blank\" href=\"https://scikit-learn.org/1.6/modules/generated/sklearn.linear_model.LogisticRegression.html\">?<span>Documentation for LogisticRegression</span></a><span class=\"sk-estimator-doc-link fitted\">i<span>Fitted</span></span></div></label><div class=\"sk-toggleable__content fitted\"><pre>LogisticRegression(max_iter=1000)</pre></div> </div></div></div></div>"
            ]
          },
          "metadata": {},
          "execution_count": 83
        }
      ]
    },
    {
      "cell_type": "code",
      "source": [
        "from sklearn.metrics import accuracy_score, confusion_matrix, classification_report\n",
        "\n",
        "y_pred = model.predict(X_test)\n",
        "\n",
        "print(\"Accuracy:\", accuracy_score(y_test, y_pred))\n",
        "print(\"\\nConfusion Matrix:\\n\", confusion_matrix(y_test, y_pred))\n",
        "print(\"\\nClassification Report:\\n\", classification_report(y_test, y_pred))"
      ],
      "metadata": {
        "colab": {
          "base_uri": "https://localhost:8080/"
        },
        "id": "5JkEkrVETDpW",
        "outputId": "f36b9aac-4380-43a1-d930-9dda33b62816"
      },
      "execution_count": null,
      "outputs": [
        {
          "output_type": "stream",
          "name": "stdout",
          "text": [
            "Accuracy: 0.7704918032786885\n",
            "\n",
            "Confusion Matrix:\n",
            " [[21 11]\n",
            " [ 3 26]]\n",
            "\n",
            "Classification Report:\n",
            "               precision    recall  f1-score   support\n",
            "\n",
            "           0       0.88      0.66      0.75        32\n",
            "           1       0.70      0.90      0.79        29\n",
            "\n",
            "    accuracy                           0.77        61\n",
            "   macro avg       0.79      0.78      0.77        61\n",
            "weighted avg       0.79      0.77      0.77        61\n",
            "\n"
          ]
        }
      ]
    },
    {
      "cell_type": "code",
      "source": [
        "# Check Probability Predictions\n",
        "y_prob = model.predict_proba(X_test)[:,1]"
      ],
      "metadata": {
        "id": "fLMASZroTHJB"
      },
      "execution_count": null,
      "outputs": []
    },
    {
      "cell_type": "code",
      "source": [
        "from sklearn.metrics import roc_auc_score, roc_curve\n",
        "\n",
        "auc = roc_auc_score(y_test, y_prob)\n",
        "fpr, tpr, thresholds = roc_curve(y_test, y_prob)\n",
        "\n",
        "plt.plot(fpr, tpr, label='AUC = %.2f' % auc)\n",
        "plt.xlabel('False Positive Rate')\n",
        "plt.ylabel('True Positive Rate')\n",
        "plt.title('ROC Curve')\n",
        "plt.legend()\n",
        "plt.show()\n"
      ],
      "metadata": {
        "colab": {
          "base_uri": "https://localhost:8080/",
          "height": 472
        },
        "id": "oQKUFFMCTWKt",
        "outputId": "fe4a411a-d9e2-4643-d782-63added99e45"
      },
      "execution_count": null,
      "outputs": [
        {
          "output_type": "display_data",
          "data": {
            "text/plain": [
              "<Figure size 640x480 with 1 Axes>"
            ],
            "image/png": "[encoded data removed]"
          },
          "metadata": {}
        }
      ]
    },
    {
      "cell_type": "code",
      "source": [],
      "metadata": {
        "id": "UZG1nPROTgd6"
      },
      "execution_count": null,
      "outputs": []
    }
  ]
}