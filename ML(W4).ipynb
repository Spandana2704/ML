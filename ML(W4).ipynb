{
  "nbformat": 4,
  "nbformat_minor": 0,
  "metadata": {
    "colab": {
      "provenance": [],
      "authorship_tag": "ABX9TyNqAX1J+VPUNwookAAFJuXZ",
      "include_colab_link": true
    },
    "kernelspec": {
      "name": "python3",
      "display_name": "Python 3"
    },
    "language_info": {
      "name": "python"
    }
  },
  "cells": [
    {
      "cell_type": "markdown",
      "metadata": {
        "id": "view-in-github",
        "colab_type": "text"
      },
      "source": [
        "<a href=\"https://colab.research.google.com/github/Spandana2704/ML/blob/main/ML(W4).ipynb\" target=\"_parent\"><img src=\"https://colab.research.google.com/assets/colab-badge.svg\" alt=\"Open In Colab\"/></a>"
      ]
    },
    {
      "cell_type": "code",
      "execution_count": 70,
      "metadata": {
        "id": "NsPxrsCTnNHO"
      },
      "outputs": [],
      "source": [
        "import pandas as pd\n",
        "import numpy as np"
      ]
    },
    {
      "cell_type": "code",
      "source": [
        "df=pd.read_csv('/content/titanic_train.csv')\n",
        "df.shape"
      ],
      "metadata": {
        "colab": {
          "base_uri": "https://localhost:8080/"
        },
        "id": "o54B-2-UoXGZ",
        "outputId": "8a3955bf-576f-4ffd-ec46-f6b133b8aeba"
      },
      "execution_count": 71,
      "outputs": [
        {
          "output_type": "execute_result",
          "data": {
            "text/plain": [
              "(891, 12)"
            ]
          },
          "metadata": {},
          "execution_count": 71
        }
      ]
    },
    {
      "cell_type": "code",
      "source": [
        "df.columns"
      ],
      "metadata": {
        "colab": {
          "base_uri": "https://localhost:8080/"
        },
        "id": "WWjbqXvsof-X",
        "outputId": "49b6a77e-a6de-498e-82bb-29623c5eab86"
      },
      "execution_count": 72,
      "outputs": [
        {
          "output_type": "execute_result",
          "data": {
            "text/plain": [
              "Index(['PassengerId', 'Survived', 'Pclass', 'Name', 'Sex', 'Age', 'SibSp',\n",
              "       'Parch', 'Ticket', 'Fare', 'Cabin', 'Embarked'],\n",
              "      dtype='object')"
            ]
          },
          "metadata": {},
          "execution_count": 72
        }
      ]
    },
    {
      "cell_type": "code",
      "source": [
        "df=df.drop(['PassengerId','Name','Ticket'],axis=1)"
      ],
      "metadata": {
        "id": "-W2YJZQeoiDn"
      },
      "execution_count": 73,
      "outputs": []
    },
    {
      "cell_type": "code",
      "source": [
        "df.head(5)"
      ],
      "metadata": {
        "colab": {
          "base_uri": "https://localhost:8080/",
          "height": 206
        },
        "id": "fZ7w8zkzo2VH",
        "outputId": "961eeced-f789-4782-a631-2c361f741ba4"
      },
      "execution_count": 74,
      "outputs": [
        {
          "output_type": "execute_result",
          "data": {
            "text/plain": [
              "   Survived  Pclass     Sex   Age  SibSp  Parch     Fare Cabin Embarked\n",
              "0         0       3    male  22.0      1      0   7.2500   NaN        S\n",
              "1         1       1  female  38.0      1      0  71.2833   C85        C\n",
              "2         1       3  female  26.0      0      0   7.9250   NaN        S\n",
              "3         1       1  female  35.0      1      0  53.1000  C123        S\n",
              "4         0       3    male  35.0      0      0   8.0500   NaN        S"
            ],
            "text/html": [
              "\n",
              "  <div id=\"df-4845fef9-167e-4f41-bc0c-9abb44881d99\" class=\"colab-df-container\">\n",
              "    <div>\n",
              "<style scoped>\n",
              "    .dataframe tbody tr th:only-of-type {\n",
              "        vertical-align: middle;\n",
              "    }\n",
              "\n",
              "    .dataframe tbody tr th {\n",
              "        vertical-align: top;\n",
              "    }\n",
              "\n",
              "    .dataframe thead th {\n",
              "        text-align: right;\n",
              "    }\n",
              "</style>\n",
              "<table border=\"1\" class=\"dataframe\">\n",
              "  <thead>\n",
              "    <tr style=\"text-align: right;\">\n",
              "      <th></th>\n",
              "      <th>Survived</th>\n",
              "      <th>Pclass</th>\n",
              "      <th>Sex</th>\n",
              "      <th>Age</th>\n",
              "      <th>SibSp</th>\n",
              "      <th>Parch</th>\n",
              "      <th>Fare</th>\n",
              "      <th>Cabin</th>\n",
              "      <th>Embarked</th>\n",
              "    </tr>\n",
              "  </thead>\n",
              "  <tbody>\n",
              "    <tr>\n",
              "      <th>0</th>\n",
              "      <td>0</td>\n",
              "      <td>3</td>\n",
              "      <td>male</td>\n",
              "      <td>22.0</td>\n",
              "      <td>1</td>\n",
              "      <td>0</td>\n",
              "      <td>7.2500</td>\n",
              "      <td>NaN</td>\n",
              "      <td>S</td>\n",
              "    </tr>\n",
              "    <tr>\n",
              "      <th>1</th>\n",
              "      <td>1</td>\n",
              "      <td>1</td>\n",
              "      <td>female</td>\n",
              "      <td>38.0</td>\n",
              "      <td>1</td>\n",
              "      <td>0</td>\n",
              "      <td>71.2833</td>\n",
              "      <td>C85</td>\n",
              "      <td>C</td>\n",
              "    </tr>\n",
              "    <tr>\n",
              "      <th>2</th>\n",
              "      <td>1</td>\n",
              "      <td>3</td>\n",
              "      <td>female</td>\n",
              "      <td>26.0</td>\n",
              "      <td>0</td>\n",
              "      <td>0</td>\n",
              "      <td>7.9250</td>\n",
              "      <td>NaN</td>\n",
              "      <td>S</td>\n",
              "    </tr>\n",
              "    <tr>\n",
              "      <th>3</th>\n",
              "      <td>1</td>\n",
              "      <td>1</td>\n",
              "      <td>female</td>\n",
              "      <td>35.0</td>\n",
              "      <td>1</td>\n",
              "      <td>0</td>\n",
              "      <td>53.1000</td>\n",
              "      <td>C123</td>\n",
              "      <td>S</td>\n",
              "    </tr>\n",
              "    <tr>\n",
              "      <th>4</th>\n",
              "      <td>0</td>\n",
              "      <td>3</td>\n",
              "      <td>male</td>\n",
              "      <td>35.0</td>\n",
              "      <td>0</td>\n",
              "      <td>0</td>\n",
              "      <td>8.0500</td>\n",
              "      <td>NaN</td>\n",
              "      <td>S</td>\n",
              "    </tr>\n",
              "  </tbody>\n",
              "</table>\n",
              "</div>\n",
              "    <div class=\"colab-df-buttons\">\n",
              "\n",
              "  <div class=\"colab-df-container\">\n",
              "    <button class=\"colab-df-convert\" onclick=\"convertToInteractive('df-4845fef9-167e-4f41-bc0c-9abb44881d99')\"\n",
              "            title=\"Convert this dataframe to an interactive table.\"\n",
              "            style=\"display:none;\">\n",
              "\n",
              "  <svg xmlns=\"http://www.w3.org/2000/svg\" height=\"24px\" viewBox=\"0 -960 960 960\">\n",
              "    <path d=\"M120-120v-720h720v720H120Zm60-500h600v-160H180v160Zm220 220h160v-160H400v160Zm0 220h160v-160H400v160ZM180-400h160v-160H180v160Zm440 0h160v-160H620v160ZM180-180h160v-160H180v160Zm440 0h160v-160H620v160Z\"/>\n",
              "  </svg>\n",
              "    </button>\n",
              "\n",
              "  <style>\n",
              "    .colab-df-container {\n",
              "      display:flex;\n",
              "      gap: 12px;\n",
              "    }\n",
              "\n",
              "    .colab-df-convert {\n",
              "      background-color: #E8F0FE;\n",
              "      border: none;\n",
              "      border-radius: 50%;\n",
              "      cursor: pointer;\n",
              "      display: none;\n",
              "      fill: #1967D2;\n",
              "      height: 32px;\n",
              "      padding: 0 0 0 0;\n",
              "      width: 32px;\n",
              "    }\n",
              "\n",
              "    .colab-df-convert:hover {\n",
              "      background-color: #E2EBFA;\n",
              "      box-shadow: 0px 1px 2px rgba(60, 64, 67, 0.3), 0px 1px 3px 1px rgba(60, 64, 67, 0.15);\n",
              "      fill: #174EA6;\n",
              "    }\n",
              "\n",
              "    .colab-df-buttons div {\n",
              "      margin-bottom: 4px;\n",
              "    }\n",
              "\n",
              "    [theme=dark] .colab-df-convert {\n",
              "      background-color: #3B4455;\n",
              "      fill: #D2E3FC;\n",
              "    }\n",
              "\n",
              "    [theme=dark] .colab-df-convert:hover {\n",
              "      background-color: #434B5C;\n",
              "      box-shadow: 0px 1px 3px 1px rgba(0, 0, 0, 0.15);\n",
              "      filter: drop-shadow(0px 1px 2px rgba(0, 0, 0, 0.3));\n",
              "      fill: #FFFFFF;\n",
              "    }\n",
              "  </style>\n",
              "\n",
              "    <script>\n",
              "      const buttonEl =\n",
              "        document.querySelector('#df-4845fef9-167e-4f41-bc0c-9abb44881d99 button.colab-df-convert');\n",
              "      buttonEl.style.display =\n",
              "        google.colab.kernel.accessAllowed ? 'block' : 'none';\n",
              "\n",
              "      async function convertToInteractive(key) {\n",
              "        const element = document.querySelector('#df-4845fef9-167e-4f41-bc0c-9abb44881d99');\n",
              "        const dataTable =\n",
              "          await google.colab.kernel.invokeFunction('convertToInteractive',\n",
              "                                                    [key], {});\n",
              "        if (!dataTable) return;\n",
              "\n",
              "        const docLinkHtml = 'Like what you see? Visit the ' +\n",
              "          '<a target=\"_blank\" href=https://colab.research.google.com/notebooks/data_table.ipynb>data table notebook</a>'\n",
              "          + ' to learn more about interactive tables.';\n",
              "        element.innerHTML = '';\n",
              "        dataTable['output_type'] = 'display_data';\n",
              "        await google.colab.output.renderOutput(dataTable, element);\n",
              "        const docLink = document.createElement('div');\n",
              "        docLink.innerHTML = docLinkHtml;\n",
              "        element.appendChild(docLink);\n",
              "      }\n",
              "    </script>\n",
              "  </div>\n",
              "\n",
              "\n",
              "    <div id=\"df-0289409f-a944-43f1-8caf-852ef845168c\">\n",
              "      <button class=\"colab-df-quickchart\" onclick=\"quickchart('df-0289409f-a944-43f1-8caf-852ef845168c')\"\n",
              "                title=\"Suggest charts\"\n",
              "                style=\"display:none;\">\n",
              "\n",
              "<svg xmlns=\"http://www.w3.org/2000/svg\" height=\"24px\"viewBox=\"0 0 24 24\"\n",
              "     width=\"24px\">\n",
              "    <g>\n",
              "        <path d=\"M19 3H5c-1.1 0-2 .9-2 2v14c0 1.1.9 2 2 2h14c1.1 0 2-.9 2-2V5c0-1.1-.9-2-2-2zM9 17H7v-7h2v7zm4 0h-2V7h2v10zm4 0h-2v-4h2v4z\"/>\n",
              "    </g>\n",
              "</svg>\n",
              "      </button>\n",
              "\n",
              "<style>\n",
              "  .colab-df-quickchart {\n",
              "      --bg-color: #E8F0FE;\n",
              "      --fill-color: #1967D2;\n",
              "      --hover-bg-color: #E2EBFA;\n",
              "      --hover-fill-color: #174EA6;\n",
              "      --disabled-fill-color: #AAA;\n",
              "      --disabled-bg-color: #DDD;\n",
              "  }\n",
              "\n",
              "  [theme=dark] .colab-df-quickchart {\n",
              "      --bg-color: #3B4455;\n",
              "      --fill-color: #D2E3FC;\n",
              "      --hover-bg-color: #434B5C;\n",
              "      --hover-fill-color: #FFFFFF;\n",
              "      --disabled-bg-color: #3B4455;\n",
              "      --disabled-fill-color: #666;\n",
              "  }\n",
              "\n",
              "  .colab-df-quickchart {\n",
              "    background-color: var(--bg-color);\n",
              "    border: none;\n",
              "    border-radius: 50%;\n",
              "    cursor: pointer;\n",
              "    display: none;\n",
              "    fill: var(--fill-color);\n",
              "    height: 32px;\n",
              "    padding: 0;\n",
              "    width: 32px;\n",
              "  }\n",
              "\n",
              "  .colab-df-quickchart:hover {\n",
              "    background-color: var(--hover-bg-color);\n",
              "    box-shadow: 0 1px 2px rgba(60, 64, 67, 0.3), 0 1px 3px 1px rgba(60, 64, 67, 0.15);\n",
              "    fill: var(--button-hover-fill-color);\n",
              "  }\n",
              "\n",
              "  .colab-df-quickchart-complete:disabled,\n",
              "  .colab-df-quickchart-complete:disabled:hover {\n",
              "    background-color: var(--disabled-bg-color);\n",
              "    fill: var(--disabled-fill-color);\n",
              "    box-shadow: none;\n",
              "  }\n",
              "\n",
              "  .colab-df-spinner {\n",
              "    border: 2px solid var(--fill-color);\n",
              "    border-color: transparent;\n",
              "    border-bottom-color: var(--fill-color);\n",
              "    animation:\n",
              "      spin 1s steps(1) infinite;\n",
              "  }\n",
              "\n",
              "  @keyframes spin {\n",
              "    0% {\n",
              "      border-color: transparent;\n",
              "      border-bottom-color: var(--fill-color);\n",
              "      border-left-color: var(--fill-color);\n",
              "    }\n",
              "    20% {\n",
              "      border-color: transparent;\n",
              "      border-left-color: var(--fill-color);\n",
              "      border-top-color: var(--fill-color);\n",
              "    }\n",
              "    30% {\n",
              "      border-color: transparent;\n",
              "      border-left-color: var(--fill-color);\n",
              "      border-top-color: var(--fill-color);\n",
              "      border-right-color: var(--fill-color);\n",
              "    }\n",
              "    40% {\n",
              "      border-color: transparent;\n",
              "      border-right-color: var(--fill-color);\n",
              "      border-top-color: var(--fill-color);\n",
              "    }\n",
              "    60% {\n",
              "      border-color: transparent;\n",
              "      border-right-color: var(--fill-color);\n",
              "    }\n",
              "    80% {\n",
              "      border-color: transparent;\n",
              "      border-right-color: var(--fill-color);\n",
              "      border-bottom-color: var(--fill-color);\n",
              "    }\n",
              "    90% {\n",
              "      border-color: transparent;\n",
              "      border-bottom-color: var(--fill-color);\n",
              "    }\n",
              "  }\n",
              "</style>\n",
              "\n",
              "      <script>\n",
              "        async function quickchart(key) {\n",
              "          const quickchartButtonEl =\n",
              "            document.querySelector('#' + key + ' button');\n",
              "          quickchartButtonEl.disabled = true;  // To prevent multiple clicks.\n",
              "          quickchartButtonEl.classList.add('colab-df-spinner');\n",
              "          try {\n",
              "            const charts = await google.colab.kernel.invokeFunction(\n",
              "                'suggestCharts', [key], {});\n",
              "          } catch (error) {\n",
              "            console.error('Error during call to suggestCharts:', error);\n",
              "          }\n",
              "          quickchartButtonEl.classList.remove('colab-df-spinner');\n",
              "          quickchartButtonEl.classList.add('colab-df-quickchart-complete');\n",
              "        }\n",
              "        (() => {\n",
              "          let quickchartButtonEl =\n",
              "            document.querySelector('#df-0289409f-a944-43f1-8caf-852ef845168c button');\n",
              "          quickchartButtonEl.style.display =\n",
              "            google.colab.kernel.accessAllowed ? 'block' : 'none';\n",
              "        })();\n",
              "      </script>\n",
              "    </div>\n",
              "\n",
              "    </div>\n",
              "  </div>\n"
            ],
            "application/vnd.google.colaboratory.intrinsic+json": {
              "type": "dataframe",
              "variable_name": "df",
              "summary": "{\n  \"name\": \"df\",\n  \"rows\": 891,\n  \"fields\": [\n    {\n      \"column\": \"Survived\",\n      \"properties\": {\n        \"dtype\": \"number\",\n        \"std\": 0,\n        \"min\": 0,\n        \"max\": 1,\n        \"num_unique_values\": 2,\n        \"samples\": [\n          1,\n          0\n        ],\n        \"semantic_type\": \"\",\n        \"description\": \"\"\n      }\n    },\n    {\n      \"column\": \"Pclass\",\n      \"properties\": {\n        \"dtype\": \"number\",\n        \"std\": 0,\n        \"min\": 1,\n        \"max\": 3,\n        \"num_unique_values\": 3,\n        \"samples\": [\n          3,\n          1\n        ],\n        \"semantic_type\": \"\",\n        \"description\": \"\"\n      }\n    },\n    {\n      \"column\": \"Sex\",\n      \"properties\": {\n        \"dtype\": \"category\",\n        \"num_unique_values\": 2,\n        \"samples\": [\n          \"female\",\n          \"male\"\n        ],\n        \"semantic_type\": \"\",\n        \"description\": \"\"\n      }\n    },\n    {\n      \"column\": \"Age\",\n      \"properties\": {\n        \"dtype\": \"number\",\n        \"std\": 14.526497332334044,\n        \"min\": 0.42,\n        \"max\": 80.0,\n        \"num_unique_values\": 88,\n        \"samples\": [\n          0.75,\n          22.0\n        ],\n        \"semantic_type\": \"\",\n        \"description\": \"\"\n      }\n    },\n    {\n      \"column\": \"SibSp\",\n      \"properties\": {\n        \"dtype\": \"number\",\n        \"std\": 1,\n        \"min\": 0,\n        \"max\": 8,\n        \"num_unique_values\": 7,\n        \"samples\": [\n          1,\n          0\n        ],\n        \"semantic_type\": \"\",\n        \"description\": \"\"\n      }\n    },\n    {\n      \"column\": \"Parch\",\n      \"properties\": {\n        \"dtype\": \"number\",\n        \"std\": 0,\n        \"min\": 0,\n        \"max\": 6,\n        \"num_unique_values\": 7,\n        \"samples\": [\n          0,\n          1\n        ],\n        \"semantic_type\": \"\",\n        \"description\": \"\"\n      }\n    },\n    {\n      \"column\": \"Fare\",\n      \"properties\": {\n        \"dtype\": \"number\",\n        \"std\": 49.693428597180905,\n        \"min\": 0.0,\n        \"max\": 512.3292,\n        \"num_unique_values\": 248,\n        \"samples\": [\n          11.2417,\n          51.8625\n        ],\n        \"semantic_type\": \"\",\n        \"description\": \"\"\n      }\n    },\n    {\n      \"column\": \"Cabin\",\n      \"properties\": {\n        \"dtype\": \"category\",\n        \"num_unique_values\": 147,\n        \"samples\": [\n          \"D45\",\n          \"B49\"\n        ],\n        \"semantic_type\": \"\",\n        \"description\": \"\"\n      }\n    },\n    {\n      \"column\": \"Embarked\",\n      \"properties\": {\n        \"dtype\": \"category\",\n        \"num_unique_values\": 3,\n        \"samples\": [\n          \"S\",\n          \"C\"\n        ],\n        \"semantic_type\": \"\",\n        \"description\": \"\"\n      }\n    }\n  ]\n}"
            }
          },
          "metadata": {},
          "execution_count": 74
        }
      ]
    },
    {
      "cell_type": "code",
      "source": [
        "[col for col in df.columns if df[col].isnull().sum()>0]"
      ],
      "metadata": {
        "colab": {
          "base_uri": "https://localhost:8080/"
        },
        "id": "O0N5vs3kpDm3",
        "outputId": "e5ed5c05-729a-4a4f-a668-9817f538675a"
      },
      "execution_count": 75,
      "outputs": [
        {
          "output_type": "execute_result",
          "data": {
            "text/plain": [
              "['Age', 'Cabin', 'Embarked']"
            ]
          },
          "metadata": {},
          "execution_count": 75
        }
      ]
    },
    {
      "cell_type": "code",
      "source": [
        "df['Age'] = df['Age'].fillna(df['Age'].median())"
      ],
      "metadata": {
        "id": "h3njCa4Xp8z3"
      },
      "execution_count": 76,
      "outputs": []
    },
    {
      "cell_type": "code",
      "source": [
        "df=df.drop(['Embarked','Cabin'],axis=1)"
      ],
      "metadata": {
        "id": "5VM8wJEvqXTX"
      },
      "execution_count": 77,
      "outputs": []
    },
    {
      "cell_type": "code",
      "source": [
        "from sklearn.ensemble import RandomForestClassifier,RandomForestRegressor"
      ],
      "metadata": {
        "id": "cHlTGa7-qd5X"
      },
      "execution_count": 78,
      "outputs": []
    },
    {
      "cell_type": "code",
      "source": [
        "from sklearn.metrics import roc_auc_score"
      ],
      "metadata": {
        "id": "fBcx9zMjq5r3"
      },
      "execution_count": 79,
      "outputs": []
    },
    {
      "cell_type": "code",
      "source": [
        "from mlxtend.feature_selection import SequentialFeatureSelector as SFS"
      ],
      "metadata": {
        "id": "RA2_e2p5rWWn"
      },
      "execution_count": 80,
      "outputs": []
    },
    {
      "cell_type": "code",
      "source": [
        "X = df.drop('Survived',axis=1)\n",
        "y = df['Survived']"
      ],
      "metadata": {
        "id": "zgHrrIYHrk_n"
      },
      "execution_count": 81,
      "outputs": []
    },
    {
      "cell_type": "code",
      "source": [
        "X = pd.get_dummies(X,drop_first=True)"
      ],
      "metadata": {
        "id": "yBp3GH85sexw"
      },
      "execution_count": 82,
      "outputs": []
    },
    {
      "cell_type": "code",
      "source": [
        "from sklearn.model_selection import train_test_split"
      ],
      "metadata": {
        "id": "nwnIFX-Pr1bv"
      },
      "execution_count": 83,
      "outputs": []
    },
    {
      "cell_type": "code",
      "source": [
        "x_train,x_test,y_train,y_test=train_test_split(X,y,test_size=0.3,random_state=0)"
      ],
      "metadata": {
        "id": "c274i1FvruhQ"
      },
      "execution_count": 84,
      "outputs": []
    },
    {
      "cell_type": "code",
      "source": [
        "grouped_feature_ls = []\n",
        "correlated_groups = []\n",
        "def correlation (dataset, threshold):\n",
        "    col_corr = set()\n",
        "    corr_matrix = dataset.corr()\n",
        "    for i in range(len(corr_matrix.columns)):\n",
        "        for j in range(i):\n",
        "            if abs(corr_matrix.iloc[i, j]) > threshold:\n",
        "                colname=corr_matrix.columns[i]\n",
        "                col_corr.add(colname)\n",
        "    return col_corr\n",
        "corr_features=correlation (x_test, 0.9)\n",
        "correlated_features = set(corr_features)\n",
        "print(len(correlated_features))"
      ],
      "metadata": {
        "colab": {
          "base_uri": "https://localhost:8080/"
        },
        "id": "JWUFWF_prxPn",
        "outputId": "71c77c02-0803-4526-c766-f7ece788a6a8"
      },
      "execution_count": 85,
      "outputs": [
        {
          "output_type": "stream",
          "name": "stdout",
          "text": [
            "0\n"
          ]
        }
      ]
    },
    {
      "cell_type": "code",
      "source": [
        "sfs1=SFS(RandomForestClassifier(n_jobs=4),k_features=5,forward=True,verbose=2,scoring='roc_auc' or 'accuracy',cv=3)"
      ],
      "metadata": {
        "id": "kocNhsabsaen"
      },
      "execution_count": 86,
      "outputs": []
    },
    {
      "cell_type": "code",
      "source": [
        "sfs1=sfs1.fit(np.array(x_train.fillna(0)),y_train)"
      ],
      "metadata": {
        "colab": {
          "base_uri": "https://localhost:8080/"
        },
        "id": "k22-mahKtduY",
        "outputId": "15d06270-318b-4c95-a740-47af9031e18b"
      },
      "execution_count": 87,
      "outputs": [
        {
          "output_type": "stream",
          "name": "stderr",
          "text": [
            "[Parallel(n_jobs=1)]: Done   6 out of   6 | elapsed:    4.4s finished\n",
            "\n",
            "[2025-08-27 08:53:52] Features: 1/5 -- score: 0.765194136612553[Parallel(n_jobs=1)]: Done   5 out of   5 | elapsed:    3.8s finished\n",
            "\n",
            "[2025-08-27 08:53:56] Features: 2/5 -- score: 0.832223720877483[Parallel(n_jobs=1)]: Done   4 out of   4 | elapsed:    3.5s finished\n",
            "\n",
            "[2025-08-27 08:54:00] Features: 3/5 -- score: 0.8379761268267392[Parallel(n_jobs=1)]: Done   3 out of   3 | elapsed:    2.3s finished\n",
            "\n",
            "[2025-08-27 08:54:02] Features: 4/5 -- score: 0.8442295696834191[Parallel(n_jobs=1)]: Done   2 out of   2 | elapsed:    1.6s finished\n",
            "\n",
            "[2025-08-27 08:54:03] Features: 5/5 -- score: 0.8462547794951557"
          ]
        }
      ]
    },
    {
      "cell_type": "code",
      "source": [
        "print('best accracy score',sfs1.k_score_)\n",
        "print('best subset(indices)',sfs1.k_feature_idx_)\n",
        "print('Best subset (corresponding names):', sfs1.k_feature_names_)"
      ],
      "metadata": {
        "id": "An62qytnuCjX",
        "colab": {
          "base_uri": "https://localhost:8080/"
        },
        "outputId": "be6d09bb-94a2-4a76-a924-fe5030dfd930"
      },
      "execution_count": 88,
      "outputs": [
        {
          "output_type": "stream",
          "name": "stdout",
          "text": [
            "best accracy score 0.8462547794951557\n",
            "best subset(indices) (0, 1, 2, 4, 5)\n",
            "Best subset (corresponding names): ('0', '1', '2', '4', '5')\n"
          ]
        }
      ]
    },
    {
      "cell_type": "code",
      "source": [
        "sfs2=SFS(RandomForestClassifier(n_jobs=4),k_features=5,forward=False,verbose=2,scoring='roc_auc' or 'accuracy',cv=3)\n",
        "sfs2=sfs2.fit(np.array(x_train.fillna(0)),y_train)\n",
        "print('best accracy score',sfs2.k_score_)\n",
        "print('best subset(indices)',sfs2.k_feature_idx_)\n",
        "print('Best subset (corresponding names):', sfs2.k_feature_names_)"
      ],
      "metadata": {
        "id": "iSmq9JMxu0Ro",
        "colab": {
          "base_uri": "https://localhost:8080/"
        },
        "outputId": "958c0612-47d9-4dc5-fcfc-15dbab4d93b5"
      },
      "execution_count": 89,
      "outputs": [
        {
          "output_type": "stream",
          "name": "stdout",
          "text": [
            "best accracy score 0.8464050500631864\n",
            "best subset(indices) (0, 1, 2, 4, 5)\n",
            "Best subset (corresponding names): ('0', '1', '2', '4', '5')\n"
          ]
        },
        {
          "output_type": "stream",
          "name": "stderr",
          "text": [
            "[Parallel(n_jobs=1)]: Done   6 out of   6 | elapsed:    5.3s finished\n",
            "\n",
            "[2025-08-27 08:54:15] Features: 5/5 -- score: 0.8464050500631864"
          ]
        }
      ]
    },
    {
      "cell_type": "code",
      "source": [
        "from mlxtend.feature_selection import ExhaustiveFeatureSelector as EFS\n",
        "efs=EFS(RandomForestClassifier(n_jobs=4),min_features=1,max_features=4,scoring='accuracy',cv=5)\n",
        "efs=efs.fit(x_train,y_train)"
      ],
      "metadata": {
        "id": "4iY4ABo4vCQf",
        "colab": {
          "base_uri": "https://localhost:8080/"
        },
        "outputId": "03a8eca2-a61d-44b8-f672-837d0744b9cd"
      },
      "execution_count": 90,
      "outputs": [
        {
          "output_type": "stream",
          "name": "stderr",
          "text": [
            "Features: 56/56"
          ]
        }
      ]
    },
    {
      "cell_type": "code",
      "source": [
        "print('best accuracy score',efs.best_score_)\n",
        "print('best subset(indices)',efs.best_idx_)\n",
        "print('Best subset (corresponding names):', efs.best_feature_names_)"
      ],
      "metadata": {
        "colab": {
          "base_uri": "https://localhost:8080/"
        },
        "id": "IjCY8131zRa9",
        "outputId": "5d765d92-7e54-4bbc-ae6e-5b0b70c762dd"
      },
      "execution_count": null,
      "outputs": [
        {
          "output_type": "stream",
          "name": "stdout",
          "text": [
            "best accuracy score 0.8138580645161291\n",
            "best subset(indices) (0, 1, 2, 5)\n",
            "Best subset (corresponding names): ('Pclass', 'Age', 'SibSp', 'Sex_male')\n"
          ]
        }
      ]
    },
    {
      "cell_type": "code",
      "source": [
        "efs_results = pd.DataFrame.from_dict(efs.get_metric_dict()).T\n",
        "efs_results.sort_values(by='avg_score', ascending=True, inplace=True)\n",
        "efs_results"
      ],
      "metadata": {
        "id": "4nck9ykexSDv",
        "colab": {
          "base_uri": "https://localhost:8080/",
          "height": 1000
        },
        "outputId": "2e95dc7e-6b4d-4352-c6ec-07563f5a137d"
      },
      "execution_count": null,
      "outputs": [
        {
          "output_type": "execute_result",
          "data": {
            "text/plain": [
              "     feature_idx                                          cv_scores avg_score  \\\n",
              "11        (1, 2)  [0.632, 0.56, 0.608, 0.5645161290322581, 0.604...  0.593871   \n",
              "1           (1,)  [0.616, 0.576, 0.616, 0.5725806451612904, 0.59...  0.595471   \n",
              "12        (1, 3)  [0.56, 0.568, 0.624, 0.6209677419354839, 0.604...  0.595561   \n",
              "34     (1, 3, 4)  [0.592, 0.624, 0.568, 0.5887096774193549, 0.62...  0.600348   \n",
              "3           (3,)  [0.568, 0.6, 0.616, 0.6048387096774194, 0.6451...    0.6068   \n",
              "13        (1, 4)  [0.608, 0.656, 0.624, 0.5645161290322581, 0.63...  0.617923   \n",
              "31     (1, 2, 3)  [0.656, 0.576, 0.688, 0.6290322580645161, 0.60...  0.630774   \n",
              "2           (2,)  [0.624, 0.624, 0.656, 0.5645161290322581, 0.71...  0.637252   \n",
              "21     (0, 1, 2)  [0.608, 0.616, 0.712, 0.6129032258064516, 0.65...  0.640426   \n",
              "42  (0, 1, 2, 4)  [0.672, 0.648, 0.632, 0.6048387096774194, 0.67...  0.646852   \n",
              "32     (1, 2, 4)  [0.688, 0.656, 0.656, 0.5725806451612904, 0.68...  0.651613   \n",
              "51  (1, 2, 3, 4)  [0.68, 0.648, 0.704, 0.6209677419354839, 0.620...  0.654787   \n",
              "16        (2, 4)  [0.664, 0.688, 0.632, 0.6532258064516129, 0.63...  0.654865   \n",
              "0           (0,)  [0.64, 0.656, 0.68, 0.6693548387096774, 0.6290...  0.654877   \n",
              "44  (0, 1, 3, 4)  [0.624, 0.648, 0.688, 0.6532258064516129, 0.66...  0.654903   \n",
              "23     (0, 1, 4)  [0.648, 0.648, 0.664, 0.6370967741935484, 0.67...  0.654903   \n",
              "6         (0, 1)  [0.648, 0.632, 0.672, 0.6532258064516129, 0.66...  0.654916   \n",
              "22     (0, 1, 3)  [0.592, 0.648, 0.712, 0.6854838709677419, 0.66...  0.659755   \n",
              "41  (0, 1, 2, 3)  [0.616, 0.624, 0.76, 0.6693548387096774, 0.637...   0.66129   \n",
              "18        (3, 4)  [0.68, 0.648, 0.632, 0.6451612903225806, 0.701...  0.661355   \n",
              "15        (2, 3)  [0.648, 0.64, 0.72, 0.6209677419354839, 0.6854...   0.66289   \n",
              "26     (0, 2, 4)  [0.688, 0.656, 0.672, 0.6612903225806451, 0.66...  0.667716   \n",
              "7         (0, 2)  [0.656, 0.672, 0.688, 0.6209677419354839, 0.70...  0.669329   \n",
              "37     (2, 3, 4)  [0.696, 0.664, 0.688, 0.6532258064516129, 0.65...   0.67089   \n",
              "25     (0, 2, 3)  [0.648, 0.696, 0.672, 0.6612903225806451, 0.68...  0.672555   \n",
              "9         (0, 4)  [0.68, 0.68, 0.672, 0.7016129032258065, 0.6935...  0.685432   \n",
              "4           (4,)  [0.696, 0.656, 0.704, 0.6935483870967742, 0.68...  0.687006   \n",
              "47  (0, 2, 3, 4)  [0.704, 0.68, 0.728, 0.6612903225806451, 0.677...  0.690142   \n",
              "28     (0, 3, 4)  [0.68, 0.696, 0.72, 0.6854838709677419, 0.7016...  0.696619   \n",
              "8         (0, 3)  [0.672, 0.704, 0.736, 0.6935483870967742, 0.70...  0.703045   \n",
              "35     (1, 3, 5)     [0.744, 0.776, 0.72, 0.75, 0.7983870967741935]  0.757677   \n",
              "54  (1, 3, 4, 5)  [0.704, 0.8, 0.744, 0.7419354838709677, 0.8145...   0.76089   \n",
              "36     (1, 4, 5)    [0.712, 0.808, 0.752, 0.75, 0.7903225806451613]  0.762465   \n",
              "10        (0, 5)                    [0.752, 0.8, 0.768, 0.75, 0.75]     0.764   \n",
              "55  (2, 3, 4, 5)  [0.72, 0.816, 0.776, 0.7741935483870968, 0.741...  0.765626   \n",
              "53  (1, 2, 4, 5)  [0.736, 0.768, 0.776, 0.7661290322580645, 0.78...  0.765677   \n",
              "52  (1, 2, 3, 5)  [0.728, 0.76, 0.752, 0.8145161290322581, 0.806...  0.772194   \n",
              "39     (2, 4, 5)  [0.744, 0.824, 0.784, 0.7580645161290323, 0.75...  0.773626   \n",
              "14        (1, 5)  [0.744, 0.808, 0.72, 0.782258064516129, 0.8145...  0.773755   \n",
              "40     (3, 4, 5)  [0.736, 0.824, 0.744, 0.7580645161290323, 0.81...  0.775316   \n",
              "48  (0, 2, 3, 5)     [0.76, 0.808, 0.792, 0.75, 0.7741935483870968]  0.776839   \n",
              "38     (2, 3, 5)  [0.792, 0.792, 0.752, 0.7419354838709677, 0.81...   0.77849   \n",
              "20        (4, 5)  [0.744, 0.808, 0.784, 0.8064516129032258, 0.78...  0.784942   \n",
              "19        (3, 5)  [0.768, 0.8, 0.768, 0.7903225806451613, 0.8064...  0.786555   \n",
              "5           (5,)  [0.752, 0.8, 0.768, 0.7983870967741935, 0.8145...  0.786581   \n",
              "33     (1, 2, 5)  [0.728, 0.752, 0.792, 0.8145161290322581, 0.84...  0.786658   \n",
              "49  (0, 2, 4, 5)  [0.792, 0.816, 0.8, 0.7741935483870968, 0.7741...  0.791277   \n",
              "50  (0, 3, 4, 5)  [0.776, 0.824, 0.776, 0.782258064516129, 0.806...  0.792942   \n",
              "27     (0, 2, 5)  [0.776, 0.792, 0.776, 0.8064516129032258, 0.81...  0.792994   \n",
              "17        (2, 5)  [0.76, 0.792, 0.768, 0.8145161290322581, 0.830...  0.793032   \n",
              "29     (0, 3, 5)  [0.776, 0.816, 0.792, 0.7580645161290323, 0.83...  0.794542   \n",
              "46  (0, 1, 4, 5)  [0.768, 0.816, 0.8, 0.782258064516129, 0.82258...  0.797768   \n",
              "45  (0, 1, 3, 5)  [0.752, 0.832, 0.784, 0.7983870967741935, 0.86...  0.805858   \n",
              "24     (0, 1, 5)  [0.792, 0.832, 0.76, 0.8064516129032258, 0.854...  0.809058   \n",
              "30     (0, 4, 5)  [0.792, 0.832, 0.808, 0.8225806451612904, 0.80...  0.812206   \n",
              "43  (0, 1, 2, 5)  [0.744, 0.832, 0.832, 0.8225806451612904, 0.83...  0.813858   \n",
              "\n",
              "                       feature_names  ci_bound   std_dev   std_err  \n",
              "11                      (Age, SibSp)  0.035352  0.027505  0.013753  \n",
              "1                             (Age,)   0.02403  0.018696  0.009348  \n",
              "12                      (Age, Parch)  0.034318    0.0267   0.01335  \n",
              "34                (Age, Parch, Fare)  0.029499  0.022951  0.011475  \n",
              "3                           (Parch,)  0.032064  0.024947  0.012473  \n",
              "13                       (Age, Fare)  0.039845  0.031001    0.0155  \n",
              "31               (Age, SibSp, Parch)  0.050067  0.038954  0.019477  \n",
              "2                           (SibSp,)  0.064192  0.049944  0.024972  \n",
              "21              (Pclass, Age, SibSp)  0.050413  0.039223  0.019612  \n",
              "42        (Pclass, Age, SibSp, Fare)  0.034266   0.02666   0.01333  \n",
              "32                (Age, SibSp, Fare)  0.053786  0.041847  0.020923  \n",
              "51         (Age, SibSp, Parch, Fare)  0.042204  0.032836  0.016418  \n",
              "16                     (SibSp, Fare)  0.025851  0.020113  0.010056  \n",
              "0                          (Pclass,)  0.023917  0.018608  0.009304  \n",
              "44        (Pclass, Age, Parch, Fare)  0.026601  0.020696  0.010348  \n",
              "23               (Pclass, Age, Fare)  0.018196  0.014157  0.007079  \n",
              "6                      (Pclass, Age)  0.018856  0.014671  0.007335  \n",
              "22              (Pclass, Age, Parch)  0.051805  0.040306  0.020153  \n",
              "41       (Pclass, Age, SibSp, Parch)  0.067611  0.052604  0.026302  \n",
              "18                     (Parch, Fare)  0.032873  0.025576  0.012788  \n",
              "15                    (SibSp, Parch)  0.045533  0.035426  0.017713  \n",
              "26             (Pclass, SibSp, Fare)   0.01465  0.011399  0.005699  \n",
              "7                    (Pclass, SibSp)   0.03856  0.030001     0.015  \n",
              "37              (SibSp, Parch, Fare)  0.022954  0.017859   0.00893  \n",
              "25            (Pclass, SibSp, Parch)  0.021865  0.017012  0.008506  \n",
              "9                     (Pclass, Fare)  0.013689   0.01065  0.005325  \n",
              "4                            (Fare,)  0.021323   0.01659  0.008295  \n",
              "47      (Pclass, SibSp, Parch, Fare)  0.029991  0.023334  0.011667  \n",
              "28             (Pclass, Parch, Fare)  0.017922  0.013944  0.006972  \n",
              "8                    (Pclass, Parch)  0.026868  0.020904  0.010452  \n",
              "35            (Age, Parch, Sex_male)  0.034768   0.02705  0.013525  \n",
              "54      (Age, Parch, Fare, Sex_male)  0.052324   0.04071  0.020355  \n",
              "36             (Age, Fare, Sex_male)  0.043248  0.033648  0.016824  \n",
              "10                (Pclass, Sex_male)   0.02471  0.019225  0.009612  \n",
              "55    (SibSp, Parch, Fare, Sex_male)  0.042088  0.032746  0.016373  \n",
              "53      (Age, SibSp, Fare, Sex_male)  0.020467  0.015924  0.007962  \n",
              "52     (Age, SibSp, Parch, Sex_male)  0.042529  0.033089  0.016544  \n",
              "39           (SibSp, Fare, Sex_male)  0.036386   0.02831  0.014155  \n",
              "14                   (Age, Sex_male)  0.046984  0.036555  0.018278  \n",
              "40           (Parch, Fare, Sex_male)  0.047158   0.03669  0.018345  \n",
              "48  (Pclass, SibSp, Parch, Sex_male)  0.027032  0.021032  0.010516  \n",
              "38          (SibSp, Parch, Sex_male)  0.034968  0.027206  0.013603  \n",
              "20                  (Fare, Sex_male)  0.029749  0.023146  0.011573  \n",
              "19                 (Parch, Sex_male)   0.02056  0.015996  0.007998  \n",
              "5                        (Sex_male,)  0.029539  0.022982  0.011491  \n",
              "33            (Age, SibSp, Sex_male)  0.054713  0.042569  0.021284  \n",
              "49   (Pclass, SibSp, Fare, Sex_male)  0.020496  0.015947  0.007973  \n",
              "50   (Pclass, Parch, Fare, Sex_male)  0.024625  0.019159  0.009579  \n",
              "27         (Pclass, SibSp, Sex_male)  0.020101  0.015639  0.007819  \n",
              "17                 (SibSp, Sex_male)  0.034464  0.026815  0.013407  \n",
              "29         (Pclass, Parch, Sex_male)  0.033736  0.026248  0.013124  \n",
              "46     (Pclass, Age, Fare, Sex_male)  0.026213  0.020395  0.010197  \n",
              "45    (Pclass, Age, Parch, Sex_male)  0.049352  0.038397  0.019199  \n",
              "24           (Pclass, Age, Sex_male)  0.041951  0.032639   0.01632  \n",
              "30          (Pclass, Fare, Sex_male)  0.017796  0.013846  0.006923  \n",
              "43    (Pclass, Age, SibSp, Sex_male)  0.045377  0.035305  0.017652  "
            ],
            "text/html": [
              "\n",
              "  <div id=\"df-29863968-2620-491a-a40f-0dc1dc7de359\" class=\"colab-df-container\">\n",
              "    <div>\n",
              "<style scoped>\n",
              "    .dataframe tbody tr th:only-of-type {\n",
              "        vertical-align: middle;\n",
              "    }\n",
              "\n",
              "    .dataframe tbody tr th {\n",
              "        vertical-align: top;\n",
              "    }\n",
              "\n",
              "    .dataframe thead th {\n",
              "        text-align: right;\n",
              "    }\n",
              "</style>\n",
              "<table border=\"1\" class=\"dataframe\">\n",
              "  <thead>\n",
              "    <tr style=\"text-align: right;\">\n",
              "      <th></th>\n",
              "      <th>feature_idx</th>\n",
              "      <th>cv_scores</th>\n",
              "      <th>avg_score</th>\n",
              "      <th>feature_names</th>\n",
              "      <th>ci_bound</th>\n",
              "      <th>std_dev</th>\n",
              "      <th>std_err</th>\n",
              "    </tr>\n",
              "  </thead>\n",
              "  <tbody>\n",
              "    <tr>\n",
              "      <th>11</th>\n",
              "      <td>(1, 2)</td>\n",
              "      <td>[0.632, 0.56, 0.608, 0.5645161290322581, 0.604...</td>\n",
              "      <td>0.593871</td>\n",
              "      <td>(Age, SibSp)</td>\n",
              "      <td>0.035352</td>\n",
              "      <td>0.027505</td>\n",
              "      <td>0.013753</td>\n",
              "    </tr>\n",
              "    <tr>\n",
              "      <th>1</th>\n",
              "      <td>(1,)</td>\n",
              "      <td>[0.616, 0.576, 0.616, 0.5725806451612904, 0.59...</td>\n",
              "      <td>0.595471</td>\n",
              "      <td>(Age,)</td>\n",
              "      <td>0.02403</td>\n",
              "      <td>0.018696</td>\n",
              "      <td>0.009348</td>\n",
              "    </tr>\n",
              "    <tr>\n",
              "      <th>12</th>\n",
              "      <td>(1, 3)</td>\n",
              "      <td>[0.56, 0.568, 0.624, 0.6209677419354839, 0.604...</td>\n",
              "      <td>0.595561</td>\n",
              "      <td>(Age, Parch)</td>\n",
              "      <td>0.034318</td>\n",
              "      <td>0.0267</td>\n",
              "      <td>0.01335</td>\n",
              "    </tr>\n",
              "    <tr>\n",
              "      <th>34</th>\n",
              "      <td>(1, 3, 4)</td>\n",
              "      <td>[0.592, 0.624, 0.568, 0.5887096774193549, 0.62...</td>\n",
              "      <td>0.600348</td>\n",
              "      <td>(Age, Parch, Fare)</td>\n",
              "      <td>0.029499</td>\n",
              "      <td>0.022951</td>\n",
              "      <td>0.011475</td>\n",
              "    </tr>\n",
              "    <tr>\n",
              "      <th>3</th>\n",
              "      <td>(3,)</td>\n",
              "      <td>[0.568, 0.6, 0.616, 0.6048387096774194, 0.6451...</td>\n",
              "      <td>0.6068</td>\n",
              "      <td>(Parch,)</td>\n",
              "      <td>0.032064</td>\n",
              "      <td>0.024947</td>\n",
              "      <td>0.012473</td>\n",
              "    </tr>\n",
              "    <tr>\n",
              "      <th>13</th>\n",
              "      <td>(1, 4)</td>\n",
              "      <td>[0.608, 0.656, 0.624, 0.5645161290322581, 0.63...</td>\n",
              "      <td>0.617923</td>\n",
              "      <td>(Age, Fare)</td>\n",
              "      <td>0.039845</td>\n",
              "      <td>0.031001</td>\n",
              "      <td>0.0155</td>\n",
              "    </tr>\n",
              "    <tr>\n",
              "      <th>31</th>\n",
              "      <td>(1, 2, 3)</td>\n",
              "      <td>[0.656, 0.576, 0.688, 0.6290322580645161, 0.60...</td>\n",
              "      <td>0.630774</td>\n",
              "      <td>(Age, SibSp, Parch)</td>\n",
              "      <td>0.050067</td>\n",
              "      <td>0.038954</td>\n",
              "      <td>0.019477</td>\n",
              "    </tr>\n",
              "    <tr>\n",
              "      <th>2</th>\n",
              "      <td>(2,)</td>\n",
              "      <td>[0.624, 0.624, 0.656, 0.5645161290322581, 0.71...</td>\n",
              "      <td>0.637252</td>\n",
              "      <td>(SibSp,)</td>\n",
              "      <td>0.064192</td>\n",
              "      <td>0.049944</td>\n",
              "      <td>0.024972</td>\n",
              "    </tr>\n",
              "    <tr>\n",
              "      <th>21</th>\n",
              "      <td>(0, 1, 2)</td>\n",
              "      <td>[0.608, 0.616, 0.712, 0.6129032258064516, 0.65...</td>\n",
              "      <td>0.640426</td>\n",
              "      <td>(Pclass, Age, SibSp)</td>\n",
              "      <td>0.050413</td>\n",
              "      <td>0.039223</td>\n",
              "      <td>0.019612</td>\n",
              "    </tr>\n",
              "    <tr>\n",
              "      <th>42</th>\n",
              "      <td>(0, 1, 2, 4)</td>\n",
              "      <td>[0.672, 0.648, 0.632, 0.6048387096774194, 0.67...</td>\n",
              "      <td>0.646852</td>\n",
              "      <td>(Pclass, Age, SibSp, Fare)</td>\n",
              "      <td>0.034266</td>\n",
              "      <td>0.02666</td>\n",
              "      <td>0.01333</td>\n",
              "    </tr>\n",
              "    <tr>\n",
              "      <th>32</th>\n",
              "      <td>(1, 2, 4)</td>\n",
              "      <td>[0.688, 0.656, 0.656, 0.5725806451612904, 0.68...</td>\n",
              "      <td>0.651613</td>\n",
              "      <td>(Age, SibSp, Fare)</td>\n",
              "      <td>0.053786</td>\n",
              "      <td>0.041847</td>\n",
              "      <td>0.020923</td>\n",
              "    </tr>\n",
              "    <tr>\n",
              "      <th>51</th>\n",
              "      <td>(1, 2, 3, 4)</td>\n",
              "      <td>[0.68, 0.648, 0.704, 0.6209677419354839, 0.620...</td>\n",
              "      <td>0.654787</td>\n",
              "      <td>(Age, SibSp, Parch, Fare)</td>\n",
              "      <td>0.042204</td>\n",
              "      <td>0.032836</td>\n",
              "      <td>0.016418</td>\n",
              "    </tr>\n",
              "    <tr>\n",
              "      <th>16</th>\n",
              "      <td>(2, 4)</td>\n",
              "      <td>[0.664, 0.688, 0.632, 0.6532258064516129, 0.63...</td>\n",
              "      <td>0.654865</td>\n",
              "      <td>(SibSp, Fare)</td>\n",
              "      <td>0.025851</td>\n",
              "      <td>0.020113</td>\n",
              "      <td>0.010056</td>\n",
              "    </tr>\n",
              "    <tr>\n",
              "      <th>0</th>\n",
              "      <td>(0,)</td>\n",
              "      <td>[0.64, 0.656, 0.68, 0.6693548387096774, 0.6290...</td>\n",
              "      <td>0.654877</td>\n",
              "      <td>(Pclass,)</td>\n",
              "      <td>0.023917</td>\n",
              "      <td>0.018608</td>\n",
              "      <td>0.009304</td>\n",
              "    </tr>\n",
              "    <tr>\n",
              "      <th>44</th>\n",
              "      <td>(0, 1, 3, 4)</td>\n",
              "      <td>[0.624, 0.648, 0.688, 0.6532258064516129, 0.66...</td>\n",
              "      <td>0.654903</td>\n",
              "      <td>(Pclass, Age, Parch, Fare)</td>\n",
              "      <td>0.026601</td>\n",
              "      <td>0.020696</td>\n",
              "      <td>0.010348</td>\n",
              "    </tr>\n",
              "    <tr>\n",
              "      <th>23</th>\n",
              "      <td>(0, 1, 4)</td>\n",
              "      <td>[0.648, 0.648, 0.664, 0.6370967741935484, 0.67...</td>\n",
              "      <td>0.654903</td>\n",
              "      <td>(Pclass, Age, Fare)</td>\n",
              "      <td>0.018196</td>\n",
              "      <td>0.014157</td>\n",
              "      <td>0.007079</td>\n",
              "    </tr>\n",
              "    <tr>\n",
              "      <th>6</th>\n",
              "      <td>(0, 1)</td>\n",
              "      <td>[0.648, 0.632, 0.672, 0.6532258064516129, 0.66...</td>\n",
              "      <td>0.654916</td>\n",
              "      <td>(Pclass, Age)</td>\n",
              "      <td>0.018856</td>\n",
              "      <td>0.014671</td>\n",
              "      <td>0.007335</td>\n",
              "    </tr>\n",
              "    <tr>\n",
              "      <th>22</th>\n",
              "      <td>(0, 1, 3)</td>\n",
              "      <td>[0.592, 0.648, 0.712, 0.6854838709677419, 0.66...</td>\n",
              "      <td>0.659755</td>\n",
              "      <td>(Pclass, Age, Parch)</td>\n",
              "      <td>0.051805</td>\n",
              "      <td>0.040306</td>\n",
              "      <td>0.020153</td>\n",
              "    </tr>\n",
              "    <tr>\n",
              "      <th>41</th>\n",
              "      <td>(0, 1, 2, 3)</td>\n",
              "      <td>[0.616, 0.624, 0.76, 0.6693548387096774, 0.637...</td>\n",
              "      <td>0.66129</td>\n",
              "      <td>(Pclass, Age, SibSp, Parch)</td>\n",
              "      <td>0.067611</td>\n",
              "      <td>0.052604</td>\n",
              "      <td>0.026302</td>\n",
              "    </tr>\n",
              "    <tr>\n",
              "      <th>18</th>\n",
              "      <td>(3, 4)</td>\n",
              "      <td>[0.68, 0.648, 0.632, 0.6451612903225806, 0.701...</td>\n",
              "      <td>0.661355</td>\n",
              "      <td>(Parch, Fare)</td>\n",
              "      <td>0.032873</td>\n",
              "      <td>0.025576</td>\n",
              "      <td>0.012788</td>\n",
              "    </tr>\n",
              "    <tr>\n",
              "      <th>15</th>\n",
              "      <td>(2, 3)</td>\n",
              "      <td>[0.648, 0.64, 0.72, 0.6209677419354839, 0.6854...</td>\n",
              "      <td>0.66289</td>\n",
              "      <td>(SibSp, Parch)</td>\n",
              "      <td>0.045533</td>\n",
              "      <td>0.035426</td>\n",
              "      <td>0.017713</td>\n",
              "    </tr>\n",
              "    <tr>\n",
              "      <th>26</th>\n",
              "      <td>(0, 2, 4)</td>\n",
              "      <td>[0.688, 0.656, 0.672, 0.6612903225806451, 0.66...</td>\n",
              "      <td>0.667716</td>\n",
              "      <td>(Pclass, SibSp, Fare)</td>\n",
              "      <td>0.01465</td>\n",
              "      <td>0.011399</td>\n",
              "      <td>0.005699</td>\n",
              "    </tr>\n",
              "    <tr>\n",
              "      <th>7</th>\n",
              "      <td>(0, 2)</td>\n",
              "      <td>[0.656, 0.672, 0.688, 0.6209677419354839, 0.70...</td>\n",
              "      <td>0.669329</td>\n",
              "      <td>(Pclass, SibSp)</td>\n",
              "      <td>0.03856</td>\n",
              "      <td>0.030001</td>\n",
              "      <td>0.015</td>\n",
              "    </tr>\n",
              "    <tr>\n",
              "      <th>37</th>\n",
              "      <td>(2, 3, 4)</td>\n",
              "      <td>[0.696, 0.664, 0.688, 0.6532258064516129, 0.65...</td>\n",
              "      <td>0.67089</td>\n",
              "      <td>(SibSp, Parch, Fare)</td>\n",
              "      <td>0.022954</td>\n",
              "      <td>0.017859</td>\n",
              "      <td>0.00893</td>\n",
              "    </tr>\n",
              "    <tr>\n",
              "      <th>25</th>\n",
              "      <td>(0, 2, 3)</td>\n",
              "      <td>[0.648, 0.696, 0.672, 0.6612903225806451, 0.68...</td>\n",
              "      <td>0.672555</td>\n",
              "      <td>(Pclass, SibSp, Parch)</td>\n",
              "      <td>0.021865</td>\n",
              "      <td>0.017012</td>\n",
              "      <td>0.008506</td>\n",
              "    </tr>\n",
              "    <tr>\n",
              "      <th>9</th>\n",
              "      <td>(0, 4)</td>\n",
              "      <td>[0.68, 0.68, 0.672, 0.7016129032258065, 0.6935...</td>\n",
              "      <td>0.685432</td>\n",
              "      <td>(Pclass, Fare)</td>\n",
              "      <td>0.013689</td>\n",
              "      <td>0.01065</td>\n",
              "      <td>0.005325</td>\n",
              "    </tr>\n",
              "    <tr>\n",
              "      <th>4</th>\n",
              "      <td>(4,)</td>\n",
              "      <td>[0.696, 0.656, 0.704, 0.6935483870967742, 0.68...</td>\n",
              "      <td>0.687006</td>\n",
              "      <td>(Fare,)</td>\n",
              "      <td>0.021323</td>\n",
              "      <td>0.01659</td>\n",
              "      <td>0.008295</td>\n",
              "    </tr>\n",
              "    <tr>\n",
              "      <th>47</th>\n",
              "      <td>(0, 2, 3, 4)</td>\n",
              "      <td>[0.704, 0.68, 0.728, 0.6612903225806451, 0.677...</td>\n",
              "      <td>0.690142</td>\n",
              "      <td>(Pclass, SibSp, Parch, Fare)</td>\n",
              "      <td>0.029991</td>\n",
              "      <td>0.023334</td>\n",
              "      <td>0.011667</td>\n",
              "    </tr>\n",
              "    <tr>\n",
              "      <th>28</th>\n",
              "      <td>(0, 3, 4)</td>\n",
              "      <td>[0.68, 0.696, 0.72, 0.6854838709677419, 0.7016...</td>\n",
              "      <td>0.696619</td>\n",
              "      <td>(Pclass, Parch, Fare)</td>\n",
              "      <td>0.017922</td>\n",
              "      <td>0.013944</td>\n",
              "      <td>0.006972</td>\n",
              "    </tr>\n",
              "    <tr>\n",
              "      <th>8</th>\n",
              "      <td>(0, 3)</td>\n",
              "      <td>[0.672, 0.704, 0.736, 0.6935483870967742, 0.70...</td>\n",
              "      <td>0.703045</td>\n",
              "      <td>(Pclass, Parch)</td>\n",
              "      <td>0.026868</td>\n",
              "      <td>0.020904</td>\n",
              "      <td>0.010452</td>\n",
              "    </tr>\n",
              "    <tr>\n",
              "      <th>35</th>\n",
              "      <td>(1, 3, 5)</td>\n",
              "      <td>[0.744, 0.776, 0.72, 0.75, 0.7983870967741935]</td>\n",
              "      <td>0.757677</td>\n",
              "      <td>(Age, Parch, Sex_male)</td>\n",
              "      <td>0.034768</td>\n",
              "      <td>0.02705</td>\n",
              "      <td>0.013525</td>\n",
              "    </tr>\n",
              "    <tr>\n",
              "      <th>54</th>\n",
              "      <td>(1, 3, 4, 5)</td>\n",
              "      <td>[0.704, 0.8, 0.744, 0.7419354838709677, 0.8145...</td>\n",
              "      <td>0.76089</td>\n",
              "      <td>(Age, Parch, Fare, Sex_male)</td>\n",
              "      <td>0.052324</td>\n",
              "      <td>0.04071</td>\n",
              "      <td>0.020355</td>\n",
              "    </tr>\n",
              "    <tr>\n",
              "      <th>36</th>\n",
              "      <td>(1, 4, 5)</td>\n",
              "      <td>[0.712, 0.808, 0.752, 0.75, 0.7903225806451613]</td>\n",
              "      <td>0.762465</td>\n",
              "      <td>(Age, Fare, Sex_male)</td>\n",
              "      <td>0.043248</td>\n",
              "      <td>0.033648</td>\n",
              "      <td>0.016824</td>\n",
              "    </tr>\n",
              "    <tr>\n",
              "      <th>10</th>\n",
              "      <td>(0, 5)</td>\n",
              "      <td>[0.752, 0.8, 0.768, 0.75, 0.75]</td>\n",
              "      <td>0.764</td>\n",
              "      <td>(Pclass, Sex_male)</td>\n",
              "      <td>0.02471</td>\n",
              "      <td>0.019225</td>\n",
              "      <td>0.009612</td>\n",
              "    </tr>\n",
              "    <tr>\n",
              "      <th>55</th>\n",
              "      <td>(2, 3, 4, 5)</td>\n",
              "      <td>[0.72, 0.816, 0.776, 0.7741935483870968, 0.741...</td>\n",
              "      <td>0.765626</td>\n",
              "      <td>(SibSp, Parch, Fare, Sex_male)</td>\n",
              "      <td>0.042088</td>\n",
              "      <td>0.032746</td>\n",
              "      <td>0.016373</td>\n",
              "    </tr>\n",
              "    <tr>\n",
              "      <th>53</th>\n",
              "      <td>(1, 2, 4, 5)</td>\n",
              "      <td>[0.736, 0.768, 0.776, 0.7661290322580645, 0.78...</td>\n",
              "      <td>0.765677</td>\n",
              "      <td>(Age, SibSp, Fare, Sex_male)</td>\n",
              "      <td>0.020467</td>\n",
              "      <td>0.015924</td>\n",
              "      <td>0.007962</td>\n",
              "    </tr>\n",
              "    <tr>\n",
              "      <th>52</th>\n",
              "      <td>(1, 2, 3, 5)</td>\n",
              "      <td>[0.728, 0.76, 0.752, 0.8145161290322581, 0.806...</td>\n",
              "      <td>0.772194</td>\n",
              "      <td>(Age, SibSp, Parch, Sex_male)</td>\n",
              "      <td>0.042529</td>\n",
              "      <td>0.033089</td>\n",
              "      <td>0.016544</td>\n",
              "    </tr>\n",
              "    <tr>\n",
              "      <th>39</th>\n",
              "      <td>(2, 4, 5)</td>\n",
              "      <td>[0.744, 0.824, 0.784, 0.7580645161290323, 0.75...</td>\n",
              "      <td>0.773626</td>\n",
              "      <td>(SibSp, Fare, Sex_male)</td>\n",
              "      <td>0.036386</td>\n",
              "      <td>0.02831</td>\n",
              "      <td>0.014155</td>\n",
              "    </tr>\n",
              "    <tr>\n",
              "      <th>14</th>\n",
              "      <td>(1, 5)</td>\n",
              "      <td>[0.744, 0.808, 0.72, 0.782258064516129, 0.8145...</td>\n",
              "      <td>0.773755</td>\n",
              "      <td>(Age, Sex_male)</td>\n",
              "      <td>0.046984</td>\n",
              "      <td>0.036555</td>\n",
              "      <td>0.018278</td>\n",
              "    </tr>\n",
              "    <tr>\n",
              "      <th>40</th>\n",
              "      <td>(3, 4, 5)</td>\n",
              "      <td>[0.736, 0.824, 0.744, 0.7580645161290323, 0.81...</td>\n",
              "      <td>0.775316</td>\n",
              "      <td>(Parch, Fare, Sex_male)</td>\n",
              "      <td>0.047158</td>\n",
              "      <td>0.03669</td>\n",
              "      <td>0.018345</td>\n",
              "    </tr>\n",
              "    <tr>\n",
              "      <th>48</th>\n",
              "      <td>(0, 2, 3, 5)</td>\n",
              "      <td>[0.76, 0.808, 0.792, 0.75, 0.7741935483870968]</td>\n",
              "      <td>0.776839</td>\n",
              "      <td>(Pclass, SibSp, Parch, Sex_male)</td>\n",
              "      <td>0.027032</td>\n",
              "      <td>0.021032</td>\n",
              "      <td>0.010516</td>\n",
              "    </tr>\n",
              "    <tr>\n",
              "      <th>38</th>\n",
              "      <td>(2, 3, 5)</td>\n",
              "      <td>[0.792, 0.792, 0.752, 0.7419354838709677, 0.81...</td>\n",
              "      <td>0.77849</td>\n",
              "      <td>(SibSp, Parch, Sex_male)</td>\n",
              "      <td>0.034968</td>\n",
              "      <td>0.027206</td>\n",
              "      <td>0.013603</td>\n",
              "    </tr>\n",
              "    <tr>\n",
              "      <th>20</th>\n",
              "      <td>(4, 5)</td>\n",
              "      <td>[0.744, 0.808, 0.784, 0.8064516129032258, 0.78...</td>\n",
              "      <td>0.784942</td>\n",
              "      <td>(Fare, Sex_male)</td>\n",
              "      <td>0.029749</td>\n",
              "      <td>0.023146</td>\n",
              "      <td>0.011573</td>\n",
              "    </tr>\n",
              "    <tr>\n",
              "      <th>19</th>\n",
              "      <td>(3, 5)</td>\n",
              "      <td>[0.768, 0.8, 0.768, 0.7903225806451613, 0.8064...</td>\n",
              "      <td>0.786555</td>\n",
              "      <td>(Parch, Sex_male)</td>\n",
              "      <td>0.02056</td>\n",
              "      <td>0.015996</td>\n",
              "      <td>0.007998</td>\n",
              "    </tr>\n",
              "    <tr>\n",
              "      <th>5</th>\n",
              "      <td>(5,)</td>\n",
              "      <td>[0.752, 0.8, 0.768, 0.7983870967741935, 0.8145...</td>\n",
              "      <td>0.786581</td>\n",
              "      <td>(Sex_male,)</td>\n",
              "      <td>0.029539</td>\n",
              "      <td>0.022982</td>\n",
              "      <td>0.011491</td>\n",
              "    </tr>\n",
              "    <tr>\n",
              "      <th>33</th>\n",
              "      <td>(1, 2, 5)</td>\n",
              "      <td>[0.728, 0.752, 0.792, 0.8145161290322581, 0.84...</td>\n",
              "      <td>0.786658</td>\n",
              "      <td>(Age, SibSp, Sex_male)</td>\n",
              "      <td>0.054713</td>\n",
              "      <td>0.042569</td>\n",
              "      <td>0.021284</td>\n",
              "    </tr>\n",
              "    <tr>\n",
              "      <th>49</th>\n",
              "      <td>(0, 2, 4, 5)</td>\n",
              "      <td>[0.792, 0.816, 0.8, 0.7741935483870968, 0.7741...</td>\n",
              "      <td>0.791277</td>\n",
              "      <td>(Pclass, SibSp, Fare, Sex_male)</td>\n",
              "      <td>0.020496</td>\n",
              "      <td>0.015947</td>\n",
              "      <td>0.007973</td>\n",
              "    </tr>\n",
              "    <tr>\n",
              "      <th>50</th>\n",
              "      <td>(0, 3, 4, 5)</td>\n",
              "      <td>[0.776, 0.824, 0.776, 0.782258064516129, 0.806...</td>\n",
              "      <td>0.792942</td>\n",
              "      <td>(Pclass, Parch, Fare, Sex_male)</td>\n",
              "      <td>0.024625</td>\n",
              "      <td>0.019159</td>\n",
              "      <td>0.009579</td>\n",
              "    </tr>\n",
              "    <tr>\n",
              "      <th>27</th>\n",
              "      <td>(0, 2, 5)</td>\n",
              "      <td>[0.776, 0.792, 0.776, 0.8064516129032258, 0.81...</td>\n",
              "      <td>0.792994</td>\n",
              "      <td>(Pclass, SibSp, Sex_male)</td>\n",
              "      <td>0.020101</td>\n",
              "      <td>0.015639</td>\n",
              "      <td>0.007819</td>\n",
              "    </tr>\n",
              "    <tr>\n",
              "      <th>17</th>\n",
              "      <td>(2, 5)</td>\n",
              "      <td>[0.76, 0.792, 0.768, 0.8145161290322581, 0.830...</td>\n",
              "      <td>0.793032</td>\n",
              "      <td>(SibSp, Sex_male)</td>\n",
              "      <td>0.034464</td>\n",
              "      <td>0.026815</td>\n",
              "      <td>0.013407</td>\n",
              "    </tr>\n",
              "    <tr>\n",
              "      <th>29</th>\n",
              "      <td>(0, 3, 5)</td>\n",
              "      <td>[0.776, 0.816, 0.792, 0.7580645161290323, 0.83...</td>\n",
              "      <td>0.794542</td>\n",
              "      <td>(Pclass, Parch, Sex_male)</td>\n",
              "      <td>0.033736</td>\n",
              "      <td>0.026248</td>\n",
              "      <td>0.013124</td>\n",
              "    </tr>\n",
              "    <tr>\n",
              "      <th>46</th>\n",
              "      <td>(0, 1, 4, 5)</td>\n",
              "      <td>[0.768, 0.816, 0.8, 0.782258064516129, 0.82258...</td>\n",
              "      <td>0.797768</td>\n",
              "      <td>(Pclass, Age, Fare, Sex_male)</td>\n",
              "      <td>0.026213</td>\n",
              "      <td>0.020395</td>\n",
              "      <td>0.010197</td>\n",
              "    </tr>\n",
              "    <tr>\n",
              "      <th>45</th>\n",
              "      <td>(0, 1, 3, 5)</td>\n",
              "      <td>[0.752, 0.832, 0.784, 0.7983870967741935, 0.86...</td>\n",
              "      <td>0.805858</td>\n",
              "      <td>(Pclass, Age, Parch, Sex_male)</td>\n",
              "      <td>0.049352</td>\n",
              "      <td>0.038397</td>\n",
              "      <td>0.019199</td>\n",
              "    </tr>\n",
              "    <tr>\n",
              "      <th>24</th>\n",
              "      <td>(0, 1, 5)</td>\n",
              "      <td>[0.792, 0.832, 0.76, 0.8064516129032258, 0.854...</td>\n",
              "      <td>0.809058</td>\n",
              "      <td>(Pclass, Age, Sex_male)</td>\n",
              "      <td>0.041951</td>\n",
              "      <td>0.032639</td>\n",
              "      <td>0.01632</td>\n",
              "    </tr>\n",
              "    <tr>\n",
              "      <th>30</th>\n",
              "      <td>(0, 4, 5)</td>\n",
              "      <td>[0.792, 0.832, 0.808, 0.8225806451612904, 0.80...</td>\n",
              "      <td>0.812206</td>\n",
              "      <td>(Pclass, Fare, Sex_male)</td>\n",
              "      <td>0.017796</td>\n",
              "      <td>0.013846</td>\n",
              "      <td>0.006923</td>\n",
              "    </tr>\n",
              "    <tr>\n",
              "      <th>43</th>\n",
              "      <td>(0, 1, 2, 5)</td>\n",
              "      <td>[0.744, 0.832, 0.832, 0.8225806451612904, 0.83...</td>\n",
              "      <td>0.813858</td>\n",
              "      <td>(Pclass, Age, SibSp, Sex_male)</td>\n",
              "      <td>0.045377</td>\n",
              "      <td>0.035305</td>\n",
              "      <td>0.017652</td>\n",
              "    </tr>\n",
              "  </tbody>\n",
              "</table>\n",
              "</div>\n",
              "    <div class=\"colab-df-buttons\">\n",
              "\n",
              "  <div class=\"colab-df-container\">\n",
              "    <button class=\"colab-df-convert\" onclick=\"convertToInteractive('df-29863968-2620-491a-a40f-0dc1dc7de359')\"\n",
              "            title=\"Convert this dataframe to an interactive table.\"\n",
              "            style=\"display:none;\">\n",
              "\n",
              "  <svg xmlns=\"http://www.w3.org/2000/svg\" height=\"24px\" viewBox=\"0 -960 960 960\">\n",
              "    <path d=\"M120-120v-720h720v720H120Zm60-500h600v-160H180v160Zm220 220h160v-160H400v160Zm0 220h160v-160H400v160ZM180-400h160v-160H180v160Zm440 0h160v-160H620v160ZM180-180h160v-160H180v160Zm440 0h160v-160H620v160Z\"/>\n",
              "  </svg>\n",
              "    </button>\n",
              "\n",
              "  <style>\n",
              "    .colab-df-container {\n",
              "      display:flex;\n",
              "      gap: 12px;\n",
              "    }\n",
              "\n",
              "    .colab-df-convert {\n",
              "      background-color: #E8F0FE;\n",
              "      border: none;\n",
              "      border-radius: 50%;\n",
              "      cursor: pointer;\n",
              "      display: none;\n",
              "      fill: #1967D2;\n",
              "      height: 32px;\n",
              "      padding: 0 0 0 0;\n",
              "      width: 32px;\n",
              "    }\n",
              "\n",
              "    .colab-df-convert:hover {\n",
              "      background-color: #E2EBFA;\n",
              "      box-shadow: 0px 1px 2px rgba(60, 64, 67, 0.3), 0px 1px 3px 1px rgba(60, 64, 67, 0.15);\n",
              "      fill: #174EA6;\n",
              "    }\n",
              "\n",
              "    .colab-df-buttons div {\n",
              "      margin-bottom: 4px;\n",
              "    }\n",
              "\n",
              "    [theme=dark] .colab-df-convert {\n",
              "      background-color: #3B4455;\n",
              "      fill: #D2E3FC;\n",
              "    }\n",
              "\n",
              "    [theme=dark] .colab-df-convert:hover {\n",
              "      background-color: #434B5C;\n",
              "      box-shadow: 0px 1px 3px 1px rgba(0, 0, 0, 0.15);\n",
              "      filter: drop-shadow(0px 1px 2px rgba(0, 0, 0, 0.3));\n",
              "      fill: #FFFFFF;\n",
              "    }\n",
              "  </style>\n",
              "\n",
              "    <script>\n",
              "      const buttonEl =\n",
              "        document.querySelector('#df-29863968-2620-491a-a40f-0dc1dc7de359 button.colab-df-convert');\n",
              "      buttonEl.style.display =\n",
              "        google.colab.kernel.accessAllowed ? 'block' : 'none';\n",
              "\n",
              "      async function convertToInteractive(key) {\n",
              "        const element = document.querySelector('#df-29863968-2620-491a-a40f-0dc1dc7de359');\n",
              "        const dataTable =\n",
              "          await google.colab.kernel.invokeFunction('convertToInteractive',\n",
              "                                                    [key], {});\n",
              "        if (!dataTable) return;\n",
              "\n",
              "        const docLinkHtml = 'Like what you see? Visit the ' +\n",
              "          '<a target=\"_blank\" href=https://colab.research.google.com/notebooks/data_table.ipynb>data table notebook</a>'\n",
              "          + ' to learn more about interactive tables.';\n",
              "        element.innerHTML = '';\n",
              "        dataTable['output_type'] = 'display_data';\n",
              "        await google.colab.output.renderOutput(dataTable, element);\n",
              "        const docLink = document.createElement('div');\n",
              "        docLink.innerHTML = docLinkHtml;\n",
              "        element.appendChild(docLink);\n",
              "      }\n",
              "    </script>\n",
              "  </div>\n",
              "\n",
              "\n",
              "    <div id=\"df-a258aa34-f585-41e2-952b-cdc3dc91cb09\">\n",
              "      <button class=\"colab-df-quickchart\" onclick=\"quickchart('df-a258aa34-f585-41e2-952b-cdc3dc91cb09')\"\n",
              "                title=\"Suggest charts\"\n",
              "                style=\"display:none;\">\n",
              "\n",
              "<svg xmlns=\"http://www.w3.org/2000/svg\" height=\"24px\"viewBox=\"0 0 24 24\"\n",
              "     width=\"24px\">\n",
              "    <g>\n",
              "        <path d=\"M19 3H5c-1.1 0-2 .9-2 2v14c0 1.1.9 2 2 2h14c1.1 0 2-.9 2-2V5c0-1.1-.9-2-2-2zM9 17H7v-7h2v7zm4 0h-2V7h2v10zm4 0h-2v-4h2v4z\"/>\n",
              "    </g>\n",
              "</svg>\n",
              "      </button>\n",
              "\n",
              "<style>\n",
              "  .colab-df-quickchart {\n",
              "      --bg-color: #E8F0FE;\n",
              "      --fill-color: #1967D2;\n",
              "      --hover-bg-color: #E2EBFA;\n",
              "      --hover-fill-color: #174EA6;\n",
              "      --disabled-fill-color: #AAA;\n",
              "      --disabled-bg-color: #DDD;\n",
              "  }\n",
              "\n",
              "  [theme=dark] .colab-df-quickchart {\n",
              "      --bg-color: #3B4455;\n",
              "      --fill-color: #D2E3FC;\n",
              "      --hover-bg-color: #434B5C;\n",
              "      --hover-fill-color: #FFFFFF;\n",
              "      --disabled-bg-color: #3B4455;\n",
              "      --disabled-fill-color: #666;\n",
              "  }\n",
              "\n",
              "  .colab-df-quickchart {\n",
              "    background-color: var(--bg-color);\n",
              "    border: none;\n",
              "    border-radius: 50%;\n",
              "    cursor: pointer;\n",
              "    display: none;\n",
              "    fill: var(--fill-color);\n",
              "    height: 32px;\n",
              "    padding: 0;\n",
              "    width: 32px;\n",
              "  }\n",
              "\n",
              "  .colab-df-quickchart:hover {\n",
              "    background-color: var(--hover-bg-color);\n",
              "    box-shadow: 0 1px 2px rgba(60, 64, 67, 0.3), 0 1px 3px 1px rgba(60, 64, 67, 0.15);\n",
              "    fill: var(--button-hover-fill-color);\n",
              "  }\n",
              "\n",
              "  .colab-df-quickchart-complete:disabled,\n",
              "  .colab-df-quickchart-complete:disabled:hover {\n",
              "    background-color: var(--disabled-bg-color);\n",
              "    fill: var(--disabled-fill-color);\n",
              "    box-shadow: none;\n",
              "  }\n",
              "\n",
              "  .colab-df-spinner {\n",
              "    border: 2px solid var(--fill-color);\n",
              "    border-color: transparent;\n",
              "    border-bottom-color: var(--fill-color);\n",
              "    animation:\n",
              "      spin 1s steps(1) infinite;\n",
              "  }\n",
              "\n",
              "  @keyframes spin {\n",
              "    0% {\n",
              "      border-color: transparent;\n",
              "      border-bottom-color: var(--fill-color);\n",
              "      border-left-color: var(--fill-color);\n",
              "    }\n",
              "    20% {\n",
              "      border-color: transparent;\n",
              "      border-left-color: var(--fill-color);\n",
              "      border-top-color: var(--fill-color);\n",
              "    }\n",
              "    30% {\n",
              "      border-color: transparent;\n",
              "      border-left-color: var(--fill-color);\n",
              "      border-top-color: var(--fill-color);\n",
              "      border-right-color: var(--fill-color);\n",
              "    }\n",
              "    40% {\n",
              "      border-color: transparent;\n",
              "      border-right-color: var(--fill-color);\n",
              "      border-top-color: var(--fill-color);\n",
              "    }\n",
              "    60% {\n",
              "      border-color: transparent;\n",
              "      border-right-color: var(--fill-color);\n",
              "    }\n",
              "    80% {\n",
              "      border-color: transparent;\n",
              "      border-right-color: var(--fill-color);\n",
              "      border-bottom-color: var(--fill-color);\n",
              "    }\n",
              "    90% {\n",
              "      border-color: transparent;\n",
              "      border-bottom-color: var(--fill-color);\n",
              "    }\n",
              "  }\n",
              "</style>\n",
              "\n",
              "      <script>\n",
              "        async function quickchart(key) {\n",
              "          const quickchartButtonEl =\n",
              "            document.querySelector('#' + key + ' button');\n",
              "          quickchartButtonEl.disabled = true;  // To prevent multiple clicks.\n",
              "          quickchartButtonEl.classList.add('colab-df-spinner');\n",
              "          try {\n",
              "            const charts = await google.colab.kernel.invokeFunction(\n",
              "                'suggestCharts', [key], {});\n",
              "          } catch (error) {\n",
              "            console.error('Error during call to suggestCharts:', error);\n",
              "          }\n",
              "          quickchartButtonEl.classList.remove('colab-df-spinner');\n",
              "          quickchartButtonEl.classList.add('colab-df-quickchart-complete');\n",
              "        }\n",
              "        (() => {\n",
              "          let quickchartButtonEl =\n",
              "            document.querySelector('#df-a258aa34-f585-41e2-952b-cdc3dc91cb09 button');\n",
              "          quickchartButtonEl.style.display =\n",
              "            google.colab.kernel.accessAllowed ? 'block' : 'none';\n",
              "        })();\n",
              "      </script>\n",
              "    </div>\n",
              "\n",
              "  <div id=\"id_636999f8-94ac-4c28-975e-41d166f731cc\">\n",
              "    <style>\n",
              "      .colab-df-generate {\n",
              "        background-color: #E8F0FE;\n",
              "        border: none;\n",
              "        border-radius: 50%;\n",
              "        cursor: pointer;\n",
              "        display: none;\n",
              "        fill: #1967D2;\n",
              "        height: 32px;\n",
              "        padding: 0 0 0 0;\n",
              "        width: 32px;\n",
              "      }\n",
              "\n",
              "      .colab-df-generate:hover {\n",
              "        background-color: #E2EBFA;\n",
              "        box-shadow: 0px 1px 2px rgba(60, 64, 67, 0.3), 0px 1px 3px 1px rgba(60, 64, 67, 0.15);\n",
              "        fill: #174EA6;\n",
              "      }\n",
              "\n",
              "      [theme=dark] .colab-df-generate {\n",
              "        background-color: #3B4455;\n",
              "        fill: #D2E3FC;\n",
              "      }\n",
              "\n",
              "      [theme=dark] .colab-df-generate:hover {\n",
              "        background-color: #434B5C;\n",
              "        box-shadow: 0px 1px 3px 1px rgba(0, 0, 0, 0.15);\n",
              "        filter: drop-shadow(0px 1px 2px rgba(0, 0, 0, 0.3));\n",
              "        fill: #FFFFFF;\n",
              "      }\n",
              "    </style>\n",
              "    <button class=\"colab-df-generate\" onclick=\"generateWithVariable('efs_results')\"\n",
              "            title=\"Generate code using this dataframe.\"\n",
              "            style=\"display:none;\">\n",
              "\n",
              "  <svg xmlns=\"http://www.w3.org/2000/svg\" height=\"24px\"viewBox=\"0 0 24 24\"\n",
              "       width=\"24px\">\n",
              "    <path d=\"M7,19H8.4L18.45,9,17,7.55,7,17.6ZM5,21V16.75L18.45,3.32a2,2,0,0,1,2.83,0l1.4,1.43a1.91,1.91,0,0,1,.58,1.4,1.91,1.91,0,0,1-.58,1.4L9.25,21ZM18.45,9,17,7.55Zm-12,3A5.31,5.31,0,0,0,4.9,8.1,5.31,5.31,0,0,0,1,6.5,5.31,5.31,0,0,0,4.9,4.9,5.31,5.31,0,0,0,6.5,1,5.31,5.31,0,0,0,8.1,4.9,5.31,5.31,0,0,0,12,6.5,5.46,5.46,0,0,0,6.5,12Z\"/>\n",
              "  </svg>\n",
              "    </button>\n",
              "    <script>\n",
              "      (() => {\n",
              "      const buttonEl =\n",
              "        document.querySelector('#id_636999f8-94ac-4c28-975e-41d166f731cc button.colab-df-generate');\n",
              "      buttonEl.style.display =\n",
              "        google.colab.kernel.accessAllowed ? 'block' : 'none';\n",
              "\n",
              "      buttonEl.onclick = () => {\n",
              "        google.colab.notebook.generateWithVariable('efs_results');\n",
              "      }\n",
              "      })();\n",
              "    </script>\n",
              "  </div>\n",
              "\n",
              "    </div>\n",
              "  </div>\n"
            ],
            "application/vnd.google.colaboratory.intrinsic+json": {
              "type": "dataframe",
              "variable_name": "efs_results",
              "summary": "{\n  \"name\": \"efs_results\",\n  \"rows\": 56,\n  \"fields\": [\n    {\n      \"column\": \"feature_idx\",\n      \"properties\": {\n        \"dtype\": \"string\",\n        \"num_unique_values\": 56,\n        \"samples\": [\n          [\n            1,\n            2\n          ],\n          [\n            1,\n            4\n          ],\n          [\n            0,\n            5\n          ]\n        ],\n        \"semantic_type\": \"\",\n        \"description\": \"\"\n      }\n    },\n    {\n      \"column\": \"cv_scores\",\n      \"properties\": {\n        \"dtype\": \"object\",\n        \"semantic_type\": \"\",\n        \"description\": \"\"\n      }\n    },\n    {\n      \"column\": \"avg_score\",\n      \"properties\": {\n        \"dtype\": \"date\",\n        \"min\": 0.5938709677419356,\n        \"max\": 0.8138580645161291,\n        \"num_unique_values\": 55,\n        \"samples\": [\n          0.7624645161290322,\n          0.6179225806451613,\n          0.764\n        ],\n        \"semantic_type\": \"\",\n        \"description\": \"\"\n      }\n    },\n    {\n      \"column\": \"feature_names\",\n      \"properties\": {\n        \"dtype\": \"string\",\n        \"num_unique_values\": 56,\n        \"samples\": [\n          [\n            \"Age\",\n            \"SibSp\"\n          ],\n          [\n            \"Age\",\n            \"Fare\"\n          ],\n          [\n            \"Pclass\",\n            \"Sex_male\"\n          ]\n        ],\n        \"semantic_type\": \"\",\n        \"description\": \"\"\n      }\n    },\n    {\n      \"column\": \"ci_bound\",\n      \"properties\": {\n        \"dtype\": \"date\",\n        \"min\": 0.013688550303802494,\n        \"max\": 0.06761105743670993,\n        \"num_unique_values\": 56,\n        \"samples\": [\n          0.03535224399995309,\n          0.03984477000674599,\n          0.02470969700280017\n        ],\n        \"semantic_type\": \"\",\n        \"description\": \"\"\n      }\n    },\n    {\n      \"column\": \"std_dev\",\n      \"properties\": {\n        \"dtype\": \"date\",\n        \"min\": 0.010650157185456088,\n        \"max\": 0.05260369967562125,\n        \"num_unique_values\": 56,\n        \"samples\": [\n          0.027505246874353725,\n          0.03100058473484306,\n          0.01922498374511668\n        ],\n        \"semantic_type\": \"\",\n        \"description\": \"\"\n      }\n    },\n    {\n      \"column\": \"std_err\",\n      \"properties\": {\n        \"dtype\": \"date\",\n        \"min\": 0.005325078592728043,\n        \"max\": 0.026301849837810625,\n        \"num_unique_values\": 56,\n        \"samples\": [\n          0.013752623437176861,\n          0.01550029236742153,\n          0.00961249187255834\n        ],\n        \"semantic_type\": \"\",\n        \"description\": \"\"\n      }\n    }\n  ]\n}"
            }
          },
          "metadata": {},
          "execution_count": 65
        }
      ]
    },
    {
      "cell_type": "code",
      "source": [
        "from sklearn.ensemble import RandomForestClassifier\n",
        "rfc = RandomForestClassifier(random_state=0, criterion='gini')\n",
        "rfc.fit(x_train, y_train)\n",
        "for feature in zip(x_train.columns, rfc.feature_importances_):\n",
        "    print(feature)"
      ],
      "metadata": {
        "id": "_PttgRvVrJR9",
        "colab": {
          "base_uri": "https://localhost:8080/"
        },
        "outputId": "ecfb9b31-1d99-4d1b-b11f-14b2a8b9267e"
      },
      "execution_count": null,
      "outputs": [
        {
          "output_type": "stream",
          "name": "stdout",
          "text": [
            "('Pclass', np.float64(0.08580548090109545))\n",
            "('Age', np.float64(0.26433757901109173))\n",
            "('SibSp', np.float64(0.05355992352286061))\n",
            "('Parch', np.float64(0.03699908167792097))\n",
            "('Fare', np.float64(0.28790097031129963))\n",
            "('Sex_male', np.float64(0.2713969645757317))\n"
          ]
        }
      ]
    },
    {
      "cell_type": "code",
      "source": [
        "from sklearn.feature_selection import SelectFromModel\n",
        "sfm = SelectFromModel(estimator=rfc, threshold=0.2)\n",
        "sfm = sfm.fit(x_train, y_train)\n",
        "feature_names=x_train.columns\n",
        "print('The most important features based on random forest classifier:')\n",
        "for feature_list_index in sfm.get_support(indices=True):\n",
        "    print('- ' + feature_names[feature_list_index])"
      ],
      "metadata": {
        "id": "mmGk-LZWrmAx",
        "colab": {
          "base_uri": "https://localhost:8080/"
        },
        "outputId": "538c0444-c467-43ad-9e27-7947884cba3b"
      },
      "execution_count": null,
      "outputs": [
        {
          "output_type": "stream",
          "name": "stdout",
          "text": [
            "The most important features based on random forest classifier:\n",
            "- Age\n",
            "- Fare\n",
            "- Sex_male\n"
          ]
        }
      ]
    },
    {
      "cell_type": "code",
      "source": [
        "from sklearn.metrics import accuracy_score\n",
        "rfc_full = RandomForestClassifier(random_state=0, criterion='gini')\n",
        "rfc_full.fit(x_train, y_train)\n",
        "pred_full = rfc_full.predict(x_test)\n",
        "print('The accuracy of classifier with full features: {:.2f}'.format(accuracy_score(y_test, pred_full)))"
      ],
      "metadata": {
        "id": "X1z0UpFVr0jc",
        "colab": {
          "base_uri": "https://localhost:8080/"
        },
        "outputId": "b8b788f0-abf3-4d02-f972-b1b3ec3cf791"
      },
      "execution_count": null,
      "outputs": [
        {
          "output_type": "stream",
          "name": "stdout",
          "text": [
            "The accuracy of classifier with full features: 0.82\n"
          ]
        }
      ]
    },
    {
      "cell_type": "code",
      "source": [
        "x_important_train = sfm.transform(x_train)\n",
        "x_important_test = sfm.transform(x_test)"
      ],
      "metadata": {
        "id": "Q4Q07HU88nkd"
      },
      "execution_count": null,
      "outputs": []
    },
    {
      "cell_type": "code",
      "source": [
        "print(x_important_train.shape)\n",
        "print(x_important_test.shape)"
      ],
      "metadata": {
        "colab": {
          "base_uri": "https://localhost:8080/"
        },
        "id": "DSsxTKme8rJJ",
        "outputId": "70031e6c-bc62-46d2-a1ac-a57890b67fa6"
      },
      "execution_count": null,
      "outputs": [
        {
          "output_type": "stream",
          "name": "stdout",
          "text": [
            "(623, 3)\n",
            "(268, 3)\n"
          ]
        }
      ]
    },
    {
      "cell_type": "code",
      "source": [
        "rfc_lim = RandomForestClassifier(random_state=0, criterion='gini')\n",
        "rfc_lim.fit(x_important_train, y_train)\n",
        "pred_lim = rfc_lim.predict(x_important_test)\n",
        "print('The accuracy of classifier with limited features: {:.2f}'.format(accuracy_score(y_test, pred_lim)))"
      ],
      "metadata": {
        "id": "iofvZ98OsQTi",
        "colab": {
          "base_uri": "https://localhost:8080/"
        },
        "outputId": "5482668d-67f5-43b6-d233-9d07df53d9bc"
      },
      "execution_count": null,
      "outputs": [
        {
          "output_type": "stream",
          "name": "stdout",
          "text": [
            "The accuracy of classifier with limited features: 0.80\n"
          ]
        }
      ]
    },
    {
      "cell_type": "code",
      "source": [
        "df2=pd.read_csv('/content/house_price_train.csv')\n",
        "df2.shape"
      ],
      "metadata": {
        "colab": {
          "base_uri": "https://localhost:8080/"
        },
        "id": "quv-u8R38REk",
        "outputId": "e74a6f92-e909-4ca5-c452-9f47952e295d"
      },
      "execution_count": null,
      "outputs": [
        {
          "output_type": "execute_result",
          "data": {
            "text/plain": [
              "(1460, 81)"
            ]
          },
          "metadata": {},
          "execution_count": 4
        }
      ]
    },
    {
      "cell_type": "code",
      "source": [
        "df2.columns"
      ],
      "metadata": {
        "colab": {
          "base_uri": "https://localhost:8080/"
        },
        "id": "Z6iru1Bj9OOB",
        "outputId": "48c7cb57-006f-402a-ab36-050b871c79ef"
      },
      "execution_count": null,
      "outputs": [
        {
          "output_type": "execute_result",
          "data": {
            "text/plain": [
              "Index(['Id', 'MSSubClass', 'MSZoning', 'LotFrontage', 'LotArea', 'Street',\n",
              "       'Alley', 'LotShape', 'LandContour', 'Utilities', 'LotConfig',\n",
              "       'LandSlope', 'Neighborhood', 'Condition1', 'Condition2', 'BldgType',\n",
              "       'HouseStyle', 'OverallQual', 'OverallCond', 'YearBuilt', 'YearRemodAdd',\n",
              "       'RoofStyle', 'RoofMatl', 'Exterior1st', 'Exterior2nd', 'MasVnrType',\n",
              "       'MasVnrArea', 'ExterQual', 'ExterCond', 'Foundation', 'BsmtQual',\n",
              "       'BsmtCond', 'BsmtExposure', 'BsmtFinType1', 'BsmtFinSF1',\n",
              "       'BsmtFinType2', 'BsmtFinSF2', 'BsmtUnfSF', 'TotalBsmtSF', 'Heating',\n",
              "       'HeatingQC', 'CentralAir', 'Electrical', '1stFlrSF', '2ndFlrSF',\n",
              "       'LowQualFinSF', 'GrLivArea', 'BsmtFullBath', 'BsmtHalfBath', 'FullBath',\n",
              "       'HalfBath', 'BedroomAbvGr', 'KitchenAbvGr', 'KitchenQual',\n",
              "       'TotRmsAbvGrd', 'Functional', 'Fireplaces', 'FireplaceQu', 'GarageType',\n",
              "       'GarageYrBlt', 'GarageFinish', 'GarageCars', 'GarageArea', 'GarageQual',\n",
              "       'GarageCond', 'PavedDrive', 'WoodDeckSF', 'OpenPorchSF',\n",
              "       'EnclosedPorch', '3SsnPorch', 'ScreenPorch', 'PoolArea', 'PoolQC',\n",
              "       'Fence', 'MiscFeature', 'MiscVal', 'MoSold', 'YrSold', 'SaleType',\n",
              "       'SaleCondition', 'SalePrice'],\n",
              "      dtype='object')"
            ]
          },
          "metadata": {},
          "execution_count": 5
        }
      ]
    },
    {
      "cell_type": "code",
      "source": [
        "cols_to_drop = [\n",
        "    'Id','Alley','MiscFeature','PoolQC','Fence','FireplaceQu',\n",
        "    'Utilities','MiscVal','Condition2','GarageYrBlt',\n",
        "    'TotalBsmtSF','GarageArea','MoSold'\n",
        "]"
      ],
      "metadata": {
        "id": "G_gxNTp49Vrr"
      },
      "execution_count": null,
      "outputs": []
    },
    {
      "cell_type": "code",
      "source": [
        "df2=df2.drop(cols_to_drop,axis=1)"
      ],
      "metadata": {
        "id": "-PL3ENln-BJ3"
      },
      "execution_count": null,
      "outputs": []
    },
    {
      "cell_type": "code",
      "source": [
        "[col for col in df2.columns if df2[col].isnull().sum()>0]"
      ],
      "metadata": {
        "colab": {
          "base_uri": "https://localhost:8080/"
        },
        "id": "7XY1Nm-u-KsA",
        "outputId": "45681039-277a-4f94-906b-a6dfdd6fa700"
      },
      "execution_count": null,
      "outputs": [
        {
          "output_type": "execute_result",
          "data": {
            "text/plain": [
              "['LotFrontage',\n",
              " 'MasVnrType',\n",
              " 'MasVnrArea',\n",
              " 'BsmtQual',\n",
              " 'BsmtCond',\n",
              " 'BsmtExposure',\n",
              " 'BsmtFinType1',\n",
              " 'BsmtFinType2',\n",
              " 'Electrical',\n",
              " 'GarageType',\n",
              " 'GarageFinish',\n",
              " 'GarageQual',\n",
              " 'GarageCond']"
            ]
          },
          "metadata": {},
          "execution_count": 8
        }
      ]
    },
    {
      "cell_type": "code",
      "source": [
        "df2['LotFrontage'] = df2['LotFrontage'].fillna(df2['LotFrontage'].median())\n",
        "df2['MasVnrArea'] = df2['MasVnrArea'].fillna(df2['MasVnrArea'].median())"
      ],
      "metadata": {
        "id": "03sbqgHU0g2c"
      },
      "execution_count": null,
      "outputs": []
    },
    {
      "cell_type": "code",
      "source": [
        "categorical_cols = ['MasVnrType','BsmtQual','BsmtCond','BsmtExposure',\n",
        "                    'BsmtFinType1','BsmtFinType2','Electrical',\n",
        "                    'GarageType','GarageFinish','GarageQual','GarageCond']\n",
        "\n",
        "for col in categorical_cols:\n",
        "    df2[col] = df2[col].fillna(df2[col].mode()[0])"
      ],
      "metadata": {
        "id": "KgQ6DSI10lPU"
      },
      "execution_count": null,
      "outputs": []
    },
    {
      "cell_type": "code",
      "source": [
        "X2 = df2.drop('SalePrice',axis=1)\n",
        "y2 = df2['SalePrice']"
      ],
      "metadata": {
        "id": "hZ3EkKyT-ixJ"
      },
      "execution_count": null,
      "outputs": []
    },
    {
      "cell_type": "code",
      "source": [
        "X2 = pd.get_dummies(X2,drop_first=True)"
      ],
      "metadata": {
        "id": "j-nzW2yu-r8-"
      },
      "execution_count": null,
      "outputs": []
    },
    {
      "cell_type": "code",
      "source": [
        "X2.shape"
      ],
      "metadata": {
        "colab": {
          "base_uri": "https://localhost:8080/"
        },
        "id": "4QPW0HKv-zYW",
        "outputId": "e7ce12f7-78de-4ae2-e4ab-20fe1593873f"
      },
      "execution_count": null,
      "outputs": [
        {
          "output_type": "execute_result",
          "data": {
            "text/plain": [
              "(1460, 218)"
            ]
          },
          "metadata": {},
          "execution_count": 13
        }
      ]
    },
    {
      "cell_type": "code",
      "source": [
        "x_train2,x_test2,y_train2,y_test2=train_test_split(X2,y2,test_size=0.3,random_state=0)"
      ],
      "metadata": {
        "id": "ZyKsu6BI-3Ch"
      },
      "execution_count": null,
      "outputs": []
    },
    {
      "cell_type": "code",
      "source": [
        "grouped_feature_ls = []\n",
        "correlated_groups = []\n",
        "def correlation (dataset, threshold):\n",
        "    col_corr = set()\n",
        "    corr_matrix = dataset.corr()\n",
        "    for i in range(len(corr_matrix.columns)):\n",
        "        for j in range(i):\n",
        "            if abs(corr_matrix.iloc[i, j]) > threshold:\n",
        "                colname=corr_matrix.columns[i]\n",
        "                col_corr.add(colname)\n",
        "    return col_corr\n",
        "corr_features=correlation (x_test2, 0.9)\n",
        "correlated_features = set(corr_features)\n",
        "print(len(correlated_features))"
      ],
      "metadata": {
        "colab": {
          "base_uri": "https://localhost:8080/"
        },
        "id": "rL3dQeae_CkW",
        "outputId": "1610aa25-9896-4a09-f652-d54864da97ac"
      },
      "execution_count": null,
      "outputs": [
        {
          "output_type": "stream",
          "name": "stdout",
          "text": [
            "0\n"
          ]
        }
      ]
    },
    {
      "cell_type": "code",
      "source": [
        "x_train2.drop(labels=correlated_features, axis=1, inplace=True)\n",
        "x_test2.drop(labels=correlated_features, axis=1, inplace=True)"
      ],
      "metadata": {
        "id": "6nk9OnzC_Jaf"
      },
      "execution_count": null,
      "outputs": []
    },
    {
      "cell_type": "code",
      "source": [
        "x_train2.shape"
      ],
      "metadata": {
        "colab": {
          "base_uri": "https://localhost:8080/"
        },
        "id": "ebJxouqo_ciz",
        "outputId": "af6594fe-a0fa-4bc1-c66e-d0a27f25093b"
      },
      "execution_count": null,
      "outputs": [
        {
          "output_type": "execute_result",
          "data": {
            "text/plain": [
              "(1022, 188)"
            ]
          },
          "metadata": {},
          "execution_count": 31
        }
      ]
    },
    {
      "cell_type": "code",
      "source": [
        "constant_features=[features for features in x_train2.columns if x_train2[features].std()==0]\n",
        "len(constant_features)"
      ],
      "metadata": {
        "colab": {
          "base_uri": "https://localhost:8080/"
        },
        "id": "AKq3BKSdCdAz",
        "outputId": "81262dc9-e9bf-49b6-f2d9-b9dc3fe6f5e0"
      },
      "execution_count": null,
      "outputs": [
        {
          "output_type": "execute_result",
          "data": {
            "text/plain": [
              "0"
            ]
          },
          "metadata": {},
          "execution_count": 32
        }
      ]
    },
    {
      "cell_type": "code",
      "source": [
        "x_train2.drop(labels=constant_features,axis=1,inplace=True)\n",
        "x_test2.drop(labels=constant_features,axis=1,inplace=True)"
      ],
      "metadata": {
        "id": "cktb0w_WCw_B"
      },
      "execution_count": null,
      "outputs": []
    },
    {
      "cell_type": "code",
      "source": [
        "quasi_constant_feat=[]\n",
        "\n",
        "for feature in x_train2.columns:\n",
        "  predominant=(x_train2[feature].value_counts()/float(len(x_train2))).sort_values(ascending=False).values[0]\n",
        "  if predominant>0.999:\n",
        "    quasi_constant_feat.append(feature)\n",
        "\n",
        "len(quasi_constant_feat)"
      ],
      "metadata": {
        "colab": {
          "base_uri": "https://localhost:8080/"
        },
        "id": "pNzxneiXC2DD",
        "outputId": "1a3d9e9f-48d0-46fa-9bfb-af7bbaba91c8"
      },
      "execution_count": null,
      "outputs": [
        {
          "output_type": "execute_result",
          "data": {
            "text/plain": [
              "0"
            ]
          },
          "metadata": {},
          "execution_count": 34
        }
      ]
    },
    {
      "cell_type": "code",
      "source": [
        "x_train2.drop(labels=quasi_constant_feat,axis=1,inplace=True)\n",
        "x_test2.drop(labels=quasi_constant_feat,axis=1,inplace=True)"
      ],
      "metadata": {
        "id": "LVgqH0QtC5NA"
      },
      "execution_count": null,
      "outputs": []
    },
    {
      "cell_type": "code",
      "source": [
        "dup=[]\n",
        "for i in range (0,len(x_train2.columns)):\n",
        "    col1=x_train2.columns[i]\n",
        "    for col2 in x_train2.columns[i+1:]:\n",
        "        if x_train2[col1].equals(x_train2[col2]):\n",
        "            dup.append(col2)\n",
        "dup_features=set(dup)\n",
        "print(len(dup_features))"
      ],
      "metadata": {
        "colab": {
          "base_uri": "https://localhost:8080/"
        },
        "id": "-CKDrcp7C8zx",
        "outputId": "40e77ced-a8b1-4cc3-d3dc-abf2d3a1f3e3"
      },
      "execution_count": null,
      "outputs": [
        {
          "output_type": "stream",
          "name": "stdout",
          "text": [
            "0\n"
          ]
        }
      ]
    },
    {
      "cell_type": "code",
      "source": [
        "x_train2.shape"
      ],
      "metadata": {
        "colab": {
          "base_uri": "https://localhost:8080/"
        },
        "id": "-adonpfFDSJR",
        "outputId": "9345b23f-eea4-4463-d7b5-3bb58b2cf15f"
      },
      "execution_count": null,
      "outputs": [
        {
          "output_type": "execute_result",
          "data": {
            "text/plain": [
              "(1022, 188)"
            ]
          },
          "metadata": {},
          "execution_count": 37
        }
      ]
    },
    {
      "cell_type": "code",
      "source": [
        "import pandas as pd\n",
        "from sklearn.feature_selection import mutual_info_regression, SelectKBest\n",
        "mi = mutual_info_regression(x_train2.fillna(0), y_train2)\n",
        "mi = pd.Series(mi, index=x_train2.columns)\n",
        "selector = SelectKBest(score_func=mutual_info_regression, k=10)\n",
        "selector.fit(x_train2.fillna(0), y_train2)\n",
        "selected_features = x_train2.columns[selector.get_support()]\n",
        "print(\"Top 10 Selected Features:\\n\", selected_features.tolist())\n",
        "x_train2_selected = selector.transform(x_train2.fillna(0))\n",
        "x_train2_selected = pd.DataFrame(x_train2_selected, columns=selected_features)"
      ],
      "metadata": {
        "colab": {
          "base_uri": "https://localhost:8080/"
        },
        "id": "3ldTmOzuE8Nw",
        "outputId": "bbc4804f-1b33-45a1-c5bc-6f8fbc08fec2"
      },
      "execution_count": null,
      "outputs": [
        {
          "output_type": "stream",
          "name": "stdout",
          "text": [
            "Top 10 Selected Features:\n",
            " ['MSSubClass', 'OverallQual', 'YearBuilt', 'YearRemodAdd', '1stFlrSF', '2ndFlrSF', 'GrLivArea', 'FullBath', 'GarageCars', 'ExterQual_TA']\n"
          ]
        }
      ]
    },
    {
      "cell_type": "code",
      "source": [
        "sfs3=SFS(RandomForestRegressor(n_jobs=4),k_features=5,forward=True,verbose=2,scoring='r2',cv=3)"
      ],
      "metadata": {
        "id": "9-WPcT7g_e97",
        "colab": {
          "base_uri": "https://localhost:8080/",
          "height": 146
        },
        "outputId": "a06ced27-4428-4b46-94ff-fd055502b634"
      },
      "execution_count": null,
      "outputs": [
        {
          "output_type": "error",
          "ename": "NameError",
          "evalue": "name 'SFS' is not defined",
          "traceback": [
            "\u001b[0;31m---------------------------------------------------------------------------\u001b[0m",
            "\u001b[0;31mNameError\u001b[0m                                 Traceback (most recent call last)",
            "\u001b[0;32m/tmp/ipython-input-1510082119.py\u001b[0m in \u001b[0;36m<cell line: 0>\u001b[0;34m()\u001b[0m\n\u001b[0;32m----> 1\u001b[0;31m \u001b[0msfs3\u001b[0m\u001b[0;34m=\u001b[0m\u001b[0mSFS\u001b[0m\u001b[0;34m(\u001b[0m\u001b[0mRandomForestRegressor\u001b[0m\u001b[0;34m(\u001b[0m\u001b[0mn_jobs\u001b[0m\u001b[0;34m=\u001b[0m\u001b[0;36m4\u001b[0m\u001b[0;34m)\u001b[0m\u001b[0;34m,\u001b[0m\u001b[0mk_features\u001b[0m\u001b[0;34m=\u001b[0m\u001b[0;36m5\u001b[0m\u001b[0;34m,\u001b[0m\u001b[0mforward\u001b[0m\u001b[0;34m=\u001b[0m\u001b[0;32mTrue\u001b[0m\u001b[0;34m,\u001b[0m\u001b[0mverbose\u001b[0m\u001b[0;34m=\u001b[0m\u001b[0;36m2\u001b[0m\u001b[0;34m,\u001b[0m\u001b[0mscoring\u001b[0m\u001b[0;34m=\u001b[0m\u001b[0;34m'r2'\u001b[0m\u001b[0;34m,\u001b[0m\u001b[0mcv\u001b[0m\u001b[0;34m=\u001b[0m\u001b[0;36m3\u001b[0m\u001b[0;34m)\u001b[0m\u001b[0;34m\u001b[0m\u001b[0;34m\u001b[0m\u001b[0m\n\u001b[0m",
            "\u001b[0;31mNameError\u001b[0m: name 'SFS' is not defined"
          ]
        }
      ]
    },
    {
      "cell_type": "code",
      "source": [
        "sfs3=sfs3.fit(np.array(x_train2_selected.fillna(0)),y_train2)"
      ],
      "metadata": {
        "colab": {
          "base_uri": "https://localhost:8080/"
        },
        "id": "NeRQO_0s_oHv",
        "outputId": "50460a48-b57b-4a86-91d7-6b10750fb984"
      },
      "execution_count": null,
      "outputs": [
        {
          "output_type": "stream",
          "name": "stderr",
          "text": [
            "[Parallel(n_jobs=1)]: Done  10 out of  10 | elapsed:    7.6s finished\n",
            "\n",
            "[2025-08-20 05:00:17] Features: 1/5 -- score: 0.6682887904520398[Parallel(n_jobs=1)]: Done   9 out of   9 | elapsed:    6.5s finished\n",
            "\n",
            "[2025-08-20 05:00:23] Features: 2/5 -- score: 0.7223347912943826[Parallel(n_jobs=1)]: Done   8 out of   8 | elapsed:    6.1s finished\n",
            "\n",
            "[2025-08-20 05:00:30] Features: 3/5 -- score: 0.7301847821752899[Parallel(n_jobs=1)]: Done   7 out of   7 | elapsed:    7.4s finished\n",
            "\n",
            "[2025-08-20 05:00:37] Features: 4/5 -- score: 0.7451150526720101[Parallel(n_jobs=1)]: Done   6 out of   6 | elapsed:    6.0s finished\n",
            "\n",
            "[2025-08-20 05:00:43] Features: 5/5 -- score: 0.7940150183132539"
          ]
        }
      ]
    },
    {
      "cell_type": "code",
      "source": [
        "print('best accracy score',sfs3.k_score_)\n",
        "print('best subset(indices)',sfs3.k_feature_idx_)\n",
        "print('Best subset (corresponding names):', sfs3.k_feature_names_)"
      ],
      "metadata": {
        "colab": {
          "base_uri": "https://localhost:8080/"
        },
        "id": "l-81tp7O_r2x",
        "outputId": "6140d4bc-02a6-4673-ce28-cf8854f1736f"
      },
      "execution_count": null,
      "outputs": [
        {
          "output_type": "stream",
          "name": "stdout",
          "text": [
            "best accracy score 0.7940150183132539\n",
            "best subset(indices) (1, 4, 5, 7, 8)\n",
            "Best subset (corresponding names): ('1', '4', '5', '7', '8')\n"
          ]
        }
      ]
    },
    {
      "cell_type": "code",
      "source": [
        "sfs4=SFS(RandomForestRegressor(n_jobs=4),k_features=5,forward=False,verbose=2,scoring='r2',cv=3)"
      ],
      "metadata": {
        "id": "WqWxqurIGg5U"
      },
      "execution_count": null,
      "outputs": []
    },
    {
      "cell_type": "code",
      "source": [
        "sfs4=sfs4.fit(np.array(x_train2_selected.fillna(0)),y_train2)"
      ],
      "metadata": {
        "colab": {
          "base_uri": "https://localhost:8080/"
        },
        "id": "6YfdykKj2a9h",
        "outputId": "ff281e88-54b0-457f-e8e0-2d05c0449b18"
      },
      "execution_count": null,
      "outputs": [
        {
          "output_type": "stream",
          "name": "stderr",
          "text": [
            "[Parallel(n_jobs=1)]: Done  10 out of  10 | elapsed:   15.9s finished\n",
            "\n",
            "[2025-08-20 05:01:45] Features: 9/5 -- score: 0.8306163479524521[Parallel(n_jobs=1)]: Done   9 out of   9 | elapsed:   11.5s finished\n",
            "\n",
            "[2025-08-20 05:01:56] Features: 8/5 -- score: 0.8283886486219476[Parallel(n_jobs=1)]: Done   8 out of   8 | elapsed:   10.1s finished\n",
            "\n",
            "[2025-08-20 05:02:06] Features: 7/5 -- score: 0.8301428202570041[Parallel(n_jobs=1)]: Done   7 out of   7 | elapsed:    7.0s finished\n",
            "\n",
            "[2025-08-20 05:02:13] Features: 6/5 -- score: 0.8229553605508023[Parallel(n_jobs=1)]: Done   6 out of   6 | elapsed:    6.8s finished\n",
            "\n",
            "[2025-08-20 05:02:20] Features: 5/5 -- score: 0.8157996667400758"
          ]
        }
      ]
    },
    {
      "cell_type": "code",
      "source": [
        "print('best accracy score',sfs4.k_score_)\n",
        "print('best subset(indices)',sfs4.k_feature_idx_)\n",
        "print('Best subset (corresponding names):', sfs4.k_feature_names_)"
      ],
      "metadata": {
        "colab": {
          "base_uri": "https://localhost:8080/"
        },
        "id": "P45FRxZI2fEq",
        "outputId": "94afc190-0e03-4716-c90e-6d4e64412b39"
      },
      "execution_count": null,
      "outputs": [
        {
          "output_type": "stream",
          "name": "stdout",
          "text": [
            "best accracy score 0.8157996667400758\n",
            "best subset(indices) (1, 2, 5, 6, 8)\n",
            "Best subset (corresponding names): ('1', '2', '5', '6', '8')\n"
          ]
        }
      ]
    },
    {
      "cell_type": "code",
      "source": [
        "efs2=EFS(RandomForestRegressor(n_jobs=4),min_features=1,max_features=4,scoring='r2',cv=5)\n",
        "efs2=efs2.fit(x_train2_selected,y_train2)"
      ],
      "metadata": {
        "colab": {
          "base_uri": "https://localhost:8080/"
        },
        "id": "utXS3MOuG3IJ",
        "outputId": "004f6a50-5a0a-43c5-dfe8-325584eb67cb"
      },
      "execution_count": null,
      "outputs": [
        {
          "output_type": "stream",
          "name": "stderr",
          "text": [
            "Features: 385/385"
          ]
        }
      ]
    },
    {
      "cell_type": "code",
      "source": [
        "print('best accuracy score',efs2.best_score_)\n",
        "print('best subset(indices)',efs2.best_idx_)\n",
        "print('Best subset (corresponding names):', efs2.best_feature_names_)"
      ],
      "metadata": {
        "colab": {
          "base_uri": "https://localhost:8080/"
        },
        "id": "AVrGhrNX2-Yi",
        "outputId": "311381c6-7187-4e23-b56a-1206c827c6b4"
      },
      "execution_count": null,
      "outputs": [
        {
          "output_type": "stream",
          "name": "stdout",
          "text": [
            "best accuracy score 0.8088176047395057\n",
            "best subset(indices) (1, 2, 5, 6)\n",
            "Best subset (corresponding names): ('OverallQual', 'YearBuilt', '2ndFlrSF', 'GrLivArea')\n"
          ]
        }
      ]
    },
    {
      "cell_type": "code",
      "source": [
        "efs2_results = pd.DataFrame.from_dict(efs2.get_metric_dict()).T\n",
        "efs2_results.sort_values(by='avg_score', ascending=True, inplace=True)\n",
        "efs2_results"
      ],
      "metadata": {
        "colab": {
          "base_uri": "https://localhost:8080/",
          "height": 423
        },
        "id": "rrO91LAwIYXL",
        "outputId": "3ce17145-4bee-4eb8-b2c0-d4fd2f3a6234"
      },
      "execution_count": null,
      "outputs": [
        {
          "output_type": "execute_result",
          "data": {
            "text/plain": [
              "      feature_idx                                          cv_scores  \\\n",
              "5            (5,)  [0.29600026407056335, 0.06677933490922483, 0.1...   \n",
              "4            (4,)  [0.1573910116864039, 0.22835703959365916, 0.25...   \n",
              "3            (3,)  [0.22564330883303962, 0.2890993855168862, 0.20...   \n",
              "0            (0,)  [0.28429390268317933, 0.280441079411451, 0.179...   \n",
              "12         (0, 3)  [0.20515886027566999, 0.3359081141431923, 0.27...   \n",
              "..            ...                                                ...   \n",
              "214  (0, 2, 5, 6)  [0.7309943908539124, 0.8311981034787824, 0.764...   \n",
              "285  (1, 3, 5, 6)  [0.6749475150218707, 0.8581320994552373, 0.789...   \n",
              "280  (1, 3, 4, 5)  [0.7280736565019137, 0.8262807372546631, 0.818...   \n",
              "265  (1, 2, 4, 5)  [0.7225032263407922, 0.84653048077507, 0.80304...   \n",
              "270  (1, 2, 5, 6)  [0.7278567032158402, 0.869666968820292, 0.7956...   \n",
              "\n",
              "    avg_score                                     feature_names  ci_bound  \\\n",
              "5    0.126808                                       (2ndFlrSF,)  0.128092   \n",
              "4    0.143956                                       (1stFlrSF,)   0.15714   \n",
              "3    0.222384                                   (YearRemodAdd,)  0.062425   \n",
              "0    0.226234                                     (MSSubClass,)  0.079627   \n",
              "12   0.273327                        (MSSubClass, YearRemodAdd)  0.054214   \n",
              "..        ...                                               ...       ...   \n",
              "214  0.792189      (MSSubClass, YearBuilt, 2ndFlrSF, GrLivArea)  0.050044   \n",
              "285  0.793334  (OverallQual, YearRemodAdd, 2ndFlrSF, GrLivArea)  0.082375   \n",
              "280  0.799679   (OverallQual, YearRemodAdd, 1stFlrSF, 2ndFlrSF)  0.046928   \n",
              "265   0.80268      (OverallQual, YearBuilt, 1stFlrSF, 2ndFlrSF)  0.054788   \n",
              "270  0.808818     (OverallQual, YearBuilt, 2ndFlrSF, GrLivArea)  0.060307   \n",
              "\n",
              "      std_dev   std_err  \n",
              "5     0.09966   0.04983  \n",
              "4     0.12226   0.06113  \n",
              "3    0.048569  0.024284  \n",
              "0    0.061953  0.030976  \n",
              "12    0.04218   0.02109  \n",
              "..        ...       ...  \n",
              "214  0.038936  0.019468  \n",
              "285  0.064091  0.032045  \n",
              "280  0.036512  0.018256  \n",
              "265  0.042627  0.021314  \n",
              "270  0.046921   0.02346  \n",
              "\n",
              "[385 rows x 7 columns]"
            ],
            "text/html": [
              "\n",
              "  <div id=\"df-0609bf9f-c7dc-44f1-8b8e-1ff6b7f83bb1\" class=\"colab-df-container\">\n",
              "    <div>\n",
              "<style scoped>\n",
              "    .dataframe tbody tr th:only-of-type {\n",
              "        vertical-align: middle;\n",
              "    }\n",
              "\n",
              "    .dataframe tbody tr th {\n",
              "        vertical-align: top;\n",
              "    }\n",
              "\n",
              "    .dataframe thead th {\n",
              "        text-align: right;\n",
              "    }\n",
              "</style>\n",
              "<table border=\"1\" class=\"dataframe\">\n",
              "  <thead>\n",
              "    <tr style=\"text-align: right;\">\n",
              "      <th></th>\n",
              "      <th>feature_idx</th>\n",
              "      <th>cv_scores</th>\n",
              "      <th>avg_score</th>\n",
              "      <th>feature_names</th>\n",
              "      <th>ci_bound</th>\n",
              "      <th>std_dev</th>\n",
              "      <th>std_err</th>\n",
              "    </tr>\n",
              "  </thead>\n",
              "  <tbody>\n",
              "    <tr>\n",
              "      <th>5</th>\n",
              "      <td>(5,)</td>\n",
              "      <td>[0.29600026407056335, 0.06677933490922483, 0.1...</td>\n",
              "      <td>0.126808</td>\n",
              "      <td>(2ndFlrSF,)</td>\n",
              "      <td>0.128092</td>\n",
              "      <td>0.09966</td>\n",
              "      <td>0.04983</td>\n",
              "    </tr>\n",
              "    <tr>\n",
              "      <th>4</th>\n",
              "      <td>(4,)</td>\n",
              "      <td>[0.1573910116864039, 0.22835703959365916, 0.25...</td>\n",
              "      <td>0.143956</td>\n",
              "      <td>(1stFlrSF,)</td>\n",
              "      <td>0.15714</td>\n",
              "      <td>0.12226</td>\n",
              "      <td>0.06113</td>\n",
              "    </tr>\n",
              "    <tr>\n",
              "      <th>3</th>\n",
              "      <td>(3,)</td>\n",
              "      <td>[0.22564330883303962, 0.2890993855168862, 0.20...</td>\n",
              "      <td>0.222384</td>\n",
              "      <td>(YearRemodAdd,)</td>\n",
              "      <td>0.062425</td>\n",
              "      <td>0.048569</td>\n",
              "      <td>0.024284</td>\n",
              "    </tr>\n",
              "    <tr>\n",
              "      <th>0</th>\n",
              "      <td>(0,)</td>\n",
              "      <td>[0.28429390268317933, 0.280441079411451, 0.179...</td>\n",
              "      <td>0.226234</td>\n",
              "      <td>(MSSubClass,)</td>\n",
              "      <td>0.079627</td>\n",
              "      <td>0.061953</td>\n",
              "      <td>0.030976</td>\n",
              "    </tr>\n",
              "    <tr>\n",
              "      <th>12</th>\n",
              "      <td>(0, 3)</td>\n",
              "      <td>[0.20515886027566999, 0.3359081141431923, 0.27...</td>\n",
              "      <td>0.273327</td>\n",
              "      <td>(MSSubClass, YearRemodAdd)</td>\n",
              "      <td>0.054214</td>\n",
              "      <td>0.04218</td>\n",
              "      <td>0.02109</td>\n",
              "    </tr>\n",
              "    <tr>\n",
              "      <th>...</th>\n",
              "      <td>...</td>\n",
              "      <td>...</td>\n",
              "      <td>...</td>\n",
              "      <td>...</td>\n",
              "      <td>...</td>\n",
              "      <td>...</td>\n",
              "      <td>...</td>\n",
              "    </tr>\n",
              "    <tr>\n",
              "      <th>214</th>\n",
              "      <td>(0, 2, 5, 6)</td>\n",
              "      <td>[0.7309943908539124, 0.8311981034787824, 0.764...</td>\n",
              "      <td>0.792189</td>\n",
              "      <td>(MSSubClass, YearBuilt, 2ndFlrSF, GrLivArea)</td>\n",
              "      <td>0.050044</td>\n",
              "      <td>0.038936</td>\n",
              "      <td>0.019468</td>\n",
              "    </tr>\n",
              "    <tr>\n",
              "      <th>285</th>\n",
              "      <td>(1, 3, 5, 6)</td>\n",
              "      <td>[0.6749475150218707, 0.8581320994552373, 0.789...</td>\n",
              "      <td>0.793334</td>\n",
              "      <td>(OverallQual, YearRemodAdd, 2ndFlrSF, GrLivArea)</td>\n",
              "      <td>0.082375</td>\n",
              "      <td>0.064091</td>\n",
              "      <td>0.032045</td>\n",
              "    </tr>\n",
              "    <tr>\n",
              "      <th>280</th>\n",
              "      <td>(1, 3, 4, 5)</td>\n",
              "      <td>[0.7280736565019137, 0.8262807372546631, 0.818...</td>\n",
              "      <td>0.799679</td>\n",
              "      <td>(OverallQual, YearRemodAdd, 1stFlrSF, 2ndFlrSF)</td>\n",
              "      <td>0.046928</td>\n",
              "      <td>0.036512</td>\n",
              "      <td>0.018256</td>\n",
              "    </tr>\n",
              "    <tr>\n",
              "      <th>265</th>\n",
              "      <td>(1, 2, 4, 5)</td>\n",
              "      <td>[0.7225032263407922, 0.84653048077507, 0.80304...</td>\n",
              "      <td>0.80268</td>\n",
              "      <td>(OverallQual, YearBuilt, 1stFlrSF, 2ndFlrSF)</td>\n",
              "      <td>0.054788</td>\n",
              "      <td>0.042627</td>\n",
              "      <td>0.021314</td>\n",
              "    </tr>\n",
              "    <tr>\n",
              "      <th>270</th>\n",
              "      <td>(1, 2, 5, 6)</td>\n",
              "      <td>[0.7278567032158402, 0.869666968820292, 0.7956...</td>\n",
              "      <td>0.808818</td>\n",
              "      <td>(OverallQual, YearBuilt, 2ndFlrSF, GrLivArea)</td>\n",
              "      <td>0.060307</td>\n",
              "      <td>0.046921</td>\n",
              "      <td>0.02346</td>\n",
              "    </tr>\n",
              "  </tbody>\n",
              "</table>\n",
              "<p>385 rows × 7 columns</p>\n",
              "</div>\n",
              "    <div class=\"colab-df-buttons\">\n",
              "\n",
              "  <div class=\"colab-df-container\">\n",
              "    <button class=\"colab-df-convert\" onclick=\"convertToInteractive('df-0609bf9f-c7dc-44f1-8b8e-1ff6b7f83bb1')\"\n",
              "            title=\"Convert this dataframe to an interactive table.\"\n",
              "            style=\"display:none;\">\n",
              "\n",
              "  <svg xmlns=\"http://www.w3.org/2000/svg\" height=\"24px\" viewBox=\"0 -960 960 960\">\n",
              "    <path d=\"M120-120v-720h720v720H120Zm60-500h600v-160H180v160Zm220 220h160v-160H400v160Zm0 220h160v-160H400v160ZM180-400h160v-160H180v160Zm440 0h160v-160H620v160ZM180-180h160v-160H180v160Zm440 0h160v-160H620v160Z\"/>\n",
              "  </svg>\n",
              "    </button>\n",
              "\n",
              "  <style>\n",
              "    .colab-df-container {\n",
              "      display:flex;\n",
              "      gap: 12px;\n",
              "    }\n",
              "\n",
              "    .colab-df-convert {\n",
              "      background-color: #E8F0FE;\n",
              "      border: none;\n",
              "      border-radius: 50%;\n",
              "      cursor: pointer;\n",
              "      display: none;\n",
              "      fill: #1967D2;\n",
              "      height: 32px;\n",
              "      padding: 0 0 0 0;\n",
              "      width: 32px;\n",
              "    }\n",
              "\n",
              "    .colab-df-convert:hover {\n",
              "      background-color: #E2EBFA;\n",
              "      box-shadow: 0px 1px 2px rgba(60, 64, 67, 0.3), 0px 1px 3px 1px rgba(60, 64, 67, 0.15);\n",
              "      fill: #174EA6;\n",
              "    }\n",
              "\n",
              "    .colab-df-buttons div {\n",
              "      margin-bottom: 4px;\n",
              "    }\n",
              "\n",
              "    [theme=dark] .colab-df-convert {\n",
              "      background-color: #3B4455;\n",
              "      fill: #D2E3FC;\n",
              "    }\n",
              "\n",
              "    [theme=dark] .colab-df-convert:hover {\n",
              "      background-color: #434B5C;\n",
              "      box-shadow: 0px 1px 3px 1px rgba(0, 0, 0, 0.15);\n",
              "      filter: drop-shadow(0px 1px 2px rgba(0, 0, 0, 0.3));\n",
              "      fill: #FFFFFF;\n",
              "    }\n",
              "  </style>\n",
              "\n",
              "    <script>\n",
              "      const buttonEl =\n",
              "        document.querySelector('#df-0609bf9f-c7dc-44f1-8b8e-1ff6b7f83bb1 button.colab-df-convert');\n",
              "      buttonEl.style.display =\n",
              "        google.colab.kernel.accessAllowed ? 'block' : 'none';\n",
              "\n",
              "      async function convertToInteractive(key) {\n",
              "        const element = document.querySelector('#df-0609bf9f-c7dc-44f1-8b8e-1ff6b7f83bb1');\n",
              "        const dataTable =\n",
              "          await google.colab.kernel.invokeFunction('convertToInteractive',\n",
              "                                                    [key], {});\n",
              "        if (!dataTable) return;\n",
              "\n",
              "        const docLinkHtml = 'Like what you see? Visit the ' +\n",
              "          '<a target=\"_blank\" href=https://colab.research.google.com/notebooks/data_table.ipynb>data table notebook</a>'\n",
              "          + ' to learn more about interactive tables.';\n",
              "        element.innerHTML = '';\n",
              "        dataTable['output_type'] = 'display_data';\n",
              "        await google.colab.output.renderOutput(dataTable, element);\n",
              "        const docLink = document.createElement('div');\n",
              "        docLink.innerHTML = docLinkHtml;\n",
              "        element.appendChild(docLink);\n",
              "      }\n",
              "    </script>\n",
              "  </div>\n",
              "\n",
              "\n",
              "    <div id=\"df-751ca2cc-b990-425b-861a-bd5e2feced6e\">\n",
              "      <button class=\"colab-df-quickchart\" onclick=\"quickchart('df-751ca2cc-b990-425b-861a-bd5e2feced6e')\"\n",
              "                title=\"Suggest charts\"\n",
              "                style=\"display:none;\">\n",
              "\n",
              "<svg xmlns=\"http://www.w3.org/2000/svg\" height=\"24px\"viewBox=\"0 0 24 24\"\n",
              "     width=\"24px\">\n",
              "    <g>\n",
              "        <path d=\"M19 3H5c-1.1 0-2 .9-2 2v14c0 1.1.9 2 2 2h14c1.1 0 2-.9 2-2V5c0-1.1-.9-2-2-2zM9 17H7v-7h2v7zm4 0h-2V7h2v10zm4 0h-2v-4h2v4z\"/>\n",
              "    </g>\n",
              "</svg>\n",
              "      </button>\n",
              "\n",
              "<style>\n",
              "  .colab-df-quickchart {\n",
              "      --bg-color: #E8F0FE;\n",
              "      --fill-color: #1967D2;\n",
              "      --hover-bg-color: #E2EBFA;\n",
              "      --hover-fill-color: #174EA6;\n",
              "      --disabled-fill-color: #AAA;\n",
              "      --disabled-bg-color: #DDD;\n",
              "  }\n",
              "\n",
              "  [theme=dark] .colab-df-quickchart {\n",
              "      --bg-color: #3B4455;\n",
              "      --fill-color: #D2E3FC;\n",
              "      --hover-bg-color: #434B5C;\n",
              "      --hover-fill-color: #FFFFFF;\n",
              "      --disabled-bg-color: #3B4455;\n",
              "      --disabled-fill-color: #666;\n",
              "  }\n",
              "\n",
              "  .colab-df-quickchart {\n",
              "    background-color: var(--bg-color);\n",
              "    border: none;\n",
              "    border-radius: 50%;\n",
              "    cursor: pointer;\n",
              "    display: none;\n",
              "    fill: var(--fill-color);\n",
              "    height: 32px;\n",
              "    padding: 0;\n",
              "    width: 32px;\n",
              "  }\n",
              "\n",
              "  .colab-df-quickchart:hover {\n",
              "    background-color: var(--hover-bg-color);\n",
              "    box-shadow: 0 1px 2px rgba(60, 64, 67, 0.3), 0 1px 3px 1px rgba(60, 64, 67, 0.15);\n",
              "    fill: var(--button-hover-fill-color);\n",
              "  }\n",
              "\n",
              "  .colab-df-quickchart-complete:disabled,\n",
              "  .colab-df-quickchart-complete:disabled:hover {\n",
              "    background-color: var(--disabled-bg-color);\n",
              "    fill: var(--disabled-fill-color);\n",
              "    box-shadow: none;\n",
              "  }\n",
              "\n",
              "  .colab-df-spinner {\n",
              "    border: 2px solid var(--fill-color);\n",
              "    border-color: transparent;\n",
              "    border-bottom-color: var(--fill-color);\n",
              "    animation:\n",
              "      spin 1s steps(1) infinite;\n",
              "  }\n",
              "\n",
              "  @keyframes spin {\n",
              "    0% {\n",
              "      border-color: transparent;\n",
              "      border-bottom-color: var(--fill-color);\n",
              "      border-left-color: var(--fill-color);\n",
              "    }\n",
              "    20% {\n",
              "      border-color: transparent;\n",
              "      border-left-color: var(--fill-color);\n",
              "      border-top-color: var(--fill-color);\n",
              "    }\n",
              "    30% {\n",
              "      border-color: transparent;\n",
              "      border-left-color: var(--fill-color);\n",
              "      border-top-color: var(--fill-color);\n",
              "      border-right-color: var(--fill-color);\n",
              "    }\n",
              "    40% {\n",
              "      border-color: transparent;\n",
              "      border-right-color: var(--fill-color);\n",
              "      border-top-color: var(--fill-color);\n",
              "    }\n",
              "    60% {\n",
              "      border-color: transparent;\n",
              "      border-right-color: var(--fill-color);\n",
              "    }\n",
              "    80% {\n",
              "      border-color: transparent;\n",
              "      border-right-color: var(--fill-color);\n",
              "      border-bottom-color: var(--fill-color);\n",
              "    }\n",
              "    90% {\n",
              "      border-color: transparent;\n",
              "      border-bottom-color: var(--fill-color);\n",
              "    }\n",
              "  }\n",
              "</style>\n",
              "\n",
              "      <script>\n",
              "        async function quickchart(key) {\n",
              "          const quickchartButtonEl =\n",
              "            document.querySelector('#' + key + ' button');\n",
              "          quickchartButtonEl.disabled = true;  // To prevent multiple clicks.\n",
              "          quickchartButtonEl.classList.add('colab-df-spinner');\n",
              "          try {\n",
              "            const charts = await google.colab.kernel.invokeFunction(\n",
              "                'suggestCharts', [key], {});\n",
              "          } catch (error) {\n",
              "            console.error('Error during call to suggestCharts:', error);\n",
              "          }\n",
              "          quickchartButtonEl.classList.remove('colab-df-spinner');\n",
              "          quickchartButtonEl.classList.add('colab-df-quickchart-complete');\n",
              "        }\n",
              "        (() => {\n",
              "          let quickchartButtonEl =\n",
              "            document.querySelector('#df-751ca2cc-b990-425b-861a-bd5e2feced6e button');\n",
              "          quickchartButtonEl.style.display =\n",
              "            google.colab.kernel.accessAllowed ? 'block' : 'none';\n",
              "        })();\n",
              "      </script>\n",
              "    </div>\n",
              "\n",
              "  <div id=\"id_08d395af-dbec-4c60-827a-663fa1bd30bd\">\n",
              "    <style>\n",
              "      .colab-df-generate {\n",
              "        background-color: #E8F0FE;\n",
              "        border: none;\n",
              "        border-radius: 50%;\n",
              "        cursor: pointer;\n",
              "        display: none;\n",
              "        fill: #1967D2;\n",
              "        height: 32px;\n",
              "        padding: 0 0 0 0;\n",
              "        width: 32px;\n",
              "      }\n",
              "\n",
              "      .colab-df-generate:hover {\n",
              "        background-color: #E2EBFA;\n",
              "        box-shadow: 0px 1px 2px rgba(60, 64, 67, 0.3), 0px 1px 3px 1px rgba(60, 64, 67, 0.15);\n",
              "        fill: #174EA6;\n",
              "      }\n",
              "\n",
              "      [theme=dark] .colab-df-generate {\n",
              "        background-color: #3B4455;\n",
              "        fill: #D2E3FC;\n",
              "      }\n",
              "\n",
              "      [theme=dark] .colab-df-generate:hover {\n",
              "        background-color: #434B5C;\n",
              "        box-shadow: 0px 1px 3px 1px rgba(0, 0, 0, 0.15);\n",
              "        filter: drop-shadow(0px 1px 2px rgba(0, 0, 0, 0.3));\n",
              "        fill: #FFFFFF;\n",
              "      }\n",
              "    </style>\n",
              "    <button class=\"colab-df-generate\" onclick=\"generateWithVariable('efs2_results')\"\n",
              "            title=\"Generate code using this dataframe.\"\n",
              "            style=\"display:none;\">\n",
              "\n",
              "  <svg xmlns=\"http://www.w3.org/2000/svg\" height=\"24px\"viewBox=\"0 0 24 24\"\n",
              "       width=\"24px\">\n",
              "    <path d=\"M7,19H8.4L18.45,9,17,7.55,7,17.6ZM5,21V16.75L18.45,3.32a2,2,0,0,1,2.83,0l1.4,1.43a1.91,1.91,0,0,1,.58,1.4,1.91,1.91,0,0,1-.58,1.4L9.25,21ZM18.45,9,17,7.55Zm-12,3A5.31,5.31,0,0,0,4.9,8.1,5.31,5.31,0,0,0,1,6.5,5.31,5.31,0,0,0,4.9,4.9,5.31,5.31,0,0,0,6.5,1,5.31,5.31,0,0,0,8.1,4.9,5.31,5.31,0,0,0,12,6.5,5.46,5.46,0,0,0,6.5,12Z\"/>\n",
              "  </svg>\n",
              "    </button>\n",
              "    <script>\n",
              "      (() => {\n",
              "      const buttonEl =\n",
              "        document.querySelector('#id_08d395af-dbec-4c60-827a-663fa1bd30bd button.colab-df-generate');\n",
              "      buttonEl.style.display =\n",
              "        google.colab.kernel.accessAllowed ? 'block' : 'none';\n",
              "\n",
              "      buttonEl.onclick = () => {\n",
              "        google.colab.notebook.generateWithVariable('efs2_results');\n",
              "      }\n",
              "      })();\n",
              "    </script>\n",
              "  </div>\n",
              "\n",
              "    </div>\n",
              "  </div>\n"
            ],
            "application/vnd.google.colaboratory.intrinsic+json": {
              "type": "dataframe",
              "variable_name": "efs2_results",
              "summary": "{\n  \"name\": \"efs2_results\",\n  \"rows\": 385,\n  \"fields\": [\n    {\n      \"column\": \"feature_idx\",\n      \"properties\": {\n        \"dtype\": \"string\",\n        \"num_unique_values\": 385,\n        \"samples\": [\n          [\n            0,\n            1,\n            7,\n            8\n          ],\n          [\n            1,\n            6,\n            9\n          ],\n          [\n            0,\n            2,\n            4,\n            6\n          ]\n        ],\n        \"semantic_type\": \"\",\n        \"description\": \"\"\n      }\n    },\n    {\n      \"column\": \"cv_scores\",\n      \"properties\": {\n        \"dtype\": \"object\",\n        \"semantic_type\": \"\",\n        \"description\": \"\"\n      }\n    },\n    {\n      \"column\": \"avg_score\",\n      \"properties\": {\n        \"dtype\": \"date\",\n        \"min\": 0.12680811224550878,\n        \"max\": 0.8088176047395057,\n        \"num_unique_values\": 385,\n        \"samples\": [\n          0.7139311626004045,\n          0.7054912169294117,\n          0.7709815381563699\n        ],\n        \"semantic_type\": \"\",\n        \"description\": \"\"\n      }\n    },\n    {\n      \"column\": \"feature_names\",\n      \"properties\": {\n        \"dtype\": \"string\",\n        \"num_unique_values\": 385,\n        \"samples\": [\n          [\n            \"MSSubClass\",\n            \"OverallQual\",\n            \"FullBath\",\n            \"GarageCars\"\n          ],\n          [\n            \"OverallQual\",\n            \"GrLivArea\",\n            \"ExterQual_TA\"\n          ],\n          [\n            \"MSSubClass\",\n            \"YearBuilt\",\n            \"1stFlrSF\",\n            \"GrLivArea\"\n          ]\n        ],\n        \"semantic_type\": \"\",\n        \"description\": \"\"\n      }\n    },\n    {\n      \"column\": \"ci_bound\",\n      \"properties\": {\n        \"dtype\": \"date\",\n        \"min\": 0.014225358531170922,\n        \"max\": 0.16295394643359443,\n        \"num_unique_values\": 385,\n        \"samples\": [\n          0.08870355875245031,\n          0.1145294437393207,\n          0.09843870404443221\n        ],\n        \"semantic_type\": \"\",\n        \"description\": \"\"\n      }\n    },\n    {\n      \"column\": \"std_dev\",\n      \"properties\": {\n        \"dtype\": \"date\",\n        \"min\": 0.011067812223647507,\n        \"max\": 0.12678370645473525,\n        \"num_unique_values\": 385,\n        \"samples\": [\n          0.06901438228710809,\n          0.08910779820473634,\n          0.07658865606203506\n        ],\n        \"semantic_type\": \"\",\n        \"description\": \"\"\n      }\n    },\n    {\n      \"column\": \"std_err\",\n      \"properties\": {\n        \"dtype\": \"date\",\n        \"min\": 0.005533906111823753,\n        \"max\": 0.06339185322736761,\n        \"num_unique_values\": 385,\n        \"samples\": [\n          0.03450719114355404,\n          0.04455389910236817,\n          0.03829432803101753\n        ],\n        \"semantic_type\": \"\",\n        \"description\": \"\"\n      }\n    }\n  ]\n}"
            }
          },
          "metadata": {},
          "execution_count": 67
        }
      ]
    },
    {
      "cell_type": "code",
      "source": [
        "from sklearn.ensemble import RandomForestRegressor\n",
        "rfr = RandomForestRegressor(random_state=0, criterion='squared_error')\n",
        "rfr.fit(x_train2, y_train2)\n",
        "for feature in zip(x_train2.columns, rfr.feature_importances_):\n",
        "    print(feature)"
      ],
      "metadata": {
        "colab": {
          "base_uri": "https://localhost:8080/"
        },
        "id": "j24T0Lo5Nb64",
        "outputId": "2a7ee7fc-ce9d-48e0-9376-f3a699efcfc1"
      },
      "execution_count": 91,
      "outputs": [
        {
          "output_type": "stream",
          "name": "stdout",
          "text": [
            "('MSSubClass', np.float64(0.0024913838290226333))\n",
            "('LotFrontage', np.float64(0.007365613014300334))\n",
            "('LotArea', np.float64(0.01926247910992808))\n",
            "('OverallQual', np.float64(0.5564666671265123))\n",
            "('OverallCond', np.float64(0.005949609400272334))\n",
            "('YearBuilt', np.float64(0.01862643268035045))\n",
            "('YearRemodAdd', np.float64(0.00762504329617526))\n",
            "('MasVnrArea', np.float64(0.011604734257492935))\n",
            "('BsmtFinSF1', np.float64(0.03350172388871787))\n",
            "('BsmtFinSF2', np.float64(0.0010172277609978623))\n",
            "('BsmtUnfSF', np.float64(0.00835232739566203))\n",
            "('1stFlrSF', np.float64(0.04588972764075788))\n",
            "('2ndFlrSF', np.float64(0.012871183625773249))\n",
            "('LowQualFinSF', np.float64(7.968404720689777e-05))\n",
            "('GrLivArea', np.float64(0.12928926807569088))\n",
            "('BsmtFullBath', np.float64(0.000898337626592723))\n",
            "('BsmtHalfBath', np.float64(0.0011916319005645262))\n",
            "('FullBath', np.float64(0.003419485486882398))\n",
            "('HalfBath', np.float64(0.0010722376183723277))\n",
            "('BedroomAbvGr', np.float64(0.004365916106188301))\n",
            "('KitchenAbvGr', np.float64(0.0011403382703964215))\n",
            "('TotRmsAbvGrd', np.float64(0.0062981646174679095))\n",
            "('Fireplaces', np.float64(0.003303663885420077))\n",
            "('GarageCars', np.float64(0.039181753137372134))\n",
            "('WoodDeckSF', np.float64(0.006961718817241969))\n",
            "('OpenPorchSF', np.float64(0.006063923561435749))\n",
            "('EnclosedPorch', np.float64(0.0008655064992656442))\n",
            "('3SsnPorch', np.float64(0.00012441119775426563))\n",
            "('ScreenPorch', np.float64(0.0009078679952657728))\n",
            "('PoolArea', np.float64(7.240375783679415e-05))\n",
            "('YrSold', np.float64(0.002025085778714859))\n",
            "('MSZoning_FV', np.float64(0.0001705471976823251))\n",
            "('MSZoning_RH', np.float64(2.5151121884781673e-05))\n",
            "('MSZoning_RL', np.float64(0.0009117346838467262))\n",
            "('MSZoning_RM', np.float64(0.001565452119803893))\n",
            "('Street_Pave', np.float64(4.045822228880224e-05))\n",
            "('LotShape_IR2', np.float64(9.837540430183334e-05))\n",
            "('LotShape_IR3', np.float64(2.3700260652191888e-05))\n",
            "('LotShape_Reg', np.float64(0.002296608493889402))\n",
            "('LandContour_HLS', np.float64(8.203250399759824e-05))\n",
            "('LandContour_Low', np.float64(0.0002394065830434561))\n",
            "('LandContour_Lvl', np.float64(0.0008070795575682373))\n",
            "('LotConfig_CulDSac', np.float64(0.0004292133014804815))\n",
            "('LotConfig_FR2', np.float64(0.0001421420979304793))\n",
            "('LotConfig_Inside', np.float64(0.000474788033568493))\n",
            "('LandSlope_Mod', np.float64(0.00032847509201711024))\n",
            "('LandSlope_Sev', np.float64(6.200857979639772e-05))\n",
            "('Neighborhood_Blueste', np.float64(1.5957217832107348e-06))\n",
            "('Neighborhood_BrDale', np.float64(2.1784136591868126e-05))\n",
            "('Neighborhood_BrkSide', np.float64(8.322201939731168e-05))\n",
            "('Neighborhood_ClearCr', np.float64(8.459390521930623e-05))\n",
            "('Neighborhood_CollgCr', np.float64(0.000651667714952439))\n",
            "('Neighborhood_Crawfor', np.float64(0.0008721214495399424))\n",
            "('Neighborhood_Edwards', np.float64(0.0007591702645386498))\n",
            "('Neighborhood_Gilbert', np.float64(0.00014649973967814447))\n",
            "('Neighborhood_IDOTRR', np.float64(0.0003784063116964081))\n",
            "('Neighborhood_MeadowV', np.float64(2.419381346706745e-05))\n",
            "('Neighborhood_Mitchel', np.float64(6.89787846095541e-05))\n",
            "('Neighborhood_NAmes', np.float64(0.00021156000276029177))\n",
            "('Neighborhood_NPkVill', np.float64(7.548537421478823e-06))\n",
            "('Neighborhood_NWAmes', np.float64(0.00014150622872425184))\n",
            "('Neighborhood_NoRidge', np.float64(0.0004667988279702799))\n",
            "('Neighborhood_NridgHt', np.float64(0.0003654685247247289))\n",
            "('Neighborhood_OldTown', np.float64(0.000313229169172828))\n",
            "('Neighborhood_SWISU', np.float64(6.205698437603441e-05))\n",
            "('Neighborhood_Sawyer', np.float64(0.0002139274964092296))\n",
            "('Neighborhood_SawyerW', np.float64(6.9792629216039e-05))\n",
            "('Neighborhood_StoneBr', np.float64(0.00030298642957167764))\n",
            "('Neighborhood_Timber', np.float64(0.00020987123745282277))\n",
            "('Neighborhood_Veenker', np.float64(5.397335836302528e-05))\n",
            "('Condition1_Feedr', np.float64(0.0001372206537282099))\n",
            "('Condition1_Norm', np.float64(0.0006263330508674892))\n",
            "('Condition1_PosA', np.float64(1.4005711226065046e-05))\n",
            "('Condition1_PosN', np.float64(0.0008294653548493397))\n",
            "('Condition1_RRAe', np.float64(7.86350780561472e-05))\n",
            "('Condition1_RRAn', np.float64(4.871619475406797e-05))\n",
            "('Condition1_RRNe', np.float64(4.0923783419732325e-06))\n",
            "('BldgType_2fmCon', np.float64(8.302990365985087e-06))\n",
            "('BldgType_Duplex', np.float64(3.9504805937464626e-05))\n",
            "('BldgType_Twnhs', np.float64(1.2067620066226773e-05))\n",
            "('BldgType_TwnhsE', np.float64(0.00010946832299800259))\n",
            "('HouseStyle_1.5Unf', np.float64(2.103398223593239e-05))\n",
            "('HouseStyle_1Story', np.float64(0.0001902784864342529))\n",
            "('HouseStyle_2.5Fin', np.float64(6.845207954918449e-05))\n",
            "('HouseStyle_2.5Unf', np.float64(1.2218656197091162e-05))\n",
            "('HouseStyle_2Story', np.float64(0.0003670237718198811))\n",
            "('HouseStyle_SFoyer', np.float64(7.402604698255555e-06))\n",
            "('HouseStyle_SLvl', np.float64(5.038586184991219e-05))\n",
            "('RoofStyle_Gable', np.float64(0.0010016243207617399))\n",
            "('RoofStyle_Gambrel', np.float64(5.516027999457344e-05))\n",
            "('RoofStyle_Mansard', np.float64(5.704832480450075e-07))\n",
            "('RoofStyle_Shed', np.float64(1.259120529878209e-05))\n",
            "('RoofMatl_CompShg', np.float64(7.70483172926886e-05))\n",
            "('RoofMatl_Tar&Grv', np.float64(4.220225082658168e-05))\n",
            "('RoofMatl_WdShake', np.float64(3.859497555831854e-05))\n",
            "('RoofMatl_WdShngl', np.float64(3.619314928000843e-05))\n",
            "('Exterior1st_BrkFace', np.float64(0.0003948769917754797))\n",
            "('Exterior1st_CemntBd', np.float64(0.0002467622281799952))\n",
            "('Exterior1st_HdBoard', np.float64(0.0018461424062307364))\n",
            "('Exterior1st_MetalSd', np.float64(0.0003214853098859143))\n",
            "('Exterior1st_Plywood', np.float64(0.0002675919739319875))\n",
            "('Exterior1st_Stone', np.float64(4.094333688747152e-06))\n",
            "('Exterior1st_Stucco', np.float64(3.08033127644495e-05))\n",
            "('Exterior1st_VinylSd', np.float64(0.0007036450082961904))\n",
            "('Exterior1st_Wd Sdng', np.float64(0.00029931021946963204))\n",
            "('Exterior1st_WdShing', np.float64(2.797997414524115e-05))\n",
            "('Exterior2nd_Brk Cmn', np.float64(7.331636881038594e-06))\n",
            "('Exterior2nd_BrkFace', np.float64(8.654261662383778e-05))\n",
            "('Exterior2nd_ImStucc', np.float64(6.209666541755489e-05))\n",
            "('Exterior2nd_Plywood', np.float64(0.0002522899189957703))\n",
            "('Exterior2nd_Stone', np.float64(1.151648155640294e-05))\n",
            "('Exterior2nd_Stucco', np.float64(3.0171867857653424e-05))\n",
            "('Exterior2nd_Wd Sdng', np.float64(0.00022274355629625406))\n",
            "('Exterior2nd_Wd Shng', np.float64(0.00013227505272702948))\n",
            "('MasVnrType_BrkFace', np.float64(0.000523066307169327))\n",
            "('ExterQual_Fa', np.float64(6.77075652456774e-05))\n",
            "('ExterQual_Gd', np.float64(0.0011778099678091485))\n",
            "('ExterQual_TA', np.float64(0.0008489105776317582))\n",
            "('ExterCond_Fa', np.float64(0.00039978140535351674))\n",
            "('ExterCond_Gd', np.float64(0.00029591076247816365))\n",
            "('Foundation_CBlock', np.float64(0.0002655659775690953))\n",
            "('Foundation_PConc', np.float64(0.0002449070091246259))\n",
            "('Foundation_Slab', np.float64(0.0003286915344304381))\n",
            "('Foundation_Stone', np.float64(6.472110360123604e-06))\n",
            "('BsmtQual_Fa', np.float64(4.383609297373931e-05))\n",
            "('BsmtQual_Gd', np.float64(0.004059589947668096))\n",
            "('BsmtQual_TA', np.float64(0.0003804945747354622))\n",
            "('BsmtCond_Gd', np.float64(0.000128971115039813))\n",
            "('BsmtCond_Po', np.float64(1.6723488885764677e-06))\n",
            "('BsmtCond_TA', np.float64(0.00026217334390922996))\n",
            "('BsmtExposure_Gd', np.float64(0.0010521616221426326))\n",
            "('BsmtExposure_Mn', np.float64(0.00018399833397502295))\n",
            "('BsmtExposure_No', np.float64(0.001289327310202479))\n",
            "('BsmtFinType1_BLQ', np.float64(0.000171814880097889))\n",
            "('BsmtFinType1_GLQ', np.float64(0.0006419699499979981))\n",
            "('BsmtFinType1_LwQ', np.float64(0.0001526876265017019))\n",
            "('BsmtFinType1_Rec', np.float64(0.00023827877758008626))\n",
            "('BsmtFinType1_Unf', np.float64(0.0011838580312431486))\n",
            "('BsmtFinType2_BLQ', np.float64(0.0001394175435121656))\n",
            "('BsmtFinType2_GLQ', np.float64(1.0356944016281782e-05))\n",
            "('BsmtFinType2_LwQ', np.float64(7.449889456713385e-05))\n",
            "('BsmtFinType2_Rec', np.float64(2.7469562978350557e-05))\n",
            "('BsmtFinType2_Unf', np.float64(0.00017346932790447936))\n",
            "('Heating_GasA', np.float64(0.000189009276123042))\n",
            "('Heating_GasW', np.float64(4.270413224507114e-05))\n",
            "('Heating_Grav', np.float64(8.359288341489372e-07))\n",
            "('Heating_Wall', np.float64(1.4458674117187335e-06))\n",
            "('HeatingQC_Fa', np.float64(9.831644500504534e-05))\n",
            "('HeatingQC_Gd', np.float64(0.0002106430423594))\n",
            "('HeatingQC_TA', np.float64(0.0005274829738626742))\n",
            "('CentralAir_Y', np.float64(0.005524577763581728))\n",
            "('Electrical_FuseF', np.float64(7.105113206103593e-05))\n",
            "('Electrical_FuseP', np.float64(1.0832514777648152e-06))\n",
            "('Electrical_SBrkr', np.float64(0.00017062368755869198))\n",
            "('KitchenQual_Fa', np.float64(5.4353943971813246e-05))\n",
            "('KitchenQual_Gd', np.float64(0.004420324967196534))\n",
            "('KitchenQual_TA', np.float64(0.001878478313661403))\n",
            "('Functional_Maj2', np.float64(4.167205934200676e-05))\n",
            "('Functional_Min1', np.float64(4.747388349032866e-05))\n",
            "('Functional_Min2', np.float64(4.4701503612646205e-05))\n",
            "('Functional_Mod', np.float64(0.00016309727277705421))\n",
            "('Functional_Typ', np.float64(0.0002590528197928623))\n",
            "('GarageType_Attchd', np.float64(0.002054657535852944))\n",
            "('GarageType_Basment', np.float64(6.1142355638980084e-06))\n",
            "('GarageType_BuiltIn', np.float64(0.00022393814788201598))\n",
            "('GarageType_CarPort', np.float64(3.999687571771292e-05))\n",
            "('GarageType_Detchd', np.float64(0.0015256783588556131))\n",
            "('GarageFinish_RFn', np.float64(0.0008805750302286153))\n",
            "('GarageFinish_Unf', np.float64(0.0037085924563049167))\n",
            "('GarageQual_Fa', np.float64(0.00016280465597678394))\n",
            "('GarageQual_Gd', np.float64(1.5772363914133824e-05))\n",
            "('GarageQual_Po', np.float64(2.0772305222959462e-07))\n",
            "('GarageQual_TA', np.float64(0.0002457388784804838))\n",
            "('GarageCond_Fa', np.float64(4.0951236473528674e-05))\n",
            "('GarageCond_Gd', np.float64(1.0290854802959783e-05))\n",
            "('GarageCond_Po', np.float64(2.698612621923342e-06))\n",
            "('GarageCond_TA', np.float64(5.2367140556747165e-05))\n",
            "('PavedDrive_P', np.float64(8.378649232088149e-05))\n",
            "('PavedDrive_Y', np.float64(0.00036493133771229864))\n",
            "('SaleType_ConLD', np.float64(6.2655492098026294e-06))\n",
            "('SaleType_ConLI', np.float64(2.3560910811490028e-06))\n",
            "('SaleType_ConLw', np.float64(1.6998472586376163e-05))\n",
            "('SaleType_New', np.float64(0.0007804196670985275))\n",
            "('SaleType_Oth', np.float64(4.8154348485528845e-06))\n",
            "('SaleType_WD', np.float64(0.0006519625300725042))\n",
            "('SaleCondition_Alloca', np.float64(4.117976094736331e-05))\n",
            "('SaleCondition_Family', np.float64(7.627793521287939e-05))\n",
            "('SaleCondition_Normal', np.float64(0.0005488948251722382))\n"
          ]
        }
      ]
    },
    {
      "cell_type": "code",
      "source": [
        "from sklearn.feature_selection import SelectFromModel\n",
        "sfm2 = SelectFromModel(estimator=rfr, threshold=0.2)\n",
        "sfm2 = sfm2.fit(x_train2, y_train2)\n",
        "feature_names2=x_train2.columns\n",
        "print('The most important features based on random forest classifier:')\n",
        "for feature_list_index in sfm2.get_support(indices=True):\n",
        "    print('- ' + feature_names2[feature_list_index])"
      ],
      "metadata": {
        "colab": {
          "base_uri": "https://localhost:8080/"
        },
        "id": "dDLimDy0NjsH",
        "outputId": "3bf97eb3-8113-47d3-963d-8ab6df3ce4f8"
      },
      "execution_count": 92,
      "outputs": [
        {
          "output_type": "stream",
          "name": "stdout",
          "text": [
            "The most important features based on random forest classifier:\n",
            "- OverallQual\n"
          ]
        }
      ]
    },
    {
      "cell_type": "code",
      "source": [
        "from sklearn.metrics import mean_squared_error, r2_score\n",
        "rfr_full = RandomForestRegressor(random_state=0, criterion='squared_error')\n",
        "rfr_full.fit(x_train2, y_train2)\n",
        "pred_full2 = rfr_full.predict(x_test2)\n",
        "print(\"R² Score:\", r2_score(y_test2, pred_full2))\n",
        "print(\"MSE:\", mean_squared_error(y_test2, pred_full2))"
      ],
      "metadata": {
        "colab": {
          "base_uri": "https://localhost:8080/"
        },
        "id": "JHdac1zGNsp0",
        "outputId": "9844f41a-ae50-4bf4-a6b1-b848ed2116e1"
      },
      "execution_count": 93,
      "outputs": [
        {
          "output_type": "stream",
          "name": "stdout",
          "text": [
            "R² Score: 0.8625690243184906\n",
            "MSE: 933017717.6249716\n"
          ]
        }
      ]
    },
    {
      "cell_type": "code",
      "source": [
        "x_important_train2 = sfm2.transform(x_train2)\n",
        "x_important_test2 = sfm2.transform(x_test2)"
      ],
      "metadata": {
        "id": "DEQPgM5FPG6g"
      },
      "execution_count": 94,
      "outputs": []
    },
    {
      "cell_type": "code",
      "source": [
        "print(x_important_train2.shape)\n",
        "print(x_important_test2.shape)"
      ],
      "metadata": {
        "id": "rEG-hcGpQWVy",
        "colab": {
          "base_uri": "https://localhost:8080/"
        },
        "outputId": "483f5db9-f53f-4480-fb4e-ff7a9aef61a5"
      },
      "execution_count": 95,
      "outputs": [
        {
          "output_type": "stream",
          "name": "stdout",
          "text": [
            "(1022, 1)\n",
            "(438, 1)\n"
          ]
        }
      ]
    },
    {
      "cell_type": "code",
      "source": [
        "rfr_lim = RandomForestRegressor(random_state=0, criterion='squared_error')\n",
        "rfr_lim.fit(x_important_train2, y_train2)\n",
        "pred_lim2 = rfr_lim.predict(x_important_test2)\n",
        "print(\"R² Score (limited features):\", r2_score(y_test2, pred_lim2))\n",
        "print(\"MSE (limited features):\", mean_squared_error(y_test2, pred_lim2))"
      ],
      "metadata": {
        "colab": {
          "base_uri": "https://localhost:8080/"
        },
        "id": "1JKEfECURUH-",
        "outputId": "ca39e4cf-95da-4d8c-948c-83735b09a222"
      },
      "execution_count": 96,
      "outputs": [
        {
          "output_type": "stream",
          "name": "stdout",
          "text": [
            "R² Score (limited features): 0.6914271092644155\n",
            "MSE (limited features): 2094898714.1171165\n"
          ]
        }
      ]
    },
    {
      "cell_type": "code",
      "source": [
        "from sklearn.preprocessing import StandardScaler\n",
        "from sklearn.decomposition import PCA\n",
        "from sklearn.linear_model import LogisticRegression\n",
        "from sklearn.metrics import confusion_matrix\n",
        "import matplotlib.pyplot as plt\n",
        "import seaborn as sns"
      ],
      "metadata": {
        "id": "B00B833Myfcw"
      },
      "execution_count": 97,
      "outputs": []
    },
    {
      "cell_type": "code",
      "source": [
        "scaler = StandardScaler()\n",
        "X_scaled = scaler.fit_transform(X)"
      ],
      "metadata": {
        "id": "zf1wr-JBtsKa"
      },
      "execution_count": 98,
      "outputs": []
    },
    {
      "cell_type": "code",
      "source": [
        "X_scaled.shape"
      ],
      "metadata": {
        "colab": {
          "base_uri": "https://localhost:8080/"
        },
        "id": "cnEaa6COv1BV",
        "outputId": "0e929227-7913-4cf7-e74b-38d69616a8f6"
      },
      "execution_count": 99,
      "outputs": [
        {
          "output_type": "execute_result",
          "data": {
            "text/plain": [
              "(891, 6)"
            ]
          },
          "metadata": {},
          "execution_count": 99
        }
      ]
    },
    {
      "cell_type": "code",
      "source": [
        "pca = PCA(n_components=2)\n",
        "X_pca = pca.fit_transform(X_scaled)"
      ],
      "metadata": {
        "id": "AaxPCs_fulhf"
      },
      "execution_count": 100,
      "outputs": []
    },
    {
      "cell_type": "code",
      "source": [
        "X_pca.shape"
      ],
      "metadata": {
        "colab": {
          "base_uri": "https://localhost:8080/"
        },
        "id": "d709mZaOwGx3",
        "outputId": "418db754-6a8c-416c-d07e-f23243b35c84"
      },
      "execution_count": 104,
      "outputs": [
        {
          "output_type": "execute_result",
          "data": {
            "text/plain": [
              "(891, 2)"
            ]
          },
          "metadata": {},
          "execution_count": 104
        }
      ]
    },
    {
      "cell_type": "code",
      "source": [
        "X_train, X_test, Y_train, Y_test = train_test_split(X_pca, y, test_size=0.3, random_state=42)\n",
        "model = LogisticRegression()\n",
        "model.fit(X_train, Y_train)\n",
        "y_pred = model.predict(X_test)"
      ],
      "metadata": {
        "id": "0H3iWI_TwAic"
      },
      "execution_count": 101,
      "outputs": []
    },
    {
      "cell_type": "code",
      "source": [
        "cm = confusion_matrix(y_test, y_pred)\n",
        "plt.figure(figsize=(8, 6))\n",
        "sns.heatmap(cm, annot=True, fmt='d', cmap='Blues',xticklabels=['Not Survived', 'Survived'], yticklabels=['Not Survived', 'Survived'])\n",
        "plt.title('Confusion Matrix')\n",
        "plt.xlabel('Predicted Labels')\n",
        "plt.ylabel('True Labels')\n",
        "plt.show()"
      ],
      "metadata": {
        "colab": {
          "base_uri": "https://localhost:8080/",
          "height": 564
        },
        "id": "fX1E35z8wSJO",
        "outputId": "82949fcb-cd29-4d06-c1b1-67ef1697be93"
      },
      "execution_count": 102,
      "outputs": [
        {
          "output_type": "display_data",
          "data": {
            "text/plain": [
              "<Figure size 800x600 with 2 Axes>"
            ],
            "image/png": "[encoded data removed]"
          },
          "metadata": {}
        }
      ]
    },
    {
      "cell_type": "code",
      "source": [
        "y_numeric = pd.factorize(y)[0]\n",
        "plt.figure(figsize=(12, 5))\n",
        "plt.subplot(1, 2, 1)\n",
        "plt.scatter(X_scaled[:, 0], X_scaled[:, 1], c=y_numeric, cmap='coolwarm', edgecolor='k', s=80)\n",
        "plt.xlabel('Original Feature 1')\n",
        "plt.ylabel('Original Feature 2')\n",
        "plt.title('Before PCA: Using First 2 Standardized Features')\n",
        "plt.colorbar(label='Target classes')\n",
        "\n",
        "plt.subplot(1, 2, 2)\n",
        "plt.scatter(X_pca[:, 0], X_pca[:, 1], c=y_numeric, cmap='coolwarm', edgecolor='k', s=80)\n",
        "plt.xlabel('Principal Component 1')\n",
        "plt.ylabel('Principal Component 2')\n",
        "plt.title('After PCA: Projected onto 2 Principal Components')\n",
        "plt.colorbar(label='Target classes')\n",
        "\n",
        "plt.tight_layout()\n",
        "plt.show()"
      ],
      "metadata": {
        "colab": {
          "base_uri": "https://localhost:8080/",
          "height": 507
        },
        "id": "Q6j9x3XJxjuc",
        "outputId": "e347f436-2bd1-4111-fe4a-a138532f67eb"
      },
      "execution_count": 103,
      "outputs": [
        {
          "output_type": "display_data",
          "data": {
            "text/plain": [
              "<Figure size 1200x500 with 4 Axes>"
            ],
            "image/png": "[encoded data removed]"
          },
          "metadata": {}
        }
      ]
    },
    {
      "cell_type": "code",
      "source": [
        "from sklearn.linear_model import LinearRegression\n",
        "from sklearn.metrics import mean_absolute_error, mean_squared_error, r2_score\n",
        "\n",
        "lin_reg = LinearRegression()\n",
        "lin_reg.fit(x_train2, y_train2)\n",
        "y_pred = lin_reg.predict(x_train2)\n",
        "new_pred = lin_reg.predict(x_test2)\n",
        "\n",
        "print(\"Intercept (β₀):\", lin_reg.intercept_)\n",
        "print(\"Coefficients (βᵢ for each feature):\")\n",
        "for feature, coef in zip(x_train2.columns, lin_reg.coef_):\n",
        "    print(f\"  {feature}: {coef:.4f} (meaning y changes by {coef:.4f} units per unit increase in {feature})\")\n",
        "\n",
        "mae=mean_absolute_error(y_train2,y_pred)\n",
        "mse=mean_squared_error(y_train2,y_pred)\n",
        "rmse=np.sqrt(mse)\n",
        "r2=r2_score(y_train2,y_pred)\n",
        "n=len(y_train2)\n",
        "k = x_train2.shape[1]\n",
        "adjusted_r2 = 1- ((1-r2)*(n-1)/(n-k-1))\n",
        "\n",
        "print('MAE:',mae)\n",
        "print('MSE:',mse)\n",
        "print('RMSE:',rmse)\n",
        "print('R2:',r2)\n",
        "print('Adjusted R2:',adjusted_r2)\n",
        "\n",
        "comparison_df = pd.DataFrame({\n",
        "    \"Actual_Train\": y_train2.values,\n",
        "    \"Predicted_Train\": y_pred\n",
        "})\n",
        "\n",
        "print(\"Training Data (Actual vs Predicted):\")\n",
        "print(comparison_df.head(10))\n",
        "\n",
        "# For Test Set\n",
        "comparison_test_df = pd.DataFrame({\n",
        "    \"Actual_Test\": y_test2.values,\n",
        "    \"Predicted_Test\": new_pred\n",
        "})\n",
        "\n",
        "print(\"Test Data (Actual vs Predicted):\")\n",
        "print(comparison_test_df.head(10))\n",
        "\n",
        "plt.scatter(y_train2, y_pred, color='blue', label='Train: Actual vs Predicted')\n",
        "plt.scatter(y_test2, new_pred, color='green', label='Test: Actual vs Predicted')\n",
        "plt.xlabel(\"Actual Sale Price\")\n",
        "plt.ylabel(\"Predicted Sale Price\")\n",
        "plt.title(\"Linear Regression - House Price Prediction\")\n",
        "plt.legend()\n",
        "plt.show()"
      ],
      "metadata": {
        "colab": {
          "base_uri": "https://localhost:8080/",
          "height": 1000
        },
        "id": "Fs3h3Pt3ywxm",
        "outputId": "fcc272a8-f73c-41a8-b347-4eea6dadc2b9"
      },
      "execution_count": 105,
      "outputs": [
        {
          "output_type": "stream",
          "name": "stdout",
          "text": [
            "Intercept (β₀): -187223.87548223606\n",
            "Coefficients (βᵢ for each feature):\n",
            "  MSSubClass: -30.5166 (meaning y changes by -30.5166 units per unit increase in MSSubClass)\n",
            "  LotFrontage: 18.5736 (meaning y changes by 18.5736 units per unit increase in LotFrontage)\n",
            "  LotArea: 0.6000 (meaning y changes by 0.6000 units per unit increase in LotArea)\n",
            "  OverallQual: 6107.7707 (meaning y changes by 6107.7707 units per unit increase in OverallQual)\n",
            "  OverallCond: 4944.5418 (meaning y changes by 4944.5418 units per unit increase in OverallCond)\n",
            "  YearBuilt: 244.7270 (meaning y changes by 244.7270 units per unit increase in YearBuilt)\n",
            "  YearRemodAdd: 111.1314 (meaning y changes by 111.1314 units per unit increase in YearRemodAdd)\n",
            "  MasVnrArea: 15.1320 (meaning y changes by 15.1320 units per unit increase in MasVnrArea)\n",
            "  BsmtFinSF1: 21.1340 (meaning y changes by 21.1340 units per unit increase in BsmtFinSF1)\n",
            "  BsmtFinSF2: 17.2923 (meaning y changes by 17.2923 units per unit increase in BsmtFinSF2)\n",
            "  BsmtUnfSF: 12.1709 (meaning y changes by 12.1709 units per unit increase in BsmtUnfSF)\n",
            "  1stFlrSF: 14.1572 (meaning y changes by 14.1572 units per unit increase in 1stFlrSF)\n",
            "  2ndFlrSF: 24.8067 (meaning y changes by 24.8067 units per unit increase in 2ndFlrSF)\n",
            "  LowQualFinSF: -11.3328 (meaning y changes by -11.3328 units per unit increase in LowQualFinSF)\n",
            "  GrLivArea: 27.6312 (meaning y changes by 27.6312 units per unit increase in GrLivArea)\n",
            "  BsmtFullBath: 5060.7854 (meaning y changes by 5060.7854 units per unit increase in BsmtFullBath)\n",
            "  BsmtHalfBath: 3057.2748 (meaning y changes by 3057.2748 units per unit increase in BsmtHalfBath)\n",
            "  FullBath: 6094.8788 (meaning y changes by 6094.8788 units per unit increase in FullBath)\n",
            "  HalfBath: 1241.4045 (meaning y changes by 1241.4045 units per unit increase in HalfBath)\n",
            "  BedroomAbvGr: -1110.1519 (meaning y changes by -1110.1519 units per unit increase in BedroomAbvGr)\n",
            "  KitchenAbvGr: -16686.6781 (meaning y changes by -16686.6781 units per unit increase in KitchenAbvGr)\n",
            "  TotRmsAbvGrd: 2913.7422 (meaning y changes by 2913.7422 units per unit increase in TotRmsAbvGrd)\n",
            "  Fireplaces: 3415.3689 (meaning y changes by 3415.3689 units per unit increase in Fireplaces)\n",
            "  GarageCars: 5510.0909 (meaning y changes by 5510.0909 units per unit increase in GarageCars)\n",
            "  WoodDeckSF: 17.5523 (meaning y changes by 17.5523 units per unit increase in WoodDeckSF)\n",
            "  OpenPorchSF: 8.3749 (meaning y changes by 8.3749 units per unit increase in OpenPorchSF)\n",
            "  EnclosedPorch: 6.4246 (meaning y changes by 6.4246 units per unit increase in EnclosedPorch)\n",
            "  3SsnPorch: 27.9172 (meaning y changes by 27.9172 units per unit increase in 3SsnPorch)\n",
            "  ScreenPorch: 25.4110 (meaning y changes by 25.4110 units per unit increase in ScreenPorch)\n",
            "  PoolArea: 48.6443 (meaning y changes by 48.6443 units per unit increase in PoolArea)\n",
            "  YrSold: -261.2376 (meaning y changes by -261.2376 units per unit increase in YrSold)\n",
            "  MSZoning_FV: 43886.2650 (meaning y changes by 43886.2650 units per unit increase in MSZoning_FV)\n",
            "  MSZoning_RH: 22718.7578 (meaning y changes by 22718.7578 units per unit increase in MSZoning_RH)\n",
            "  MSZoning_RL: 30725.8017 (meaning y changes by 30725.8017 units per unit increase in MSZoning_RL)\n",
            "  MSZoning_RM: 29355.2809 (meaning y changes by 29355.2809 units per unit increase in MSZoning_RM)\n",
            "  Street_Pave: 30787.3145 (meaning y changes by 30787.3145 units per unit increase in Street_Pave)\n",
            "  LotShape_IR2: 11769.8102 (meaning y changes by 11769.8102 units per unit increase in LotShape_IR2)\n",
            "  LotShape_IR3: 24263.4989 (meaning y changes by 24263.4989 units per unit increase in LotShape_IR3)\n",
            "  LotShape_Reg: 1939.4674 (meaning y changes by 1939.4674 units per unit increase in LotShape_Reg)\n",
            "  LandContour_HLS: 12042.9844 (meaning y changes by 12042.9844 units per unit increase in LandContour_HLS)\n",
            "  LandContour_Low: -4647.0911 (meaning y changes by -4647.0911 units per unit increase in LandContour_Low)\n",
            "  LandContour_Lvl: 13434.1349 (meaning y changes by 13434.1349 units per unit increase in LandContour_Lvl)\n",
            "  LotConfig_CulDSac: 9581.4693 (meaning y changes by 9581.4693 units per unit increase in LotConfig_CulDSac)\n",
            "  LotConfig_FR2: -7152.9254 (meaning y changes by -7152.9254 units per unit increase in LotConfig_FR2)\n",
            "  LotConfig_Inside: -2010.4158 (meaning y changes by -2010.4158 units per unit increase in LotConfig_Inside)\n",
            "  LandSlope_Mod: 7213.6230 (meaning y changes by 7213.6230 units per unit increase in LandSlope_Mod)\n",
            "  LandSlope_Sev: -30912.0574 (meaning y changes by -30912.0574 units per unit increase in LandSlope_Sev)\n",
            "  Neighborhood_Blueste: -7308.9248 (meaning y changes by -7308.9248 units per unit increase in Neighborhood_Blueste)\n",
            "  Neighborhood_BrDale: -8884.2145 (meaning y changes by -8884.2145 units per unit increase in Neighborhood_BrDale)\n",
            "  Neighborhood_BrkSide: -4179.2866 (meaning y changes by -4179.2866 units per unit increase in Neighborhood_BrkSide)\n",
            "  Neighborhood_ClearCr: -7305.1893 (meaning y changes by -7305.1893 units per unit increase in Neighborhood_ClearCr)\n",
            "  Neighborhood_CollgCr: -8142.2877 (meaning y changes by -8142.2877 units per unit increase in Neighborhood_CollgCr)\n",
            "  Neighborhood_Crawfor: 14707.0092 (meaning y changes by 14707.0092 units per unit increase in Neighborhood_Crawfor)\n",
            "  Neighborhood_Edwards: -27048.5923 (meaning y changes by -27048.5923 units per unit increase in Neighborhood_Edwards)\n",
            "  Neighborhood_Gilbert: -13974.6224 (meaning y changes by -13974.6224 units per unit increase in Neighborhood_Gilbert)\n",
            "  Neighborhood_IDOTRR: -17422.6606 (meaning y changes by -17422.6606 units per unit increase in Neighborhood_IDOTRR)\n",
            "  Neighborhood_MeadowV: -8414.3586 (meaning y changes by -8414.3586 units per unit increase in Neighborhood_MeadowV)\n",
            "  Neighborhood_Mitchel: -25993.3369 (meaning y changes by -25993.3369 units per unit increase in Neighborhood_Mitchel)\n",
            "  Neighborhood_NAmes: -20789.2444 (meaning y changes by -20789.2444 units per unit increase in Neighborhood_NAmes)\n",
            "  Neighborhood_NPkVill: 3783.9432 (meaning y changes by 3783.9432 units per unit increase in Neighborhood_NPkVill)\n",
            "  Neighborhood_NWAmes: -15409.2424 (meaning y changes by -15409.2424 units per unit increase in Neighborhood_NWAmes)\n",
            "  Neighborhood_NoRidge: 38866.0258 (meaning y changes by 38866.0258 units per unit increase in Neighborhood_NoRidge)\n",
            "  Neighborhood_NridgHt: 18989.0431 (meaning y changes by 18989.0431 units per unit increase in Neighborhood_NridgHt)\n",
            "  Neighborhood_OldTown: -18340.5861 (meaning y changes by -18340.5861 units per unit increase in Neighborhood_OldTown)\n",
            "  Neighborhood_SWISU: -10412.8300 (meaning y changes by -10412.8300 units per unit increase in Neighborhood_SWISU)\n",
            "  Neighborhood_Sawyer: -18100.2148 (meaning y changes by -18100.2148 units per unit increase in Neighborhood_Sawyer)\n",
            "  Neighborhood_SawyerW: -4706.7747 (meaning y changes by -4706.7747 units per unit increase in Neighborhood_SawyerW)\n",
            "  Neighborhood_StoneBr: 42076.5388 (meaning y changes by 42076.5388 units per unit increase in Neighborhood_StoneBr)\n",
            "  Neighborhood_Timber: -10933.4330 (meaning y changes by -10933.4330 units per unit increase in Neighborhood_Timber)\n",
            "  Neighborhood_Veenker: 2382.3899 (meaning y changes by 2382.3899 units per unit increase in Neighborhood_Veenker)\n",
            "  Condition1_Feedr: 923.2757 (meaning y changes by 923.2757 units per unit increase in Condition1_Feedr)\n",
            "  Condition1_Norm: 13995.3757 (meaning y changes by 13995.3757 units per unit increase in Condition1_Norm)\n",
            "  Condition1_PosA: -497.3389 (meaning y changes by -497.3389 units per unit increase in Condition1_PosA)\n",
            "  Condition1_PosN: -23865.0976 (meaning y changes by -23865.0976 units per unit increase in Condition1_PosN)\n",
            "  Condition1_RRAe: -13365.7181 (meaning y changes by -13365.7181 units per unit increase in Condition1_RRAe)\n",
            "  Condition1_RRAn: 9468.5669 (meaning y changes by 9468.5669 units per unit increase in Condition1_RRAn)\n",
            "  Condition1_RRNe: -367.2605 (meaning y changes by -367.2605 units per unit increase in Condition1_RRNe)\n",
            "  BldgType_2fmCon: -5552.0315 (meaning y changes by -5552.0315 units per unit increase in BldgType_2fmCon)\n",
            "  BldgType_Duplex: -11713.5490 (meaning y changes by -11713.5490 units per unit increase in BldgType_Duplex)\n",
            "  BldgType_Twnhs: -19576.8189 (meaning y changes by -19576.8189 units per unit increase in BldgType_Twnhs)\n",
            "  BldgType_TwnhsE: -15464.9911 (meaning y changes by -15464.9911 units per unit increase in BldgType_TwnhsE)\n",
            "  HouseStyle_1.5Unf: 12585.4150 (meaning y changes by 12585.4150 units per unit increase in HouseStyle_1.5Unf)\n",
            "  HouseStyle_1Story: 6361.4905 (meaning y changes by 6361.4905 units per unit increase in HouseStyle_1Story)\n",
            "  HouseStyle_2.5Fin: -9987.0980 (meaning y changes by -9987.0980 units per unit increase in HouseStyle_2.5Fin)\n",
            "  HouseStyle_2.5Unf: 888.4833 (meaning y changes by 888.4833 units per unit increase in HouseStyle_2.5Unf)\n",
            "  HouseStyle_2Story: -7025.5094 (meaning y changes by -7025.5094 units per unit increase in HouseStyle_2Story)\n",
            "  HouseStyle_SFoyer: 6404.7144 (meaning y changes by 6404.7144 units per unit increase in HouseStyle_SFoyer)\n",
            "  HouseStyle_SLvl: -2955.6586 (meaning y changes by -2955.6586 units per unit increase in HouseStyle_SLvl)\n",
            "  RoofStyle_Gable: -1289.9420 (meaning y changes by -1289.9420 units per unit increase in RoofStyle_Gable)\n",
            "  RoofStyle_Gambrel: 7837.5798 (meaning y changes by 7837.5798 units per unit increase in RoofStyle_Gambrel)\n",
            "  RoofStyle_Mansard: 12615.3688 (meaning y changes by 12615.3688 units per unit increase in RoofStyle_Mansard)\n",
            "  RoofStyle_Shed: 28452.0234 (meaning y changes by 28452.0234 units per unit increase in RoofStyle_Shed)\n",
            "  RoofMatl_CompShg: -25675.3037 (meaning y changes by -25675.3037 units per unit increase in RoofMatl_CompShg)\n",
            "  RoofMatl_Tar&Grv: -27868.6366 (meaning y changes by -27868.6366 units per unit increase in RoofMatl_Tar&Grv)\n",
            "  RoofMatl_WdShake: -7649.1229 (meaning y changes by -7649.1229 units per unit increase in RoofMatl_WdShake)\n",
            "  RoofMatl_WdShngl: 43663.0245 (meaning y changes by 43663.0245 units per unit increase in RoofMatl_WdShngl)\n",
            "  Exterior1st_BrkFace: 19363.9725 (meaning y changes by 19363.9725 units per unit increase in Exterior1st_BrkFace)\n",
            "  Exterior1st_CemntBd: -6503.0353 (meaning y changes by -6503.0353 units per unit increase in Exterior1st_CemntBd)\n",
            "  Exterior1st_HdBoard: -1651.8689 (meaning y changes by -1651.8689 units per unit increase in Exterior1st_HdBoard)\n",
            "  Exterior1st_MetalSd: 1071.8892 (meaning y changes by 1071.8892 units per unit increase in Exterior1st_MetalSd)\n",
            "  Exterior1st_Plywood: 1978.0604 (meaning y changes by 1978.0604 units per unit increase in Exterior1st_Plywood)\n",
            "  Exterior1st_Stone: -8461.6481 (meaning y changes by -8461.6481 units per unit increase in Exterior1st_Stone)\n",
            "  Exterior1st_Stucco: 6862.2920 (meaning y changes by 6862.2920 units per unit increase in Exterior1st_Stucco)\n",
            "  Exterior1st_VinylSd: 2913.9128 (meaning y changes by 2913.9128 units per unit increase in Exterior1st_VinylSd)\n",
            "  Exterior1st_Wd Sdng: -1362.7793 (meaning y changes by -1362.7793 units per unit increase in Exterior1st_Wd Sdng)\n",
            "  Exterior1st_WdShing: -30.8760 (meaning y changes by -30.8760 units per unit increase in Exterior1st_WdShing)\n",
            "  Exterior2nd_Brk Cmn: -7448.6138 (meaning y changes by -7448.6138 units per unit increase in Exterior2nd_Brk Cmn)\n",
            "  Exterior2nd_BrkFace: -1647.5047 (meaning y changes by -1647.5047 units per unit increase in Exterior2nd_BrkFace)\n",
            "  Exterior2nd_ImStucc: -2787.5224 (meaning y changes by -2787.5224 units per unit increase in Exterior2nd_ImStucc)\n",
            "  Exterior2nd_Plywood: -4572.2731 (meaning y changes by -4572.2731 units per unit increase in Exterior2nd_Plywood)\n",
            "  Exterior2nd_Stone: 1886.0410 (meaning y changes by 1886.0410 units per unit increase in Exterior2nd_Stone)\n",
            "  Exterior2nd_Stucco: 7787.4596 (meaning y changes by 7787.4596 units per unit increase in Exterior2nd_Stucco)\n",
            "  Exterior2nd_Wd Sdng: -967.8945 (meaning y changes by -967.8945 units per unit increase in Exterior2nd_Wd Sdng)\n",
            "  Exterior2nd_Wd Shng: -8953.9068 (meaning y changes by -8953.9068 units per unit increase in Exterior2nd_Wd Shng)\n",
            "  MasVnrType_BrkFace: -3739.7342 (meaning y changes by -3739.7342 units per unit increase in MasVnrType_BrkFace)\n",
            "  ExterQual_Fa: -3210.4704 (meaning y changes by -3210.4704 units per unit increase in ExterQual_Fa)\n",
            "  ExterQual_Gd: -18300.2935 (meaning y changes by -18300.2935 units per unit increase in ExterQual_Gd)\n",
            "  ExterQual_TA: -16946.1038 (meaning y changes by -16946.1038 units per unit increase in ExterQual_TA)\n",
            "  ExterCond_Fa: -8381.4604 (meaning y changes by -8381.4604 units per unit increase in ExterCond_Fa)\n",
            "  ExterCond_Gd: -484.7169 (meaning y changes by -484.7169 units per unit increase in ExterCond_Gd)\n",
            "  Foundation_CBlock: 6883.2471 (meaning y changes by 6883.2471 units per unit increase in Foundation_CBlock)\n",
            "  Foundation_PConc: 5768.4524 (meaning y changes by 5768.4524 units per unit increase in Foundation_PConc)\n",
            "  Foundation_Slab: 6732.5047 (meaning y changes by 6732.5047 units per unit increase in Foundation_Slab)\n",
            "  Foundation_Stone: 22695.4786 (meaning y changes by 22695.4786 units per unit increase in Foundation_Stone)\n",
            "  BsmtQual_Fa: -19151.7088 (meaning y changes by -19151.7088 units per unit increase in BsmtQual_Fa)\n",
            "  BsmtQual_Gd: -26984.7043 (meaning y changes by -26984.7043 units per unit increase in BsmtQual_Gd)\n",
            "  BsmtQual_TA: -22762.5033 (meaning y changes by -22762.5033 units per unit increase in BsmtQual_TA)\n",
            "  BsmtCond_Gd: 238.7432 (meaning y changes by 238.7432 units per unit increase in BsmtCond_Gd)\n",
            "  BsmtCond_Po: 64072.4328 (meaning y changes by 64072.4328 units per unit increase in BsmtCond_Po)\n",
            "  BsmtCond_TA: 5179.4797 (meaning y changes by 5179.4797 units per unit increase in BsmtCond_TA)\n",
            "  BsmtExposure_Gd: 13578.1254 (meaning y changes by 13578.1254 units per unit increase in BsmtExposure_Gd)\n",
            "  BsmtExposure_Mn: -2960.2225 (meaning y changes by -2960.2225 units per unit increase in BsmtExposure_Mn)\n",
            "  BsmtExposure_No: -5292.4463 (meaning y changes by -5292.4463 units per unit increase in BsmtExposure_No)\n",
            "  BsmtFinType1_BLQ: 196.5352 (meaning y changes by 196.5352 units per unit increase in BsmtFinType1_BLQ)\n",
            "  BsmtFinType1_GLQ: 3143.8689 (meaning y changes by 3143.8689 units per unit increase in BsmtFinType1_GLQ)\n",
            "  BsmtFinType1_LwQ: -3619.4514 (meaning y changes by -3619.4514 units per unit increase in BsmtFinType1_LwQ)\n",
            "  BsmtFinType1_Rec: -2481.6301 (meaning y changes by -2481.6301 units per unit increase in BsmtFinType1_Rec)\n",
            "  BsmtFinType1_Unf: -1596.6591 (meaning y changes by -1596.6591 units per unit increase in BsmtFinType1_Unf)\n",
            "  BsmtFinType2_BLQ: -13472.7452 (meaning y changes by -13472.7452 units per unit increase in BsmtFinType2_BLQ)\n",
            "  BsmtFinType2_GLQ: -10467.0544 (meaning y changes by -10467.0544 units per unit increase in BsmtFinType2_GLQ)\n",
            "  BsmtFinType2_LwQ: -13256.0757 (meaning y changes by -13256.0757 units per unit increase in BsmtFinType2_LwQ)\n",
            "  BsmtFinType2_Rec: -12397.7397 (meaning y changes by -12397.7397 units per unit increase in BsmtFinType2_Rec)\n",
            "  BsmtFinType2_Unf: -9470.1554 (meaning y changes by -9470.1554 units per unit increase in BsmtFinType2_Unf)\n",
            "  Heating_GasA: 14052.4351 (meaning y changes by 14052.4351 units per unit increase in Heating_GasA)\n",
            "  Heating_GasW: 7608.8402 (meaning y changes by 7608.8402 units per unit increase in Heating_GasW)\n",
            "  Heating_Grav: 15364.2935 (meaning y changes by 15364.2935 units per unit increase in Heating_Grav)\n",
            "  Heating_Wall: 13903.5440 (meaning y changes by 13903.5440 units per unit increase in Heating_Wall)\n",
            "  HeatingQC_Fa: -4196.1546 (meaning y changes by -4196.1546 units per unit increase in HeatingQC_Fa)\n",
            "  HeatingQC_Gd: -3866.2226 (meaning y changes by -3866.2226 units per unit increase in HeatingQC_Gd)\n",
            "  HeatingQC_TA: -1682.3674 (meaning y changes by -1682.3674 units per unit increase in HeatingQC_TA)\n",
            "  CentralAir_Y: -3262.0082 (meaning y changes by -3262.0082 units per unit increase in CentralAir_Y)\n",
            "  Electrical_FuseF: 3671.2769 (meaning y changes by 3671.2769 units per unit increase in Electrical_FuseF)\n",
            "  Electrical_FuseP: -5157.3825 (meaning y changes by -5157.3825 units per unit increase in Electrical_FuseP)\n",
            "  Electrical_SBrkr: -1020.8251 (meaning y changes by -1020.8251 units per unit increase in Electrical_SBrkr)\n",
            "  KitchenQual_Fa: -20714.9294 (meaning y changes by -20714.9294 units per unit increase in KitchenQual_Fa)\n",
            "  KitchenQual_Gd: -24303.2178 (meaning y changes by -24303.2178 units per unit increase in KitchenQual_Gd)\n",
            "  KitchenQual_TA: -24857.6564 (meaning y changes by -24857.6564 units per unit increase in KitchenQual_TA)\n",
            "  Functional_Maj2: -24919.1585 (meaning y changes by -24919.1585 units per unit increase in Functional_Maj2)\n",
            "  Functional_Min1: -3696.6672 (meaning y changes by -3696.6672 units per unit increase in Functional_Min1)\n",
            "  Functional_Min2: 1595.0470 (meaning y changes by 1595.0470 units per unit increase in Functional_Min2)\n",
            "  Functional_Mod: -1551.0769 (meaning y changes by -1551.0769 units per unit increase in Functional_Mod)\n",
            "  Functional_Typ: 12135.5097 (meaning y changes by 12135.5097 units per unit increase in Functional_Typ)\n",
            "  GarageType_Attchd: 11040.5247 (meaning y changes by 11040.5247 units per unit increase in GarageType_Attchd)\n",
            "  GarageType_Basment: 8705.5653 (meaning y changes by 8705.5653 units per unit increase in GarageType_Basment)\n",
            "  GarageType_BuiltIn: 8876.1333 (meaning y changes by 8876.1333 units per unit increase in GarageType_BuiltIn)\n",
            "  GarageType_CarPort: 21792.1394 (meaning y changes by 21792.1394 units per unit increase in GarageType_CarPort)\n",
            "  GarageType_Detchd: 10674.3090 (meaning y changes by 10674.3090 units per unit increase in GarageType_Detchd)\n",
            "  GarageFinish_RFn: -995.6291 (meaning y changes by -995.6291 units per unit increase in GarageFinish_RFn)\n",
            "  GarageFinish_Unf: 319.3981 (meaning y changes by 319.3981 units per unit increase in GarageFinish_Unf)\n",
            "  GarageQual_Fa: -91156.6093 (meaning y changes by -91156.6093 units per unit increase in GarageQual_Fa)\n",
            "  GarageQual_Gd: -77557.4955 (meaning y changes by -77557.4955 units per unit increase in GarageQual_Gd)\n",
            "  GarageQual_Po: -95975.3623 (meaning y changes by -95975.3623 units per unit increase in GarageQual_Po)\n",
            "  GarageQual_TA: -86865.0628 (meaning y changes by -86865.0628 units per unit increase in GarageQual_TA)\n",
            "  GarageCond_Fa: 69370.5334 (meaning y changes by 69370.5334 units per unit increase in GarageCond_Fa)\n",
            "  GarageCond_Gd: 57118.8235 (meaning y changes by 57118.8235 units per unit increase in GarageCond_Gd)\n",
            "  GarageCond_Po: 61229.0864 (meaning y changes by 61229.0864 units per unit increase in GarageCond_Po)\n",
            "  GarageCond_TA: 75417.3497 (meaning y changes by 75417.3497 units per unit increase in GarageCond_TA)\n",
            "  PavedDrive_P: -1633.3188 (meaning y changes by -1633.3188 units per unit increase in PavedDrive_P)\n",
            "  PavedDrive_Y: -1614.9241 (meaning y changes by -1614.9241 units per unit increase in PavedDrive_Y)\n",
            "  SaleType_ConLD: 30237.2864 (meaning y changes by 30237.2864 units per unit increase in SaleType_ConLD)\n",
            "  SaleType_ConLI: 5531.3218 (meaning y changes by 5531.3218 units per unit increase in SaleType_ConLI)\n",
            "  SaleType_ConLw: 3211.2755 (meaning y changes by 3211.2755 units per unit increase in SaleType_ConLw)\n",
            "  SaleType_New: 20714.1399 (meaning y changes by 20714.1399 units per unit increase in SaleType_New)\n",
            "  SaleType_Oth: 5532.3738 (meaning y changes by 5532.3738 units per unit increase in SaleType_Oth)\n",
            "  SaleType_WD: -3199.0797 (meaning y changes by -3199.0797 units per unit increase in SaleType_WD)\n",
            "  SaleCondition_Alloca: 31129.6846 (meaning y changes by 31129.6846 units per unit increase in SaleCondition_Alloca)\n",
            "  SaleCondition_Family: 11499.5033 (meaning y changes by 11499.5033 units per unit increase in SaleCondition_Family)\n",
            "  SaleCondition_Normal: 9552.0478 (meaning y changes by 9552.0478 units per unit increase in SaleCondition_Normal)\n",
            "MAE: 13476.486841456592\n",
            "MSE: 484040275.20147824\n",
            "RMSE: 22000.91532644672\n",
            "R2: 0.9206459637726476\n",
            "Adjusted R2: 0.9027365294260182\n",
            "Training Data (Actual vs Predicted):\n",
            "   Actual_Train  Predicted_Train\n",
            "0        219500    240288.462059\n",
            "1        173000    181027.072326\n",
            "2        116500    144781.200064\n",
            "3        105000     95256.304579\n",
            "4         60000     45332.084175\n",
            "5        149500    156713.543059\n",
            "6        119750    129064.970368\n",
            "7        158000    173233.590666\n",
            "8        148000    121847.207397\n",
            "9        100000    100302.868606\n",
            "Test Data (Actual vs Predicted):\n",
            "   Actual_Test  Predicted_Test\n",
            "0       200624   281805.620353\n",
            "1       133000   143504.485046\n",
            "2       110000   117373.160363\n",
            "3       192000   214368.437365\n",
            "4        88000    95569.605053\n",
            "5        85000    66162.198638\n",
            "6       282922   261576.878232\n",
            "7       141000   120094.680704\n",
            "8       745000   528897.633044\n",
            "9       148800   157546.651181\n"
          ]
        },
        {
          "output_type": "display_data",
          "data": {
            "text/plain": [
              "<Figure size 640x480 with 1 Axes>"
            ],
            "image/png": "[encoded data removed]"
          },
          "metadata": {}
        }
      ]
    },
    {
      "cell_type": "code",
      "source": [],
      "metadata": {
        "id": "qkVCBnJ4s2j4"
      },
      "execution_count": null,
      "outputs": []
    }
  ]
}