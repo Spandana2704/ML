{
  "nbformat": 4,
  "nbformat_minor": 0,
  "metadata": {
    "colab": {
      "provenance": [],
      "authorship_tag": "ABX9TyPZlWg5PjzdijKfWcM+gctP",
      "include_colab_link": true
    },
    "kernelspec": {
      "name": "python3",
      "display_name": "Python 3"
    },
    "language_info": {
      "name": "python"
    }
  },
  "cells": [
    {
      "cell_type": "markdown",
      "metadata": {
        "id": "view-in-github",
        "colab_type": "text"
      },
      "source": [
        "<a href=\"https://colab.research.google.com/github/Spandana2704/ML/blob/main/ML(W4).ipynb\" target=\"_parent\"><img src=\"https://colab.research.google.com/assets/colab-badge.svg\" alt=\"Open In Colab\"/></a>"
      ]
    },
    {
      "cell_type": "code",
      "execution_count": 2,
      "metadata": {
        "id": "NsPxrsCTnNHO"
      },
      "outputs": [],
      "source": [
        "import pandas as pd\n",
        "import numpy as np"
      ]
    },
    {
      "cell_type": "code",
      "source": [
        "df=pd.read_csv('/content/titanic_train.csv')\n",
        "df.shape"
      ],
      "metadata": {
        "colab": {
          "base_uri": "https://localhost:8080/"
        },
        "id": "o54B-2-UoXGZ",
        "outputId": "e7f51a31-36fa-4119-c8e1-0fa50ccf8517"
      },
      "execution_count": 3,
      "outputs": [
        {
          "output_type": "execute_result",
          "data": {
            "text/plain": [
              "(891, 12)"
            ]
          },
          "metadata": {},
          "execution_count": 3
        }
      ]
    },
    {
      "cell_type": "code",
      "source": [
        "df.columns"
      ],
      "metadata": {
        "colab": {
          "base_uri": "https://localhost:8080/"
        },
        "id": "WWjbqXvsof-X",
        "outputId": "ec1c93d0-c07c-411b-c0e9-6cf82f2db90f"
      },
      "execution_count": 4,
      "outputs": [
        {
          "output_type": "execute_result",
          "data": {
            "text/plain": [
              "Index(['PassengerId', 'Survived', 'Pclass', 'Name', 'Sex', 'Age', 'SibSp',\n",
              "       'Parch', 'Ticket', 'Fare', 'Cabin', 'Embarked'],\n",
              "      dtype='object')"
            ]
          },
          "metadata": {},
          "execution_count": 4
        }
      ]
    },
    {
      "cell_type": "code",
      "source": [
        "df=df.drop(['PassengerId','Name','Ticket'],axis=1)"
      ],
      "metadata": {
        "id": "-W2YJZQeoiDn"
      },
      "execution_count": 5,
      "outputs": []
    },
    {
      "cell_type": "code",
      "source": [
        "df.head(5)"
      ],
      "metadata": {
        "colab": {
          "base_uri": "https://localhost:8080/",
          "height": 206
        },
        "id": "fZ7w8zkzo2VH",
        "outputId": "b40bd2cb-3ee8-49f5-edb8-93c542b60cb2"
      },
      "execution_count": 6,
      "outputs": [
        {
          "output_type": "execute_result",
          "data": {
            "text/plain": [
              "   Survived  Pclass     Sex   Age  SibSp  Parch     Fare Cabin Embarked\n",
              "0         0       3    male  22.0      1      0   7.2500   NaN        S\n",
              "1         1       1  female  38.0      1      0  71.2833   C85        C\n",
              "2         1       3  female  26.0      0      0   7.9250   NaN        S\n",
              "3         1       1  female  35.0      1      0  53.1000  C123        S\n",
              "4         0       3    male  35.0      0      0   8.0500   NaN        S"
            ],
            "text/html": [
              "\n",
              "  <div id=\"df-47cc6019-f75b-48f9-83ae-4cdf1c5810ee\" class=\"colab-df-container\">\n",
              "    <div>\n",
              "<style scoped>\n",
              "    .dataframe tbody tr th:only-of-type {\n",
              "        vertical-align: middle;\n",
              "    }\n",
              "\n",
              "    .dataframe tbody tr th {\n",
              "        vertical-align: top;\n",
              "    }\n",
              "\n",
              "    .dataframe thead th {\n",
              "        text-align: right;\n",
              "    }\n",
              "</style>\n",
              "<table border=\"1\" class=\"dataframe\">\n",
              "  <thead>\n",
              "    <tr style=\"text-align: right;\">\n",
              "      <th></th>\n",
              "      <th>Survived</th>\n",
              "      <th>Pclass</th>\n",
              "      <th>Sex</th>\n",
              "      <th>Age</th>\n",
              "      <th>SibSp</th>\n",
              "      <th>Parch</th>\n",
              "      <th>Fare</th>\n",
              "      <th>Cabin</th>\n",
              "      <th>Embarked</th>\n",
              "    </tr>\n",
              "  </thead>\n",
              "  <tbody>\n",
              "    <tr>\n",
              "      <th>0</th>\n",
              "      <td>0</td>\n",
              "      <td>3</td>\n",
              "      <td>male</td>\n",
              "      <td>22.0</td>\n",
              "      <td>1</td>\n",
              "      <td>0</td>\n",
              "      <td>7.2500</td>\n",
              "      <td>NaN</td>\n",
              "      <td>S</td>\n",
              "    </tr>\n",
              "    <tr>\n",
              "      <th>1</th>\n",
              "      <td>1</td>\n",
              "      <td>1</td>\n",
              "      <td>female</td>\n",
              "      <td>38.0</td>\n",
              "      <td>1</td>\n",
              "      <td>0</td>\n",
              "      <td>71.2833</td>\n",
              "      <td>C85</td>\n",
              "      <td>C</td>\n",
              "    </tr>\n",
              "    <tr>\n",
              "      <th>2</th>\n",
              "      <td>1</td>\n",
              "      <td>3</td>\n",
              "      <td>female</td>\n",
              "      <td>26.0</td>\n",
              "      <td>0</td>\n",
              "      <td>0</td>\n",
              "      <td>7.9250</td>\n",
              "      <td>NaN</td>\n",
              "      <td>S</td>\n",
              "    </tr>\n",
              "    <tr>\n",
              "      <th>3</th>\n",
              "      <td>1</td>\n",
              "      <td>1</td>\n",
              "      <td>female</td>\n",
              "      <td>35.0</td>\n",
              "      <td>1</td>\n",
              "      <td>0</td>\n",
              "      <td>53.1000</td>\n",
              "      <td>C123</td>\n",
              "      <td>S</td>\n",
              "    </tr>\n",
              "    <tr>\n",
              "      <th>4</th>\n",
              "      <td>0</td>\n",
              "      <td>3</td>\n",
              "      <td>male</td>\n",
              "      <td>35.0</td>\n",
              "      <td>0</td>\n",
              "      <td>0</td>\n",
              "      <td>8.0500</td>\n",
              "      <td>NaN</td>\n",
              "      <td>S</td>\n",
              "    </tr>\n",
              "  </tbody>\n",
              "</table>\n",
              "</div>\n",
              "    <div class=\"colab-df-buttons\">\n",
              "\n",
              "  <div class=\"colab-df-container\">\n",
              "    <button class=\"colab-df-convert\" onclick=\"convertToInteractive('df-47cc6019-f75b-48f9-83ae-4cdf1c5810ee')\"\n",
              "            title=\"Convert this dataframe to an interactive table.\"\n",
              "            style=\"display:none;\">\n",
              "\n",
              "  <svg xmlns=\"http://www.w3.org/2000/svg\" height=\"24px\" viewBox=\"0 -960 960 960\">\n",
              "    <path d=\"M120-120v-720h720v720H120Zm60-500h600v-160H180v160Zm220 220h160v-160H400v160Zm0 220h160v-160H400v160ZM180-400h160v-160H180v160Zm440 0h160v-160H620v160ZM180-180h160v-160H180v160Zm440 0h160v-160H620v160Z\"/>\n",
              "  </svg>\n",
              "    </button>\n",
              "\n",
              "  <style>\n",
              "    .colab-df-container {\n",
              "      display:flex;\n",
              "      gap: 12px;\n",
              "    }\n",
              "\n",
              "    .colab-df-convert {\n",
              "      background-color: #E8F0FE;\n",
              "      border: none;\n",
              "      border-radius: 50%;\n",
              "      cursor: pointer;\n",
              "      display: none;\n",
              "      fill: #1967D2;\n",
              "      height: 32px;\n",
              "      padding: 0 0 0 0;\n",
              "      width: 32px;\n",
              "    }\n",
              "\n",
              "    .colab-df-convert:hover {\n",
              "      background-color: #E2EBFA;\n",
              "      box-shadow: 0px 1px 2px rgba(60, 64, 67, 0.3), 0px 1px 3px 1px rgba(60, 64, 67, 0.15);\n",
              "      fill: #174EA6;\n",
              "    }\n",
              "\n",
              "    .colab-df-buttons div {\n",
              "      margin-bottom: 4px;\n",
              "    }\n",
              "\n",
              "    [theme=dark] .colab-df-convert {\n",
              "      background-color: #3B4455;\n",
              "      fill: #D2E3FC;\n",
              "    }\n",
              "\n",
              "    [theme=dark] .colab-df-convert:hover {\n",
              "      background-color: #434B5C;\n",
              "      box-shadow: 0px 1px 3px 1px rgba(0, 0, 0, 0.15);\n",
              "      filter: drop-shadow(0px 1px 2px rgba(0, 0, 0, 0.3));\n",
              "      fill: #FFFFFF;\n",
              "    }\n",
              "  </style>\n",
              "\n",
              "    <script>\n",
              "      const buttonEl =\n",
              "        document.querySelector('#df-47cc6019-f75b-48f9-83ae-4cdf1c5810ee button.colab-df-convert');\n",
              "      buttonEl.style.display =\n",
              "        google.colab.kernel.accessAllowed ? 'block' : 'none';\n",
              "\n",
              "      async function convertToInteractive(key) {\n",
              "        const element = document.querySelector('#df-47cc6019-f75b-48f9-83ae-4cdf1c5810ee');\n",
              "        const dataTable =\n",
              "          await google.colab.kernel.invokeFunction('convertToInteractive',\n",
              "                                                    [key], {});\n",
              "        if (!dataTable) return;\n",
              "\n",
              "        const docLinkHtml = 'Like what you see? Visit the ' +\n",
              "          '<a target=\"_blank\" href=https://colab.research.google.com/notebooks/data_table.ipynb>data table notebook</a>'\n",
              "          + ' to learn more about interactive tables.';\n",
              "        element.innerHTML = '';\n",
              "        dataTable['output_type'] = 'display_data';\n",
              "        await google.colab.output.renderOutput(dataTable, element);\n",
              "        const docLink = document.createElement('div');\n",
              "        docLink.innerHTML = docLinkHtml;\n",
              "        element.appendChild(docLink);\n",
              "      }\n",
              "    </script>\n",
              "  </div>\n",
              "\n",
              "\n",
              "    <div id=\"df-9015b497-b3bd-4665-b07e-92c9258af6df\">\n",
              "      <button class=\"colab-df-quickchart\" onclick=\"quickchart('df-9015b497-b3bd-4665-b07e-92c9258af6df')\"\n",
              "                title=\"Suggest charts\"\n",
              "                style=\"display:none;\">\n",
              "\n",
              "<svg xmlns=\"http://www.w3.org/2000/svg\" height=\"24px\"viewBox=\"0 0 24 24\"\n",
              "     width=\"24px\">\n",
              "    <g>\n",
              "        <path d=\"M19 3H5c-1.1 0-2 .9-2 2v14c0 1.1.9 2 2 2h14c1.1 0 2-.9 2-2V5c0-1.1-.9-2-2-2zM9 17H7v-7h2v7zm4 0h-2V7h2v10zm4 0h-2v-4h2v4z\"/>\n",
              "    </g>\n",
              "</svg>\n",
              "      </button>\n",
              "\n",
              "<style>\n",
              "  .colab-df-quickchart {\n",
              "      --bg-color: #E8F0FE;\n",
              "      --fill-color: #1967D2;\n",
              "      --hover-bg-color: #E2EBFA;\n",
              "      --hover-fill-color: #174EA6;\n",
              "      --disabled-fill-color: #AAA;\n",
              "      --disabled-bg-color: #DDD;\n",
              "  }\n",
              "\n",
              "  [theme=dark] .colab-df-quickchart {\n",
              "      --bg-color: #3B4455;\n",
              "      --fill-color: #D2E3FC;\n",
              "      --hover-bg-color: #434B5C;\n",
              "      --hover-fill-color: #FFFFFF;\n",
              "      --disabled-bg-color: #3B4455;\n",
              "      --disabled-fill-color: #666;\n",
              "  }\n",
              "\n",
              "  .colab-df-quickchart {\n",
              "    background-color: var(--bg-color);\n",
              "    border: none;\n",
              "    border-radius: 50%;\n",
              "    cursor: pointer;\n",
              "    display: none;\n",
              "    fill: var(--fill-color);\n",
              "    height: 32px;\n",
              "    padding: 0;\n",
              "    width: 32px;\n",
              "  }\n",
              "\n",
              "  .colab-df-quickchart:hover {\n",
              "    background-color: var(--hover-bg-color);\n",
              "    box-shadow: 0 1px 2px rgba(60, 64, 67, 0.3), 0 1px 3px 1px rgba(60, 64, 67, 0.15);\n",
              "    fill: var(--button-hover-fill-color);\n",
              "  }\n",
              "\n",
              "  .colab-df-quickchart-complete:disabled,\n",
              "  .colab-df-quickchart-complete:disabled:hover {\n",
              "    background-color: var(--disabled-bg-color);\n",
              "    fill: var(--disabled-fill-color);\n",
              "    box-shadow: none;\n",
              "  }\n",
              "\n",
              "  .colab-df-spinner {\n",
              "    border: 2px solid var(--fill-color);\n",
              "    border-color: transparent;\n",
              "    border-bottom-color: var(--fill-color);\n",
              "    animation:\n",
              "      spin 1s steps(1) infinite;\n",
              "  }\n",
              "\n",
              "  @keyframes spin {\n",
              "    0% {\n",
              "      border-color: transparent;\n",
              "      border-bottom-color: var(--fill-color);\n",
              "      border-left-color: var(--fill-color);\n",
              "    }\n",
              "    20% {\n",
              "      border-color: transparent;\n",
              "      border-left-color: var(--fill-color);\n",
              "      border-top-color: var(--fill-color);\n",
              "    }\n",
              "    30% {\n",
              "      border-color: transparent;\n",
              "      border-left-color: var(--fill-color);\n",
              "      border-top-color: var(--fill-color);\n",
              "      border-right-color: var(--fill-color);\n",
              "    }\n",
              "    40% {\n",
              "      border-color: transparent;\n",
              "      border-right-color: var(--fill-color);\n",
              "      border-top-color: var(--fill-color);\n",
              "    }\n",
              "    60% {\n",
              "      border-color: transparent;\n",
              "      border-right-color: var(--fill-color);\n",
              "    }\n",
              "    80% {\n",
              "      border-color: transparent;\n",
              "      border-right-color: var(--fill-color);\n",
              "      border-bottom-color: var(--fill-color);\n",
              "    }\n",
              "    90% {\n",
              "      border-color: transparent;\n",
              "      border-bottom-color: var(--fill-color);\n",
              "    }\n",
              "  }\n",
              "</style>\n",
              "\n",
              "      <script>\n",
              "        async function quickchart(key) {\n",
              "          const quickchartButtonEl =\n",
              "            document.querySelector('#' + key + ' button');\n",
              "          quickchartButtonEl.disabled = true;  // To prevent multiple clicks.\n",
              "          quickchartButtonEl.classList.add('colab-df-spinner');\n",
              "          try {\n",
              "            const charts = await google.colab.kernel.invokeFunction(\n",
              "                'suggestCharts', [key], {});\n",
              "          } catch (error) {\n",
              "            console.error('Error during call to suggestCharts:', error);\n",
              "          }\n",
              "          quickchartButtonEl.classList.remove('colab-df-spinner');\n",
              "          quickchartButtonEl.classList.add('colab-df-quickchart-complete');\n",
              "        }\n",
              "        (() => {\n",
              "          let quickchartButtonEl =\n",
              "            document.querySelector('#df-9015b497-b3bd-4665-b07e-92c9258af6df button');\n",
              "          quickchartButtonEl.style.display =\n",
              "            google.colab.kernel.accessAllowed ? 'block' : 'none';\n",
              "        })();\n",
              "      </script>\n",
              "    </div>\n",
              "\n",
              "    </div>\n",
              "  </div>\n"
            ],
            "application/vnd.google.colaboratory.intrinsic+json": {
              "type": "dataframe",
              "variable_name": "df",
              "summary": "{\n  \"name\": \"df\",\n  \"rows\": 891,\n  \"fields\": [\n    {\n      \"column\": \"Survived\",\n      \"properties\": {\n        \"dtype\": \"number\",\n        \"std\": 0,\n        \"min\": 0,\n        \"max\": 1,\n        \"num_unique_values\": 2,\n        \"samples\": [\n          1,\n          0\n        ],\n        \"semantic_type\": \"\",\n        \"description\": \"\"\n      }\n    },\n    {\n      \"column\": \"Pclass\",\n      \"properties\": {\n        \"dtype\": \"number\",\n        \"std\": 0,\n        \"min\": 1,\n        \"max\": 3,\n        \"num_unique_values\": 3,\n        \"samples\": [\n          3,\n          1\n        ],\n        \"semantic_type\": \"\",\n        \"description\": \"\"\n      }\n    },\n    {\n      \"column\": \"Sex\",\n      \"properties\": {\n        \"dtype\": \"category\",\n        \"num_unique_values\": 2,\n        \"samples\": [\n          \"female\",\n          \"male\"\n        ],\n        \"semantic_type\": \"\",\n        \"description\": \"\"\n      }\n    },\n    {\n      \"column\": \"Age\",\n      \"properties\": {\n        \"dtype\": \"number\",\n        \"std\": 14.526497332334044,\n        \"min\": 0.42,\n        \"max\": 80.0,\n        \"num_unique_values\": 88,\n        \"samples\": [\n          0.75,\n          22.0\n        ],\n        \"semantic_type\": \"\",\n        \"description\": \"\"\n      }\n    },\n    {\n      \"column\": \"SibSp\",\n      \"properties\": {\n        \"dtype\": \"number\",\n        \"std\": 1,\n        \"min\": 0,\n        \"max\": 8,\n        \"num_unique_values\": 7,\n        \"samples\": [\n          1,\n          0\n        ],\n        \"semantic_type\": \"\",\n        \"description\": \"\"\n      }\n    },\n    {\n      \"column\": \"Parch\",\n      \"properties\": {\n        \"dtype\": \"number\",\n        \"std\": 0,\n        \"min\": 0,\n        \"max\": 6,\n        \"num_unique_values\": 7,\n        \"samples\": [\n          0,\n          1\n        ],\n        \"semantic_type\": \"\",\n        \"description\": \"\"\n      }\n    },\n    {\n      \"column\": \"Fare\",\n      \"properties\": {\n        \"dtype\": \"number\",\n        \"std\": 49.693428597180905,\n        \"min\": 0.0,\n        \"max\": 512.3292,\n        \"num_unique_values\": 248,\n        \"samples\": [\n          11.2417,\n          51.8625\n        ],\n        \"semantic_type\": \"\",\n        \"description\": \"\"\n      }\n    },\n    {\n      \"column\": \"Cabin\",\n      \"properties\": {\n        \"dtype\": \"category\",\n        \"num_unique_values\": 147,\n        \"samples\": [\n          \"D45\",\n          \"B49\"\n        ],\n        \"semantic_type\": \"\",\n        \"description\": \"\"\n      }\n    },\n    {\n      \"column\": \"Embarked\",\n      \"properties\": {\n        \"dtype\": \"category\",\n        \"num_unique_values\": 3,\n        \"samples\": [\n          \"S\",\n          \"C\"\n        ],\n        \"semantic_type\": \"\",\n        \"description\": \"\"\n      }\n    }\n  ]\n}"
            }
          },
          "metadata": {},
          "execution_count": 6
        }
      ]
    },
    {
      "cell_type": "code",
      "source": [
        "[col for col in df.columns if df[col].isnull().sum()>0]"
      ],
      "metadata": {
        "colab": {
          "base_uri": "https://localhost:8080/"
        },
        "id": "O0N5vs3kpDm3",
        "outputId": "acc9c05d-cd78-454c-8ddb-55baa36e4867"
      },
      "execution_count": 7,
      "outputs": [
        {
          "output_type": "execute_result",
          "data": {
            "text/plain": [
              "['Age', 'Cabin', 'Embarked']"
            ]
          },
          "metadata": {},
          "execution_count": 7
        }
      ]
    },
    {
      "cell_type": "code",
      "source": [
        "df['Age'] = df['Age'].fillna(df['Age'].median())"
      ],
      "metadata": {
        "id": "h3njCa4Xp8z3"
      },
      "execution_count": 8,
      "outputs": []
    },
    {
      "cell_type": "code",
      "source": [
        "df=df.drop(['Embarked','Cabin'],axis=1)"
      ],
      "metadata": {
        "id": "5VM8wJEvqXTX"
      },
      "execution_count": 9,
      "outputs": []
    },
    {
      "cell_type": "code",
      "source": [
        "from sklearn.ensemble import RandomForestClassifier,RandomForestRegressor"
      ],
      "metadata": {
        "id": "cHlTGa7-qd5X"
      },
      "execution_count": 10,
      "outputs": []
    },
    {
      "cell_type": "code",
      "source": [
        "from sklearn.metrics import roc_auc_score"
      ],
      "metadata": {
        "id": "fBcx9zMjq5r3"
      },
      "execution_count": 11,
      "outputs": []
    },
    {
      "cell_type": "code",
      "source": [
        "from mlxtend.feature_selection import SequentialFeatureSelector as SFS"
      ],
      "metadata": {
        "id": "RA2_e2p5rWWn"
      },
      "execution_count": 12,
      "outputs": []
    },
    {
      "cell_type": "code",
      "source": [
        "X = df.drop('Survived',axis=1)\n",
        "y = df['Survived']"
      ],
      "metadata": {
        "id": "zgHrrIYHrk_n"
      },
      "execution_count": 13,
      "outputs": []
    },
    {
      "cell_type": "code",
      "source": [
        "X = pd.get_dummies(X,drop_first=True)"
      ],
      "metadata": {
        "id": "yBp3GH85sexw"
      },
      "execution_count": 14,
      "outputs": []
    },
    {
      "cell_type": "code",
      "source": [
        "from sklearn.model_selection import train_test_split"
      ],
      "metadata": {
        "id": "nwnIFX-Pr1bv"
      },
      "execution_count": 15,
      "outputs": []
    },
    {
      "cell_type": "code",
      "source": [
        "x_train,x_test,y_train,y_test=train_test_split(X,y,test_size=0.3,random_state=0)"
      ],
      "metadata": {
        "id": "c274i1FvruhQ"
      },
      "execution_count": 16,
      "outputs": []
    },
    {
      "cell_type": "code",
      "source": [
        "grouped_feature_ls = []\n",
        "correlated_groups = []\n",
        "def correlation (dataset, threshold):\n",
        "    col_corr = set()\n",
        "    corr_matrix = dataset.corr()\n",
        "    for i in range(len(corr_matrix.columns)):\n",
        "        for j in range(i):\n",
        "            if abs(corr_matrix.iloc[i, j]) > threshold:\n",
        "                colname=corr_matrix.columns[i]\n",
        "                col_corr.add(colname)\n",
        "    return col_corr\n",
        "corr_features=correlation (x_test, 0.9)\n",
        "correlated_features = set(corr_features)\n",
        "print(len(correlated_features))"
      ],
      "metadata": {
        "colab": {
          "base_uri": "https://localhost:8080/"
        },
        "id": "JWUFWF_prxPn",
        "outputId": "a4b992b7-494f-4a34-9c2d-fbac57ee8145"
      },
      "execution_count": 17,
      "outputs": [
        {
          "output_type": "stream",
          "name": "stdout",
          "text": [
            "0\n"
          ]
        }
      ]
    },
    {
      "cell_type": "code",
      "source": [
        "sfs1=SFS(RandomForestClassifier(n_jobs=4),k_features=5,forward=True,verbose=2,scoring='roc_auc' or 'accuracy',cv=3)"
      ],
      "metadata": {
        "id": "kocNhsabsaen"
      },
      "execution_count": 18,
      "outputs": []
    },
    {
      "cell_type": "code",
      "source": [
        "sfs1=sfs1.fit(np.array(x_train.fillna(0)),y_train)"
      ],
      "metadata": {
        "colab": {
          "base_uri": "https://localhost:8080/"
        },
        "id": "k22-mahKtduY",
        "outputId": "1a8df4c7-3d11-4bab-bbb2-534e0915dac2"
      },
      "execution_count": 19,
      "outputs": [
        {
          "output_type": "stream",
          "name": "stderr",
          "text": [
            "[Parallel(n_jobs=1)]: Done   6 out of   6 | elapsed:    5.2s finished\n",
            "\n",
            "[2025-08-20 04:44:46] Features: 1/5 -- score: 0.765194136612553[Parallel(n_jobs=1)]: Done   5 out of   5 | elapsed:    3.9s finished\n",
            "\n",
            "[2025-08-20 04:44:50] Features: 2/5 -- score: 0.832223720877483[Parallel(n_jobs=1)]: Done   4 out of   4 | elapsed:    3.2s finished\n",
            "\n",
            "[2025-08-20 04:44:53] Features: 3/5 -- score: 0.840197579469233[Parallel(n_jobs=1)]: Done   3 out of   3 | elapsed:    2.5s finished\n",
            "\n",
            "[2025-08-20 04:44:56] Features: 4/5 -- score: 0.8410751028806583[Parallel(n_jobs=1)]: Done   2 out of   2 | elapsed:    2.1s finished\n",
            "\n",
            "[2025-08-20 04:44:58] Features: 5/5 -- score: 0.8427523816467386"
          ]
        }
      ]
    },
    {
      "cell_type": "code",
      "source": [
        "print('best accracy score',sfs1.k_score_)\n",
        "print('best subset(indices)',sfs1.k_feature_idx_)\n",
        "print('Best subset (corresponding names):', sfs1.k_feature_names_)"
      ],
      "metadata": {
        "id": "An62qytnuCjX",
        "colab": {
          "base_uri": "https://localhost:8080/"
        },
        "outputId": "5b6ce0e0-5586-4eb5-fd59-325152aa3e73"
      },
      "execution_count": 20,
      "outputs": [
        {
          "output_type": "stream",
          "name": "stdout",
          "text": [
            "best accracy score 0.8427523816467386\n",
            "best subset(indices) (0, 1, 2, 4, 5)\n",
            "Best subset (corresponding names): ('0', '1', '2', '4', '5')\n"
          ]
        }
      ]
    },
    {
      "cell_type": "code",
      "source": [
        "sfs2=SFS(RandomForestClassifier(n_jobs=4),k_features=5,forward=False,verbose=2,scoring='roc_auc' or 'accuracy',cv=3)\n",
        "sfs2=sfs2.fit(np.array(x_train.fillna(0)),y_train)\n",
        "print('best accracy score',sfs2.k_score_)\n",
        "print('best subset(indices)',sfs2.k_feature_idx_)\n",
        "print('Best subset (corresponding names):', sfs2.k_feature_names_)"
      ],
      "metadata": {
        "id": "iSmq9JMxu0Ro",
        "colab": {
          "base_uri": "https://localhost:8080/"
        },
        "outputId": "8bc5a38e-a776-40c4-bf64-a97a8117075d"
      },
      "execution_count": 21,
      "outputs": [
        {
          "output_type": "stream",
          "name": "stdout",
          "text": [
            "best accracy score 0.8434693059200934\n",
            "best subset(indices) (0, 1, 3, 4, 5)\n",
            "Best subset (corresponding names): ('0', '1', '3', '4', '5')\n"
          ]
        },
        {
          "output_type": "stream",
          "name": "stderr",
          "text": [
            "[Parallel(n_jobs=1)]: Done   6 out of   6 | elapsed:    4.4s finished\n",
            "\n",
            "[2025-08-20 04:45:40] Features: 5/5 -- score: 0.8434693059200934"
          ]
        }
      ]
    },
    {
      "cell_type": "code",
      "source": [
        "from mlxtend.feature_selection import ExhaustiveFeatureSelector as EFS\n",
        "efs=EFS(RandomForestClassifier(n_jobs=4),min_features=1,max_features=4,scoring='accuracy',cv=5)\n",
        "efs=efs.fit(x_train,y_train)"
      ],
      "metadata": {
        "id": "4iY4ABo4vCQf",
        "colab": {
          "base_uri": "https://localhost:8080/"
        },
        "outputId": "0f7cd619-f1bd-46bc-83c2-fffae1bbfb96"
      },
      "execution_count": 22,
      "outputs": [
        {
          "output_type": "stream",
          "name": "stderr",
          "text": [
            "Features: 56/56"
          ]
        }
      ]
    },
    {
      "cell_type": "code",
      "source": [
        "print('best accuracy score',efs.best_score_)\n",
        "print('best subset(indices)',efs.best_idx_)\n",
        "print('Best subset (corresponding names):', efs.best_feature_names_)"
      ],
      "metadata": {
        "colab": {
          "base_uri": "https://localhost:8080/"
        },
        "id": "IjCY8131zRa9",
        "outputId": "9906a70b-d02d-4a82-a9e0-a5a6112390f2"
      },
      "execution_count": 23,
      "outputs": [
        {
          "output_type": "stream",
          "name": "stdout",
          "text": [
            "best accuracy score 0.8138580645161291\n",
            "best subset(indices) (0, 1, 5)\n",
            "Best subset (corresponding names): ('Pclass', 'Age', 'Sex_male')\n"
          ]
        }
      ]
    },
    {
      "cell_type": "code",
      "source": [
        "efs_results = pd.DataFrame.from_dict(efs.get_metric_dict()).T\n",
        "efs_results.sort_values(by='avg_score', ascending=True, inplace=True)\n",
        "efs_results"
      ],
      "metadata": {
        "id": "4nck9ykexSDv",
        "colab": {
          "base_uri": "https://localhost:8080/",
          "height": 1000
        },
        "outputId": "018e4cb5-8fe4-4d3d-810f-c9f844d806c4"
      },
      "execution_count": 24,
      "outputs": [
        {
          "output_type": "execute_result",
          "data": {
            "text/plain": [
              "     feature_idx                                          cv_scores avg_score  \\\n",
              "1           (1,)  [0.624, 0.552, 0.624, 0.5564516129032258, 0.59...  0.590645   \n",
              "12        (1, 3)  [0.56, 0.584, 0.608, 0.6209677419354839, 0.596...  0.593948   \n",
              "11        (1, 2)  [0.64, 0.56, 0.632, 0.5645161290322581, 0.5967...  0.598658   \n",
              "13        (1, 4)  [0.6, 0.616, 0.592, 0.5564516129032258, 0.6370...   0.60031   \n",
              "3           (3,)  [0.568, 0.6, 0.616, 0.6048387096774194, 0.6451...    0.6068   \n",
              "34     (1, 3, 4)  [0.592, 0.608, 0.648, 0.6129032258064516, 0.62...  0.616374   \n",
              "42  (0, 1, 2, 4)  [0.656, 0.624, 0.632, 0.5967741935483871, 0.63...  0.629174   \n",
              "31     (1, 2, 3)  [0.632, 0.576, 0.672, 0.6209677419354839, 0.64...  0.629226   \n",
              "32     (1, 2, 4)  [0.664, 0.648, 0.632, 0.5887096774193549, 0.65...  0.637187   \n",
              "51  (1, 2, 3, 4)  [0.656, 0.64, 0.632, 0.6370967741935484, 0.620...  0.637213   \n",
              "2           (2,)  [0.624, 0.624, 0.656, 0.5645161290322581, 0.71...  0.637252   \n",
              "21     (0, 1, 2)  [0.624, 0.624, 0.704, 0.6129032258064516, 0.64...  0.642013   \n",
              "44  (0, 1, 3, 4)  [0.624, 0.648, 0.648, 0.6532258064516129, 0.65...   0.64529   \n",
              "6         (0, 1)  [0.648, 0.648, 0.656, 0.6129032258064516, 0.66...  0.646852   \n",
              "23     (0, 1, 4)  [0.632, 0.64, 0.672, 0.6129032258064516, 0.685...  0.648477   \n",
              "15        (2, 3)  [0.648, 0.64, 0.712, 0.6209677419354839, 0.677...  0.659677   \n",
              "41  (0, 1, 2, 3)  [0.616, 0.616, 0.752, 0.6693548387096774, 0.65...  0.661316   \n",
              "0           (0,)  [0.64, 0.656, 0.68, 0.7016129032258065, 0.6290...  0.661329   \n",
              "22     (0, 1, 3)  [0.6, 0.672, 0.728, 0.6693548387096774, 0.6612...  0.666129   \n",
              "37     (2, 3, 4)  [0.696, 0.688, 0.616, 0.6532258064516129, 0.67...  0.666129   \n",
              "18        (3, 4)  [0.664, 0.648, 0.68, 0.6451612903225806, 0.701...  0.667755   \n",
              "16        (2, 4)  [0.664, 0.68, 0.744, 0.6451612903225806, 0.637...  0.674052   \n",
              "25     (0, 2, 3)  [0.664, 0.688, 0.672, 0.6774193548387096, 0.67...  0.675768   \n",
              "47  (0, 2, 3, 4)  [0.688, 0.648, 0.72, 0.6612903225806451, 0.677...  0.678942   \n",
              "7         (0, 2)  [0.656, 0.664, 0.688, 0.6774193548387096, 0.70...  0.679019   \n",
              "26     (0, 2, 4)  [0.688, 0.664, 0.736, 0.6612903225806451, 0.66...  0.682116   \n",
              "4           (4,)  [0.696, 0.688, 0.664, 0.6935483870967742, 0.68...  0.685406   \n",
              "28     (0, 3, 4)  [0.68, 0.688, 0.68, 0.6935483870967742, 0.6935...  0.687019   \n",
              "9         (0, 4)  [0.688, 0.68, 0.72, 0.6935483870967742, 0.6854...  0.693406   \n",
              "8         (0, 3)  [0.672, 0.704, 0.736, 0.6935483870967742, 0.70...  0.703045   \n",
              "54  (1, 3, 4, 5)  [0.704, 0.792, 0.736, 0.7580645161290323, 0.78...  0.754465   \n",
              "10        (0, 5)                    [0.752, 0.8, 0.768, 0.75, 0.75]     0.764   \n",
              "35     (1, 3, 5)    [0.744, 0.776, 0.744, 0.75, 0.8064516129032258]   0.76409   \n",
              "36     (1, 4, 5)  [0.704, 0.808, 0.744, 0.7661290322580645, 0.79...  0.764103   \n",
              "52  (1, 2, 3, 5)  [0.736, 0.752, 0.76, 0.7903225806451613, 0.790...  0.765729   \n",
              "53  (1, 2, 4, 5)  [0.736, 0.784, 0.768, 0.7661290322580645, 0.78...  0.767277   \n",
              "14        (1, 5)  [0.736, 0.824, 0.696, 0.782258064516129, 0.822...  0.772168   \n",
              "48  (0, 2, 3, 5)  [0.784, 0.8, 0.776, 0.7419354838709677, 0.7741...  0.775226   \n",
              "55  (2, 3, 4, 5)  [0.76, 0.816, 0.776, 0.7741935483870968, 0.758...  0.776852   \n",
              "38     (2, 3, 5)    [0.784, 0.792, 0.752, 0.75, 0.8145161290322581]  0.778503   \n",
              "39     (2, 4, 5)  [0.76, 0.832, 0.8, 0.7580645161290323, 0.75806...  0.781626   \n",
              "40     (3, 4, 5)     [0.744, 0.84, 0.768, 0.75, 0.8064516129032258]   0.78169   \n",
              "33     (1, 2, 5)  [0.72, 0.76, 0.776, 0.8145161290322581, 0.8387...  0.781845   \n",
              "20        (4, 5)  [0.752, 0.816, 0.776, 0.8064516129032258, 0.77...  0.784929   \n",
              "50  (0, 3, 4, 5)  [0.768, 0.84, 0.776, 0.7903225806451613, 0.758...  0.786477   \n",
              "19        (3, 5)  [0.768, 0.8, 0.768, 0.7903225806451613, 0.8064...  0.786555   \n",
              "5           (5,)  [0.752, 0.8, 0.768, 0.7983870967741935, 0.8145...  0.786581   \n",
              "27     (0, 2, 5)  [0.776, 0.792, 0.76, 0.8064516129032258, 0.814...  0.789794   \n",
              "17        (2, 5)  [0.76, 0.792, 0.768, 0.8145161290322581, 0.830...  0.793032   \n",
              "29     (0, 3, 5)  [0.776, 0.816, 0.808, 0.7580645161290323, 0.83...  0.799355   \n",
              "45  (0, 1, 3, 5)  [0.752, 0.824, 0.784, 0.8064516129032258, 0.83...  0.801032   \n",
              "49  (0, 2, 4, 5)  [0.8, 0.824, 0.816, 0.7903225806451613, 0.7822...  0.802516   \n",
              "30     (0, 4, 5)  [0.76, 0.824, 0.816, 0.8145161290322581, 0.798...  0.802581   \n",
              "46  (0, 1, 4, 5)  [0.76, 0.824, 0.808, 0.7903225806451613, 0.830...  0.802594   \n",
              "43  (0, 1, 2, 5)  [0.752, 0.84, 0.816, 0.8145161290322581, 0.846...  0.813858   \n",
              "24     (0, 1, 5)  [0.8, 0.832, 0.776, 0.7983870967741935, 0.8629...  0.813858   \n",
              "\n",
              "                       feature_names  ci_bound   std_dev   std_err  \n",
              "1                             (Age,)   0.04034  0.031386  0.015693  \n",
              "12                      (Age, Parch)   0.02688  0.020914  0.010457  \n",
              "11                      (Age, SibSp)  0.042568   0.03312   0.01656  \n",
              "13                       (Age, Fare)   0.03445  0.026804  0.013402  \n",
              "3                           (Parch,)  0.032064  0.024947  0.012473  \n",
              "34                (Age, Parch, Fare)  0.023683  0.018426  0.009213  \n",
              "42        (Pclass, Age, SibSp, Fare)  0.024836  0.019323  0.009662  \n",
              "31               (Age, SibSp, Parch)  0.040614  0.031599  0.015799  \n",
              "32                (Age, SibSp, Fare)   0.03386  0.026344  0.013172  \n",
              "51         (Age, SibSp, Parch, Fare)  0.014675  0.011418  0.005709  \n",
              "2                           (SibSp,)  0.064192  0.049944  0.024972  \n",
              "21              (Pclass, Age, SibSp)  0.042038  0.032707  0.016353  \n",
              "44        (Pclass, Age, Parch, Fare)  0.014008  0.010899  0.005449  \n",
              "6                      (Pclass, Age)  0.024013  0.018683  0.009341  \n",
              "23               (Pclass, Age, Fare)  0.034159  0.026577  0.013288  \n",
              "15                    (SibSp, Parch)  0.040946  0.031857  0.015929  \n",
              "41       (Pclass, Age, SibSp, Parch)  0.064164  0.049921  0.024961  \n",
              "0                          (Pclass,)  0.033995  0.026449  0.013225  \n",
              "22              (Pclass, Age, Parch)   0.05227  0.040668  0.020334  \n",
              "37              (SibSp, Parch, Fare)  0.037151  0.028905  0.014453  \n",
              "18                     (Parch, Fare)  0.027029  0.021029  0.010515  \n",
              "16                     (SibSp, Fare)  0.048873  0.038025  0.019013  \n",
              "25            (Pclass, SibSp, Parch)  0.010084  0.007846  0.003923  \n",
              "47      (Pclass, SibSp, Parch, Fare)  0.031688  0.024654  0.012327  \n",
              "7                    (Pclass, SibSp)  0.024241  0.018861   0.00943  \n",
              "26             (Pclass, SibSp, Fare)  0.036956  0.028753  0.014377  \n",
              "4                            (Fare,)  0.014581  0.011344  0.005672  \n",
              "28             (Pclass, Parch, Fare)  0.007813  0.006079  0.003039  \n",
              "9                     (Pclass, Fare)  0.017985  0.013993  0.006996  \n",
              "8                    (Pclass, Parch)  0.026868  0.020904  0.010452  \n",
              "54      (Age, Parch, Fare, Sex_male)  0.040976  0.031881   0.01594  \n",
              "10                (Pclass, Sex_male)   0.02471  0.019225  0.009612  \n",
              "35            (Age, Parch, Sex_male)  0.031178  0.024257  0.012129  \n",
              "36             (Age, Fare, Sex_male)  0.048512  0.037744  0.018872  \n",
              "52     (Age, SibSp, Parch, Sex_male)  0.027655  0.021517  0.010758  \n",
              "53      (Age, SibSp, Fare, Sex_male)  0.022144  0.017229  0.008614  \n",
              "14                   (Age, Sex_male)  0.064109  0.049879  0.024939  \n",
              "48  (Pclass, SibSp, Parch, Sex_male)  0.024391  0.018977  0.009489  \n",
              "55    (SibSp, Parch, Fare, Sex_male)  0.026821  0.020868  0.010434  \n",
              "38          (SibSp, Parch, Sex_male)   0.03161  0.024593  0.012297  \n",
              "39           (SibSp, Fare, Sex_male)  0.038357  0.029843  0.014922  \n",
              "40           (Parch, Fare, Sex_male)  0.046787  0.036402  0.018201  \n",
              "33            (Age, SibSp, Sex_male)   0.05342  0.041562  0.020781  \n",
              "20                  (Fare, Sex_male)  0.029911  0.023272  0.011636  \n",
              "50   (Pclass, Parch, Fare, Sex_male)  0.036975  0.028768  0.014384  \n",
              "19                 (Parch, Sex_male)   0.02056  0.015996  0.007998  \n",
              "5                        (Sex_male,)  0.029539  0.022982  0.011491  \n",
              "27         (Pclass, SibSp, Sex_male)  0.025522  0.019857  0.009928  \n",
              "17                 (SibSp, Sex_male)  0.034464  0.026815  0.013407  \n",
              "29         (Pclass, Parch, Sex_male)  0.037033  0.028813  0.014406  \n",
              "45    (Pclass, Age, Parch, Sex_male)  0.039283  0.030564  0.015282  \n",
              "49   (Pclass, SibSp, Fare, Sex_male)  0.019984  0.015548  0.007774  \n",
              "30          (Pclass, Fare, Sex_male)  0.029377  0.022856  0.011428  \n",
              "46     (Pclass, Age, Fare, Sex_male)  0.032714  0.025452  0.012726  \n",
              "43    (Pclass, Age, SibSp, Sex_male)  0.043008  0.033461  0.016731  \n",
              "24           (Pclass, Age, Sex_male)  0.038981  0.030329  0.015164  "
            ],
            "text/html": [
              "\n",
              "  <div id=\"df-752c8a69-256b-48c8-8963-89f6ef851e59\" class=\"colab-df-container\">\n",
              "    <div>\n",
              "<style scoped>\n",
              "    .dataframe tbody tr th:only-of-type {\n",
              "        vertical-align: middle;\n",
              "    }\n",
              "\n",
              "    .dataframe tbody tr th {\n",
              "        vertical-align: top;\n",
              "    }\n",
              "\n",
              "    .dataframe thead th {\n",
              "        text-align: right;\n",
              "    }\n",
              "</style>\n",
              "<table border=\"1\" class=\"dataframe\">\n",
              "  <thead>\n",
              "    <tr style=\"text-align: right;\">\n",
              "      <th></th>\n",
              "      <th>feature_idx</th>\n",
              "      <th>cv_scores</th>\n",
              "      <th>avg_score</th>\n",
              "      <th>feature_names</th>\n",
              "      <th>ci_bound</th>\n",
              "      <th>std_dev</th>\n",
              "      <th>std_err</th>\n",
              "    </tr>\n",
              "  </thead>\n",
              "  <tbody>\n",
              "    <tr>\n",
              "      <th>1</th>\n",
              "      <td>(1,)</td>\n",
              "      <td>[0.624, 0.552, 0.624, 0.5564516129032258, 0.59...</td>\n",
              "      <td>0.590645</td>\n",
              "      <td>(Age,)</td>\n",
              "      <td>0.04034</td>\n",
              "      <td>0.031386</td>\n",
              "      <td>0.015693</td>\n",
              "    </tr>\n",
              "    <tr>\n",
              "      <th>12</th>\n",
              "      <td>(1, 3)</td>\n",
              "      <td>[0.56, 0.584, 0.608, 0.6209677419354839, 0.596...</td>\n",
              "      <td>0.593948</td>\n",
              "      <td>(Age, Parch)</td>\n",
              "      <td>0.02688</td>\n",
              "      <td>0.020914</td>\n",
              "      <td>0.010457</td>\n",
              "    </tr>\n",
              "    <tr>\n",
              "      <th>11</th>\n",
              "      <td>(1, 2)</td>\n",
              "      <td>[0.64, 0.56, 0.632, 0.5645161290322581, 0.5967...</td>\n",
              "      <td>0.598658</td>\n",
              "      <td>(Age, SibSp)</td>\n",
              "      <td>0.042568</td>\n",
              "      <td>0.03312</td>\n",
              "      <td>0.01656</td>\n",
              "    </tr>\n",
              "    <tr>\n",
              "      <th>13</th>\n",
              "      <td>(1, 4)</td>\n",
              "      <td>[0.6, 0.616, 0.592, 0.5564516129032258, 0.6370...</td>\n",
              "      <td>0.60031</td>\n",
              "      <td>(Age, Fare)</td>\n",
              "      <td>0.03445</td>\n",
              "      <td>0.026804</td>\n",
              "      <td>0.013402</td>\n",
              "    </tr>\n",
              "    <tr>\n",
              "      <th>3</th>\n",
              "      <td>(3,)</td>\n",
              "      <td>[0.568, 0.6, 0.616, 0.6048387096774194, 0.6451...</td>\n",
              "      <td>0.6068</td>\n",
              "      <td>(Parch,)</td>\n",
              "      <td>0.032064</td>\n",
              "      <td>0.024947</td>\n",
              "      <td>0.012473</td>\n",
              "    </tr>\n",
              "    <tr>\n",
              "      <th>34</th>\n",
              "      <td>(1, 3, 4)</td>\n",
              "      <td>[0.592, 0.608, 0.648, 0.6129032258064516, 0.62...</td>\n",
              "      <td>0.616374</td>\n",
              "      <td>(Age, Parch, Fare)</td>\n",
              "      <td>0.023683</td>\n",
              "      <td>0.018426</td>\n",
              "      <td>0.009213</td>\n",
              "    </tr>\n",
              "    <tr>\n",
              "      <th>42</th>\n",
              "      <td>(0, 1, 2, 4)</td>\n",
              "      <td>[0.656, 0.624, 0.632, 0.5967741935483871, 0.63...</td>\n",
              "      <td>0.629174</td>\n",
              "      <td>(Pclass, Age, SibSp, Fare)</td>\n",
              "      <td>0.024836</td>\n",
              "      <td>0.019323</td>\n",
              "      <td>0.009662</td>\n",
              "    </tr>\n",
              "    <tr>\n",
              "      <th>31</th>\n",
              "      <td>(1, 2, 3)</td>\n",
              "      <td>[0.632, 0.576, 0.672, 0.6209677419354839, 0.64...</td>\n",
              "      <td>0.629226</td>\n",
              "      <td>(Age, SibSp, Parch)</td>\n",
              "      <td>0.040614</td>\n",
              "      <td>0.031599</td>\n",
              "      <td>0.015799</td>\n",
              "    </tr>\n",
              "    <tr>\n",
              "      <th>32</th>\n",
              "      <td>(1, 2, 4)</td>\n",
              "      <td>[0.664, 0.648, 0.632, 0.5887096774193549, 0.65...</td>\n",
              "      <td>0.637187</td>\n",
              "      <td>(Age, SibSp, Fare)</td>\n",
              "      <td>0.03386</td>\n",
              "      <td>0.026344</td>\n",
              "      <td>0.013172</td>\n",
              "    </tr>\n",
              "    <tr>\n",
              "      <th>51</th>\n",
              "      <td>(1, 2, 3, 4)</td>\n",
              "      <td>[0.656, 0.64, 0.632, 0.6370967741935484, 0.620...</td>\n",
              "      <td>0.637213</td>\n",
              "      <td>(Age, SibSp, Parch, Fare)</td>\n",
              "      <td>0.014675</td>\n",
              "      <td>0.011418</td>\n",
              "      <td>0.005709</td>\n",
              "    </tr>\n",
              "    <tr>\n",
              "      <th>2</th>\n",
              "      <td>(2,)</td>\n",
              "      <td>[0.624, 0.624, 0.656, 0.5645161290322581, 0.71...</td>\n",
              "      <td>0.637252</td>\n",
              "      <td>(SibSp,)</td>\n",
              "      <td>0.064192</td>\n",
              "      <td>0.049944</td>\n",
              "      <td>0.024972</td>\n",
              "    </tr>\n",
              "    <tr>\n",
              "      <th>21</th>\n",
              "      <td>(0, 1, 2)</td>\n",
              "      <td>[0.624, 0.624, 0.704, 0.6129032258064516, 0.64...</td>\n",
              "      <td>0.642013</td>\n",
              "      <td>(Pclass, Age, SibSp)</td>\n",
              "      <td>0.042038</td>\n",
              "      <td>0.032707</td>\n",
              "      <td>0.016353</td>\n",
              "    </tr>\n",
              "    <tr>\n",
              "      <th>44</th>\n",
              "      <td>(0, 1, 3, 4)</td>\n",
              "      <td>[0.624, 0.648, 0.648, 0.6532258064516129, 0.65...</td>\n",
              "      <td>0.64529</td>\n",
              "      <td>(Pclass, Age, Parch, Fare)</td>\n",
              "      <td>0.014008</td>\n",
              "      <td>0.010899</td>\n",
              "      <td>0.005449</td>\n",
              "    </tr>\n",
              "    <tr>\n",
              "      <th>6</th>\n",
              "      <td>(0, 1)</td>\n",
              "      <td>[0.648, 0.648, 0.656, 0.6129032258064516, 0.66...</td>\n",
              "      <td>0.646852</td>\n",
              "      <td>(Pclass, Age)</td>\n",
              "      <td>0.024013</td>\n",
              "      <td>0.018683</td>\n",
              "      <td>0.009341</td>\n",
              "    </tr>\n",
              "    <tr>\n",
              "      <th>23</th>\n",
              "      <td>(0, 1, 4)</td>\n",
              "      <td>[0.632, 0.64, 0.672, 0.6129032258064516, 0.685...</td>\n",
              "      <td>0.648477</td>\n",
              "      <td>(Pclass, Age, Fare)</td>\n",
              "      <td>0.034159</td>\n",
              "      <td>0.026577</td>\n",
              "      <td>0.013288</td>\n",
              "    </tr>\n",
              "    <tr>\n",
              "      <th>15</th>\n",
              "      <td>(2, 3)</td>\n",
              "      <td>[0.648, 0.64, 0.712, 0.6209677419354839, 0.677...</td>\n",
              "      <td>0.659677</td>\n",
              "      <td>(SibSp, Parch)</td>\n",
              "      <td>0.040946</td>\n",
              "      <td>0.031857</td>\n",
              "      <td>0.015929</td>\n",
              "    </tr>\n",
              "    <tr>\n",
              "      <th>41</th>\n",
              "      <td>(0, 1, 2, 3)</td>\n",
              "      <td>[0.616, 0.616, 0.752, 0.6693548387096774, 0.65...</td>\n",
              "      <td>0.661316</td>\n",
              "      <td>(Pclass, Age, SibSp, Parch)</td>\n",
              "      <td>0.064164</td>\n",
              "      <td>0.049921</td>\n",
              "      <td>0.024961</td>\n",
              "    </tr>\n",
              "    <tr>\n",
              "      <th>0</th>\n",
              "      <td>(0,)</td>\n",
              "      <td>[0.64, 0.656, 0.68, 0.7016129032258065, 0.6290...</td>\n",
              "      <td>0.661329</td>\n",
              "      <td>(Pclass,)</td>\n",
              "      <td>0.033995</td>\n",
              "      <td>0.026449</td>\n",
              "      <td>0.013225</td>\n",
              "    </tr>\n",
              "    <tr>\n",
              "      <th>22</th>\n",
              "      <td>(0, 1, 3)</td>\n",
              "      <td>[0.6, 0.672, 0.728, 0.6693548387096774, 0.6612...</td>\n",
              "      <td>0.666129</td>\n",
              "      <td>(Pclass, Age, Parch)</td>\n",
              "      <td>0.05227</td>\n",
              "      <td>0.040668</td>\n",
              "      <td>0.020334</td>\n",
              "    </tr>\n",
              "    <tr>\n",
              "      <th>37</th>\n",
              "      <td>(2, 3, 4)</td>\n",
              "      <td>[0.696, 0.688, 0.616, 0.6532258064516129, 0.67...</td>\n",
              "      <td>0.666129</td>\n",
              "      <td>(SibSp, Parch, Fare)</td>\n",
              "      <td>0.037151</td>\n",
              "      <td>0.028905</td>\n",
              "      <td>0.014453</td>\n",
              "    </tr>\n",
              "    <tr>\n",
              "      <th>18</th>\n",
              "      <td>(3, 4)</td>\n",
              "      <td>[0.664, 0.648, 0.68, 0.6451612903225806, 0.701...</td>\n",
              "      <td>0.667755</td>\n",
              "      <td>(Parch, Fare)</td>\n",
              "      <td>0.027029</td>\n",
              "      <td>0.021029</td>\n",
              "      <td>0.010515</td>\n",
              "    </tr>\n",
              "    <tr>\n",
              "      <th>16</th>\n",
              "      <td>(2, 4)</td>\n",
              "      <td>[0.664, 0.68, 0.744, 0.6451612903225806, 0.637...</td>\n",
              "      <td>0.674052</td>\n",
              "      <td>(SibSp, Fare)</td>\n",
              "      <td>0.048873</td>\n",
              "      <td>0.038025</td>\n",
              "      <td>0.019013</td>\n",
              "    </tr>\n",
              "    <tr>\n",
              "      <th>25</th>\n",
              "      <td>(0, 2, 3)</td>\n",
              "      <td>[0.664, 0.688, 0.672, 0.6774193548387096, 0.67...</td>\n",
              "      <td>0.675768</td>\n",
              "      <td>(Pclass, SibSp, Parch)</td>\n",
              "      <td>0.010084</td>\n",
              "      <td>0.007846</td>\n",
              "      <td>0.003923</td>\n",
              "    </tr>\n",
              "    <tr>\n",
              "      <th>47</th>\n",
              "      <td>(0, 2, 3, 4)</td>\n",
              "      <td>[0.688, 0.648, 0.72, 0.6612903225806451, 0.677...</td>\n",
              "      <td>0.678942</td>\n",
              "      <td>(Pclass, SibSp, Parch, Fare)</td>\n",
              "      <td>0.031688</td>\n",
              "      <td>0.024654</td>\n",
              "      <td>0.012327</td>\n",
              "    </tr>\n",
              "    <tr>\n",
              "      <th>7</th>\n",
              "      <td>(0, 2)</td>\n",
              "      <td>[0.656, 0.664, 0.688, 0.6774193548387096, 0.70...</td>\n",
              "      <td>0.679019</td>\n",
              "      <td>(Pclass, SibSp)</td>\n",
              "      <td>0.024241</td>\n",
              "      <td>0.018861</td>\n",
              "      <td>0.00943</td>\n",
              "    </tr>\n",
              "    <tr>\n",
              "      <th>26</th>\n",
              "      <td>(0, 2, 4)</td>\n",
              "      <td>[0.688, 0.664, 0.736, 0.6612903225806451, 0.66...</td>\n",
              "      <td>0.682116</td>\n",
              "      <td>(Pclass, SibSp, Fare)</td>\n",
              "      <td>0.036956</td>\n",
              "      <td>0.028753</td>\n",
              "      <td>0.014377</td>\n",
              "    </tr>\n",
              "    <tr>\n",
              "      <th>4</th>\n",
              "      <td>(4,)</td>\n",
              "      <td>[0.696, 0.688, 0.664, 0.6935483870967742, 0.68...</td>\n",
              "      <td>0.685406</td>\n",
              "      <td>(Fare,)</td>\n",
              "      <td>0.014581</td>\n",
              "      <td>0.011344</td>\n",
              "      <td>0.005672</td>\n",
              "    </tr>\n",
              "    <tr>\n",
              "      <th>28</th>\n",
              "      <td>(0, 3, 4)</td>\n",
              "      <td>[0.68, 0.688, 0.68, 0.6935483870967742, 0.6935...</td>\n",
              "      <td>0.687019</td>\n",
              "      <td>(Pclass, Parch, Fare)</td>\n",
              "      <td>0.007813</td>\n",
              "      <td>0.006079</td>\n",
              "      <td>0.003039</td>\n",
              "    </tr>\n",
              "    <tr>\n",
              "      <th>9</th>\n",
              "      <td>(0, 4)</td>\n",
              "      <td>[0.688, 0.68, 0.72, 0.6935483870967742, 0.6854...</td>\n",
              "      <td>0.693406</td>\n",
              "      <td>(Pclass, Fare)</td>\n",
              "      <td>0.017985</td>\n",
              "      <td>0.013993</td>\n",
              "      <td>0.006996</td>\n",
              "    </tr>\n",
              "    <tr>\n",
              "      <th>8</th>\n",
              "      <td>(0, 3)</td>\n",
              "      <td>[0.672, 0.704, 0.736, 0.6935483870967742, 0.70...</td>\n",
              "      <td>0.703045</td>\n",
              "      <td>(Pclass, Parch)</td>\n",
              "      <td>0.026868</td>\n",
              "      <td>0.020904</td>\n",
              "      <td>0.010452</td>\n",
              "    </tr>\n",
              "    <tr>\n",
              "      <th>54</th>\n",
              "      <td>(1, 3, 4, 5)</td>\n",
              "      <td>[0.704, 0.792, 0.736, 0.7580645161290323, 0.78...</td>\n",
              "      <td>0.754465</td>\n",
              "      <td>(Age, Parch, Fare, Sex_male)</td>\n",
              "      <td>0.040976</td>\n",
              "      <td>0.031881</td>\n",
              "      <td>0.01594</td>\n",
              "    </tr>\n",
              "    <tr>\n",
              "      <th>10</th>\n",
              "      <td>(0, 5)</td>\n",
              "      <td>[0.752, 0.8, 0.768, 0.75, 0.75]</td>\n",
              "      <td>0.764</td>\n",
              "      <td>(Pclass, Sex_male)</td>\n",
              "      <td>0.02471</td>\n",
              "      <td>0.019225</td>\n",
              "      <td>0.009612</td>\n",
              "    </tr>\n",
              "    <tr>\n",
              "      <th>35</th>\n",
              "      <td>(1, 3, 5)</td>\n",
              "      <td>[0.744, 0.776, 0.744, 0.75, 0.8064516129032258]</td>\n",
              "      <td>0.76409</td>\n",
              "      <td>(Age, Parch, Sex_male)</td>\n",
              "      <td>0.031178</td>\n",
              "      <td>0.024257</td>\n",
              "      <td>0.012129</td>\n",
              "    </tr>\n",
              "    <tr>\n",
              "      <th>36</th>\n",
              "      <td>(1, 4, 5)</td>\n",
              "      <td>[0.704, 0.808, 0.744, 0.7661290322580645, 0.79...</td>\n",
              "      <td>0.764103</td>\n",
              "      <td>(Age, Fare, Sex_male)</td>\n",
              "      <td>0.048512</td>\n",
              "      <td>0.037744</td>\n",
              "      <td>0.018872</td>\n",
              "    </tr>\n",
              "    <tr>\n",
              "      <th>52</th>\n",
              "      <td>(1, 2, 3, 5)</td>\n",
              "      <td>[0.736, 0.752, 0.76, 0.7903225806451613, 0.790...</td>\n",
              "      <td>0.765729</td>\n",
              "      <td>(Age, SibSp, Parch, Sex_male)</td>\n",
              "      <td>0.027655</td>\n",
              "      <td>0.021517</td>\n",
              "      <td>0.010758</td>\n",
              "    </tr>\n",
              "    <tr>\n",
              "      <th>53</th>\n",
              "      <td>(1, 2, 4, 5)</td>\n",
              "      <td>[0.736, 0.784, 0.768, 0.7661290322580645, 0.78...</td>\n",
              "      <td>0.767277</td>\n",
              "      <td>(Age, SibSp, Fare, Sex_male)</td>\n",
              "      <td>0.022144</td>\n",
              "      <td>0.017229</td>\n",
              "      <td>0.008614</td>\n",
              "    </tr>\n",
              "    <tr>\n",
              "      <th>14</th>\n",
              "      <td>(1, 5)</td>\n",
              "      <td>[0.736, 0.824, 0.696, 0.782258064516129, 0.822...</td>\n",
              "      <td>0.772168</td>\n",
              "      <td>(Age, Sex_male)</td>\n",
              "      <td>0.064109</td>\n",
              "      <td>0.049879</td>\n",
              "      <td>0.024939</td>\n",
              "    </tr>\n",
              "    <tr>\n",
              "      <th>48</th>\n",
              "      <td>(0, 2, 3, 5)</td>\n",
              "      <td>[0.784, 0.8, 0.776, 0.7419354838709677, 0.7741...</td>\n",
              "      <td>0.775226</td>\n",
              "      <td>(Pclass, SibSp, Parch, Sex_male)</td>\n",
              "      <td>0.024391</td>\n",
              "      <td>0.018977</td>\n",
              "      <td>0.009489</td>\n",
              "    </tr>\n",
              "    <tr>\n",
              "      <th>55</th>\n",
              "      <td>(2, 3, 4, 5)</td>\n",
              "      <td>[0.76, 0.816, 0.776, 0.7741935483870968, 0.758...</td>\n",
              "      <td>0.776852</td>\n",
              "      <td>(SibSp, Parch, Fare, Sex_male)</td>\n",
              "      <td>0.026821</td>\n",
              "      <td>0.020868</td>\n",
              "      <td>0.010434</td>\n",
              "    </tr>\n",
              "    <tr>\n",
              "      <th>38</th>\n",
              "      <td>(2, 3, 5)</td>\n",
              "      <td>[0.784, 0.792, 0.752, 0.75, 0.8145161290322581]</td>\n",
              "      <td>0.778503</td>\n",
              "      <td>(SibSp, Parch, Sex_male)</td>\n",
              "      <td>0.03161</td>\n",
              "      <td>0.024593</td>\n",
              "      <td>0.012297</td>\n",
              "    </tr>\n",
              "    <tr>\n",
              "      <th>39</th>\n",
              "      <td>(2, 4, 5)</td>\n",
              "      <td>[0.76, 0.832, 0.8, 0.7580645161290323, 0.75806...</td>\n",
              "      <td>0.781626</td>\n",
              "      <td>(SibSp, Fare, Sex_male)</td>\n",
              "      <td>0.038357</td>\n",
              "      <td>0.029843</td>\n",
              "      <td>0.014922</td>\n",
              "    </tr>\n",
              "    <tr>\n",
              "      <th>40</th>\n",
              "      <td>(3, 4, 5)</td>\n",
              "      <td>[0.744, 0.84, 0.768, 0.75, 0.8064516129032258]</td>\n",
              "      <td>0.78169</td>\n",
              "      <td>(Parch, Fare, Sex_male)</td>\n",
              "      <td>0.046787</td>\n",
              "      <td>0.036402</td>\n",
              "      <td>0.018201</td>\n",
              "    </tr>\n",
              "    <tr>\n",
              "      <th>33</th>\n",
              "      <td>(1, 2, 5)</td>\n",
              "      <td>[0.72, 0.76, 0.776, 0.8145161290322581, 0.8387...</td>\n",
              "      <td>0.781845</td>\n",
              "      <td>(Age, SibSp, Sex_male)</td>\n",
              "      <td>0.05342</td>\n",
              "      <td>0.041562</td>\n",
              "      <td>0.020781</td>\n",
              "    </tr>\n",
              "    <tr>\n",
              "      <th>20</th>\n",
              "      <td>(4, 5)</td>\n",
              "      <td>[0.752, 0.816, 0.776, 0.8064516129032258, 0.77...</td>\n",
              "      <td>0.784929</td>\n",
              "      <td>(Fare, Sex_male)</td>\n",
              "      <td>0.029911</td>\n",
              "      <td>0.023272</td>\n",
              "      <td>0.011636</td>\n",
              "    </tr>\n",
              "    <tr>\n",
              "      <th>50</th>\n",
              "      <td>(0, 3, 4, 5)</td>\n",
              "      <td>[0.768, 0.84, 0.776, 0.7903225806451613, 0.758...</td>\n",
              "      <td>0.786477</td>\n",
              "      <td>(Pclass, Parch, Fare, Sex_male)</td>\n",
              "      <td>0.036975</td>\n",
              "      <td>0.028768</td>\n",
              "      <td>0.014384</td>\n",
              "    </tr>\n",
              "    <tr>\n",
              "      <th>19</th>\n",
              "      <td>(3, 5)</td>\n",
              "      <td>[0.768, 0.8, 0.768, 0.7903225806451613, 0.8064...</td>\n",
              "      <td>0.786555</td>\n",
              "      <td>(Parch, Sex_male)</td>\n",
              "      <td>0.02056</td>\n",
              "      <td>0.015996</td>\n",
              "      <td>0.007998</td>\n",
              "    </tr>\n",
              "    <tr>\n",
              "      <th>5</th>\n",
              "      <td>(5,)</td>\n",
              "      <td>[0.752, 0.8, 0.768, 0.7983870967741935, 0.8145...</td>\n",
              "      <td>0.786581</td>\n",
              "      <td>(Sex_male,)</td>\n",
              "      <td>0.029539</td>\n",
              "      <td>0.022982</td>\n",
              "      <td>0.011491</td>\n",
              "    </tr>\n",
              "    <tr>\n",
              "      <th>27</th>\n",
              "      <td>(0, 2, 5)</td>\n",
              "      <td>[0.776, 0.792, 0.76, 0.8064516129032258, 0.814...</td>\n",
              "      <td>0.789794</td>\n",
              "      <td>(Pclass, SibSp, Sex_male)</td>\n",
              "      <td>0.025522</td>\n",
              "      <td>0.019857</td>\n",
              "      <td>0.009928</td>\n",
              "    </tr>\n",
              "    <tr>\n",
              "      <th>17</th>\n",
              "      <td>(2, 5)</td>\n",
              "      <td>[0.76, 0.792, 0.768, 0.8145161290322581, 0.830...</td>\n",
              "      <td>0.793032</td>\n",
              "      <td>(SibSp, Sex_male)</td>\n",
              "      <td>0.034464</td>\n",
              "      <td>0.026815</td>\n",
              "      <td>0.013407</td>\n",
              "    </tr>\n",
              "    <tr>\n",
              "      <th>29</th>\n",
              "      <td>(0, 3, 5)</td>\n",
              "      <td>[0.776, 0.816, 0.808, 0.7580645161290323, 0.83...</td>\n",
              "      <td>0.799355</td>\n",
              "      <td>(Pclass, Parch, Sex_male)</td>\n",
              "      <td>0.037033</td>\n",
              "      <td>0.028813</td>\n",
              "      <td>0.014406</td>\n",
              "    </tr>\n",
              "    <tr>\n",
              "      <th>45</th>\n",
              "      <td>(0, 1, 3, 5)</td>\n",
              "      <td>[0.752, 0.824, 0.784, 0.8064516129032258, 0.83...</td>\n",
              "      <td>0.801032</td>\n",
              "      <td>(Pclass, Age, Parch, Sex_male)</td>\n",
              "      <td>0.039283</td>\n",
              "      <td>0.030564</td>\n",
              "      <td>0.015282</td>\n",
              "    </tr>\n",
              "    <tr>\n",
              "      <th>49</th>\n",
              "      <td>(0, 2, 4, 5)</td>\n",
              "      <td>[0.8, 0.824, 0.816, 0.7903225806451613, 0.7822...</td>\n",
              "      <td>0.802516</td>\n",
              "      <td>(Pclass, SibSp, Fare, Sex_male)</td>\n",
              "      <td>0.019984</td>\n",
              "      <td>0.015548</td>\n",
              "      <td>0.007774</td>\n",
              "    </tr>\n",
              "    <tr>\n",
              "      <th>30</th>\n",
              "      <td>(0, 4, 5)</td>\n",
              "      <td>[0.76, 0.824, 0.816, 0.8145161290322581, 0.798...</td>\n",
              "      <td>0.802581</td>\n",
              "      <td>(Pclass, Fare, Sex_male)</td>\n",
              "      <td>0.029377</td>\n",
              "      <td>0.022856</td>\n",
              "      <td>0.011428</td>\n",
              "    </tr>\n",
              "    <tr>\n",
              "      <th>46</th>\n",
              "      <td>(0, 1, 4, 5)</td>\n",
              "      <td>[0.76, 0.824, 0.808, 0.7903225806451613, 0.830...</td>\n",
              "      <td>0.802594</td>\n",
              "      <td>(Pclass, Age, Fare, Sex_male)</td>\n",
              "      <td>0.032714</td>\n",
              "      <td>0.025452</td>\n",
              "      <td>0.012726</td>\n",
              "    </tr>\n",
              "    <tr>\n",
              "      <th>43</th>\n",
              "      <td>(0, 1, 2, 5)</td>\n",
              "      <td>[0.752, 0.84, 0.816, 0.8145161290322581, 0.846...</td>\n",
              "      <td>0.813858</td>\n",
              "      <td>(Pclass, Age, SibSp, Sex_male)</td>\n",
              "      <td>0.043008</td>\n",
              "      <td>0.033461</td>\n",
              "      <td>0.016731</td>\n",
              "    </tr>\n",
              "    <tr>\n",
              "      <th>24</th>\n",
              "      <td>(0, 1, 5)</td>\n",
              "      <td>[0.8, 0.832, 0.776, 0.7983870967741935, 0.8629...</td>\n",
              "      <td>0.813858</td>\n",
              "      <td>(Pclass, Age, Sex_male)</td>\n",
              "      <td>0.038981</td>\n",
              "      <td>0.030329</td>\n",
              "      <td>0.015164</td>\n",
              "    </tr>\n",
              "  </tbody>\n",
              "</table>\n",
              "</div>\n",
              "    <div class=\"colab-df-buttons\">\n",
              "\n",
              "  <div class=\"colab-df-container\">\n",
              "    <button class=\"colab-df-convert\" onclick=\"convertToInteractive('df-752c8a69-256b-48c8-8963-89f6ef851e59')\"\n",
              "            title=\"Convert this dataframe to an interactive table.\"\n",
              "            style=\"display:none;\">\n",
              "\n",
              "  <svg xmlns=\"http://www.w3.org/2000/svg\" height=\"24px\" viewBox=\"0 -960 960 960\">\n",
              "    <path d=\"M120-120v-720h720v720H120Zm60-500h600v-160H180v160Zm220 220h160v-160H400v160Zm0 220h160v-160H400v160ZM180-400h160v-160H180v160Zm440 0h160v-160H620v160ZM180-180h160v-160H180v160Zm440 0h160v-160H620v160Z\"/>\n",
              "  </svg>\n",
              "    </button>\n",
              "\n",
              "  <style>\n",
              "    .colab-df-container {\n",
              "      display:flex;\n",
              "      gap: 12px;\n",
              "    }\n",
              "\n",
              "    .colab-df-convert {\n",
              "      background-color: #E8F0FE;\n",
              "      border: none;\n",
              "      border-radius: 50%;\n",
              "      cursor: pointer;\n",
              "      display: none;\n",
              "      fill: #1967D2;\n",
              "      height: 32px;\n",
              "      padding: 0 0 0 0;\n",
              "      width: 32px;\n",
              "    }\n",
              "\n",
              "    .colab-df-convert:hover {\n",
              "      background-color: #E2EBFA;\n",
              "      box-shadow: 0px 1px 2px rgba(60, 64, 67, 0.3), 0px 1px 3px 1px rgba(60, 64, 67, 0.15);\n",
              "      fill: #174EA6;\n",
              "    }\n",
              "\n",
              "    .colab-df-buttons div {\n",
              "      margin-bottom: 4px;\n",
              "    }\n",
              "\n",
              "    [theme=dark] .colab-df-convert {\n",
              "      background-color: #3B4455;\n",
              "      fill: #D2E3FC;\n",
              "    }\n",
              "\n",
              "    [theme=dark] .colab-df-convert:hover {\n",
              "      background-color: #434B5C;\n",
              "      box-shadow: 0px 1px 3px 1px rgba(0, 0, 0, 0.15);\n",
              "      filter: drop-shadow(0px 1px 2px rgba(0, 0, 0, 0.3));\n",
              "      fill: #FFFFFF;\n",
              "    }\n",
              "  </style>\n",
              "\n",
              "    <script>\n",
              "      const buttonEl =\n",
              "        document.querySelector('#df-752c8a69-256b-48c8-8963-89f6ef851e59 button.colab-df-convert');\n",
              "      buttonEl.style.display =\n",
              "        google.colab.kernel.accessAllowed ? 'block' : 'none';\n",
              "\n",
              "      async function convertToInteractive(key) {\n",
              "        const element = document.querySelector('#df-752c8a69-256b-48c8-8963-89f6ef851e59');\n",
              "        const dataTable =\n",
              "          await google.colab.kernel.invokeFunction('convertToInteractive',\n",
              "                                                    [key], {});\n",
              "        if (!dataTable) return;\n",
              "\n",
              "        const docLinkHtml = 'Like what you see? Visit the ' +\n",
              "          '<a target=\"_blank\" href=https://colab.research.google.com/notebooks/data_table.ipynb>data table notebook</a>'\n",
              "          + ' to learn more about interactive tables.';\n",
              "        element.innerHTML = '';\n",
              "        dataTable['output_type'] = 'display_data';\n",
              "        await google.colab.output.renderOutput(dataTable, element);\n",
              "        const docLink = document.createElement('div');\n",
              "        docLink.innerHTML = docLinkHtml;\n",
              "        element.appendChild(docLink);\n",
              "      }\n",
              "    </script>\n",
              "  </div>\n",
              "\n",
              "\n",
              "    <div id=\"df-baa8ec3d-437b-4229-a298-e67657c79869\">\n",
              "      <button class=\"colab-df-quickchart\" onclick=\"quickchart('df-baa8ec3d-437b-4229-a298-e67657c79869')\"\n",
              "                title=\"Suggest charts\"\n",
              "                style=\"display:none;\">\n",
              "\n",
              "<svg xmlns=\"http://www.w3.org/2000/svg\" height=\"24px\"viewBox=\"0 0 24 24\"\n",
              "     width=\"24px\">\n",
              "    <g>\n",
              "        <path d=\"M19 3H5c-1.1 0-2 .9-2 2v14c0 1.1.9 2 2 2h14c1.1 0 2-.9 2-2V5c0-1.1-.9-2-2-2zM9 17H7v-7h2v7zm4 0h-2V7h2v10zm4 0h-2v-4h2v4z\"/>\n",
              "    </g>\n",
              "</svg>\n",
              "      </button>\n",
              "\n",
              "<style>\n",
              "  .colab-df-quickchart {\n",
              "      --bg-color: #E8F0FE;\n",
              "      --fill-color: #1967D2;\n",
              "      --hover-bg-color: #E2EBFA;\n",
              "      --hover-fill-color: #174EA6;\n",
              "      --disabled-fill-color: #AAA;\n",
              "      --disabled-bg-color: #DDD;\n",
              "  }\n",
              "\n",
              "  [theme=dark] .colab-df-quickchart {\n",
              "      --bg-color: #3B4455;\n",
              "      --fill-color: #D2E3FC;\n",
              "      --hover-bg-color: #434B5C;\n",
              "      --hover-fill-color: #FFFFFF;\n",
              "      --disabled-bg-color: #3B4455;\n",
              "      --disabled-fill-color: #666;\n",
              "  }\n",
              "\n",
              "  .colab-df-quickchart {\n",
              "    background-color: var(--bg-color);\n",
              "    border: none;\n",
              "    border-radius: 50%;\n",
              "    cursor: pointer;\n",
              "    display: none;\n",
              "    fill: var(--fill-color);\n",
              "    height: 32px;\n",
              "    padding: 0;\n",
              "    width: 32px;\n",
              "  }\n",
              "\n",
              "  .colab-df-quickchart:hover {\n",
              "    background-color: var(--hover-bg-color);\n",
              "    box-shadow: 0 1px 2px rgba(60, 64, 67, 0.3), 0 1px 3px 1px rgba(60, 64, 67, 0.15);\n",
              "    fill: var(--button-hover-fill-color);\n",
              "  }\n",
              "\n",
              "  .colab-df-quickchart-complete:disabled,\n",
              "  .colab-df-quickchart-complete:disabled:hover {\n",
              "    background-color: var(--disabled-bg-color);\n",
              "    fill: var(--disabled-fill-color);\n",
              "    box-shadow: none;\n",
              "  }\n",
              "\n",
              "  .colab-df-spinner {\n",
              "    border: 2px solid var(--fill-color);\n",
              "    border-color: transparent;\n",
              "    border-bottom-color: var(--fill-color);\n",
              "    animation:\n",
              "      spin 1s steps(1) infinite;\n",
              "  }\n",
              "\n",
              "  @keyframes spin {\n",
              "    0% {\n",
              "      border-color: transparent;\n",
              "      border-bottom-color: var(--fill-color);\n",
              "      border-left-color: var(--fill-color);\n",
              "    }\n",
              "    20% {\n",
              "      border-color: transparent;\n",
              "      border-left-color: var(--fill-color);\n",
              "      border-top-color: var(--fill-color);\n",
              "    }\n",
              "    30% {\n",
              "      border-color: transparent;\n",
              "      border-left-color: var(--fill-color);\n",
              "      border-top-color: var(--fill-color);\n",
              "      border-right-color: var(--fill-color);\n",
              "    }\n",
              "    40% {\n",
              "      border-color: transparent;\n",
              "      border-right-color: var(--fill-color);\n",
              "      border-top-color: var(--fill-color);\n",
              "    }\n",
              "    60% {\n",
              "      border-color: transparent;\n",
              "      border-right-color: var(--fill-color);\n",
              "    }\n",
              "    80% {\n",
              "      border-color: transparent;\n",
              "      border-right-color: var(--fill-color);\n",
              "      border-bottom-color: var(--fill-color);\n",
              "    }\n",
              "    90% {\n",
              "      border-color: transparent;\n",
              "      border-bottom-color: var(--fill-color);\n",
              "    }\n",
              "  }\n",
              "</style>\n",
              "\n",
              "      <script>\n",
              "        async function quickchart(key) {\n",
              "          const quickchartButtonEl =\n",
              "            document.querySelector('#' + key + ' button');\n",
              "          quickchartButtonEl.disabled = true;  // To prevent multiple clicks.\n",
              "          quickchartButtonEl.classList.add('colab-df-spinner');\n",
              "          try {\n",
              "            const charts = await google.colab.kernel.invokeFunction(\n",
              "                'suggestCharts', [key], {});\n",
              "          } catch (error) {\n",
              "            console.error('Error during call to suggestCharts:', error);\n",
              "          }\n",
              "          quickchartButtonEl.classList.remove('colab-df-spinner');\n",
              "          quickchartButtonEl.classList.add('colab-df-quickchart-complete');\n",
              "        }\n",
              "        (() => {\n",
              "          let quickchartButtonEl =\n",
              "            document.querySelector('#df-baa8ec3d-437b-4229-a298-e67657c79869 button');\n",
              "          quickchartButtonEl.style.display =\n",
              "            google.colab.kernel.accessAllowed ? 'block' : 'none';\n",
              "        })();\n",
              "      </script>\n",
              "    </div>\n",
              "\n",
              "  <div id=\"id_7e303f42-7336-47a7-8cc1-f258274b3e46\">\n",
              "    <style>\n",
              "      .colab-df-generate {\n",
              "        background-color: #E8F0FE;\n",
              "        border: none;\n",
              "        border-radius: 50%;\n",
              "        cursor: pointer;\n",
              "        display: none;\n",
              "        fill: #1967D2;\n",
              "        height: 32px;\n",
              "        padding: 0 0 0 0;\n",
              "        width: 32px;\n",
              "      }\n",
              "\n",
              "      .colab-df-generate:hover {\n",
              "        background-color: #E2EBFA;\n",
              "        box-shadow: 0px 1px 2px rgba(60, 64, 67, 0.3), 0px 1px 3px 1px rgba(60, 64, 67, 0.15);\n",
              "        fill: #174EA6;\n",
              "      }\n",
              "\n",
              "      [theme=dark] .colab-df-generate {\n",
              "        background-color: #3B4455;\n",
              "        fill: #D2E3FC;\n",
              "      }\n",
              "\n",
              "      [theme=dark] .colab-df-generate:hover {\n",
              "        background-color: #434B5C;\n",
              "        box-shadow: 0px 1px 3px 1px rgba(0, 0, 0, 0.15);\n",
              "        filter: drop-shadow(0px 1px 2px rgba(0, 0, 0, 0.3));\n",
              "        fill: #FFFFFF;\n",
              "      }\n",
              "    </style>\n",
              "    <button class=\"colab-df-generate\" onclick=\"generateWithVariable('efs_results')\"\n",
              "            title=\"Generate code using this dataframe.\"\n",
              "            style=\"display:none;\">\n",
              "\n",
              "  <svg xmlns=\"http://www.w3.org/2000/svg\" height=\"24px\"viewBox=\"0 0 24 24\"\n",
              "       width=\"24px\">\n",
              "    <path d=\"M7,19H8.4L18.45,9,17,7.55,7,17.6ZM5,21V16.75L18.45,3.32a2,2,0,0,1,2.83,0l1.4,1.43a1.91,1.91,0,0,1,.58,1.4,1.91,1.91,0,0,1-.58,1.4L9.25,21ZM18.45,9,17,7.55Zm-12,3A5.31,5.31,0,0,0,4.9,8.1,5.31,5.31,0,0,0,1,6.5,5.31,5.31,0,0,0,4.9,4.9,5.31,5.31,0,0,0,6.5,1,5.31,5.31,0,0,0,8.1,4.9,5.31,5.31,0,0,0,12,6.5,5.46,5.46,0,0,0,6.5,12Z\"/>\n",
              "  </svg>\n",
              "    </button>\n",
              "    <script>\n",
              "      (() => {\n",
              "      const buttonEl =\n",
              "        document.querySelector('#id_7e303f42-7336-47a7-8cc1-f258274b3e46 button.colab-df-generate');\n",
              "      buttonEl.style.display =\n",
              "        google.colab.kernel.accessAllowed ? 'block' : 'none';\n",
              "\n",
              "      buttonEl.onclick = () => {\n",
              "        google.colab.notebook.generateWithVariable('efs_results');\n",
              "      }\n",
              "      })();\n",
              "    </script>\n",
              "  </div>\n",
              "\n",
              "    </div>\n",
              "  </div>\n"
            ],
            "application/vnd.google.colaboratory.intrinsic+json": {
              "type": "dataframe",
              "variable_name": "efs_results",
              "summary": "{\n  \"name\": \"efs_results\",\n  \"rows\": 56,\n  \"fields\": [\n    {\n      \"column\": \"feature_idx\",\n      \"properties\": {\n        \"dtype\": \"string\",\n        \"num_unique_values\": 56,\n        \"samples\": [\n          [\n            1\n          ],\n          [\n            1,\n            3,\n            4\n          ],\n          [\n            1,\n            4,\n            5\n          ]\n        ],\n        \"semantic_type\": \"\",\n        \"description\": \"\"\n      }\n    },\n    {\n      \"column\": \"cv_scores\",\n      \"properties\": {\n        \"dtype\": \"object\",\n        \"semantic_type\": \"\",\n        \"description\": \"\"\n      }\n    },\n    {\n      \"column\": \"avg_score\",\n      \"properties\": {\n        \"dtype\": \"date\",\n        \"min\": 0.5906451612903225,\n        \"max\": 0.8138580645161291,\n        \"num_unique_values\": 54,\n        \"samples\": [\n          0.6677548387096774,\n          0.8010322580645163,\n          0.7993548387096775\n        ],\n        \"semantic_type\": \"\",\n        \"description\": \"\"\n      }\n    },\n    {\n      \"column\": \"feature_names\",\n      \"properties\": {\n        \"dtype\": \"string\",\n        \"num_unique_values\": 56,\n        \"samples\": [\n          [\n            \"Age\"\n          ],\n          [\n            \"Age\",\n            \"Parch\",\n            \"Fare\"\n          ],\n          [\n            \"Age\",\n            \"Fare\",\n            \"Sex_male\"\n          ]\n        ],\n        \"semantic_type\": \"\",\n        \"description\": \"\"\n      }\n    },\n    {\n      \"column\": \"ci_bound\",\n      \"properties\": {\n        \"dtype\": \"date\",\n        \"min\": 0.007813065058571713,\n        \"max\": 0.06419215648226245,\n        \"num_unique_values\": 56,\n        \"samples\": [\n          0.04033972234543492,\n          0.023682637822696005,\n          0.048511694328195874\n        ],\n        \"semantic_type\": \"\",\n        \"description\": \"\"\n      }\n    },\n    {\n      \"column\": \"std_dev\",\n      \"properties\": {\n        \"dtype\": \"date\",\n        \"min\": 0.0060788300533818175,\n        \"max\": 0.04994367858074632,\n        \"num_unique_values\": 56,\n        \"samples\": [\n          0.03138567446964733,\n          0.0184258968101155,\n          0.0377437463034025\n        ],\n        \"semantic_type\": \"\",\n        \"description\": \"\"\n      }\n    },\n    {\n      \"column\": \"std_err\",\n      \"properties\": {\n        \"dtype\": \"date\",\n        \"min\": 0.0030394150266909083,\n        \"max\": 0.024971839290373155,\n        \"num_unique_values\": 56,\n        \"samples\": [\n          0.015692837234823665,\n          0.00921294840505775,\n          0.01887187315170125\n        ],\n        \"semantic_type\": \"\",\n        \"description\": \"\"\n      }\n    }\n  ]\n}"
            }
          },
          "metadata": {},
          "execution_count": 24
        }
      ]
    },
    {
      "cell_type": "code",
      "source": [
        "from sklearn.ensemble import RandomForestClassifier\n",
        "rfc = RandomForestClassifier(random_state=0, criterion='gini')\n",
        "rfc.fit(x_train, y_train)\n",
        "for feature in zip(x_train.columns, rfc.feature_importances_):\n",
        "    print(feature)"
      ],
      "metadata": {
        "id": "_PttgRvVrJR9",
        "colab": {
          "base_uri": "https://localhost:8080/"
        },
        "outputId": "ecfb9b31-1d99-4d1b-b11f-14b2a8b9267e"
      },
      "execution_count": 25,
      "outputs": [
        {
          "output_type": "stream",
          "name": "stdout",
          "text": [
            "('Pclass', np.float64(0.08580548090109545))\n",
            "('Age', np.float64(0.26433757901109173))\n",
            "('SibSp', np.float64(0.05355992352286061))\n",
            "('Parch', np.float64(0.03699908167792097))\n",
            "('Fare', np.float64(0.28790097031129963))\n",
            "('Sex_male', np.float64(0.2713969645757317))\n"
          ]
        }
      ]
    },
    {
      "cell_type": "code",
      "source": [
        "from sklearn.feature_selection import SelectFromModel\n",
        "sfm = SelectFromModel(estimator=rfc, threshold=0.2)\n",
        "sfm = sfm.fit(x_train, y_train)\n",
        "feature_names=x_train.columns\n",
        "print('The most important features based on random forest classifier:')\n",
        "for feature_list_index in sfm.get_support(indices=True):\n",
        "    print('- ' + feature_names[feature_list_index])"
      ],
      "metadata": {
        "id": "mmGk-LZWrmAx",
        "colab": {
          "base_uri": "https://localhost:8080/"
        },
        "outputId": "538c0444-c467-43ad-9e27-7947884cba3b"
      },
      "execution_count": 27,
      "outputs": [
        {
          "output_type": "stream",
          "name": "stdout",
          "text": [
            "The most important features based on random forest classifier:\n",
            "- Age\n",
            "- Fare\n",
            "- Sex_male\n"
          ]
        }
      ]
    },
    {
      "cell_type": "code",
      "source": [
        "from sklearn.metrics import accuracy_score\n",
        "rfc_full = RandomForestClassifier(random_state=0, criterion='gini')\n",
        "rfc_full.fit(x_train, y_train)\n",
        "pred_full = rfc_full.predict(x_test)\n",
        "print('The accuracy of classifier with full features: {:.2f}'.format(accuracy_score(y_test, pred_full)))"
      ],
      "metadata": {
        "id": "X1z0UpFVr0jc",
        "colab": {
          "base_uri": "https://localhost:8080/"
        },
        "outputId": "b8b788f0-abf3-4d02-f972-b1b3ec3cf791"
      },
      "execution_count": 28,
      "outputs": [
        {
          "output_type": "stream",
          "name": "stdout",
          "text": [
            "The accuracy of classifier with full features: 0.82\n"
          ]
        }
      ]
    },
    {
      "cell_type": "code",
      "source": [
        "x_important_train = sfm.transform(x_train)\n",
        "x_important_test = sfm.transform(x_test)"
      ],
      "metadata": {
        "id": "Q4Q07HU88nkd"
      },
      "execution_count": 29,
      "outputs": []
    },
    {
      "cell_type": "code",
      "source": [
        "print(x_important_train.shape)\n",
        "print(x_important_test.shape)"
      ],
      "metadata": {
        "colab": {
          "base_uri": "https://localhost:8080/"
        },
        "id": "DSsxTKme8rJJ",
        "outputId": "70031e6c-bc62-46d2-a1ac-a57890b67fa6"
      },
      "execution_count": 30,
      "outputs": [
        {
          "output_type": "stream",
          "name": "stdout",
          "text": [
            "(623, 3)\n",
            "(268, 3)\n"
          ]
        }
      ]
    },
    {
      "cell_type": "code",
      "source": [
        "rfc_lim = RandomForestClassifier(random_state=0, criterion='gini')\n",
        "rfc_lim.fit(x_important_train, y_train)\n",
        "pred_lim = rfc_lim.predict(x_important_test)\n",
        "print('The accuracy of classifier with limited features: {:.2f}'.format(accuracy_score(y_test, pred_lim)))"
      ],
      "metadata": {
        "id": "iofvZ98OsQTi",
        "colab": {
          "base_uri": "https://localhost:8080/"
        },
        "outputId": "5482668d-67f5-43b6-d233-9d07df53d9bc"
      },
      "execution_count": 31,
      "outputs": [
        {
          "output_type": "stream",
          "name": "stdout",
          "text": [
            "The accuracy of classifier with limited features: 0.80\n"
          ]
        }
      ]
    },
    {
      "cell_type": "code",
      "source": [
        "df2=pd.read_csv('/content/house_price_train.csv')\n",
        "df2.shape"
      ],
      "metadata": {
        "colab": {
          "base_uri": "https://localhost:8080/"
        },
        "id": "quv-u8R38REk",
        "outputId": "91d9f801-b142-4eed-e355-8ac9c32e3388"
      },
      "execution_count": 32,
      "outputs": [
        {
          "output_type": "execute_result",
          "data": {
            "text/plain": [
              "(1460, 81)"
            ]
          },
          "metadata": {},
          "execution_count": 32
        }
      ]
    },
    {
      "cell_type": "code",
      "source": [
        "df2.columns"
      ],
      "metadata": {
        "colab": {
          "base_uri": "https://localhost:8080/"
        },
        "id": "Z6iru1Bj9OOB",
        "outputId": "ebc67ca2-74bf-4ac8-b6e6-dfb336c61d44"
      },
      "execution_count": 33,
      "outputs": [
        {
          "output_type": "execute_result",
          "data": {
            "text/plain": [
              "Index(['Id', 'MSSubClass', 'MSZoning', 'LotFrontage', 'LotArea', 'Street',\n",
              "       'Alley', 'LotShape', 'LandContour', 'Utilities', 'LotConfig',\n",
              "       'LandSlope', 'Neighborhood', 'Condition1', 'Condition2', 'BldgType',\n",
              "       'HouseStyle', 'OverallQual', 'OverallCond', 'YearBuilt', 'YearRemodAdd',\n",
              "       'RoofStyle', 'RoofMatl', 'Exterior1st', 'Exterior2nd', 'MasVnrType',\n",
              "       'MasVnrArea', 'ExterQual', 'ExterCond', 'Foundation', 'BsmtQual',\n",
              "       'BsmtCond', 'BsmtExposure', 'BsmtFinType1', 'BsmtFinSF1',\n",
              "       'BsmtFinType2', 'BsmtFinSF2', 'BsmtUnfSF', 'TotalBsmtSF', 'Heating',\n",
              "       'HeatingQC', 'CentralAir', 'Electrical', '1stFlrSF', '2ndFlrSF',\n",
              "       'LowQualFinSF', 'GrLivArea', 'BsmtFullBath', 'BsmtHalfBath', 'FullBath',\n",
              "       'HalfBath', 'BedroomAbvGr', 'KitchenAbvGr', 'KitchenQual',\n",
              "       'TotRmsAbvGrd', 'Functional', 'Fireplaces', 'FireplaceQu', 'GarageType',\n",
              "       'GarageYrBlt', 'GarageFinish', 'GarageCars', 'GarageArea', 'GarageQual',\n",
              "       'GarageCond', 'PavedDrive', 'WoodDeckSF', 'OpenPorchSF',\n",
              "       'EnclosedPorch', '3SsnPorch', 'ScreenPorch', 'PoolArea', 'PoolQC',\n",
              "       'Fence', 'MiscFeature', 'MiscVal', 'MoSold', 'YrSold', 'SaleType',\n",
              "       'SaleCondition', 'SalePrice'],\n",
              "      dtype='object')"
            ]
          },
          "metadata": {},
          "execution_count": 33
        }
      ]
    },
    {
      "cell_type": "code",
      "source": [
        "cols_to_drop = [\n",
        "    'Id','Alley','MiscFeature','PoolQC','Fence','FireplaceQu',\n",
        "    'Utilities','MiscVal','Condition2','GarageYrBlt',\n",
        "    'TotalBsmtSF','GarageArea','MoSold'\n",
        "]"
      ],
      "metadata": {
        "id": "G_gxNTp49Vrr"
      },
      "execution_count": 34,
      "outputs": []
    },
    {
      "cell_type": "code",
      "source": [
        "df2=df2.drop(cols_to_drop,axis=1)"
      ],
      "metadata": {
        "id": "-PL3ENln-BJ3"
      },
      "execution_count": 35,
      "outputs": []
    },
    {
      "cell_type": "code",
      "source": [
        "[col for col in df2.columns if df2[col].isnull().sum()>0]"
      ],
      "metadata": {
        "colab": {
          "base_uri": "https://localhost:8080/"
        },
        "id": "7XY1Nm-u-KsA",
        "outputId": "7d4e0f25-f051-446b-90a5-e31f13c82f7b"
      },
      "execution_count": 36,
      "outputs": [
        {
          "output_type": "execute_result",
          "data": {
            "text/plain": [
              "['LotFrontage',\n",
              " 'MasVnrType',\n",
              " 'MasVnrArea',\n",
              " 'BsmtQual',\n",
              " 'BsmtCond',\n",
              " 'BsmtExposure',\n",
              " 'BsmtFinType1',\n",
              " 'BsmtFinType2',\n",
              " 'Electrical',\n",
              " 'GarageType',\n",
              " 'GarageFinish',\n",
              " 'GarageQual',\n",
              " 'GarageCond']"
            ]
          },
          "metadata": {},
          "execution_count": 36
        }
      ]
    },
    {
      "cell_type": "code",
      "source": [
        "df2['LotFrontage'] = df2['LotFrontage'].fillna(df2['LotFrontage'].median())\n",
        "df2['MasVnrArea'] = df2['MasVnrArea'].fillna(df2['MasVnrArea'].median())"
      ],
      "metadata": {
        "id": "03sbqgHU0g2c"
      },
      "execution_count": 37,
      "outputs": []
    },
    {
      "cell_type": "code",
      "source": [
        "categorical_cols = ['MasVnrType','BsmtQual','BsmtCond','BsmtExposure',\n",
        "                    'BsmtFinType1','BsmtFinType2','Electrical',\n",
        "                    'GarageType','GarageFinish','GarageQual','GarageCond']\n",
        "\n",
        "for col in categorical_cols:\n",
        "    df2[col] = df2[col].fillna(df2[col].mode()[0])"
      ],
      "metadata": {
        "id": "KgQ6DSI10lPU"
      },
      "execution_count": 38,
      "outputs": []
    },
    {
      "cell_type": "code",
      "source": [
        "X2 = df2.drop('SalePrice',axis=1)\n",
        "y2 = df2['SalePrice']"
      ],
      "metadata": {
        "id": "hZ3EkKyT-ixJ"
      },
      "execution_count": 39,
      "outputs": []
    },
    {
      "cell_type": "code",
      "source": [
        "X2 = pd.get_dummies(X2,drop_first=True)"
      ],
      "metadata": {
        "id": "j-nzW2yu-r8-"
      },
      "execution_count": 40,
      "outputs": []
    },
    {
      "cell_type": "code",
      "source": [
        "X2.shape"
      ],
      "metadata": {
        "colab": {
          "base_uri": "https://localhost:8080/"
        },
        "id": "4QPW0HKv-zYW",
        "outputId": "a89441ce-74aa-4457-b1a8-0fba3525a845"
      },
      "execution_count": 41,
      "outputs": [
        {
          "output_type": "execute_result",
          "data": {
            "text/plain": [
              "(1460, 218)"
            ]
          },
          "metadata": {},
          "execution_count": 41
        }
      ]
    },
    {
      "cell_type": "code",
      "source": [
        "x_train2,x_test2,y_train2,y_test2=train_test_split(X2,y2,test_size=0.3,random_state=0)"
      ],
      "metadata": {
        "id": "ZyKsu6BI-3Ch"
      },
      "execution_count": 42,
      "outputs": []
    },
    {
      "cell_type": "code",
      "source": [
        "grouped_feature_ls = []\n",
        "correlated_groups = []\n",
        "def correlation (dataset, threshold):\n",
        "    col_corr = set()\n",
        "    corr_matrix = dataset.corr()\n",
        "    for i in range(len(corr_matrix.columns)):\n",
        "        for j in range(i):\n",
        "            if abs(corr_matrix.iloc[i, j]) > threshold:\n",
        "                colname=corr_matrix.columns[i]\n",
        "                col_corr.add(colname)\n",
        "    return col_corr\n",
        "corr_features=correlation (x_test2, 0.9)\n",
        "correlated_features = set(corr_features)\n",
        "print(len(correlated_features))"
      ],
      "metadata": {
        "colab": {
          "base_uri": "https://localhost:8080/"
        },
        "id": "rL3dQeae_CkW",
        "outputId": "a1f5879a-a823-4537-b10f-d97981fc6ba6"
      },
      "execution_count": 43,
      "outputs": [
        {
          "output_type": "stream",
          "name": "stdout",
          "text": [
            "11\n"
          ]
        }
      ]
    },
    {
      "cell_type": "code",
      "source": [
        "x_train2.drop(labels=correlated_features, axis=1, inplace=True)\n",
        "x_test2.drop(labels=correlated_features, axis=1, inplace=True)"
      ],
      "metadata": {
        "id": "6nk9OnzC_Jaf"
      },
      "execution_count": 45,
      "outputs": []
    },
    {
      "cell_type": "code",
      "source": [
        "x_train2.shape"
      ],
      "metadata": {
        "colab": {
          "base_uri": "https://localhost:8080/"
        },
        "id": "ebJxouqo_ciz",
        "outputId": "edb4d368-7907-415a-9e6e-f568ad835f74"
      },
      "execution_count": 46,
      "outputs": [
        {
          "output_type": "execute_result",
          "data": {
            "text/plain": [
              "(1022, 207)"
            ]
          },
          "metadata": {},
          "execution_count": 46
        }
      ]
    },
    {
      "cell_type": "code",
      "source": [
        "constant_features=[features for features in x_train2.columns if x_train2[features].std()==0]\n",
        "len(constant_features)"
      ],
      "metadata": {
        "colab": {
          "base_uri": "https://localhost:8080/"
        },
        "id": "AKq3BKSdCdAz",
        "outputId": "ec4a115e-458e-4cfa-e5b5-bd0cae61ad29"
      },
      "execution_count": 47,
      "outputs": [
        {
          "output_type": "execute_result",
          "data": {
            "text/plain": [
              "2"
            ]
          },
          "metadata": {},
          "execution_count": 47
        }
      ]
    },
    {
      "cell_type": "code",
      "source": [
        "x_train2.drop(labels=constant_features,axis=1,inplace=True)\n",
        "x_test2.drop(labels=constant_features,axis=1,inplace=True)"
      ],
      "metadata": {
        "id": "cktb0w_WCw_B"
      },
      "execution_count": 48,
      "outputs": []
    },
    {
      "cell_type": "code",
      "source": [
        "quasi_constant_feat=[]\n",
        "\n",
        "for feature in x_train2.columns:\n",
        "  predominant=(x_train2[feature].value_counts()/float(len(x_train2))).sort_values(ascending=False).values[0]\n",
        "  if predominant>0.999:\n",
        "    quasi_constant_feat.append(feature)\n",
        "\n",
        "len(quasi_constant_feat)"
      ],
      "metadata": {
        "colab": {
          "base_uri": "https://localhost:8080/"
        },
        "id": "pNzxneiXC2DD",
        "outputId": "59a205c2-ebd4-46da-d1e9-7a591fb8832f"
      },
      "execution_count": 50,
      "outputs": [
        {
          "output_type": "execute_result",
          "data": {
            "text/plain": [
              "17"
            ]
          },
          "metadata": {},
          "execution_count": 50
        }
      ]
    },
    {
      "cell_type": "code",
      "source": [
        "x_train2.drop(labels=quasi_constant_feat,axis=1,inplace=True)\n",
        "x_test2.drop(labels=quasi_constant_feat,axis=1,inplace=True)"
      ],
      "metadata": {
        "id": "LVgqH0QtC5NA"
      },
      "execution_count": 51,
      "outputs": []
    },
    {
      "cell_type": "code",
      "source": [
        "dup=[]\n",
        "for i in range (0,len(x_train2.columns)):\n",
        "    col1=x_train2.columns[i]\n",
        "    for col2 in x_train2.columns[i+1:]:\n",
        "        if x_train2[col1].equals(x_train2[col2]):\n",
        "            dup.append(col2)\n",
        "dup_features=set(dup)\n",
        "print(len(dup_features))"
      ],
      "metadata": {
        "colab": {
          "base_uri": "https://localhost:8080/"
        },
        "id": "-CKDrcp7C8zx",
        "outputId": "ead5a4fb-1cfc-4c18-f4ea-8fd9694906a9"
      },
      "execution_count": 52,
      "outputs": [
        {
          "output_type": "stream",
          "name": "stdout",
          "text": [
            "0\n"
          ]
        }
      ]
    },
    {
      "cell_type": "code",
      "source": [
        "x_train2.shape"
      ],
      "metadata": {
        "colab": {
          "base_uri": "https://localhost:8080/"
        },
        "id": "-adonpfFDSJR",
        "outputId": "11d8738d-54ce-4153-c910-acb59f1c094f"
      },
      "execution_count": 53,
      "outputs": [
        {
          "output_type": "execute_result",
          "data": {
            "text/plain": [
              "(1022, 188)"
            ]
          },
          "metadata": {},
          "execution_count": 53
        }
      ]
    },
    {
      "cell_type": "code",
      "source": [
        "import pandas as pd\n",
        "from sklearn.feature_selection import mutual_info_regression, SelectKBest\n",
        "mi = mutual_info_regression(x_train2.fillna(0), y_train2)\n",
        "mi = pd.Series(mi, index=x_train2.columns)\n",
        "selector = SelectKBest(score_func=mutual_info_regression, k=10)\n",
        "selector.fit(x_train2.fillna(0), y_train2)\n",
        "selected_features = x_train2.columns[selector.get_support()]\n",
        "print(\"Top 10 Selected Features:\\n\", selected_features.tolist())\n",
        "x_train2_selected = selector.transform(x_train2.fillna(0))\n",
        "x_train2_selected = pd.DataFrame(x_train2_selected, columns=selected_features)"
      ],
      "metadata": {
        "colab": {
          "base_uri": "https://localhost:8080/"
        },
        "id": "3ldTmOzuE8Nw",
        "outputId": "1de24fd2-b996-4881-e63c-1bb2ec8b7bed"
      },
      "execution_count": 54,
      "outputs": [
        {
          "output_type": "stream",
          "name": "stdout",
          "text": [
            "Top 10 Selected Features:\n",
            " ['MSSubClass', 'OverallQual', 'YearBuilt', 'YearRemodAdd', '1stFlrSF', '2ndFlrSF', 'GrLivArea', 'FullBath', 'GarageCars', 'ExterQual_TA']\n"
          ]
        }
      ]
    },
    {
      "cell_type": "code",
      "source": [
        "sfs3=SFS(RandomForestRegressor(n_jobs=4),k_features=5,forward=True,verbose=2,scoring='r2',cv=3)"
      ],
      "metadata": {
        "id": "9-WPcT7g_e97"
      },
      "execution_count": 55,
      "outputs": []
    },
    {
      "cell_type": "code",
      "source": [
        "sfs3=sfs3.fit(np.array(x_train2_selected.fillna(0)),y_train2)"
      ],
      "metadata": {
        "colab": {
          "base_uri": "https://localhost:8080/"
        },
        "id": "NeRQO_0s_oHv",
        "outputId": "50460a48-b57b-4a86-91d7-6b10750fb984"
      },
      "execution_count": 57,
      "outputs": [
        {
          "output_type": "stream",
          "name": "stderr",
          "text": [
            "[Parallel(n_jobs=1)]: Done  10 out of  10 | elapsed:    7.6s finished\n",
            "\n",
            "[2025-08-20 05:00:17] Features: 1/5 -- score: 0.6682887904520398[Parallel(n_jobs=1)]: Done   9 out of   9 | elapsed:    6.5s finished\n",
            "\n",
            "[2025-08-20 05:00:23] Features: 2/5 -- score: 0.7223347912943826[Parallel(n_jobs=1)]: Done   8 out of   8 | elapsed:    6.1s finished\n",
            "\n",
            "[2025-08-20 05:00:30] Features: 3/5 -- score: 0.7301847821752899[Parallel(n_jobs=1)]: Done   7 out of   7 | elapsed:    7.4s finished\n",
            "\n",
            "[2025-08-20 05:00:37] Features: 4/5 -- score: 0.7451150526720101[Parallel(n_jobs=1)]: Done   6 out of   6 | elapsed:    6.0s finished\n",
            "\n",
            "[2025-08-20 05:00:43] Features: 5/5 -- score: 0.7940150183132539"
          ]
        }
      ]
    },
    {
      "cell_type": "code",
      "source": [
        "print('best accracy score',sfs3.k_score_)\n",
        "print('best subset(indices)',sfs3.k_feature_idx_)\n",
        "print('Best subset (corresponding names):', sfs3.k_feature_names_)"
      ],
      "metadata": {
        "colab": {
          "base_uri": "https://localhost:8080/"
        },
        "id": "l-81tp7O_r2x",
        "outputId": "6140d4bc-02a6-4673-ce28-cf8854f1736f"
      },
      "execution_count": 58,
      "outputs": [
        {
          "output_type": "stream",
          "name": "stdout",
          "text": [
            "best accracy score 0.7940150183132539\n",
            "best subset(indices) (1, 4, 5, 7, 8)\n",
            "Best subset (corresponding names): ('1', '4', '5', '7', '8')\n"
          ]
        }
      ]
    },
    {
      "cell_type": "code",
      "source": [
        "sfs4=SFS(RandomForestRegressor(n_jobs=4),k_features=5,forward=False,verbose=2,scoring='r2',cv=3)"
      ],
      "metadata": {
        "id": "WqWxqurIGg5U"
      },
      "execution_count": 59,
      "outputs": []
    },
    {
      "cell_type": "code",
      "source": [
        "sfs4=sfs4.fit(np.array(x_train2_selected.fillna(0)),y_train2)"
      ],
      "metadata": {
        "colab": {
          "base_uri": "https://localhost:8080/"
        },
        "id": "6YfdykKj2a9h",
        "outputId": "ff281e88-54b0-457f-e8e0-2d05c0449b18"
      },
      "execution_count": 60,
      "outputs": [
        {
          "output_type": "stream",
          "name": "stderr",
          "text": [
            "[Parallel(n_jobs=1)]: Done  10 out of  10 | elapsed:   15.9s finished\n",
            "\n",
            "[2025-08-20 05:01:45] Features: 9/5 -- score: 0.8306163479524521[Parallel(n_jobs=1)]: Done   9 out of   9 | elapsed:   11.5s finished\n",
            "\n",
            "[2025-08-20 05:01:56] Features: 8/5 -- score: 0.8283886486219476[Parallel(n_jobs=1)]: Done   8 out of   8 | elapsed:   10.1s finished\n",
            "\n",
            "[2025-08-20 05:02:06] Features: 7/5 -- score: 0.8301428202570041[Parallel(n_jobs=1)]: Done   7 out of   7 | elapsed:    7.0s finished\n",
            "\n",
            "[2025-08-20 05:02:13] Features: 6/5 -- score: 0.8229553605508023[Parallel(n_jobs=1)]: Done   6 out of   6 | elapsed:    6.8s finished\n",
            "\n",
            "[2025-08-20 05:02:20] Features: 5/5 -- score: 0.8157996667400758"
          ]
        }
      ]
    },
    {
      "cell_type": "code",
      "source": [
        "print('best accracy score',sfs4.k_score_)\n",
        "print('best subset(indices)',sfs4.k_feature_idx_)\n",
        "print('Best subset (corresponding names):', sfs4.k_feature_names_)"
      ],
      "metadata": {
        "colab": {
          "base_uri": "https://localhost:8080/"
        },
        "id": "P45FRxZI2fEq",
        "outputId": "94afc190-0e03-4716-c90e-6d4e64412b39"
      },
      "execution_count": 61,
      "outputs": [
        {
          "output_type": "stream",
          "name": "stdout",
          "text": [
            "best accracy score 0.8157996667400758\n",
            "best subset(indices) (1, 2, 5, 6, 8)\n",
            "Best subset (corresponding names): ('1', '2', '5', '6', '8')\n"
          ]
        }
      ]
    },
    {
      "cell_type": "code",
      "source": [
        "efs2=EFS(RandomForestRegressor(n_jobs=4),min_features=1,max_features=4,scoring='r2',cv=5)\n",
        "efs2=efs2.fit(x_train2_selected,y_train2)"
      ],
      "metadata": {
        "colab": {
          "base_uri": "https://localhost:8080/"
        },
        "id": "utXS3MOuG3IJ",
        "outputId": "004f6a50-5a0a-43c5-dfe8-325584eb67cb"
      },
      "execution_count": 64,
      "outputs": [
        {
          "output_type": "stream",
          "name": "stderr",
          "text": [
            "Features: 385/385"
          ]
        }
      ]
    },
    {
      "cell_type": "code",
      "source": [
        "print('best accuracy score',efs2.best_score_)\n",
        "print('best subset(indices)',efs2.best_idx_)\n",
        "print('Best subset (corresponding names):', efs2.best_feature_names_)"
      ],
      "metadata": {
        "colab": {
          "base_uri": "https://localhost:8080/"
        },
        "id": "AVrGhrNX2-Yi",
        "outputId": "311381c6-7187-4e23-b56a-1206c827c6b4"
      },
      "execution_count": 66,
      "outputs": [
        {
          "output_type": "stream",
          "name": "stdout",
          "text": [
            "best accuracy score 0.8088176047395057\n",
            "best subset(indices) (1, 2, 5, 6)\n",
            "Best subset (corresponding names): ('OverallQual', 'YearBuilt', '2ndFlrSF', 'GrLivArea')\n"
          ]
        }
      ]
    },
    {
      "cell_type": "code",
      "source": [
        "efs2_results = pd.DataFrame.from_dict(efs2.get_metric_dict()).T\n",
        "efs2_results.sort_values(by='avg_score', ascending=True, inplace=True)\n",
        "efs2_results"
      ],
      "metadata": {
        "colab": {
          "base_uri": "https://localhost:8080/",
          "height": 423
        },
        "id": "rrO91LAwIYXL",
        "outputId": "3ce17145-4bee-4eb8-b2c0-d4fd2f3a6234"
      },
      "execution_count": 67,
      "outputs": [
        {
          "output_type": "execute_result",
          "data": {
            "text/plain": [
              "      feature_idx                                          cv_scores  \\\n",
              "5            (5,)  [0.29600026407056335, 0.06677933490922483, 0.1...   \n",
              "4            (4,)  [0.1573910116864039, 0.22835703959365916, 0.25...   \n",
              "3            (3,)  [0.22564330883303962, 0.2890993855168862, 0.20...   \n",
              "0            (0,)  [0.28429390268317933, 0.280441079411451, 0.179...   \n",
              "12         (0, 3)  [0.20515886027566999, 0.3359081141431923, 0.27...   \n",
              "..            ...                                                ...   \n",
              "214  (0, 2, 5, 6)  [0.7309943908539124, 0.8311981034787824, 0.764...   \n",
              "285  (1, 3, 5, 6)  [0.6749475150218707, 0.8581320994552373, 0.789...   \n",
              "280  (1, 3, 4, 5)  [0.7280736565019137, 0.8262807372546631, 0.818...   \n",
              "265  (1, 2, 4, 5)  [0.7225032263407922, 0.84653048077507, 0.80304...   \n",
              "270  (1, 2, 5, 6)  [0.7278567032158402, 0.869666968820292, 0.7956...   \n",
              "\n",
              "    avg_score                                     feature_names  ci_bound  \\\n",
              "5    0.126808                                       (2ndFlrSF,)  0.128092   \n",
              "4    0.143956                                       (1stFlrSF,)   0.15714   \n",
              "3    0.222384                                   (YearRemodAdd,)  0.062425   \n",
              "0    0.226234                                     (MSSubClass,)  0.079627   \n",
              "12   0.273327                        (MSSubClass, YearRemodAdd)  0.054214   \n",
              "..        ...                                               ...       ...   \n",
              "214  0.792189      (MSSubClass, YearBuilt, 2ndFlrSF, GrLivArea)  0.050044   \n",
              "285  0.793334  (OverallQual, YearRemodAdd, 2ndFlrSF, GrLivArea)  0.082375   \n",
              "280  0.799679   (OverallQual, YearRemodAdd, 1stFlrSF, 2ndFlrSF)  0.046928   \n",
              "265   0.80268      (OverallQual, YearBuilt, 1stFlrSF, 2ndFlrSF)  0.054788   \n",
              "270  0.808818     (OverallQual, YearBuilt, 2ndFlrSF, GrLivArea)  0.060307   \n",
              "\n",
              "      std_dev   std_err  \n",
              "5     0.09966   0.04983  \n",
              "4     0.12226   0.06113  \n",
              "3    0.048569  0.024284  \n",
              "0    0.061953  0.030976  \n",
              "12    0.04218   0.02109  \n",
              "..        ...       ...  \n",
              "214  0.038936  0.019468  \n",
              "285  0.064091  0.032045  \n",
              "280  0.036512  0.018256  \n",
              "265  0.042627  0.021314  \n",
              "270  0.046921   0.02346  \n",
              "\n",
              "[385 rows x 7 columns]"
            ],
            "text/html": [
              "\n",
              "  <div id=\"df-0609bf9f-c7dc-44f1-8b8e-1ff6b7f83bb1\" class=\"colab-df-container\">\n",
              "    <div>\n",
              "<style scoped>\n",
              "    .dataframe tbody tr th:only-of-type {\n",
              "        vertical-align: middle;\n",
              "    }\n",
              "\n",
              "    .dataframe tbody tr th {\n",
              "        vertical-align: top;\n",
              "    }\n",
              "\n",
              "    .dataframe thead th {\n",
              "        text-align: right;\n",
              "    }\n",
              "</style>\n",
              "<table border=\"1\" class=\"dataframe\">\n",
              "  <thead>\n",
              "    <tr style=\"text-align: right;\">\n",
              "      <th></th>\n",
              "      <th>feature_idx</th>\n",
              "      <th>cv_scores</th>\n",
              "      <th>avg_score</th>\n",
              "      <th>feature_names</th>\n",
              "      <th>ci_bound</th>\n",
              "      <th>std_dev</th>\n",
              "      <th>std_err</th>\n",
              "    </tr>\n",
              "  </thead>\n",
              "  <tbody>\n",
              "    <tr>\n",
              "      <th>5</th>\n",
              "      <td>(5,)</td>\n",
              "      <td>[0.29600026407056335, 0.06677933490922483, 0.1...</td>\n",
              "      <td>0.126808</td>\n",
              "      <td>(2ndFlrSF,)</td>\n",
              "      <td>0.128092</td>\n",
              "      <td>0.09966</td>\n",
              "      <td>0.04983</td>\n",
              "    </tr>\n",
              "    <tr>\n",
              "      <th>4</th>\n",
              "      <td>(4,)</td>\n",
              "      <td>[0.1573910116864039, 0.22835703959365916, 0.25...</td>\n",
              "      <td>0.143956</td>\n",
              "      <td>(1stFlrSF,)</td>\n",
              "      <td>0.15714</td>\n",
              "      <td>0.12226</td>\n",
              "      <td>0.06113</td>\n",
              "    </tr>\n",
              "    <tr>\n",
              "      <th>3</th>\n",
              "      <td>(3,)</td>\n",
              "      <td>[0.22564330883303962, 0.2890993855168862, 0.20...</td>\n",
              "      <td>0.222384</td>\n",
              "      <td>(YearRemodAdd,)</td>\n",
              "      <td>0.062425</td>\n",
              "      <td>0.048569</td>\n",
              "      <td>0.024284</td>\n",
              "    </tr>\n",
              "    <tr>\n",
              "      <th>0</th>\n",
              "      <td>(0,)</td>\n",
              "      <td>[0.28429390268317933, 0.280441079411451, 0.179...</td>\n",
              "      <td>0.226234</td>\n",
              "      <td>(MSSubClass,)</td>\n",
              "      <td>0.079627</td>\n",
              "      <td>0.061953</td>\n",
              "      <td>0.030976</td>\n",
              "    </tr>\n",
              "    <tr>\n",
              "      <th>12</th>\n",
              "      <td>(0, 3)</td>\n",
              "      <td>[0.20515886027566999, 0.3359081141431923, 0.27...</td>\n",
              "      <td>0.273327</td>\n",
              "      <td>(MSSubClass, YearRemodAdd)</td>\n",
              "      <td>0.054214</td>\n",
              "      <td>0.04218</td>\n",
              "      <td>0.02109</td>\n",
              "    </tr>\n",
              "    <tr>\n",
              "      <th>...</th>\n",
              "      <td>...</td>\n",
              "      <td>...</td>\n",
              "      <td>...</td>\n",
              "      <td>...</td>\n",
              "      <td>...</td>\n",
              "      <td>...</td>\n",
              "      <td>...</td>\n",
              "    </tr>\n",
              "    <tr>\n",
              "      <th>214</th>\n",
              "      <td>(0, 2, 5, 6)</td>\n",
              "      <td>[0.7309943908539124, 0.8311981034787824, 0.764...</td>\n",
              "      <td>0.792189</td>\n",
              "      <td>(MSSubClass, YearBuilt, 2ndFlrSF, GrLivArea)</td>\n",
              "      <td>0.050044</td>\n",
              "      <td>0.038936</td>\n",
              "      <td>0.019468</td>\n",
              "    </tr>\n",
              "    <tr>\n",
              "      <th>285</th>\n",
              "      <td>(1, 3, 5, 6)</td>\n",
              "      <td>[0.6749475150218707, 0.8581320994552373, 0.789...</td>\n",
              "      <td>0.793334</td>\n",
              "      <td>(OverallQual, YearRemodAdd, 2ndFlrSF, GrLivArea)</td>\n",
              "      <td>0.082375</td>\n",
              "      <td>0.064091</td>\n",
              "      <td>0.032045</td>\n",
              "    </tr>\n",
              "    <tr>\n",
              "      <th>280</th>\n",
              "      <td>(1, 3, 4, 5)</td>\n",
              "      <td>[0.7280736565019137, 0.8262807372546631, 0.818...</td>\n",
              "      <td>0.799679</td>\n",
              "      <td>(OverallQual, YearRemodAdd, 1stFlrSF, 2ndFlrSF)</td>\n",
              "      <td>0.046928</td>\n",
              "      <td>0.036512</td>\n",
              "      <td>0.018256</td>\n",
              "    </tr>\n",
              "    <tr>\n",
              "      <th>265</th>\n",
              "      <td>(1, 2, 4, 5)</td>\n",
              "      <td>[0.7225032263407922, 0.84653048077507, 0.80304...</td>\n",
              "      <td>0.80268</td>\n",
              "      <td>(OverallQual, YearBuilt, 1stFlrSF, 2ndFlrSF)</td>\n",
              "      <td>0.054788</td>\n",
              "      <td>0.042627</td>\n",
              "      <td>0.021314</td>\n",
              "    </tr>\n",
              "    <tr>\n",
              "      <th>270</th>\n",
              "      <td>(1, 2, 5, 6)</td>\n",
              "      <td>[0.7278567032158402, 0.869666968820292, 0.7956...</td>\n",
              "      <td>0.808818</td>\n",
              "      <td>(OverallQual, YearBuilt, 2ndFlrSF, GrLivArea)</td>\n",
              "      <td>0.060307</td>\n",
              "      <td>0.046921</td>\n",
              "      <td>0.02346</td>\n",
              "    </tr>\n",
              "  </tbody>\n",
              "</table>\n",
              "<p>385 rows × 7 columns</p>\n",
              "</div>\n",
              "    <div class=\"colab-df-buttons\">\n",
              "\n",
              "  <div class=\"colab-df-container\">\n",
              "    <button class=\"colab-df-convert\" onclick=\"convertToInteractive('df-0609bf9f-c7dc-44f1-8b8e-1ff6b7f83bb1')\"\n",
              "            title=\"Convert this dataframe to an interactive table.\"\n",
              "            style=\"display:none;\">\n",
              "\n",
              "  <svg xmlns=\"http://www.w3.org/2000/svg\" height=\"24px\" viewBox=\"0 -960 960 960\">\n",
              "    <path d=\"M120-120v-720h720v720H120Zm60-500h600v-160H180v160Zm220 220h160v-160H400v160Zm0 220h160v-160H400v160ZM180-400h160v-160H180v160Zm440 0h160v-160H620v160ZM180-180h160v-160H180v160Zm440 0h160v-160H620v160Z\"/>\n",
              "  </svg>\n",
              "    </button>\n",
              "\n",
              "  <style>\n",
              "    .colab-df-container {\n",
              "      display:flex;\n",
              "      gap: 12px;\n",
              "    }\n",
              "\n",
              "    .colab-df-convert {\n",
              "      background-color: #E8F0FE;\n",
              "      border: none;\n",
              "      border-radius: 50%;\n",
              "      cursor: pointer;\n",
              "      display: none;\n",
              "      fill: #1967D2;\n",
              "      height: 32px;\n",
              "      padding: 0 0 0 0;\n",
              "      width: 32px;\n",
              "    }\n",
              "\n",
              "    .colab-df-convert:hover {\n",
              "      background-color: #E2EBFA;\n",
              "      box-shadow: 0px 1px 2px rgba(60, 64, 67, 0.3), 0px 1px 3px 1px rgba(60, 64, 67, 0.15);\n",
              "      fill: #174EA6;\n",
              "    }\n",
              "\n",
              "    .colab-df-buttons div {\n",
              "      margin-bottom: 4px;\n",
              "    }\n",
              "\n",
              "    [theme=dark] .colab-df-convert {\n",
              "      background-color: #3B4455;\n",
              "      fill: #D2E3FC;\n",
              "    }\n",
              "\n",
              "    [theme=dark] .colab-df-convert:hover {\n",
              "      background-color: #434B5C;\n",
              "      box-shadow: 0px 1px 3px 1px rgba(0, 0, 0, 0.15);\n",
              "      filter: drop-shadow(0px 1px 2px rgba(0, 0, 0, 0.3));\n",
              "      fill: #FFFFFF;\n",
              "    }\n",
              "  </style>\n",
              "\n",
              "    <script>\n",
              "      const buttonEl =\n",
              "        document.querySelector('#df-0609bf9f-c7dc-44f1-8b8e-1ff6b7f83bb1 button.colab-df-convert');\n",
              "      buttonEl.style.display =\n",
              "        google.colab.kernel.accessAllowed ? 'block' : 'none';\n",
              "\n",
              "      async function convertToInteractive(key) {\n",
              "        const element = document.querySelector('#df-0609bf9f-c7dc-44f1-8b8e-1ff6b7f83bb1');\n",
              "        const dataTable =\n",
              "          await google.colab.kernel.invokeFunction('convertToInteractive',\n",
              "                                                    [key], {});\n",
              "        if (!dataTable) return;\n",
              "\n",
              "        const docLinkHtml = 'Like what you see? Visit the ' +\n",
              "          '<a target=\"_blank\" href=https://colab.research.google.com/notebooks/data_table.ipynb>data table notebook</a>'\n",
              "          + ' to learn more about interactive tables.';\n",
              "        element.innerHTML = '';\n",
              "        dataTable['output_type'] = 'display_data';\n",
              "        await google.colab.output.renderOutput(dataTable, element);\n",
              "        const docLink = document.createElement('div');\n",
              "        docLink.innerHTML = docLinkHtml;\n",
              "        element.appendChild(docLink);\n",
              "      }\n",
              "    </script>\n",
              "  </div>\n",
              "\n",
              "\n",
              "    <div id=\"df-751ca2cc-b990-425b-861a-bd5e2feced6e\">\n",
              "      <button class=\"colab-df-quickchart\" onclick=\"quickchart('df-751ca2cc-b990-425b-861a-bd5e2feced6e')\"\n",
              "                title=\"Suggest charts\"\n",
              "                style=\"display:none;\">\n",
              "\n",
              "<svg xmlns=\"http://www.w3.org/2000/svg\" height=\"24px\"viewBox=\"0 0 24 24\"\n",
              "     width=\"24px\">\n",
              "    <g>\n",
              "        <path d=\"M19 3H5c-1.1 0-2 .9-2 2v14c0 1.1.9 2 2 2h14c1.1 0 2-.9 2-2V5c0-1.1-.9-2-2-2zM9 17H7v-7h2v7zm4 0h-2V7h2v10zm4 0h-2v-4h2v4z\"/>\n",
              "    </g>\n",
              "</svg>\n",
              "      </button>\n",
              "\n",
              "<style>\n",
              "  .colab-df-quickchart {\n",
              "      --bg-color: #E8F0FE;\n",
              "      --fill-color: #1967D2;\n",
              "      --hover-bg-color: #E2EBFA;\n",
              "      --hover-fill-color: #174EA6;\n",
              "      --disabled-fill-color: #AAA;\n",
              "      --disabled-bg-color: #DDD;\n",
              "  }\n",
              "\n",
              "  [theme=dark] .colab-df-quickchart {\n",
              "      --bg-color: #3B4455;\n",
              "      --fill-color: #D2E3FC;\n",
              "      --hover-bg-color: #434B5C;\n",
              "      --hover-fill-color: #FFFFFF;\n",
              "      --disabled-bg-color: #3B4455;\n",
              "      --disabled-fill-color: #666;\n",
              "  }\n",
              "\n",
              "  .colab-df-quickchart {\n",
              "    background-color: var(--bg-color);\n",
              "    border: none;\n",
              "    border-radius: 50%;\n",
              "    cursor: pointer;\n",
              "    display: none;\n",
              "    fill: var(--fill-color);\n",
              "    height: 32px;\n",
              "    padding: 0;\n",
              "    width: 32px;\n",
              "  }\n",
              "\n",
              "  .colab-df-quickchart:hover {\n",
              "    background-color: var(--hover-bg-color);\n",
              "    box-shadow: 0 1px 2px rgba(60, 64, 67, 0.3), 0 1px 3px 1px rgba(60, 64, 67, 0.15);\n",
              "    fill: var(--button-hover-fill-color);\n",
              "  }\n",
              "\n",
              "  .colab-df-quickchart-complete:disabled,\n",
              "  .colab-df-quickchart-complete:disabled:hover {\n",
              "    background-color: var(--disabled-bg-color);\n",
              "    fill: var(--disabled-fill-color);\n",
              "    box-shadow: none;\n",
              "  }\n",
              "\n",
              "  .colab-df-spinner {\n",
              "    border: 2px solid var(--fill-color);\n",
              "    border-color: transparent;\n",
              "    border-bottom-color: var(--fill-color);\n",
              "    animation:\n",
              "      spin 1s steps(1) infinite;\n",
              "  }\n",
              "\n",
              "  @keyframes spin {\n",
              "    0% {\n",
              "      border-color: transparent;\n",
              "      border-bottom-color: var(--fill-color);\n",
              "      border-left-color: var(--fill-color);\n",
              "    }\n",
              "    20% {\n",
              "      border-color: transparent;\n",
              "      border-left-color: var(--fill-color);\n",
              "      border-top-color: var(--fill-color);\n",
              "    }\n",
              "    30% {\n",
              "      border-color: transparent;\n",
              "      border-left-color: var(--fill-color);\n",
              "      border-top-color: var(--fill-color);\n",
              "      border-right-color: var(--fill-color);\n",
              "    }\n",
              "    40% {\n",
              "      border-color: transparent;\n",
              "      border-right-color: var(--fill-color);\n",
              "      border-top-color: var(--fill-color);\n",
              "    }\n",
              "    60% {\n",
              "      border-color: transparent;\n",
              "      border-right-color: var(--fill-color);\n",
              "    }\n",
              "    80% {\n",
              "      border-color: transparent;\n",
              "      border-right-color: var(--fill-color);\n",
              "      border-bottom-color: var(--fill-color);\n",
              "    }\n",
              "    90% {\n",
              "      border-color: transparent;\n",
              "      border-bottom-color: var(--fill-color);\n",
              "    }\n",
              "  }\n",
              "</style>\n",
              "\n",
              "      <script>\n",
              "        async function quickchart(key) {\n",
              "          const quickchartButtonEl =\n",
              "            document.querySelector('#' + key + ' button');\n",
              "          quickchartButtonEl.disabled = true;  // To prevent multiple clicks.\n",
              "          quickchartButtonEl.classList.add('colab-df-spinner');\n",
              "          try {\n",
              "            const charts = await google.colab.kernel.invokeFunction(\n",
              "                'suggestCharts', [key], {});\n",
              "          } catch (error) {\n",
              "            console.error('Error during call to suggestCharts:', error);\n",
              "          }\n",
              "          quickchartButtonEl.classList.remove('colab-df-spinner');\n",
              "          quickchartButtonEl.classList.add('colab-df-quickchart-complete');\n",
              "        }\n",
              "        (() => {\n",
              "          let quickchartButtonEl =\n",
              "            document.querySelector('#df-751ca2cc-b990-425b-861a-bd5e2feced6e button');\n",
              "          quickchartButtonEl.style.display =\n",
              "            google.colab.kernel.accessAllowed ? 'block' : 'none';\n",
              "        })();\n",
              "      </script>\n",
              "    </div>\n",
              "\n",
              "  <div id=\"id_08d395af-dbec-4c60-827a-663fa1bd30bd\">\n",
              "    <style>\n",
              "      .colab-df-generate {\n",
              "        background-color: #E8F0FE;\n",
              "        border: none;\n",
              "        border-radius: 50%;\n",
              "        cursor: pointer;\n",
              "        display: none;\n",
              "        fill: #1967D2;\n",
              "        height: 32px;\n",
              "        padding: 0 0 0 0;\n",
              "        width: 32px;\n",
              "      }\n",
              "\n",
              "      .colab-df-generate:hover {\n",
              "        background-color: #E2EBFA;\n",
              "        box-shadow: 0px 1px 2px rgba(60, 64, 67, 0.3), 0px 1px 3px 1px rgba(60, 64, 67, 0.15);\n",
              "        fill: #174EA6;\n",
              "      }\n",
              "\n",
              "      [theme=dark] .colab-df-generate {\n",
              "        background-color: #3B4455;\n",
              "        fill: #D2E3FC;\n",
              "      }\n",
              "\n",
              "      [theme=dark] .colab-df-generate:hover {\n",
              "        background-color: #434B5C;\n",
              "        box-shadow: 0px 1px 3px 1px rgba(0, 0, 0, 0.15);\n",
              "        filter: drop-shadow(0px 1px 2px rgba(0, 0, 0, 0.3));\n",
              "        fill: #FFFFFF;\n",
              "      }\n",
              "    </style>\n",
              "    <button class=\"colab-df-generate\" onclick=\"generateWithVariable('efs2_results')\"\n",
              "            title=\"Generate code using this dataframe.\"\n",
              "            style=\"display:none;\">\n",
              "\n",
              "  <svg xmlns=\"http://www.w3.org/2000/svg\" height=\"24px\"viewBox=\"0 0 24 24\"\n",
              "       width=\"24px\">\n",
              "    <path d=\"M7,19H8.4L18.45,9,17,7.55,7,17.6ZM5,21V16.75L18.45,3.32a2,2,0,0,1,2.83,0l1.4,1.43a1.91,1.91,0,0,1,.58,1.4,1.91,1.91,0,0,1-.58,1.4L9.25,21ZM18.45,9,17,7.55Zm-12,3A5.31,5.31,0,0,0,4.9,8.1,5.31,5.31,0,0,0,1,6.5,5.31,5.31,0,0,0,4.9,4.9,5.31,5.31,0,0,0,6.5,1,5.31,5.31,0,0,0,8.1,4.9,5.31,5.31,0,0,0,12,6.5,5.46,5.46,0,0,0,6.5,12Z\"/>\n",
              "  </svg>\n",
              "    </button>\n",
              "    <script>\n",
              "      (() => {\n",
              "      const buttonEl =\n",
              "        document.querySelector('#id_08d395af-dbec-4c60-827a-663fa1bd30bd button.colab-df-generate');\n",
              "      buttonEl.style.display =\n",
              "        google.colab.kernel.accessAllowed ? 'block' : 'none';\n",
              "\n",
              "      buttonEl.onclick = () => {\n",
              "        google.colab.notebook.generateWithVariable('efs2_results');\n",
              "      }\n",
              "      })();\n",
              "    </script>\n",
              "  </div>\n",
              "\n",
              "    </div>\n",
              "  </div>\n"
            ],
            "application/vnd.google.colaboratory.intrinsic+json": {
              "type": "dataframe",
              "variable_name": "efs2_results",
              "summary": "{\n  \"name\": \"efs2_results\",\n  \"rows\": 385,\n  \"fields\": [\n    {\n      \"column\": \"feature_idx\",\n      \"properties\": {\n        \"dtype\": \"string\",\n        \"num_unique_values\": 385,\n        \"samples\": [\n          [\n            0,\n            1,\n            7,\n            8\n          ],\n          [\n            1,\n            6,\n            9\n          ],\n          [\n            0,\n            2,\n            4,\n            6\n          ]\n        ],\n        \"semantic_type\": \"\",\n        \"description\": \"\"\n      }\n    },\n    {\n      \"column\": \"cv_scores\",\n      \"properties\": {\n        \"dtype\": \"object\",\n        \"semantic_type\": \"\",\n        \"description\": \"\"\n      }\n    },\n    {\n      \"column\": \"avg_score\",\n      \"properties\": {\n        \"dtype\": \"date\",\n        \"min\": 0.12680811224550878,\n        \"max\": 0.8088176047395057,\n        \"num_unique_values\": 385,\n        \"samples\": [\n          0.7139311626004045,\n          0.7054912169294117,\n          0.7709815381563699\n        ],\n        \"semantic_type\": \"\",\n        \"description\": \"\"\n      }\n    },\n    {\n      \"column\": \"feature_names\",\n      \"properties\": {\n        \"dtype\": \"string\",\n        \"num_unique_values\": 385,\n        \"samples\": [\n          [\n            \"MSSubClass\",\n            \"OverallQual\",\n            \"FullBath\",\n            \"GarageCars\"\n          ],\n          [\n            \"OverallQual\",\n            \"GrLivArea\",\n            \"ExterQual_TA\"\n          ],\n          [\n            \"MSSubClass\",\n            \"YearBuilt\",\n            \"1stFlrSF\",\n            \"GrLivArea\"\n          ]\n        ],\n        \"semantic_type\": \"\",\n        \"description\": \"\"\n      }\n    },\n    {\n      \"column\": \"ci_bound\",\n      \"properties\": {\n        \"dtype\": \"date\",\n        \"min\": 0.014225358531170922,\n        \"max\": 0.16295394643359443,\n        \"num_unique_values\": 385,\n        \"samples\": [\n          0.08870355875245031,\n          0.1145294437393207,\n          0.09843870404443221\n        ],\n        \"semantic_type\": \"\",\n        \"description\": \"\"\n      }\n    },\n    {\n      \"column\": \"std_dev\",\n      \"properties\": {\n        \"dtype\": \"date\",\n        \"min\": 0.011067812223647507,\n        \"max\": 0.12678370645473525,\n        \"num_unique_values\": 385,\n        \"samples\": [\n          0.06901438228710809,\n          0.08910779820473634,\n          0.07658865606203506\n        ],\n        \"semantic_type\": \"\",\n        \"description\": \"\"\n      }\n    },\n    {\n      \"column\": \"std_err\",\n      \"properties\": {\n        \"dtype\": \"date\",\n        \"min\": 0.005533906111823753,\n        \"max\": 0.06339185322736761,\n        \"num_unique_values\": 385,\n        \"samples\": [\n          0.03450719114355404,\n          0.04455389910236817,\n          0.03829432803101753\n        ],\n        \"semantic_type\": \"\",\n        \"description\": \"\"\n      }\n    }\n  ]\n}"
            }
          },
          "metadata": {},
          "execution_count": 67
        }
      ]
    },
    {
      "cell_type": "code",
      "source": [
        "from sklearn.ensemble import RandomForestRegressor\n",
        "rfr = RandomForestRegressor(random_state=0, criterion='squared_error')\n",
        "rfr.fit(x_train2, y_train2)\n",
        "for feature in zip(x_train2.columns, rfr.feature_importances_):\n",
        "    print(feature)"
      ],
      "metadata": {
        "colab": {
          "base_uri": "https://localhost:8080/"
        },
        "id": "j24T0Lo5Nb64",
        "outputId": "69c357f2-e69e-4662-99aa-81a19832f407"
      },
      "execution_count": 68,
      "outputs": [
        {
          "output_type": "stream",
          "name": "stdout",
          "text": [
            "('MSSubClass', np.float64(0.0024913838290226333))\n",
            "('LotFrontage', np.float64(0.007365613014300334))\n",
            "('LotArea', np.float64(0.01926247910992808))\n",
            "('OverallQual', np.float64(0.5564666671265123))\n",
            "('OverallCond', np.float64(0.005949609400272334))\n",
            "('YearBuilt', np.float64(0.01862643268035045))\n",
            "('YearRemodAdd', np.float64(0.00762504329617526))\n",
            "('MasVnrArea', np.float64(0.011604734257492935))\n",
            "('BsmtFinSF1', np.float64(0.03350172388871787))\n",
            "('BsmtFinSF2', np.float64(0.0010172277609978623))\n",
            "('BsmtUnfSF', np.float64(0.00835232739566203))\n",
            "('1stFlrSF', np.float64(0.04588972764075788))\n",
            "('2ndFlrSF', np.float64(0.012871183625773249))\n",
            "('LowQualFinSF', np.float64(7.968404720689777e-05))\n",
            "('GrLivArea', np.float64(0.12928926807569088))\n",
            "('BsmtFullBath', np.float64(0.000898337626592723))\n",
            "('BsmtHalfBath', np.float64(0.0011916319005645262))\n",
            "('FullBath', np.float64(0.003419485486882398))\n",
            "('HalfBath', np.float64(0.0010722376183723277))\n",
            "('BedroomAbvGr', np.float64(0.004365916106188301))\n",
            "('KitchenAbvGr', np.float64(0.0011403382703964215))\n",
            "('TotRmsAbvGrd', np.float64(0.0062981646174679095))\n",
            "('Fireplaces', np.float64(0.003303663885420077))\n",
            "('GarageCars', np.float64(0.039181753137372134))\n",
            "('WoodDeckSF', np.float64(0.006961718817241969))\n",
            "('OpenPorchSF', np.float64(0.006063923561435749))\n",
            "('EnclosedPorch', np.float64(0.0008655064992656442))\n",
            "('3SsnPorch', np.float64(0.00012441119775426563))\n",
            "('ScreenPorch', np.float64(0.0009078679952657728))\n",
            "('PoolArea', np.float64(7.240375783679415e-05))\n",
            "('YrSold', np.float64(0.002025085778714859))\n",
            "('MSZoning_FV', np.float64(0.0001705471976823251))\n",
            "('MSZoning_RH', np.float64(2.5151121884781673e-05))\n",
            "('MSZoning_RL', np.float64(0.0009117346838467262))\n",
            "('MSZoning_RM', np.float64(0.001565452119803893))\n",
            "('Street_Pave', np.float64(4.045822228880224e-05))\n",
            "('LotShape_IR2', np.float64(9.837540430183334e-05))\n",
            "('LotShape_IR3', np.float64(2.3700260652191888e-05))\n",
            "('LotShape_Reg', np.float64(0.002296608493889402))\n",
            "('LandContour_HLS', np.float64(8.203250399759824e-05))\n",
            "('LandContour_Low', np.float64(0.0002394065830434561))\n",
            "('LandContour_Lvl', np.float64(0.0008070795575682373))\n",
            "('LotConfig_CulDSac', np.float64(0.0004292133014804815))\n",
            "('LotConfig_FR2', np.float64(0.0001421420979304793))\n",
            "('LotConfig_Inside', np.float64(0.000474788033568493))\n",
            "('LandSlope_Mod', np.float64(0.00032847509201711024))\n",
            "('LandSlope_Sev', np.float64(6.200857979639772e-05))\n",
            "('Neighborhood_Blueste', np.float64(1.5957217832107348e-06))\n",
            "('Neighborhood_BrDale', np.float64(2.1784136591868126e-05))\n",
            "('Neighborhood_BrkSide', np.float64(8.322201939731168e-05))\n",
            "('Neighborhood_ClearCr', np.float64(8.459390521930623e-05))\n",
            "('Neighborhood_CollgCr', np.float64(0.000651667714952439))\n",
            "('Neighborhood_Crawfor', np.float64(0.0008721214495399424))\n",
            "('Neighborhood_Edwards', np.float64(0.0007591702645386498))\n",
            "('Neighborhood_Gilbert', np.float64(0.00014649973967814447))\n",
            "('Neighborhood_IDOTRR', np.float64(0.0003784063116964081))\n",
            "('Neighborhood_MeadowV', np.float64(2.419381346706745e-05))\n",
            "('Neighborhood_Mitchel', np.float64(6.89787846095541e-05))\n",
            "('Neighborhood_NAmes', np.float64(0.00021156000276029177))\n",
            "('Neighborhood_NPkVill', np.float64(7.548537421478823e-06))\n",
            "('Neighborhood_NWAmes', np.float64(0.00014150622872425184))\n",
            "('Neighborhood_NoRidge', np.float64(0.0004667988279702799))\n",
            "('Neighborhood_NridgHt', np.float64(0.0003654685247247289))\n",
            "('Neighborhood_OldTown', np.float64(0.000313229169172828))\n",
            "('Neighborhood_SWISU', np.float64(6.205698437603441e-05))\n",
            "('Neighborhood_Sawyer', np.float64(0.0002139274964092296))\n",
            "('Neighborhood_SawyerW', np.float64(6.9792629216039e-05))\n",
            "('Neighborhood_StoneBr', np.float64(0.00030298642957167764))\n",
            "('Neighborhood_Timber', np.float64(0.00020987123745282277))\n",
            "('Neighborhood_Veenker', np.float64(5.397335836302528e-05))\n",
            "('Condition1_Feedr', np.float64(0.0001372206537282099))\n",
            "('Condition1_Norm', np.float64(0.0006263330508674892))\n",
            "('Condition1_PosA', np.float64(1.4005711226065046e-05))\n",
            "('Condition1_PosN', np.float64(0.0008294653548493397))\n",
            "('Condition1_RRAe', np.float64(7.86350780561472e-05))\n",
            "('Condition1_RRAn', np.float64(4.871619475406797e-05))\n",
            "('Condition1_RRNe', np.float64(4.0923783419732325e-06))\n",
            "('BldgType_2fmCon', np.float64(8.302990365985087e-06))\n",
            "('BldgType_Duplex', np.float64(3.9504805937464626e-05))\n",
            "('BldgType_Twnhs', np.float64(1.2067620066226773e-05))\n",
            "('BldgType_TwnhsE', np.float64(0.00010946832299800259))\n",
            "('HouseStyle_1.5Unf', np.float64(2.103398223593239e-05))\n",
            "('HouseStyle_1Story', np.float64(0.0001902784864342529))\n",
            "('HouseStyle_2.5Fin', np.float64(6.845207954918449e-05))\n",
            "('HouseStyle_2.5Unf', np.float64(1.2218656197091162e-05))\n",
            "('HouseStyle_2Story', np.float64(0.0003670237718198811))\n",
            "('HouseStyle_SFoyer', np.float64(7.402604698255555e-06))\n",
            "('HouseStyle_SLvl', np.float64(5.038586184991219e-05))\n",
            "('RoofStyle_Gable', np.float64(0.0010016243207617399))\n",
            "('RoofStyle_Gambrel', np.float64(5.516027999457344e-05))\n",
            "('RoofStyle_Mansard', np.float64(5.704832480450075e-07))\n",
            "('RoofStyle_Shed', np.float64(1.259120529878209e-05))\n",
            "('RoofMatl_CompShg', np.float64(7.70483172926886e-05))\n",
            "('RoofMatl_Tar&Grv', np.float64(4.220225082658168e-05))\n",
            "('RoofMatl_WdShake', np.float64(3.859497555831854e-05))\n",
            "('RoofMatl_WdShngl', np.float64(3.619314928000843e-05))\n",
            "('Exterior1st_BrkFace', np.float64(0.0003948769917754797))\n",
            "('Exterior1st_CemntBd', np.float64(0.0002467622281799952))\n",
            "('Exterior1st_HdBoard', np.float64(0.0018461424062307364))\n",
            "('Exterior1st_MetalSd', np.float64(0.0003214853098859143))\n",
            "('Exterior1st_Plywood', np.float64(0.0002675919739319875))\n",
            "('Exterior1st_Stone', np.float64(4.094333688747152e-06))\n",
            "('Exterior1st_Stucco', np.float64(3.08033127644495e-05))\n",
            "('Exterior1st_VinylSd', np.float64(0.0007036450082961904))\n",
            "('Exterior1st_Wd Sdng', np.float64(0.00029931021946963204))\n",
            "('Exterior1st_WdShing', np.float64(2.797997414524115e-05))\n",
            "('Exterior2nd_Brk Cmn', np.float64(7.331636881038594e-06))\n",
            "('Exterior2nd_BrkFace', np.float64(8.654261662383778e-05))\n",
            "('Exterior2nd_ImStucc', np.float64(6.209666541755489e-05))\n",
            "('Exterior2nd_Plywood', np.float64(0.0002522899189957703))\n",
            "('Exterior2nd_Stone', np.float64(1.151648155640294e-05))\n",
            "('Exterior2nd_Stucco', np.float64(3.0171867857653424e-05))\n",
            "('Exterior2nd_Wd Sdng', np.float64(0.00022274355629625406))\n",
            "('Exterior2nd_Wd Shng', np.float64(0.00013227505272702948))\n",
            "('MasVnrType_BrkFace', np.float64(0.000523066307169327))\n",
            "('ExterQual_Fa', np.float64(6.77075652456774e-05))\n",
            "('ExterQual_Gd', np.float64(0.0011778099678091485))\n",
            "('ExterQual_TA', np.float64(0.0008489105776317582))\n",
            "('ExterCond_Fa', np.float64(0.00039978140535351674))\n",
            "('ExterCond_Gd', np.float64(0.00029591076247816365))\n",
            "('Foundation_CBlock', np.float64(0.0002655659775690953))\n",
            "('Foundation_PConc', np.float64(0.0002449070091246259))\n",
            "('Foundation_Slab', np.float64(0.0003286915344304381))\n",
            "('Foundation_Stone', np.float64(6.472110360123604e-06))\n",
            "('BsmtQual_Fa', np.float64(4.383609297373931e-05))\n",
            "('BsmtQual_Gd', np.float64(0.004059589947668096))\n",
            "('BsmtQual_TA', np.float64(0.0003804945747354622))\n",
            "('BsmtCond_Gd', np.float64(0.000128971115039813))\n",
            "('BsmtCond_Po', np.float64(1.6723488885764677e-06))\n",
            "('BsmtCond_TA', np.float64(0.00026217334390922996))\n",
            "('BsmtExposure_Gd', np.float64(0.0010521616221426326))\n",
            "('BsmtExposure_Mn', np.float64(0.00018399833397502295))\n",
            "('BsmtExposure_No', np.float64(0.001289327310202479))\n",
            "('BsmtFinType1_BLQ', np.float64(0.000171814880097889))\n",
            "('BsmtFinType1_GLQ', np.float64(0.0006419699499979981))\n",
            "('BsmtFinType1_LwQ', np.float64(0.0001526876265017019))\n",
            "('BsmtFinType1_Rec', np.float64(0.00023827877758008626))\n",
            "('BsmtFinType1_Unf', np.float64(0.0011838580312431486))\n",
            "('BsmtFinType2_BLQ', np.float64(0.0001394175435121656))\n",
            "('BsmtFinType2_GLQ', np.float64(1.0356944016281782e-05))\n",
            "('BsmtFinType2_LwQ', np.float64(7.449889456713385e-05))\n",
            "('BsmtFinType2_Rec', np.float64(2.7469562978350557e-05))\n",
            "('BsmtFinType2_Unf', np.float64(0.00017346932790447936))\n",
            "('Heating_GasA', np.float64(0.000189009276123042))\n",
            "('Heating_GasW', np.float64(4.270413224507114e-05))\n",
            "('Heating_Grav', np.float64(8.359288341489372e-07))\n",
            "('Heating_Wall', np.float64(1.4458674117187335e-06))\n",
            "('HeatingQC_Fa', np.float64(9.831644500504534e-05))\n",
            "('HeatingQC_Gd', np.float64(0.0002106430423594))\n",
            "('HeatingQC_TA', np.float64(0.0005274829738626742))\n",
            "('CentralAir_Y', np.float64(0.005524577763581728))\n",
            "('Electrical_FuseF', np.float64(7.105113206103593e-05))\n",
            "('Electrical_FuseP', np.float64(1.0832514777648152e-06))\n",
            "('Electrical_SBrkr', np.float64(0.00017062368755869198))\n",
            "('KitchenQual_Fa', np.float64(5.4353943971813246e-05))\n",
            "('KitchenQual_Gd', np.float64(0.004420324967196534))\n",
            "('KitchenQual_TA', np.float64(0.001878478313661403))\n",
            "('Functional_Maj2', np.float64(4.167205934200676e-05))\n",
            "('Functional_Min1', np.float64(4.747388349032866e-05))\n",
            "('Functional_Min2', np.float64(4.4701503612646205e-05))\n",
            "('Functional_Mod', np.float64(0.00016309727277705421))\n",
            "('Functional_Typ', np.float64(0.0002590528197928623))\n",
            "('GarageType_Attchd', np.float64(0.002054657535852944))\n",
            "('GarageType_Basment', np.float64(6.1142355638980084e-06))\n",
            "('GarageType_BuiltIn', np.float64(0.00022393814788201598))\n",
            "('GarageType_CarPort', np.float64(3.999687571771292e-05))\n",
            "('GarageType_Detchd', np.float64(0.0015256783588556131))\n",
            "('GarageFinish_RFn', np.float64(0.0008805750302286153))\n",
            "('GarageFinish_Unf', np.float64(0.0037085924563049167))\n",
            "('GarageQual_Fa', np.float64(0.00016280465597678394))\n",
            "('GarageQual_Gd', np.float64(1.5772363914133824e-05))\n",
            "('GarageQual_Po', np.float64(2.0772305222959462e-07))\n",
            "('GarageQual_TA', np.float64(0.0002457388784804838))\n",
            "('GarageCond_Fa', np.float64(4.0951236473528674e-05))\n",
            "('GarageCond_Gd', np.float64(1.0290854802959783e-05))\n",
            "('GarageCond_Po', np.float64(2.698612621923342e-06))\n",
            "('GarageCond_TA', np.float64(5.2367140556747165e-05))\n",
            "('PavedDrive_P', np.float64(8.378649232088149e-05))\n",
            "('PavedDrive_Y', np.float64(0.00036493133771229864))\n",
            "('SaleType_ConLD', np.float64(6.2655492098026294e-06))\n",
            "('SaleType_ConLI', np.float64(2.3560910811490028e-06))\n",
            "('SaleType_ConLw', np.float64(1.6998472586376163e-05))\n",
            "('SaleType_New', np.float64(0.0007804196670985275))\n",
            "('SaleType_Oth', np.float64(4.8154348485528845e-06))\n",
            "('SaleType_WD', np.float64(0.0006519625300725042))\n",
            "('SaleCondition_Alloca', np.float64(4.117976094736331e-05))\n",
            "('SaleCondition_Family', np.float64(7.627793521287939e-05))\n",
            "('SaleCondition_Normal', np.float64(0.0005488948251722382))\n"
          ]
        }
      ]
    },
    {
      "cell_type": "code",
      "source": [
        "from sklearn.feature_selection import SelectFromModel\n",
        "sfm2 = SelectFromModel(estimator=rfr, threshold=0.2)\n",
        "sfm2 = sfm2.fit(x_train2, y_train2)\n",
        "feature_names2=x_train2.columns\n",
        "print('The most important features based on random forest classifier:')\n",
        "for feature_list_index in sfm2.get_support(indices=True):\n",
        "    print('- ' + feature_names2[feature_list_index])"
      ],
      "metadata": {
        "colab": {
          "base_uri": "https://localhost:8080/"
        },
        "id": "dDLimDy0NjsH",
        "outputId": "d54a043c-756d-4568-c925-b893e778e26b"
      },
      "execution_count": 69,
      "outputs": [
        {
          "output_type": "stream",
          "name": "stdout",
          "text": [
            "The most important features based on random forest classifier:\n",
            "- OverallQual\n"
          ]
        }
      ]
    },
    {
      "cell_type": "code",
      "source": [
        "from sklearn.metrics import mean_squared_error, r2_score\n",
        "rfr_full = RandomForestRegressor(random_state=0, criterion='squared_error')\n",
        "rfr_full.fit(x_train2, y_train2)\n",
        "pred_full2 = rfr_full.predict(x_test2)\n",
        "print(\"R² Score:\", r2_score(y_test2, pred_full2))\n",
        "print(\"MSE:\", mean_squared_error(y_test2, pred_full2))"
      ],
      "metadata": {
        "colab": {
          "base_uri": "https://localhost:8080/"
        },
        "id": "JHdac1zGNsp0",
        "outputId": "f34eb2d1-36ac-4f46-d087-52c8207284e6"
      },
      "execution_count": 70,
      "outputs": [
        {
          "output_type": "stream",
          "name": "stdout",
          "text": [
            "R² Score: 0.8625690243184906\n",
            "MSE: 933017717.6249716\n"
          ]
        }
      ]
    },
    {
      "cell_type": "code",
      "source": [
        "x_important_train2 = sfm2.transform(x_train2)\n",
        "x_important_test2 = sfm2.transform(x_test2)"
      ],
      "metadata": {
        "id": "DEQPgM5FPG6g"
      },
      "execution_count": 71,
      "outputs": []
    },
    {
      "cell_type": "code",
      "source": [
        "print(x_important_train2.shape)\n",
        "print(x_important_test2.shape)"
      ],
      "metadata": {
        "id": "rEG-hcGpQWVy",
        "colab": {
          "base_uri": "https://localhost:8080/"
        },
        "outputId": "4aa2a469-815f-4c19-c612-2aead33698b0"
      },
      "execution_count": 72,
      "outputs": [
        {
          "output_type": "stream",
          "name": "stdout",
          "text": [
            "(1022, 1)\n",
            "(438, 1)\n"
          ]
        }
      ]
    },
    {
      "cell_type": "code",
      "source": [
        "rfr_lim = RandomForestRegressor(random_state=0, criterion='squared_error')\n",
        "rfr_lim.fit(x_important_train2, y_train2)\n",
        "pred_lim2 = rfr_lim.predict(x_important_test2)\n",
        "print(\"R² Score (limited features):\", r2_score(y_test2, pred_lim2))\n",
        "print(\"MSE (limited features):\", mean_squared_error(y_test2, pred_lim2))"
      ],
      "metadata": {
        "colab": {
          "base_uri": "https://localhost:8080/"
        },
        "id": "1JKEfECURUH-",
        "outputId": "7769edbc-1e0d-47a6-aa0d-fd624ba88549"
      },
      "execution_count": 73,
      "outputs": [
        {
          "output_type": "stream",
          "name": "stdout",
          "text": [
            "R² Score (limited features): 0.6914271092644155\n",
            "MSE (limited features): 2094898714.1171165\n"
          ]
        }
      ]
    },
    {
      "cell_type": "code",
      "source": [],
      "metadata": {
        "id": "B00B833Myfcw"
      },
      "execution_count": null,
      "outputs": []
    }
  ]
}