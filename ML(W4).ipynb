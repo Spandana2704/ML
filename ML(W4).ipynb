{
  "nbformat": 4,
  "nbformat_minor": 0,
  "metadata": {
    "colab": {
      "provenance": [],
      "gpuType": "T4",
      "authorship_tag": "ABX9TyP7AMEQkv4/PZ4xpIQ//jgU",
      "include_colab_link": true
    },
    "kernelspec": {
      "name": "python3",
      "display_name": "Python 3"
    },
    "language_info": {
      "name": "python"
    },
    "accelerator": "GPU"
  },
  "cells": [
    {
      "cell_type": "markdown",
      "metadata": {
        "id": "view-in-github",
        "colab_type": "text"
      },
      "source": [
        "<a href=\"https://colab.research.google.com/github/Spandana2704/ML/blob/main/ML(W4).ipynb\" target=\"_parent\"><img src=\"https://colab.research.google.com/assets/colab-badge.svg\" alt=\"Open In Colab\"/></a>"
      ]
    },
    {
      "cell_type": "code",
      "execution_count": null,
      "metadata": {
        "id": "NsPxrsCTnNHO"
      },
      "outputs": [],
      "source": [
        "import pandas as pd\n",
        "import numpy as np"
      ]
    },
    {
      "cell_type": "code",
      "source": [
        "df=pd.read_csv('/content/titanic_train.csv')\n",
        "df.shape"
      ],
      "metadata": {
        "colab": {
          "base_uri": "https://localhost:8080/"
        },
        "id": "o54B-2-UoXGZ",
        "outputId": "85d1d866-04d0-44b5-e7b3-d0b32c51bf5c"
      },
      "execution_count": null,
      "outputs": [
        {
          "output_type": "execute_result",
          "data": {
            "text/plain": [
              "(891, 12)"
            ]
          },
          "metadata": {},
          "execution_count": 27
        }
      ]
    },
    {
      "cell_type": "code",
      "source": [
        "df.columns"
      ],
      "metadata": {
        "colab": {
          "base_uri": "https://localhost:8080/"
        },
        "id": "WWjbqXvsof-X",
        "outputId": "0c2f043d-3505-4733-ee0b-62ade7adfdf4"
      },
      "execution_count": null,
      "outputs": [
        {
          "output_type": "execute_result",
          "data": {
            "text/plain": [
              "Index(['PassengerId', 'Survived', 'Pclass', 'Name', 'Sex', 'Age', 'SibSp',\n",
              "       'Parch', 'Ticket', 'Fare', 'Cabin', 'Embarked'],\n",
              "      dtype='object')"
            ]
          },
          "metadata": {},
          "execution_count": 28
        }
      ]
    },
    {
      "cell_type": "code",
      "source": [
        "df=df.drop(['PassengerId','Name','Ticket'],axis=1)"
      ],
      "metadata": {
        "id": "-W2YJZQeoiDn"
      },
      "execution_count": null,
      "outputs": []
    },
    {
      "cell_type": "code",
      "source": [
        "df.head(5)"
      ],
      "metadata": {
        "colab": {
          "base_uri": "https://localhost:8080/",
          "height": 206
        },
        "id": "fZ7w8zkzo2VH",
        "outputId": "ec29649f-a7de-4209-8a50-0630fb44f4ab"
      },
      "execution_count": null,
      "outputs": [
        {
          "output_type": "execute_result",
          "data": {
            "text/plain": [
              "   Survived  Pclass     Sex   Age  SibSp  Parch     Fare Cabin Embarked\n",
              "0         0       3    male  22.0      1      0   7.2500   NaN        S\n",
              "1         1       1  female  38.0      1      0  71.2833   C85        C\n",
              "2         1       3  female  26.0      0      0   7.9250   NaN        S\n",
              "3         1       1  female  35.0      1      0  53.1000  C123        S\n",
              "4         0       3    male  35.0      0      0   8.0500   NaN        S"
            ],
            "text/html": [
              "\n",
              "  <div id=\"df-297bb62e-82a2-4cf8-965a-50c83109271f\" class=\"colab-df-container\">\n",
              "    <div>\n",
              "<style scoped>\n",
              "    .dataframe tbody tr th:only-of-type {\n",
              "        vertical-align: middle;\n",
              "    }\n",
              "\n",
              "    .dataframe tbody tr th {\n",
              "        vertical-align: top;\n",
              "    }\n",
              "\n",
              "    .dataframe thead th {\n",
              "        text-align: right;\n",
              "    }\n",
              "</style>\n",
              "<table border=\"1\" class=\"dataframe\">\n",
              "  <thead>\n",
              "    <tr style=\"text-align: right;\">\n",
              "      <th></th>\n",
              "      <th>Survived</th>\n",
              "      <th>Pclass</th>\n",
              "      <th>Sex</th>\n",
              "      <th>Age</th>\n",
              "      <th>SibSp</th>\n",
              "      <th>Parch</th>\n",
              "      <th>Fare</th>\n",
              "      <th>Cabin</th>\n",
              "      <th>Embarked</th>\n",
              "    </tr>\n",
              "  </thead>\n",
              "  <tbody>\n",
              "    <tr>\n",
              "      <th>0</th>\n",
              "      <td>0</td>\n",
              "      <td>3</td>\n",
              "      <td>male</td>\n",
              "      <td>22.0</td>\n",
              "      <td>1</td>\n",
              "      <td>0</td>\n",
              "      <td>7.2500</td>\n",
              "      <td>NaN</td>\n",
              "      <td>S</td>\n",
              "    </tr>\n",
              "    <tr>\n",
              "      <th>1</th>\n",
              "      <td>1</td>\n",
              "      <td>1</td>\n",
              "      <td>female</td>\n",
              "      <td>38.0</td>\n",
              "      <td>1</td>\n",
              "      <td>0</td>\n",
              "      <td>71.2833</td>\n",
              "      <td>C85</td>\n",
              "      <td>C</td>\n",
              "    </tr>\n",
              "    <tr>\n",
              "      <th>2</th>\n",
              "      <td>1</td>\n",
              "      <td>3</td>\n",
              "      <td>female</td>\n",
              "      <td>26.0</td>\n",
              "      <td>0</td>\n",
              "      <td>0</td>\n",
              "      <td>7.9250</td>\n",
              "      <td>NaN</td>\n",
              "      <td>S</td>\n",
              "    </tr>\n",
              "    <tr>\n",
              "      <th>3</th>\n",
              "      <td>1</td>\n",
              "      <td>1</td>\n",
              "      <td>female</td>\n",
              "      <td>35.0</td>\n",
              "      <td>1</td>\n",
              "      <td>0</td>\n",
              "      <td>53.1000</td>\n",
              "      <td>C123</td>\n",
              "      <td>S</td>\n",
              "    </tr>\n",
              "    <tr>\n",
              "      <th>4</th>\n",
              "      <td>0</td>\n",
              "      <td>3</td>\n",
              "      <td>male</td>\n",
              "      <td>35.0</td>\n",
              "      <td>0</td>\n",
              "      <td>0</td>\n",
              "      <td>8.0500</td>\n",
              "      <td>NaN</td>\n",
              "      <td>S</td>\n",
              "    </tr>\n",
              "  </tbody>\n",
              "</table>\n",
              "</div>\n",
              "    <div class=\"colab-df-buttons\">\n",
              "\n",
              "  <div class=\"colab-df-container\">\n",
              "    <button class=\"colab-df-convert\" onclick=\"convertToInteractive('df-297bb62e-82a2-4cf8-965a-50c83109271f')\"\n",
              "            title=\"Convert this dataframe to an interactive table.\"\n",
              "            style=\"display:none;\">\n",
              "\n",
              "  <svg xmlns=\"http://www.w3.org/2000/svg\" height=\"24px\" viewBox=\"0 -960 960 960\">\n",
              "    <path d=\"M120-120v-720h720v720H120Zm60-500h600v-160H180v160Zm220 220h160v-160H400v160Zm0 220h160v-160H400v160ZM180-400h160v-160H180v160Zm440 0h160v-160H620v160ZM180-180h160v-160H180v160Zm440 0h160v-160H620v160Z\"/>\n",
              "  </svg>\n",
              "    </button>\n",
              "\n",
              "  <style>\n",
              "    .colab-df-container {\n",
              "      display:flex;\n",
              "      gap: 12px;\n",
              "    }\n",
              "\n",
              "    .colab-df-convert {\n",
              "      background-color: #E8F0FE;\n",
              "      border: none;\n",
              "      border-radius: 50%;\n",
              "      cursor: pointer;\n",
              "      display: none;\n",
              "      fill: #1967D2;\n",
              "      height: 32px;\n",
              "      padding: 0 0 0 0;\n",
              "      width: 32px;\n",
              "    }\n",
              "\n",
              "    .colab-df-convert:hover {\n",
              "      background-color: #E2EBFA;\n",
              "      box-shadow: 0px 1px 2px rgba(60, 64, 67, 0.3), 0px 1px 3px 1px rgba(60, 64, 67, 0.15);\n",
              "      fill: #174EA6;\n",
              "    }\n",
              "\n",
              "    .colab-df-buttons div {\n",
              "      margin-bottom: 4px;\n",
              "    }\n",
              "\n",
              "    [theme=dark] .colab-df-convert {\n",
              "      background-color: #3B4455;\n",
              "      fill: #D2E3FC;\n",
              "    }\n",
              "\n",
              "    [theme=dark] .colab-df-convert:hover {\n",
              "      background-color: #434B5C;\n",
              "      box-shadow: 0px 1px 3px 1px rgba(0, 0, 0, 0.15);\n",
              "      filter: drop-shadow(0px 1px 2px rgba(0, 0, 0, 0.3));\n",
              "      fill: #FFFFFF;\n",
              "    }\n",
              "  </style>\n",
              "\n",
              "    <script>\n",
              "      const buttonEl =\n",
              "        document.querySelector('#df-297bb62e-82a2-4cf8-965a-50c83109271f button.colab-df-convert');\n",
              "      buttonEl.style.display =\n",
              "        google.colab.kernel.accessAllowed ? 'block' : 'none';\n",
              "\n",
              "      async function convertToInteractive(key) {\n",
              "        const element = document.querySelector('#df-297bb62e-82a2-4cf8-965a-50c83109271f');\n",
              "        const dataTable =\n",
              "          await google.colab.kernel.invokeFunction('convertToInteractive',\n",
              "                                                    [key], {});\n",
              "        if (!dataTable) return;\n",
              "\n",
              "        const docLinkHtml = 'Like what you see? Visit the ' +\n",
              "          '<a target=\"_blank\" href=https://colab.research.google.com/notebooks/data_table.ipynb>data table notebook</a>'\n",
              "          + ' to learn more about interactive tables.';\n",
              "        element.innerHTML = '';\n",
              "        dataTable['output_type'] = 'display_data';\n",
              "        await google.colab.output.renderOutput(dataTable, element);\n",
              "        const docLink = document.createElement('div');\n",
              "        docLink.innerHTML = docLinkHtml;\n",
              "        element.appendChild(docLink);\n",
              "      }\n",
              "    </script>\n",
              "  </div>\n",
              "\n",
              "\n",
              "    <div id=\"df-c43afa9c-0565-4979-9b3f-1a8a3cb80198\">\n",
              "      <button class=\"colab-df-quickchart\" onclick=\"quickchart('df-c43afa9c-0565-4979-9b3f-1a8a3cb80198')\"\n",
              "                title=\"Suggest charts\"\n",
              "                style=\"display:none;\">\n",
              "\n",
              "<svg xmlns=\"http://www.w3.org/2000/svg\" height=\"24px\"viewBox=\"0 0 24 24\"\n",
              "     width=\"24px\">\n",
              "    <g>\n",
              "        <path d=\"M19 3H5c-1.1 0-2 .9-2 2v14c0 1.1.9 2 2 2h14c1.1 0 2-.9 2-2V5c0-1.1-.9-2-2-2zM9 17H7v-7h2v7zm4 0h-2V7h2v10zm4 0h-2v-4h2v4z\"/>\n",
              "    </g>\n",
              "</svg>\n",
              "      </button>\n",
              "\n",
              "<style>\n",
              "  .colab-df-quickchart {\n",
              "      --bg-color: #E8F0FE;\n",
              "      --fill-color: #1967D2;\n",
              "      --hover-bg-color: #E2EBFA;\n",
              "      --hover-fill-color: #174EA6;\n",
              "      --disabled-fill-color: #AAA;\n",
              "      --disabled-bg-color: #DDD;\n",
              "  }\n",
              "\n",
              "  [theme=dark] .colab-df-quickchart {\n",
              "      --bg-color: #3B4455;\n",
              "      --fill-color: #D2E3FC;\n",
              "      --hover-bg-color: #434B5C;\n",
              "      --hover-fill-color: #FFFFFF;\n",
              "      --disabled-bg-color: #3B4455;\n",
              "      --disabled-fill-color: #666;\n",
              "  }\n",
              "\n",
              "  .colab-df-quickchart {\n",
              "    background-color: var(--bg-color);\n",
              "    border: none;\n",
              "    border-radius: 50%;\n",
              "    cursor: pointer;\n",
              "    display: none;\n",
              "    fill: var(--fill-color);\n",
              "    height: 32px;\n",
              "    padding: 0;\n",
              "    width: 32px;\n",
              "  }\n",
              "\n",
              "  .colab-df-quickchart:hover {\n",
              "    background-color: var(--hover-bg-color);\n",
              "    box-shadow: 0 1px 2px rgba(60, 64, 67, 0.3), 0 1px 3px 1px rgba(60, 64, 67, 0.15);\n",
              "    fill: var(--button-hover-fill-color);\n",
              "  }\n",
              "\n",
              "  .colab-df-quickchart-complete:disabled,\n",
              "  .colab-df-quickchart-complete:disabled:hover {\n",
              "    background-color: var(--disabled-bg-color);\n",
              "    fill: var(--disabled-fill-color);\n",
              "    box-shadow: none;\n",
              "  }\n",
              "\n",
              "  .colab-df-spinner {\n",
              "    border: 2px solid var(--fill-color);\n",
              "    border-color: transparent;\n",
              "    border-bottom-color: var(--fill-color);\n",
              "    animation:\n",
              "      spin 1s steps(1) infinite;\n",
              "  }\n",
              "\n",
              "  @keyframes spin {\n",
              "    0% {\n",
              "      border-color: transparent;\n",
              "      border-bottom-color: var(--fill-color);\n",
              "      border-left-color: var(--fill-color);\n",
              "    }\n",
              "    20% {\n",
              "      border-color: transparent;\n",
              "      border-left-color: var(--fill-color);\n",
              "      border-top-color: var(--fill-color);\n",
              "    }\n",
              "    30% {\n",
              "      border-color: transparent;\n",
              "      border-left-color: var(--fill-color);\n",
              "      border-top-color: var(--fill-color);\n",
              "      border-right-color: var(--fill-color);\n",
              "    }\n",
              "    40% {\n",
              "      border-color: transparent;\n",
              "      border-right-color: var(--fill-color);\n",
              "      border-top-color: var(--fill-color);\n",
              "    }\n",
              "    60% {\n",
              "      border-color: transparent;\n",
              "      border-right-color: var(--fill-color);\n",
              "    }\n",
              "    80% {\n",
              "      border-color: transparent;\n",
              "      border-right-color: var(--fill-color);\n",
              "      border-bottom-color: var(--fill-color);\n",
              "    }\n",
              "    90% {\n",
              "      border-color: transparent;\n",
              "      border-bottom-color: var(--fill-color);\n",
              "    }\n",
              "  }\n",
              "</style>\n",
              "\n",
              "      <script>\n",
              "        async function quickchart(key) {\n",
              "          const quickchartButtonEl =\n",
              "            document.querySelector('#' + key + ' button');\n",
              "          quickchartButtonEl.disabled = true;  // To prevent multiple clicks.\n",
              "          quickchartButtonEl.classList.add('colab-df-spinner');\n",
              "          try {\n",
              "            const charts = await google.colab.kernel.invokeFunction(\n",
              "                'suggestCharts', [key], {});\n",
              "          } catch (error) {\n",
              "            console.error('Error during call to suggestCharts:', error);\n",
              "          }\n",
              "          quickchartButtonEl.classList.remove('colab-df-spinner');\n",
              "          quickchartButtonEl.classList.add('colab-df-quickchart-complete');\n",
              "        }\n",
              "        (() => {\n",
              "          let quickchartButtonEl =\n",
              "            document.querySelector('#df-c43afa9c-0565-4979-9b3f-1a8a3cb80198 button');\n",
              "          quickchartButtonEl.style.display =\n",
              "            google.colab.kernel.accessAllowed ? 'block' : 'none';\n",
              "        })();\n",
              "      </script>\n",
              "    </div>\n",
              "\n",
              "    </div>\n",
              "  </div>\n"
            ],
            "application/vnd.google.colaboratory.intrinsic+json": {
              "type": "dataframe",
              "variable_name": "df",
              "summary": "{\n  \"name\": \"df\",\n  \"rows\": 891,\n  \"fields\": [\n    {\n      \"column\": \"Survived\",\n      \"properties\": {\n        \"dtype\": \"number\",\n        \"std\": 0,\n        \"min\": 0,\n        \"max\": 1,\n        \"num_unique_values\": 2,\n        \"samples\": [\n          1,\n          0\n        ],\n        \"semantic_type\": \"\",\n        \"description\": \"\"\n      }\n    },\n    {\n      \"column\": \"Pclass\",\n      \"properties\": {\n        \"dtype\": \"number\",\n        \"std\": 0,\n        \"min\": 1,\n        \"max\": 3,\n        \"num_unique_values\": 3,\n        \"samples\": [\n          3,\n          1\n        ],\n        \"semantic_type\": \"\",\n        \"description\": \"\"\n      }\n    },\n    {\n      \"column\": \"Sex\",\n      \"properties\": {\n        \"dtype\": \"category\",\n        \"num_unique_values\": 2,\n        \"samples\": [\n          \"female\",\n          \"male\"\n        ],\n        \"semantic_type\": \"\",\n        \"description\": \"\"\n      }\n    },\n    {\n      \"column\": \"Age\",\n      \"properties\": {\n        \"dtype\": \"number\",\n        \"std\": 14.526497332334044,\n        \"min\": 0.42,\n        \"max\": 80.0,\n        \"num_unique_values\": 88,\n        \"samples\": [\n          0.75,\n          22.0\n        ],\n        \"semantic_type\": \"\",\n        \"description\": \"\"\n      }\n    },\n    {\n      \"column\": \"SibSp\",\n      \"properties\": {\n        \"dtype\": \"number\",\n        \"std\": 1,\n        \"min\": 0,\n        \"max\": 8,\n        \"num_unique_values\": 7,\n        \"samples\": [\n          1,\n          0\n        ],\n        \"semantic_type\": \"\",\n        \"description\": \"\"\n      }\n    },\n    {\n      \"column\": \"Parch\",\n      \"properties\": {\n        \"dtype\": \"number\",\n        \"std\": 0,\n        \"min\": 0,\n        \"max\": 6,\n        \"num_unique_values\": 7,\n        \"samples\": [\n          0,\n          1\n        ],\n        \"semantic_type\": \"\",\n        \"description\": \"\"\n      }\n    },\n    {\n      \"column\": \"Fare\",\n      \"properties\": {\n        \"dtype\": \"number\",\n        \"std\": 49.693428597180905,\n        \"min\": 0.0,\n        \"max\": 512.3292,\n        \"num_unique_values\": 248,\n        \"samples\": [\n          11.2417,\n          51.8625\n        ],\n        \"semantic_type\": \"\",\n        \"description\": \"\"\n      }\n    },\n    {\n      \"column\": \"Cabin\",\n      \"properties\": {\n        \"dtype\": \"category\",\n        \"num_unique_values\": 147,\n        \"samples\": [\n          \"D45\",\n          \"B49\"\n        ],\n        \"semantic_type\": \"\",\n        \"description\": \"\"\n      }\n    },\n    {\n      \"column\": \"Embarked\",\n      \"properties\": {\n        \"dtype\": \"category\",\n        \"num_unique_values\": 3,\n        \"samples\": [\n          \"S\",\n          \"C\"\n        ],\n        \"semantic_type\": \"\",\n        \"description\": \"\"\n      }\n    }\n  ]\n}"
            }
          },
          "metadata": {},
          "execution_count": 30
        }
      ]
    },
    {
      "cell_type": "code",
      "source": [
        "[col for col in df.columns if df[col].isnull().sum()>0]"
      ],
      "metadata": {
        "colab": {
          "base_uri": "https://localhost:8080/"
        },
        "id": "O0N5vs3kpDm3",
        "outputId": "5aaab23b-31bc-4a54-cf8b-1e8839d7b8e4"
      },
      "execution_count": null,
      "outputs": [
        {
          "output_type": "execute_result",
          "data": {
            "text/plain": [
              "['Age', 'Cabin', 'Embarked']"
            ]
          },
          "metadata": {},
          "execution_count": 31
        }
      ]
    },
    {
      "cell_type": "code",
      "source": [
        "df['Age'] = df['Age'].fillna(df['Age'].median())"
      ],
      "metadata": {
        "id": "h3njCa4Xp8z3"
      },
      "execution_count": null,
      "outputs": []
    },
    {
      "cell_type": "code",
      "source": [
        "df=df.drop(['Embarked','Cabin'],axis=1)"
      ],
      "metadata": {
        "id": "5VM8wJEvqXTX"
      },
      "execution_count": null,
      "outputs": []
    },
    {
      "cell_type": "code",
      "source": [
        "from sklearn.ensemble import RandomForestClassifier,RandomForestRegressor"
      ],
      "metadata": {
        "id": "cHlTGa7-qd5X"
      },
      "execution_count": null,
      "outputs": []
    },
    {
      "cell_type": "code",
      "source": [
        "from sklearn.metrics import roc_auc_score"
      ],
      "metadata": {
        "id": "fBcx9zMjq5r3"
      },
      "execution_count": null,
      "outputs": []
    },
    {
      "cell_type": "code",
      "source": [
        "from mlxtend.feature_selection import SequentialFeatureSelector as SFS"
      ],
      "metadata": {
        "id": "RA2_e2p5rWWn"
      },
      "execution_count": null,
      "outputs": []
    },
    {
      "cell_type": "code",
      "source": [
        "X = df.drop('Survived',axis=1)\n",
        "y = df['Survived']"
      ],
      "metadata": {
        "id": "zgHrrIYHrk_n"
      },
      "execution_count": null,
      "outputs": []
    },
    {
      "cell_type": "code",
      "source": [
        "X = pd.get_dummies(X,drop_first=True)"
      ],
      "metadata": {
        "id": "yBp3GH85sexw"
      },
      "execution_count": null,
      "outputs": []
    },
    {
      "cell_type": "code",
      "source": [
        "from sklearn.model_selection import train_test_split"
      ],
      "metadata": {
        "id": "nwnIFX-Pr1bv"
      },
      "execution_count": null,
      "outputs": []
    },
    {
      "cell_type": "code",
      "source": [
        "x_train,x_test,y_train,y_test=train_test_split(X,y,test_size=0.3,random_state=0)"
      ],
      "metadata": {
        "id": "c274i1FvruhQ"
      },
      "execution_count": null,
      "outputs": []
    },
    {
      "cell_type": "code",
      "source": [
        "grouped_feature_ls = []\n",
        "correlated_groups = []\n",
        "def correlation (dataset, threshold):\n",
        "    col_corr = set()\n",
        "    corr_matrix = dataset.corr()\n",
        "    for i in range(len(corr_matrix.columns)):\n",
        "        for j in range(i):\n",
        "            if abs(corr_matrix.iloc[i, j]) > threshold:\n",
        "                colname=corr_matrix.columns[i]\n",
        "                col_corr.add(colname)\n",
        "    return col_corr\n",
        "corr_features=correlation (x_test, 0.9)\n",
        "correlated_features = set(corr_features)\n",
        "print(len(correlated_features))"
      ],
      "metadata": {
        "colab": {
          "base_uri": "https://localhost:8080/"
        },
        "id": "JWUFWF_prxPn",
        "outputId": "d45599ab-7f6b-45d5-c13d-a7ad625749b1"
      },
      "execution_count": null,
      "outputs": [
        {
          "output_type": "stream",
          "name": "stdout",
          "text": [
            "0\n"
          ]
        }
      ]
    },
    {
      "cell_type": "code",
      "source": [
        "sfs1=SFS(RandomForestClassifier(n_jobs=4),k_features=5,forward=True,verbose=2,scoring='roc_auc' or 'accuracy',cv=3)"
      ],
      "metadata": {
        "id": "kocNhsabsaen"
      },
      "execution_count": null,
      "outputs": []
    },
    {
      "cell_type": "code",
      "source": [
        "sfs1=sfs1.fit(np.array(x_train.fillna(0)),y_train)"
      ],
      "metadata": {
        "colab": {
          "base_uri": "https://localhost:8080/"
        },
        "id": "k22-mahKtduY",
        "outputId": "bb89e064-2086-4ea5-bccb-c951a172640c"
      },
      "execution_count": null,
      "outputs": [
        {
          "output_type": "stream",
          "name": "stderr",
          "text": [
            "[Parallel(n_jobs=1)]: Done   6 out of   6 | elapsed:    3.9s finished\n",
            "\n",
            "[2025-08-19 15:17:35] Features: 1/5 -- score: 0.765194136612553[Parallel(n_jobs=1)]: Done   5 out of   5 | elapsed:    3.3s finished\n",
            "\n",
            "[2025-08-19 15:17:39] Features: 2/5 -- score: 0.832223720877483[Parallel(n_jobs=1)]: Done   4 out of   4 | elapsed:    2.6s finished\n",
            "\n",
            "[2025-08-19 15:17:41] Features: 3/5 -- score: 0.8391936829655554[Parallel(n_jobs=1)]: Done   3 out of   3 | elapsed:    2.5s finished\n",
            "\n",
            "[2025-08-19 15:17:44] Features: 4/5 -- score: 0.8452480476977415[Parallel(n_jobs=1)]: Done   2 out of   2 | elapsed:    1.4s finished\n",
            "\n",
            "[2025-08-19 15:17:45] Features: 5/5 -- score: 0.8450046174783709"
          ]
        }
      ]
    },
    {
      "cell_type": "code",
      "source": [
        "print('best accracy score',sfs1.k_score_)\n",
        "print('best subset(indices)',sfs1.k_feature_idx_)\n",
        "print('Best subset (corresponding names):', sfs1.k_feature_names_)"
      ],
      "metadata": {
        "id": "An62qytnuCjX",
        "colab": {
          "base_uri": "https://localhost:8080/"
        },
        "outputId": "fab9da4f-0fe0-4728-cf1d-884ac33abc50"
      },
      "execution_count": null,
      "outputs": [
        {
          "output_type": "stream",
          "name": "stdout",
          "text": [
            "best accracy score 0.8450046174783709\n",
            "best subset(indices) (0, 1, 3, 4, 5)\n",
            "Best subset (corresponding names): ('0', '1', '3', '4', '5')\n"
          ]
        }
      ]
    },
    {
      "cell_type": "code",
      "source": [
        "sfs2=SFS(RandomForestClassifier(n_jobs=4),k_features=5,forward=False,verbose=2,scoring='roc_auc' or 'accuracy',cv=3)\n",
        "sfs2=sfs2.fit(np.array(x_train.fillna(0)),y_train)\n",
        "print('best accracy score',sfs2.k_score_)\n",
        "print('best subset(indices)',sfs2.k_feature_idx_)\n",
        "print('Best subset (corresponding names):', sfs2.k_feature_names_)"
      ],
      "metadata": {
        "id": "iSmq9JMxu0Ro",
        "colab": {
          "base_uri": "https://localhost:8080/"
        },
        "outputId": "9bfcfbcb-c1a4-472d-a7ef-645cf7ae9207"
      },
      "execution_count": null,
      "outputs": [
        {
          "output_type": "stream",
          "name": "stdout",
          "text": [
            "best accracy score 0.8440774764265578\n",
            "best subset(indices) (0, 1, 2, 4, 5)\n",
            "Best subset (corresponding names): ('0', '1', '2', '4', '5')\n"
          ]
        },
        {
          "output_type": "stream",
          "name": "stderr",
          "text": [
            "[Parallel(n_jobs=1)]: Done   6 out of   6 | elapsed:    4.1s finished\n",
            "\n",
            "[2025-08-19 15:18:28] Features: 5/5 -- score: 0.8440774764265578"
          ]
        }
      ]
    },
    {
      "cell_type": "code",
      "source": [
        "from mlxtend.feature_selection import ExhaustiveFeatureSelector as EFS\n",
        "efs=EFS(RandomForestClassifier(n_jobs=4),min_features=1,max_features=4,scoring='accuracy',cv=5)\n",
        "efs=efs.fit(x_train,y_train)\n",
        "print('best accuracy score',efs.best_score_)\n",
        "print('best subset(indices)',efs.best_idx_)\n",
        "print('Best subset (corresponding names):', efs.best_feature_names_)"
      ],
      "metadata": {
        "id": "4iY4ABo4vCQf",
        "colab": {
          "base_uri": "https://localhost:8080/"
        },
        "outputId": "e4b1f7ac-0d1b-4a42-add3-f3a0fc5066ea"
      },
      "execution_count": null,
      "outputs": [
        {
          "output_type": "stream",
          "name": "stderr",
          "text": [
            "Features: 56/56"
          ]
        },
        {
          "output_type": "stream",
          "name": "stdout",
          "text": [
            "best accuracy score 0.8089806451612903\n",
            "best subset(indices) (0, 4, 5)\n",
            "Best subset (corresponding names): ('Pclass', 'Fare', 'Sex_male')\n"
          ]
        }
      ]
    },
    {
      "cell_type": "code",
      "source": [
        "efs_results = pd.DataFrame.from_dict(efs.get_metric_dict()).T\n",
        "efs_results.sort_values(by='avg_score', ascending=True, inplace=True)\n",
        "efs_results"
      ],
      "metadata": {
        "id": "4nck9ykexSDv",
        "colab": {
          "base_uri": "https://localhost:8080/",
          "height": 1000
        },
        "outputId": "a8943c23-3e4f-441e-b444-d682ff4b0c1d"
      },
      "execution_count": null,
      "outputs": [
        {
          "output_type": "execute_result",
          "data": {
            "text/plain": [
              "     feature_idx                                          cv_scores avg_score  \\\n",
              "1           (1,)  [0.592, 0.576, 0.608, 0.5645161290322581, 0.60...  0.589071   \n",
              "11        (1, 2)  [0.64, 0.568, 0.608, 0.5483870967741935, 0.612...  0.595458   \n",
              "12        (1, 3)  [0.56, 0.592, 0.624, 0.6209677419354839, 0.612...  0.601974   \n",
              "34     (1, 3, 4)  [0.584, 0.6, 0.624, 0.5967741935483871, 0.6209...  0.605148   \n",
              "13        (1, 4)  [0.592, 0.616, 0.616, 0.5725806451612904, 0.63...  0.606735   \n",
              "3           (3,)  [0.568, 0.6, 0.616, 0.6048387096774194, 0.6451...    0.6068   \n",
              "31     (1, 2, 3)  [0.648, 0.576, 0.656, 0.5887096774193549, 0.62...  0.617935   \n",
              "2           (2,)  [0.624, 0.6, 0.656, 0.5645161290322581, 0.7177...  0.632452   \n",
              "23     (0, 1, 4)  [0.656, 0.632, 0.648, 0.6129032258064516, 0.65...  0.640426   \n",
              "42  (0, 1, 2, 4)  [0.656, 0.648, 0.64, 0.6129032258064516, 0.653...  0.642026   \n",
              "21     (0, 1, 2)  [0.616, 0.616, 0.72, 0.6129032258064516, 0.661...  0.645239   \n",
              "6         (0, 1)  [0.616, 0.64, 0.688, 0.6129032258064516, 0.669...  0.645252   \n",
              "51  (1, 2, 3, 4)  [0.68, 0.624, 0.648, 0.6370967741935484, 0.661...  0.650077   \n",
              "32     (1, 2, 4)  [0.688, 0.656, 0.656, 0.6048387096774194, 0.66...  0.654839   \n",
              "0           (0,)  [0.64, 0.656, 0.68, 0.6693548387096774, 0.6290...  0.654877   \n",
              "44  (0, 1, 3, 4)  [0.624, 0.656, 0.68, 0.6693548387096774, 0.645...  0.654903   \n",
              "25     (0, 2, 3)  [0.64, 0.656, 0.672, 0.6532258064516129, 0.669...  0.658116   \n",
              "26     (0, 2, 4)  [0.688, 0.656, 0.672, 0.6532258064516129, 0.64...  0.662877   \n",
              "15        (2, 3)  [0.648, 0.64, 0.72, 0.6209677419354839, 0.6854...   0.66289   \n",
              "41  (0, 1, 2, 3)  [0.616, 0.64, 0.752, 0.6693548387096774, 0.645...  0.664503   \n",
              "4           (4,)  [0.688, 0.664, 0.608, 0.6935483870967742, 0.66...  0.664581   \n",
              "16        (2, 4)  [0.68, 0.68, 0.704, 0.6370967741935484, 0.6370...  0.667639   \n",
              "18        (3, 4)  [0.672, 0.664, 0.648, 0.6532258064516129, 0.70...  0.667768   \n",
              "47  (0, 2, 3, 4)  [0.704, 0.68, 0.68, 0.6532258064516129, 0.6451...  0.672477   \n",
              "22     (0, 1, 3)  [0.616, 0.672, 0.76, 0.6693548387096774, 0.677...  0.678955   \n",
              "7         (0, 2)  [0.664, 0.672, 0.688, 0.6774193548387096, 0.70...  0.682219   \n",
              "37     (2, 3, 4)  [0.704, 0.672, 0.744, 0.6532258064516129, 0.66...  0.688516   \n",
              "28     (0, 3, 4)  [0.672, 0.696, 0.728, 0.6854838709677419, 0.68...  0.693394   \n",
              "9         (0, 4)  [0.672, 0.688, 0.728, 0.7096774193548387, 0.70...  0.699858   \n",
              "8         (0, 3)  [0.672, 0.704, 0.736, 0.6935483870967742, 0.70...  0.703045   \n",
              "53  (1, 2, 4, 5)  [0.728, 0.768, 0.76, 0.7580645161290323, 0.782...  0.759265   \n",
              "36     (1, 4, 5)    [0.704, 0.792, 0.768, 0.75, 0.7983870967741935]  0.762477   \n",
              "35     (1, 3, 5)  [0.728, 0.776, 0.744, 0.7580645161290323, 0.80...  0.762503   \n",
              "14        (1, 5)  [0.728, 0.816, 0.696, 0.7741935483870968, 0.79...  0.762516   \n",
              "10        (0, 5)                    [0.752, 0.8, 0.768, 0.75, 0.75]     0.764   \n",
              "54  (1, 3, 4, 5)  [0.704, 0.792, 0.744, 0.7661290322580645, 0.81...  0.764129   \n",
              "48  (0, 2, 3, 5)  [0.768, 0.8, 0.776, 0.7419354838709677, 0.7661...  0.770413   \n",
              "55  (2, 3, 4, 5)  [0.736, 0.824, 0.784, 0.7661290322580645, 0.75...  0.773639   \n",
              "52  (1, 2, 3, 5)  [0.736, 0.736, 0.784, 0.8064516129032258, 0.81...  0.775394   \n",
              "39     (2, 4, 5)  [0.768, 0.824, 0.776, 0.7580645161290323, 0.75...  0.776826   \n",
              "40     (3, 4, 5)  [0.752, 0.848, 0.76, 0.7419354838709677, 0.782...  0.776839   \n",
              "38     (2, 3, 5)    [0.792, 0.792, 0.752, 0.75, 0.8145161290322581]  0.780103   \n",
              "19        (3, 5)  [0.752, 0.8, 0.768, 0.7903225806451613, 0.8064...  0.783355   \n",
              "33     (1, 2, 5)  [0.736, 0.76, 0.776, 0.8145161290322581, 0.830...  0.783432   \n",
              "50  (0, 3, 4, 5)  [0.768, 0.832, 0.776, 0.782258064516129, 0.766...  0.784877   \n",
              "20        (4, 5)  [0.744, 0.808, 0.784, 0.8064516129032258, 0.78...  0.784942   \n",
              "5           (5,)  [0.752, 0.8, 0.768, 0.7983870967741935, 0.8145...  0.786581   \n",
              "49  (0, 2, 4, 5)  [0.792, 0.824, 0.792, 0.7741935483870968, 0.76...  0.789665   \n",
              "17        (2, 5)  [0.76, 0.792, 0.768, 0.8145161290322581, 0.830...  0.793032   \n",
              "29     (0, 3, 5)  [0.776, 0.816, 0.792, 0.7580645161290323, 0.83...  0.794542   \n",
              "27     (0, 2, 5)  [0.784, 0.8, 0.776, 0.8064516129032258, 0.8145...  0.796194   \n",
              "46  (0, 1, 4, 5)  [0.776, 0.816, 0.8, 0.782258064516129, 0.84677...  0.804206   \n",
              "45  (0, 1, 3, 5)  [0.776, 0.832, 0.776, 0.782258064516129, 0.854...  0.804219   \n",
              "43  (0, 1, 2, 5)  [0.72, 0.824, 0.832, 0.8225806451612904, 0.830...  0.805845   \n",
              "24     (0, 1, 5)  [0.8, 0.824, 0.784, 0.782258064516129, 0.84677...  0.807406   \n",
              "30     (0, 4, 5)  [0.792, 0.824, 0.816, 0.8145161290322581, 0.79...  0.808981   \n",
              "\n",
              "                       feature_names  ci_bound   std_dev   std_err  \n",
              "1                             (Age,)  0.021425  0.016669  0.008335  \n",
              "11                      (Age, SibSp)  0.042299   0.03291  0.016455  \n",
              "12                      (Age, Parch)   0.03056  0.023777  0.011888  \n",
              "34                (Age, Parch, Fare)  0.019488  0.015163  0.007581  \n",
              "13                       (Age, Fare)  0.028608  0.022258  0.011129  \n",
              "3                           (Parch,)  0.032064  0.024947  0.012473  \n",
              "31               (Age, SibSp, Parch)  0.040542  0.031543  0.015771  \n",
              "2                           (SibSp,)  0.066955  0.052094  0.026047  \n",
              "23               (Pclass, Age, Fare)  0.020663  0.016076  0.008038  \n",
              "42        (Pclass, Age, SibSp, Fare)  0.019983  0.015548  0.007774  \n",
              "21              (Pclass, Age, SibSp)  0.053312  0.041478  0.020739  \n",
              "6                      (Pclass, Age)  0.037859  0.029455  0.014728  \n",
              "51         (Age, SibSp, Parch, Fare)  0.024882  0.019359   0.00968  \n",
              "32                (Age, SibSp, Fare)  0.035494  0.027616  0.013808  \n",
              "0                          (Pclass,)  0.023917  0.018608  0.009304  \n",
              "44        (Pclass, Age, Parch, Fare)  0.024988  0.019441  0.009721  \n",
              "25            (Pclass, SibSp, Parch)  0.014941  0.011625  0.005812  \n",
              "26             (Pclass, SibSp, Fare)   0.01965  0.015288  0.007644  \n",
              "15                    (SibSp, Parch)  0.045533  0.035426  0.017713  \n",
              "41       (Pclass, Age, SibSp, Parch)  0.060303  0.046918  0.023459  \n",
              "4                            (Fare,)  0.039036  0.030371  0.015186  \n",
              "16                     (SibSp, Fare)  0.033973  0.026432  0.013216  \n",
              "18                     (Parch, Fare)   0.02425  0.018867  0.009434  \n",
              "47      (Pclass, SibSp, Parch, Fare)  0.027105  0.021089  0.010544  \n",
              "22              (Pclass, Age, Parch)  0.059387  0.046205  0.023103  \n",
              "7                    (Pclass, SibSp)  0.020296  0.015791  0.007896  \n",
              "37              (SibSp, Parch, Fare)  0.041464   0.03226   0.01613  \n",
              "28             (Pclass, Parch, Fare)    0.0243  0.018906  0.009453  \n",
              "9                     (Pclass, Fare)  0.024442  0.019017  0.009508  \n",
              "8                    (Pclass, Parch)  0.026868  0.020904  0.010452  \n",
              "53      (Age, SibSp, Fare, Sex_male)   0.02288  0.017801  0.008901  \n",
              "36             (Age, Fare, Sex_male)   0.04365  0.033961  0.016981  \n",
              "35            (Age, Parch, Sex_male)  0.034803  0.027078  0.013539  \n",
              "14                   (Age, Sex_male)   0.05719  0.044496  0.022248  \n",
              "10                (Pclass, Sex_male)   0.02471  0.019225  0.009612  \n",
              "54      (Age, Parch, Fare, Sex_male)  0.049246  0.038315  0.019158  \n",
              "48  (Pclass, SibSp, Parch, Sex_male)  0.023989  0.018664  0.009332  \n",
              "55    (SibSp, Parch, Fare, Sex_male)  0.037951  0.029527  0.014764  \n",
              "52     (Age, SibSp, Parch, Sex_male)  0.043293  0.033684  0.016842  \n",
              "39           (SibSp, Fare, Sex_male)  0.031525  0.024527  0.012264  \n",
              "40           (Parch, Fare, Sex_male)  0.048814  0.037979   0.01899  \n",
              "38          (SibSp, Parch, Sex_male)  0.032329  0.025153  0.012576  \n",
              "19                 (Parch, Sex_male)  0.026202  0.020386  0.010193  \n",
              "33            (Age, SibSp, Sex_male)  0.044707  0.034783  0.017392  \n",
              "50   (Pclass, Parch, Fare, Sex_male)   0.03118  0.024259   0.01213  \n",
              "20                  (Fare, Sex_male)  0.029749  0.023146  0.011573  \n",
              "5                        (Sex_male,)  0.029539  0.022982  0.011491  \n",
              "49   (Pclass, SibSp, Fare, Sex_male)  0.025597  0.019915  0.009958  \n",
              "17                 (SibSp, Sex_male)  0.034464  0.026815  0.013407  \n",
              "29         (Pclass, Parch, Sex_male)  0.033736  0.026248  0.013124  \n",
              "27         (Pclass, SibSp, Sex_male)  0.018285  0.014226  0.007113  \n",
              "46     (Pclass, Age, Fare, Sex_male)  0.032749   0.02548   0.01274  \n",
              "45    (Pclass, Age, Parch, Sex_male)  0.042274  0.032891  0.016445  \n",
              "43    (Pclass, Age, SibSp, Sex_male)  0.055367  0.043077  0.021539  \n",
              "24           (Pclass, Age, Sex_male)  0.031798   0.02474   0.01237  \n",
              "30          (Pclass, Fare, Sex_male)  0.015273  0.011883  0.005942  "
            ],
            "text/html": [
              "\n",
              "  <div id=\"df-d3701e75-146f-4742-b62a-9476cce299c7\" class=\"colab-df-container\">\n",
              "    <div>\n",
              "<style scoped>\n",
              "    .dataframe tbody tr th:only-of-type {\n",
              "        vertical-align: middle;\n",
              "    }\n",
              "\n",
              "    .dataframe tbody tr th {\n",
              "        vertical-align: top;\n",
              "    }\n",
              "\n",
              "    .dataframe thead th {\n",
              "        text-align: right;\n",
              "    }\n",
              "</style>\n",
              "<table border=\"1\" class=\"dataframe\">\n",
              "  <thead>\n",
              "    <tr style=\"text-align: right;\">\n",
              "      <th></th>\n",
              "      <th>feature_idx</th>\n",
              "      <th>cv_scores</th>\n",
              "      <th>avg_score</th>\n",
              "      <th>feature_names</th>\n",
              "      <th>ci_bound</th>\n",
              "      <th>std_dev</th>\n",
              "      <th>std_err</th>\n",
              "    </tr>\n",
              "  </thead>\n",
              "  <tbody>\n",
              "    <tr>\n",
              "      <th>1</th>\n",
              "      <td>(1,)</td>\n",
              "      <td>[0.592, 0.576, 0.608, 0.5645161290322581, 0.60...</td>\n",
              "      <td>0.589071</td>\n",
              "      <td>(Age,)</td>\n",
              "      <td>0.021425</td>\n",
              "      <td>0.016669</td>\n",
              "      <td>0.008335</td>\n",
              "    </tr>\n",
              "    <tr>\n",
              "      <th>11</th>\n",
              "      <td>(1, 2)</td>\n",
              "      <td>[0.64, 0.568, 0.608, 0.5483870967741935, 0.612...</td>\n",
              "      <td>0.595458</td>\n",
              "      <td>(Age, SibSp)</td>\n",
              "      <td>0.042299</td>\n",
              "      <td>0.03291</td>\n",
              "      <td>0.016455</td>\n",
              "    </tr>\n",
              "    <tr>\n",
              "      <th>12</th>\n",
              "      <td>(1, 3)</td>\n",
              "      <td>[0.56, 0.592, 0.624, 0.6209677419354839, 0.612...</td>\n",
              "      <td>0.601974</td>\n",
              "      <td>(Age, Parch)</td>\n",
              "      <td>0.03056</td>\n",
              "      <td>0.023777</td>\n",
              "      <td>0.011888</td>\n",
              "    </tr>\n",
              "    <tr>\n",
              "      <th>34</th>\n",
              "      <td>(1, 3, 4)</td>\n",
              "      <td>[0.584, 0.6, 0.624, 0.5967741935483871, 0.6209...</td>\n",
              "      <td>0.605148</td>\n",
              "      <td>(Age, Parch, Fare)</td>\n",
              "      <td>0.019488</td>\n",
              "      <td>0.015163</td>\n",
              "      <td>0.007581</td>\n",
              "    </tr>\n",
              "    <tr>\n",
              "      <th>13</th>\n",
              "      <td>(1, 4)</td>\n",
              "      <td>[0.592, 0.616, 0.616, 0.5725806451612904, 0.63...</td>\n",
              "      <td>0.606735</td>\n",
              "      <td>(Age, Fare)</td>\n",
              "      <td>0.028608</td>\n",
              "      <td>0.022258</td>\n",
              "      <td>0.011129</td>\n",
              "    </tr>\n",
              "    <tr>\n",
              "      <th>3</th>\n",
              "      <td>(3,)</td>\n",
              "      <td>[0.568, 0.6, 0.616, 0.6048387096774194, 0.6451...</td>\n",
              "      <td>0.6068</td>\n",
              "      <td>(Parch,)</td>\n",
              "      <td>0.032064</td>\n",
              "      <td>0.024947</td>\n",
              "      <td>0.012473</td>\n",
              "    </tr>\n",
              "    <tr>\n",
              "      <th>31</th>\n",
              "      <td>(1, 2, 3)</td>\n",
              "      <td>[0.648, 0.576, 0.656, 0.5887096774193549, 0.62...</td>\n",
              "      <td>0.617935</td>\n",
              "      <td>(Age, SibSp, Parch)</td>\n",
              "      <td>0.040542</td>\n",
              "      <td>0.031543</td>\n",
              "      <td>0.015771</td>\n",
              "    </tr>\n",
              "    <tr>\n",
              "      <th>2</th>\n",
              "      <td>(2,)</td>\n",
              "      <td>[0.624, 0.6, 0.656, 0.5645161290322581, 0.7177...</td>\n",
              "      <td>0.632452</td>\n",
              "      <td>(SibSp,)</td>\n",
              "      <td>0.066955</td>\n",
              "      <td>0.052094</td>\n",
              "      <td>0.026047</td>\n",
              "    </tr>\n",
              "    <tr>\n",
              "      <th>23</th>\n",
              "      <td>(0, 1, 4)</td>\n",
              "      <td>[0.656, 0.632, 0.648, 0.6129032258064516, 0.65...</td>\n",
              "      <td>0.640426</td>\n",
              "      <td>(Pclass, Age, Fare)</td>\n",
              "      <td>0.020663</td>\n",
              "      <td>0.016076</td>\n",
              "      <td>0.008038</td>\n",
              "    </tr>\n",
              "    <tr>\n",
              "      <th>42</th>\n",
              "      <td>(0, 1, 2, 4)</td>\n",
              "      <td>[0.656, 0.648, 0.64, 0.6129032258064516, 0.653...</td>\n",
              "      <td>0.642026</td>\n",
              "      <td>(Pclass, Age, SibSp, Fare)</td>\n",
              "      <td>0.019983</td>\n",
              "      <td>0.015548</td>\n",
              "      <td>0.007774</td>\n",
              "    </tr>\n",
              "    <tr>\n",
              "      <th>21</th>\n",
              "      <td>(0, 1, 2)</td>\n",
              "      <td>[0.616, 0.616, 0.72, 0.6129032258064516, 0.661...</td>\n",
              "      <td>0.645239</td>\n",
              "      <td>(Pclass, Age, SibSp)</td>\n",
              "      <td>0.053312</td>\n",
              "      <td>0.041478</td>\n",
              "      <td>0.020739</td>\n",
              "    </tr>\n",
              "    <tr>\n",
              "      <th>6</th>\n",
              "      <td>(0, 1)</td>\n",
              "      <td>[0.616, 0.64, 0.688, 0.6129032258064516, 0.669...</td>\n",
              "      <td>0.645252</td>\n",
              "      <td>(Pclass, Age)</td>\n",
              "      <td>0.037859</td>\n",
              "      <td>0.029455</td>\n",
              "      <td>0.014728</td>\n",
              "    </tr>\n",
              "    <tr>\n",
              "      <th>51</th>\n",
              "      <td>(1, 2, 3, 4)</td>\n",
              "      <td>[0.68, 0.624, 0.648, 0.6370967741935484, 0.661...</td>\n",
              "      <td>0.650077</td>\n",
              "      <td>(Age, SibSp, Parch, Fare)</td>\n",
              "      <td>0.024882</td>\n",
              "      <td>0.019359</td>\n",
              "      <td>0.00968</td>\n",
              "    </tr>\n",
              "    <tr>\n",
              "      <th>32</th>\n",
              "      <td>(1, 2, 4)</td>\n",
              "      <td>[0.688, 0.656, 0.656, 0.6048387096774194, 0.66...</td>\n",
              "      <td>0.654839</td>\n",
              "      <td>(Age, SibSp, Fare)</td>\n",
              "      <td>0.035494</td>\n",
              "      <td>0.027616</td>\n",
              "      <td>0.013808</td>\n",
              "    </tr>\n",
              "    <tr>\n",
              "      <th>0</th>\n",
              "      <td>(0,)</td>\n",
              "      <td>[0.64, 0.656, 0.68, 0.6693548387096774, 0.6290...</td>\n",
              "      <td>0.654877</td>\n",
              "      <td>(Pclass,)</td>\n",
              "      <td>0.023917</td>\n",
              "      <td>0.018608</td>\n",
              "      <td>0.009304</td>\n",
              "    </tr>\n",
              "    <tr>\n",
              "      <th>44</th>\n",
              "      <td>(0, 1, 3, 4)</td>\n",
              "      <td>[0.624, 0.656, 0.68, 0.6693548387096774, 0.645...</td>\n",
              "      <td>0.654903</td>\n",
              "      <td>(Pclass, Age, Parch, Fare)</td>\n",
              "      <td>0.024988</td>\n",
              "      <td>0.019441</td>\n",
              "      <td>0.009721</td>\n",
              "    </tr>\n",
              "    <tr>\n",
              "      <th>25</th>\n",
              "      <td>(0, 2, 3)</td>\n",
              "      <td>[0.64, 0.656, 0.672, 0.6532258064516129, 0.669...</td>\n",
              "      <td>0.658116</td>\n",
              "      <td>(Pclass, SibSp, Parch)</td>\n",
              "      <td>0.014941</td>\n",
              "      <td>0.011625</td>\n",
              "      <td>0.005812</td>\n",
              "    </tr>\n",
              "    <tr>\n",
              "      <th>26</th>\n",
              "      <td>(0, 2, 4)</td>\n",
              "      <td>[0.688, 0.656, 0.672, 0.6532258064516129, 0.64...</td>\n",
              "      <td>0.662877</td>\n",
              "      <td>(Pclass, SibSp, Fare)</td>\n",
              "      <td>0.01965</td>\n",
              "      <td>0.015288</td>\n",
              "      <td>0.007644</td>\n",
              "    </tr>\n",
              "    <tr>\n",
              "      <th>15</th>\n",
              "      <td>(2, 3)</td>\n",
              "      <td>[0.648, 0.64, 0.72, 0.6209677419354839, 0.6854...</td>\n",
              "      <td>0.66289</td>\n",
              "      <td>(SibSp, Parch)</td>\n",
              "      <td>0.045533</td>\n",
              "      <td>0.035426</td>\n",
              "      <td>0.017713</td>\n",
              "    </tr>\n",
              "    <tr>\n",
              "      <th>41</th>\n",
              "      <td>(0, 1, 2, 3)</td>\n",
              "      <td>[0.616, 0.64, 0.752, 0.6693548387096774, 0.645...</td>\n",
              "      <td>0.664503</td>\n",
              "      <td>(Pclass, Age, SibSp, Parch)</td>\n",
              "      <td>0.060303</td>\n",
              "      <td>0.046918</td>\n",
              "      <td>0.023459</td>\n",
              "    </tr>\n",
              "    <tr>\n",
              "      <th>4</th>\n",
              "      <td>(4,)</td>\n",
              "      <td>[0.688, 0.664, 0.608, 0.6935483870967742, 0.66...</td>\n",
              "      <td>0.664581</td>\n",
              "      <td>(Fare,)</td>\n",
              "      <td>0.039036</td>\n",
              "      <td>0.030371</td>\n",
              "      <td>0.015186</td>\n",
              "    </tr>\n",
              "    <tr>\n",
              "      <th>16</th>\n",
              "      <td>(2, 4)</td>\n",
              "      <td>[0.68, 0.68, 0.704, 0.6370967741935484, 0.6370...</td>\n",
              "      <td>0.667639</td>\n",
              "      <td>(SibSp, Fare)</td>\n",
              "      <td>0.033973</td>\n",
              "      <td>0.026432</td>\n",
              "      <td>0.013216</td>\n",
              "    </tr>\n",
              "    <tr>\n",
              "      <th>18</th>\n",
              "      <td>(3, 4)</td>\n",
              "      <td>[0.672, 0.664, 0.648, 0.6532258064516129, 0.70...</td>\n",
              "      <td>0.667768</td>\n",
              "      <td>(Parch, Fare)</td>\n",
              "      <td>0.02425</td>\n",
              "      <td>0.018867</td>\n",
              "      <td>0.009434</td>\n",
              "    </tr>\n",
              "    <tr>\n",
              "      <th>47</th>\n",
              "      <td>(0, 2, 3, 4)</td>\n",
              "      <td>[0.704, 0.68, 0.68, 0.6532258064516129, 0.6451...</td>\n",
              "      <td>0.672477</td>\n",
              "      <td>(Pclass, SibSp, Parch, Fare)</td>\n",
              "      <td>0.027105</td>\n",
              "      <td>0.021089</td>\n",
              "      <td>0.010544</td>\n",
              "    </tr>\n",
              "    <tr>\n",
              "      <th>22</th>\n",
              "      <td>(0, 1, 3)</td>\n",
              "      <td>[0.616, 0.672, 0.76, 0.6693548387096774, 0.677...</td>\n",
              "      <td>0.678955</td>\n",
              "      <td>(Pclass, Age, Parch)</td>\n",
              "      <td>0.059387</td>\n",
              "      <td>0.046205</td>\n",
              "      <td>0.023103</td>\n",
              "    </tr>\n",
              "    <tr>\n",
              "      <th>7</th>\n",
              "      <td>(0, 2)</td>\n",
              "      <td>[0.664, 0.672, 0.688, 0.6774193548387096, 0.70...</td>\n",
              "      <td>0.682219</td>\n",
              "      <td>(Pclass, SibSp)</td>\n",
              "      <td>0.020296</td>\n",
              "      <td>0.015791</td>\n",
              "      <td>0.007896</td>\n",
              "    </tr>\n",
              "    <tr>\n",
              "      <th>37</th>\n",
              "      <td>(2, 3, 4)</td>\n",
              "      <td>[0.704, 0.672, 0.744, 0.6532258064516129, 0.66...</td>\n",
              "      <td>0.688516</td>\n",
              "      <td>(SibSp, Parch, Fare)</td>\n",
              "      <td>0.041464</td>\n",
              "      <td>0.03226</td>\n",
              "      <td>0.01613</td>\n",
              "    </tr>\n",
              "    <tr>\n",
              "      <th>28</th>\n",
              "      <td>(0, 3, 4)</td>\n",
              "      <td>[0.672, 0.696, 0.728, 0.6854838709677419, 0.68...</td>\n",
              "      <td>0.693394</td>\n",
              "      <td>(Pclass, Parch, Fare)</td>\n",
              "      <td>0.0243</td>\n",
              "      <td>0.018906</td>\n",
              "      <td>0.009453</td>\n",
              "    </tr>\n",
              "    <tr>\n",
              "      <th>9</th>\n",
              "      <td>(0, 4)</td>\n",
              "      <td>[0.672, 0.688, 0.728, 0.7096774193548387, 0.70...</td>\n",
              "      <td>0.699858</td>\n",
              "      <td>(Pclass, Fare)</td>\n",
              "      <td>0.024442</td>\n",
              "      <td>0.019017</td>\n",
              "      <td>0.009508</td>\n",
              "    </tr>\n",
              "    <tr>\n",
              "      <th>8</th>\n",
              "      <td>(0, 3)</td>\n",
              "      <td>[0.672, 0.704, 0.736, 0.6935483870967742, 0.70...</td>\n",
              "      <td>0.703045</td>\n",
              "      <td>(Pclass, Parch)</td>\n",
              "      <td>0.026868</td>\n",
              "      <td>0.020904</td>\n",
              "      <td>0.010452</td>\n",
              "    </tr>\n",
              "    <tr>\n",
              "      <th>53</th>\n",
              "      <td>(1, 2, 4, 5)</td>\n",
              "      <td>[0.728, 0.768, 0.76, 0.7580645161290323, 0.782...</td>\n",
              "      <td>0.759265</td>\n",
              "      <td>(Age, SibSp, Fare, Sex_male)</td>\n",
              "      <td>0.02288</td>\n",
              "      <td>0.017801</td>\n",
              "      <td>0.008901</td>\n",
              "    </tr>\n",
              "    <tr>\n",
              "      <th>36</th>\n",
              "      <td>(1, 4, 5)</td>\n",
              "      <td>[0.704, 0.792, 0.768, 0.75, 0.7983870967741935]</td>\n",
              "      <td>0.762477</td>\n",
              "      <td>(Age, Fare, Sex_male)</td>\n",
              "      <td>0.04365</td>\n",
              "      <td>0.033961</td>\n",
              "      <td>0.016981</td>\n",
              "    </tr>\n",
              "    <tr>\n",
              "      <th>35</th>\n",
              "      <td>(1, 3, 5)</td>\n",
              "      <td>[0.728, 0.776, 0.744, 0.7580645161290323, 0.80...</td>\n",
              "      <td>0.762503</td>\n",
              "      <td>(Age, Parch, Sex_male)</td>\n",
              "      <td>0.034803</td>\n",
              "      <td>0.027078</td>\n",
              "      <td>0.013539</td>\n",
              "    </tr>\n",
              "    <tr>\n",
              "      <th>14</th>\n",
              "      <td>(1, 5)</td>\n",
              "      <td>[0.728, 0.816, 0.696, 0.7741935483870968, 0.79...</td>\n",
              "      <td>0.762516</td>\n",
              "      <td>(Age, Sex_male)</td>\n",
              "      <td>0.05719</td>\n",
              "      <td>0.044496</td>\n",
              "      <td>0.022248</td>\n",
              "    </tr>\n",
              "    <tr>\n",
              "      <th>10</th>\n",
              "      <td>(0, 5)</td>\n",
              "      <td>[0.752, 0.8, 0.768, 0.75, 0.75]</td>\n",
              "      <td>0.764</td>\n",
              "      <td>(Pclass, Sex_male)</td>\n",
              "      <td>0.02471</td>\n",
              "      <td>0.019225</td>\n",
              "      <td>0.009612</td>\n",
              "    </tr>\n",
              "    <tr>\n",
              "      <th>54</th>\n",
              "      <td>(1, 3, 4, 5)</td>\n",
              "      <td>[0.704, 0.792, 0.744, 0.7661290322580645, 0.81...</td>\n",
              "      <td>0.764129</td>\n",
              "      <td>(Age, Parch, Fare, Sex_male)</td>\n",
              "      <td>0.049246</td>\n",
              "      <td>0.038315</td>\n",
              "      <td>0.019158</td>\n",
              "    </tr>\n",
              "    <tr>\n",
              "      <th>48</th>\n",
              "      <td>(0, 2, 3, 5)</td>\n",
              "      <td>[0.768, 0.8, 0.776, 0.7419354838709677, 0.7661...</td>\n",
              "      <td>0.770413</td>\n",
              "      <td>(Pclass, SibSp, Parch, Sex_male)</td>\n",
              "      <td>0.023989</td>\n",
              "      <td>0.018664</td>\n",
              "      <td>0.009332</td>\n",
              "    </tr>\n",
              "    <tr>\n",
              "      <th>55</th>\n",
              "      <td>(2, 3, 4, 5)</td>\n",
              "      <td>[0.736, 0.824, 0.784, 0.7661290322580645, 0.75...</td>\n",
              "      <td>0.773639</td>\n",
              "      <td>(SibSp, Parch, Fare, Sex_male)</td>\n",
              "      <td>0.037951</td>\n",
              "      <td>0.029527</td>\n",
              "      <td>0.014764</td>\n",
              "    </tr>\n",
              "    <tr>\n",
              "      <th>52</th>\n",
              "      <td>(1, 2, 3, 5)</td>\n",
              "      <td>[0.736, 0.736, 0.784, 0.8064516129032258, 0.81...</td>\n",
              "      <td>0.775394</td>\n",
              "      <td>(Age, SibSp, Parch, Sex_male)</td>\n",
              "      <td>0.043293</td>\n",
              "      <td>0.033684</td>\n",
              "      <td>0.016842</td>\n",
              "    </tr>\n",
              "    <tr>\n",
              "      <th>39</th>\n",
              "      <td>(2, 4, 5)</td>\n",
              "      <td>[0.768, 0.824, 0.776, 0.7580645161290323, 0.75...</td>\n",
              "      <td>0.776826</td>\n",
              "      <td>(SibSp, Fare, Sex_male)</td>\n",
              "      <td>0.031525</td>\n",
              "      <td>0.024527</td>\n",
              "      <td>0.012264</td>\n",
              "    </tr>\n",
              "    <tr>\n",
              "      <th>40</th>\n",
              "      <td>(3, 4, 5)</td>\n",
              "      <td>[0.752, 0.848, 0.76, 0.7419354838709677, 0.782...</td>\n",
              "      <td>0.776839</td>\n",
              "      <td>(Parch, Fare, Sex_male)</td>\n",
              "      <td>0.048814</td>\n",
              "      <td>0.037979</td>\n",
              "      <td>0.01899</td>\n",
              "    </tr>\n",
              "    <tr>\n",
              "      <th>38</th>\n",
              "      <td>(2, 3, 5)</td>\n",
              "      <td>[0.792, 0.792, 0.752, 0.75, 0.8145161290322581]</td>\n",
              "      <td>0.780103</td>\n",
              "      <td>(SibSp, Parch, Sex_male)</td>\n",
              "      <td>0.032329</td>\n",
              "      <td>0.025153</td>\n",
              "      <td>0.012576</td>\n",
              "    </tr>\n",
              "    <tr>\n",
              "      <th>19</th>\n",
              "      <td>(3, 5)</td>\n",
              "      <td>[0.752, 0.8, 0.768, 0.7903225806451613, 0.8064...</td>\n",
              "      <td>0.783355</td>\n",
              "      <td>(Parch, Sex_male)</td>\n",
              "      <td>0.026202</td>\n",
              "      <td>0.020386</td>\n",
              "      <td>0.010193</td>\n",
              "    </tr>\n",
              "    <tr>\n",
              "      <th>33</th>\n",
              "      <td>(1, 2, 5)</td>\n",
              "      <td>[0.736, 0.76, 0.776, 0.8145161290322581, 0.830...</td>\n",
              "      <td>0.783432</td>\n",
              "      <td>(Age, SibSp, Sex_male)</td>\n",
              "      <td>0.044707</td>\n",
              "      <td>0.034783</td>\n",
              "      <td>0.017392</td>\n",
              "    </tr>\n",
              "    <tr>\n",
              "      <th>50</th>\n",
              "      <td>(0, 3, 4, 5)</td>\n",
              "      <td>[0.768, 0.832, 0.776, 0.782258064516129, 0.766...</td>\n",
              "      <td>0.784877</td>\n",
              "      <td>(Pclass, Parch, Fare, Sex_male)</td>\n",
              "      <td>0.03118</td>\n",
              "      <td>0.024259</td>\n",
              "      <td>0.01213</td>\n",
              "    </tr>\n",
              "    <tr>\n",
              "      <th>20</th>\n",
              "      <td>(4, 5)</td>\n",
              "      <td>[0.744, 0.808, 0.784, 0.8064516129032258, 0.78...</td>\n",
              "      <td>0.784942</td>\n",
              "      <td>(Fare, Sex_male)</td>\n",
              "      <td>0.029749</td>\n",
              "      <td>0.023146</td>\n",
              "      <td>0.011573</td>\n",
              "    </tr>\n",
              "    <tr>\n",
              "      <th>5</th>\n",
              "      <td>(5,)</td>\n",
              "      <td>[0.752, 0.8, 0.768, 0.7983870967741935, 0.8145...</td>\n",
              "      <td>0.786581</td>\n",
              "      <td>(Sex_male,)</td>\n",
              "      <td>0.029539</td>\n",
              "      <td>0.022982</td>\n",
              "      <td>0.011491</td>\n",
              "    </tr>\n",
              "    <tr>\n",
              "      <th>49</th>\n",
              "      <td>(0, 2, 4, 5)</td>\n",
              "      <td>[0.792, 0.824, 0.792, 0.7741935483870968, 0.76...</td>\n",
              "      <td>0.789665</td>\n",
              "      <td>(Pclass, SibSp, Fare, Sex_male)</td>\n",
              "      <td>0.025597</td>\n",
              "      <td>0.019915</td>\n",
              "      <td>0.009958</td>\n",
              "    </tr>\n",
              "    <tr>\n",
              "      <th>17</th>\n",
              "      <td>(2, 5)</td>\n",
              "      <td>[0.76, 0.792, 0.768, 0.8145161290322581, 0.830...</td>\n",
              "      <td>0.793032</td>\n",
              "      <td>(SibSp, Sex_male)</td>\n",
              "      <td>0.034464</td>\n",
              "      <td>0.026815</td>\n",
              "      <td>0.013407</td>\n",
              "    </tr>\n",
              "    <tr>\n",
              "      <th>29</th>\n",
              "      <td>(0, 3, 5)</td>\n",
              "      <td>[0.776, 0.816, 0.792, 0.7580645161290323, 0.83...</td>\n",
              "      <td>0.794542</td>\n",
              "      <td>(Pclass, Parch, Sex_male)</td>\n",
              "      <td>0.033736</td>\n",
              "      <td>0.026248</td>\n",
              "      <td>0.013124</td>\n",
              "    </tr>\n",
              "    <tr>\n",
              "      <th>27</th>\n",
              "      <td>(0, 2, 5)</td>\n",
              "      <td>[0.784, 0.8, 0.776, 0.8064516129032258, 0.8145...</td>\n",
              "      <td>0.796194</td>\n",
              "      <td>(Pclass, SibSp, Sex_male)</td>\n",
              "      <td>0.018285</td>\n",
              "      <td>0.014226</td>\n",
              "      <td>0.007113</td>\n",
              "    </tr>\n",
              "    <tr>\n",
              "      <th>46</th>\n",
              "      <td>(0, 1, 4, 5)</td>\n",
              "      <td>[0.776, 0.816, 0.8, 0.782258064516129, 0.84677...</td>\n",
              "      <td>0.804206</td>\n",
              "      <td>(Pclass, Age, Fare, Sex_male)</td>\n",
              "      <td>0.032749</td>\n",
              "      <td>0.02548</td>\n",
              "      <td>0.01274</td>\n",
              "    </tr>\n",
              "    <tr>\n",
              "      <th>45</th>\n",
              "      <td>(0, 1, 3, 5)</td>\n",
              "      <td>[0.776, 0.832, 0.776, 0.782258064516129, 0.854...</td>\n",
              "      <td>0.804219</td>\n",
              "      <td>(Pclass, Age, Parch, Sex_male)</td>\n",
              "      <td>0.042274</td>\n",
              "      <td>0.032891</td>\n",
              "      <td>0.016445</td>\n",
              "    </tr>\n",
              "    <tr>\n",
              "      <th>43</th>\n",
              "      <td>(0, 1, 2, 5)</td>\n",
              "      <td>[0.72, 0.824, 0.832, 0.8225806451612904, 0.830...</td>\n",
              "      <td>0.805845</td>\n",
              "      <td>(Pclass, Age, SibSp, Sex_male)</td>\n",
              "      <td>0.055367</td>\n",
              "      <td>0.043077</td>\n",
              "      <td>0.021539</td>\n",
              "    </tr>\n",
              "    <tr>\n",
              "      <th>24</th>\n",
              "      <td>(0, 1, 5)</td>\n",
              "      <td>[0.8, 0.824, 0.784, 0.782258064516129, 0.84677...</td>\n",
              "      <td>0.807406</td>\n",
              "      <td>(Pclass, Age, Sex_male)</td>\n",
              "      <td>0.031798</td>\n",
              "      <td>0.02474</td>\n",
              "      <td>0.01237</td>\n",
              "    </tr>\n",
              "    <tr>\n",
              "      <th>30</th>\n",
              "      <td>(0, 4, 5)</td>\n",
              "      <td>[0.792, 0.824, 0.816, 0.8145161290322581, 0.79...</td>\n",
              "      <td>0.808981</td>\n",
              "      <td>(Pclass, Fare, Sex_male)</td>\n",
              "      <td>0.015273</td>\n",
              "      <td>0.011883</td>\n",
              "      <td>0.005942</td>\n",
              "    </tr>\n",
              "  </tbody>\n",
              "</table>\n",
              "</div>\n",
              "    <div class=\"colab-df-buttons\">\n",
              "\n",
              "  <div class=\"colab-df-container\">\n",
              "    <button class=\"colab-df-convert\" onclick=\"convertToInteractive('df-d3701e75-146f-4742-b62a-9476cce299c7')\"\n",
              "            title=\"Convert this dataframe to an interactive table.\"\n",
              "            style=\"display:none;\">\n",
              "\n",
              "  <svg xmlns=\"http://www.w3.org/2000/svg\" height=\"24px\" viewBox=\"0 -960 960 960\">\n",
              "    <path d=\"M120-120v-720h720v720H120Zm60-500h600v-160H180v160Zm220 220h160v-160H400v160Zm0 220h160v-160H400v160ZM180-400h160v-160H180v160Zm440 0h160v-160H620v160ZM180-180h160v-160H180v160Zm440 0h160v-160H620v160Z\"/>\n",
              "  </svg>\n",
              "    </button>\n",
              "\n",
              "  <style>\n",
              "    .colab-df-container {\n",
              "      display:flex;\n",
              "      gap: 12px;\n",
              "    }\n",
              "\n",
              "    .colab-df-convert {\n",
              "      background-color: #E8F0FE;\n",
              "      border: none;\n",
              "      border-radius: 50%;\n",
              "      cursor: pointer;\n",
              "      display: none;\n",
              "      fill: #1967D2;\n",
              "      height: 32px;\n",
              "      padding: 0 0 0 0;\n",
              "      width: 32px;\n",
              "    }\n",
              "\n",
              "    .colab-df-convert:hover {\n",
              "      background-color: #E2EBFA;\n",
              "      box-shadow: 0px 1px 2px rgba(60, 64, 67, 0.3), 0px 1px 3px 1px rgba(60, 64, 67, 0.15);\n",
              "      fill: #174EA6;\n",
              "    }\n",
              "\n",
              "    .colab-df-buttons div {\n",
              "      margin-bottom: 4px;\n",
              "    }\n",
              "\n",
              "    [theme=dark] .colab-df-convert {\n",
              "      background-color: #3B4455;\n",
              "      fill: #D2E3FC;\n",
              "    }\n",
              "\n",
              "    [theme=dark] .colab-df-convert:hover {\n",
              "      background-color: #434B5C;\n",
              "      box-shadow: 0px 1px 3px 1px rgba(0, 0, 0, 0.15);\n",
              "      filter: drop-shadow(0px 1px 2px rgba(0, 0, 0, 0.3));\n",
              "      fill: #FFFFFF;\n",
              "    }\n",
              "  </style>\n",
              "\n",
              "    <script>\n",
              "      const buttonEl =\n",
              "        document.querySelector('#df-d3701e75-146f-4742-b62a-9476cce299c7 button.colab-df-convert');\n",
              "      buttonEl.style.display =\n",
              "        google.colab.kernel.accessAllowed ? 'block' : 'none';\n",
              "\n",
              "      async function convertToInteractive(key) {\n",
              "        const element = document.querySelector('#df-d3701e75-146f-4742-b62a-9476cce299c7');\n",
              "        const dataTable =\n",
              "          await google.colab.kernel.invokeFunction('convertToInteractive',\n",
              "                                                    [key], {});\n",
              "        if (!dataTable) return;\n",
              "\n",
              "        const docLinkHtml = 'Like what you see? Visit the ' +\n",
              "          '<a target=\"_blank\" href=https://colab.research.google.com/notebooks/data_table.ipynb>data table notebook</a>'\n",
              "          + ' to learn more about interactive tables.';\n",
              "        element.innerHTML = '';\n",
              "        dataTable['output_type'] = 'display_data';\n",
              "        await google.colab.output.renderOutput(dataTable, element);\n",
              "        const docLink = document.createElement('div');\n",
              "        docLink.innerHTML = docLinkHtml;\n",
              "        element.appendChild(docLink);\n",
              "      }\n",
              "    </script>\n",
              "  </div>\n",
              "\n",
              "\n",
              "    <div id=\"df-cd589abd-9789-4bb7-b4dc-5a6a3baa8f38\">\n",
              "      <button class=\"colab-df-quickchart\" onclick=\"quickchart('df-cd589abd-9789-4bb7-b4dc-5a6a3baa8f38')\"\n",
              "                title=\"Suggest charts\"\n",
              "                style=\"display:none;\">\n",
              "\n",
              "<svg xmlns=\"http://www.w3.org/2000/svg\" height=\"24px\"viewBox=\"0 0 24 24\"\n",
              "     width=\"24px\">\n",
              "    <g>\n",
              "        <path d=\"M19 3H5c-1.1 0-2 .9-2 2v14c0 1.1.9 2 2 2h14c1.1 0 2-.9 2-2V5c0-1.1-.9-2-2-2zM9 17H7v-7h2v7zm4 0h-2V7h2v10zm4 0h-2v-4h2v4z\"/>\n",
              "    </g>\n",
              "</svg>\n",
              "      </button>\n",
              "\n",
              "<style>\n",
              "  .colab-df-quickchart {\n",
              "      --bg-color: #E8F0FE;\n",
              "      --fill-color: #1967D2;\n",
              "      --hover-bg-color: #E2EBFA;\n",
              "      --hover-fill-color: #174EA6;\n",
              "      --disabled-fill-color: #AAA;\n",
              "      --disabled-bg-color: #DDD;\n",
              "  }\n",
              "\n",
              "  [theme=dark] .colab-df-quickchart {\n",
              "      --bg-color: #3B4455;\n",
              "      --fill-color: #D2E3FC;\n",
              "      --hover-bg-color: #434B5C;\n",
              "      --hover-fill-color: #FFFFFF;\n",
              "      --disabled-bg-color: #3B4455;\n",
              "      --disabled-fill-color: #666;\n",
              "  }\n",
              "\n",
              "  .colab-df-quickchart {\n",
              "    background-color: var(--bg-color);\n",
              "    border: none;\n",
              "    border-radius: 50%;\n",
              "    cursor: pointer;\n",
              "    display: none;\n",
              "    fill: var(--fill-color);\n",
              "    height: 32px;\n",
              "    padding: 0;\n",
              "    width: 32px;\n",
              "  }\n",
              "\n",
              "  .colab-df-quickchart:hover {\n",
              "    background-color: var(--hover-bg-color);\n",
              "    box-shadow: 0 1px 2px rgba(60, 64, 67, 0.3), 0 1px 3px 1px rgba(60, 64, 67, 0.15);\n",
              "    fill: var(--button-hover-fill-color);\n",
              "  }\n",
              "\n",
              "  .colab-df-quickchart-complete:disabled,\n",
              "  .colab-df-quickchart-complete:disabled:hover {\n",
              "    background-color: var(--disabled-bg-color);\n",
              "    fill: var(--disabled-fill-color);\n",
              "    box-shadow: none;\n",
              "  }\n",
              "\n",
              "  .colab-df-spinner {\n",
              "    border: 2px solid var(--fill-color);\n",
              "    border-color: transparent;\n",
              "    border-bottom-color: var(--fill-color);\n",
              "    animation:\n",
              "      spin 1s steps(1) infinite;\n",
              "  }\n",
              "\n",
              "  @keyframes spin {\n",
              "    0% {\n",
              "      border-color: transparent;\n",
              "      border-bottom-color: var(--fill-color);\n",
              "      border-left-color: var(--fill-color);\n",
              "    }\n",
              "    20% {\n",
              "      border-color: transparent;\n",
              "      border-left-color: var(--fill-color);\n",
              "      border-top-color: var(--fill-color);\n",
              "    }\n",
              "    30% {\n",
              "      border-color: transparent;\n",
              "      border-left-color: var(--fill-color);\n",
              "      border-top-color: var(--fill-color);\n",
              "      border-right-color: var(--fill-color);\n",
              "    }\n",
              "    40% {\n",
              "      border-color: transparent;\n",
              "      border-right-color: var(--fill-color);\n",
              "      border-top-color: var(--fill-color);\n",
              "    }\n",
              "    60% {\n",
              "      border-color: transparent;\n",
              "      border-right-color: var(--fill-color);\n",
              "    }\n",
              "    80% {\n",
              "      border-color: transparent;\n",
              "      border-right-color: var(--fill-color);\n",
              "      border-bottom-color: var(--fill-color);\n",
              "    }\n",
              "    90% {\n",
              "      border-color: transparent;\n",
              "      border-bottom-color: var(--fill-color);\n",
              "    }\n",
              "  }\n",
              "</style>\n",
              "\n",
              "      <script>\n",
              "        async function quickchart(key) {\n",
              "          const quickchartButtonEl =\n",
              "            document.querySelector('#' + key + ' button');\n",
              "          quickchartButtonEl.disabled = true;  // To prevent multiple clicks.\n",
              "          quickchartButtonEl.classList.add('colab-df-spinner');\n",
              "          try {\n",
              "            const charts = await google.colab.kernel.invokeFunction(\n",
              "                'suggestCharts', [key], {});\n",
              "          } catch (error) {\n",
              "            console.error('Error during call to suggestCharts:', error);\n",
              "          }\n",
              "          quickchartButtonEl.classList.remove('colab-df-spinner');\n",
              "          quickchartButtonEl.classList.add('colab-df-quickchart-complete');\n",
              "        }\n",
              "        (() => {\n",
              "          let quickchartButtonEl =\n",
              "            document.querySelector('#df-cd589abd-9789-4bb7-b4dc-5a6a3baa8f38 button');\n",
              "          quickchartButtonEl.style.display =\n",
              "            google.colab.kernel.accessAllowed ? 'block' : 'none';\n",
              "        })();\n",
              "      </script>\n",
              "    </div>\n",
              "\n",
              "  <div id=\"id_7b5c0cbe-43aa-4037-9e91-dcbdbadb6f19\">\n",
              "    <style>\n",
              "      .colab-df-generate {\n",
              "        background-color: #E8F0FE;\n",
              "        border: none;\n",
              "        border-radius: 50%;\n",
              "        cursor: pointer;\n",
              "        display: none;\n",
              "        fill: #1967D2;\n",
              "        height: 32px;\n",
              "        padding: 0 0 0 0;\n",
              "        width: 32px;\n",
              "      }\n",
              "\n",
              "      .colab-df-generate:hover {\n",
              "        background-color: #E2EBFA;\n",
              "        box-shadow: 0px 1px 2px rgba(60, 64, 67, 0.3), 0px 1px 3px 1px rgba(60, 64, 67, 0.15);\n",
              "        fill: #174EA6;\n",
              "      }\n",
              "\n",
              "      [theme=dark] .colab-df-generate {\n",
              "        background-color: #3B4455;\n",
              "        fill: #D2E3FC;\n",
              "      }\n",
              "\n",
              "      [theme=dark] .colab-df-generate:hover {\n",
              "        background-color: #434B5C;\n",
              "        box-shadow: 0px 1px 3px 1px rgba(0, 0, 0, 0.15);\n",
              "        filter: drop-shadow(0px 1px 2px rgba(0, 0, 0, 0.3));\n",
              "        fill: #FFFFFF;\n",
              "      }\n",
              "    </style>\n",
              "    <button class=\"colab-df-generate\" onclick=\"generateWithVariable('efs_results')\"\n",
              "            title=\"Generate code using this dataframe.\"\n",
              "            style=\"display:none;\">\n",
              "\n",
              "  <svg xmlns=\"http://www.w3.org/2000/svg\" height=\"24px\"viewBox=\"0 0 24 24\"\n",
              "       width=\"24px\">\n",
              "    <path d=\"M7,19H8.4L18.45,9,17,7.55,7,17.6ZM5,21V16.75L18.45,3.32a2,2,0,0,1,2.83,0l1.4,1.43a1.91,1.91,0,0,1,.58,1.4,1.91,1.91,0,0,1-.58,1.4L9.25,21ZM18.45,9,17,7.55Zm-12,3A5.31,5.31,0,0,0,4.9,8.1,5.31,5.31,0,0,0,1,6.5,5.31,5.31,0,0,0,4.9,4.9,5.31,5.31,0,0,0,6.5,1,5.31,5.31,0,0,0,8.1,4.9,5.31,5.31,0,0,0,12,6.5,5.46,5.46,0,0,0,6.5,12Z\"/>\n",
              "  </svg>\n",
              "    </button>\n",
              "    <script>\n",
              "      (() => {\n",
              "      const buttonEl =\n",
              "        document.querySelector('#id_7b5c0cbe-43aa-4037-9e91-dcbdbadb6f19 button.colab-df-generate');\n",
              "      buttonEl.style.display =\n",
              "        google.colab.kernel.accessAllowed ? 'block' : 'none';\n",
              "\n",
              "      buttonEl.onclick = () => {\n",
              "        google.colab.notebook.generateWithVariable('efs_results');\n",
              "      }\n",
              "      })();\n",
              "    </script>\n",
              "  </div>\n",
              "\n",
              "    </div>\n",
              "  </div>\n"
            ],
            "application/vnd.google.colaboratory.intrinsic+json": {
              "type": "dataframe",
              "variable_name": "efs_results",
              "summary": "{\n  \"name\": \"efs_results\",\n  \"rows\": 56,\n  \"fields\": [\n    {\n      \"column\": \"feature_idx\",\n      \"properties\": {\n        \"dtype\": \"string\",\n        \"num_unique_values\": 56,\n        \"samples\": [\n          [\n            1\n          ],\n          [\n            3\n          ],\n          [\n            1,\n            5\n          ]\n        ],\n        \"semantic_type\": \"\",\n        \"description\": \"\"\n      }\n    },\n    {\n      \"column\": \"cv_scores\",\n      \"properties\": {\n        \"dtype\": \"object\",\n        \"semantic_type\": \"\",\n        \"description\": \"\"\n      }\n    },\n    {\n      \"column\": \"avg_score\",\n      \"properties\": {\n        \"dtype\": \"date\",\n        \"min\": 0.5890709677419355,\n        \"max\": 0.8089806451612903,\n        \"num_unique_values\": 56,\n        \"samples\": [\n          0.5890709677419355,\n          0.6068,\n          0.7625161290322582\n        ],\n        \"semantic_type\": \"\",\n        \"description\": \"\"\n      }\n    },\n    {\n      \"column\": \"feature_names\",\n      \"properties\": {\n        \"dtype\": \"string\",\n        \"num_unique_values\": 56,\n        \"samples\": [\n          [\n            \"Age\"\n          ],\n          [\n            \"Parch\"\n          ],\n          [\n            \"Age\",\n            \"Sex_male\"\n          ]\n        ],\n        \"semantic_type\": \"\",\n        \"description\": \"\"\n      }\n    },\n    {\n      \"column\": \"ci_bound\",\n      \"properties\": {\n        \"dtype\": \"date\",\n        \"min\": 0.014941006409567211,\n        \"max\": 0.06695547232134179,\n        \"num_unique_values\": 56,\n        \"samples\": [\n          0.02142468143489824,\n          0.03206410723964597,\n          0.05719001989032337\n        ],\n        \"semantic_type\": \"\",\n        \"description\": \"\"\n      }\n    },\n    {\n      \"column\": \"std_dev\",\n      \"properties\": {\n        \"dtype\": \"date\",\n        \"min\": 0.011624610586162305,\n        \"max\": 0.052093632183289613,\n        \"num_unique_values\": 56,\n        \"samples\": [\n          0.016669130029540444,\n          0.024946964765048155,\n          0.04449577842455012\n        ],\n        \"semantic_type\": \"\",\n        \"description\": \"\"\n      }\n    },\n    {\n      \"column\": \"std_err\",\n      \"properties\": {\n        \"dtype\": \"date\",\n        \"min\": 0.005812305293081152,\n        \"max\": 0.026046816091644803,\n        \"num_unique_values\": 56,\n        \"samples\": [\n          0.008334565014770222,\n          0.012473482382524078,\n          0.02224788921227506\n        ],\n        \"semantic_type\": \"\",\n        \"description\": \"\"\n      }\n    }\n  ]\n}"
            }
          },
          "metadata": {},
          "execution_count": 48
        }
      ]
    },
    {
      "cell_type": "code",
      "source": [
        "from sklearn.ensemble import RandomForestClassifier\n",
        "rfc = RandomForestClassifier(random_state=0, criterion='gini')\n",
        "rfc.fit(x_train, y_train)\n",
        "for feature in zip(x_train.columns, rfc.feature_importances_):\n",
        "    print(feature)"
      ],
      "metadata": {
        "id": "_PttgRvVrJR9",
        "colab": {
          "base_uri": "https://localhost:8080/"
        },
        "outputId": "fc9b7dc6-518e-4848-90cb-b8fbfffb15d8"
      },
      "execution_count": null,
      "outputs": [
        {
          "output_type": "stream",
          "name": "stdout",
          "text": [
            "('Pclass', np.float64(0.08580548090109545))\n",
            "('Age', np.float64(0.26433757901109173))\n",
            "('SibSp', np.float64(0.05355992352286061))\n",
            "('Parch', np.float64(0.03699908167792097))\n",
            "('Fare', np.float64(0.28790097031129963))\n",
            "('Sex_male', np.float64(0.2713969645757317))\n"
          ]
        }
      ]
    },
    {
      "cell_type": "code",
      "source": [
        "from sklearn.feature_selection import SelectFromModel\n",
        "sfm = SelectFromModel(estimator=rfc, threshold=0.2)\n",
        "sfm = sfm.fit(x_train, y_train)\n",
        "feature_names=x_train.columns\n",
        "print('The most important features based on random forest classifier:')\n",
        "for feature_list_index in sfm.get_support(indices=True):\n",
        "    print('- ' + feature_names[feature_list_index])"
      ],
      "metadata": {
        "id": "mmGk-LZWrmAx",
        "colab": {
          "base_uri": "https://localhost:8080/"
        },
        "outputId": "41b50a22-4eb4-42de-a439-7b805548f0ff"
      },
      "execution_count": null,
      "outputs": [
        {
          "output_type": "stream",
          "name": "stdout",
          "text": [
            "The most important features based on random forest classifier:\n",
            "- Age\n",
            "- Fare\n",
            "- Sex_male\n"
          ]
        }
      ]
    },
    {
      "cell_type": "code",
      "source": [
        "from sklearn.metrics import accuracy_score\n",
        "rfc_full = RandomForestClassifier(random_state=0, criterion='gini')\n",
        "rfc_full.fit(x_train, y_train)\n",
        "pred_full = rfc_full.predict(x_test)\n",
        "print('The accuracy of classifier with full features: {:.2f}'.format(accuracy_score(y_test, pred_full)))"
      ],
      "metadata": {
        "id": "X1z0UpFVr0jc",
        "colab": {
          "base_uri": "https://localhost:8080/"
        },
        "outputId": "dab395ca-26c2-40e8-f546-7e0f831633c3"
      },
      "execution_count": null,
      "outputs": [
        {
          "output_type": "stream",
          "name": "stdout",
          "text": [
            "The accuracy of classifier with full features: 0.82\n"
          ]
        }
      ]
    },
    {
      "cell_type": "code",
      "source": [
        "x_important_train = sfm.transform(x_train)\n",
        "x_important_test = sfm.transform(x_test)"
      ],
      "metadata": {
        "id": "Q4Q07HU88nkd"
      },
      "execution_count": null,
      "outputs": []
    },
    {
      "cell_type": "code",
      "source": [
        "print(x_important_train.shape)\n",
        "print(x_important_test.shape)"
      ],
      "metadata": {
        "colab": {
          "base_uri": "https://localhost:8080/"
        },
        "id": "DSsxTKme8rJJ",
        "outputId": "4a98eec9-79bb-46ad-c701-3e90d0fdccc1"
      },
      "execution_count": null,
      "outputs": [
        {
          "output_type": "stream",
          "name": "stdout",
          "text": [
            "(623, 3)\n",
            "(268, 3)\n"
          ]
        }
      ]
    },
    {
      "cell_type": "code",
      "source": [
        "rfc_lim = RandomForestClassifier(random_state=0, criterion='gini')\n",
        "rfc_lim.fit(x_important_train, y_train)\n",
        "pred_lim = rfc_lim.predict(x_important_test)\n",
        "print('The accuracy of classifier with limited features: {:.2f}'.format(accuracy_score(y_test, pred_lim)))"
      ],
      "metadata": {
        "id": "iofvZ98OsQTi",
        "colab": {
          "base_uri": "https://localhost:8080/"
        },
        "outputId": "19d2b9a9-b7a6-4218-e06d-2bdbb60c66f2"
      },
      "execution_count": null,
      "outputs": [
        {
          "output_type": "stream",
          "name": "stdout",
          "text": [
            "The accuracy of classifier with limited features: 0.80\n"
          ]
        }
      ]
    },
    {
      "cell_type": "code",
      "source": [
        "df2=pd.read_csv('/content/house_price_train.csv')\n",
        "df2.shape"
      ],
      "metadata": {
        "colab": {
          "base_uri": "https://localhost:8080/"
        },
        "id": "quv-u8R38REk",
        "outputId": "b8e467a0-5c6b-430a-c08e-a037a9cee2cc"
      },
      "execution_count": null,
      "outputs": [
        {
          "output_type": "execute_result",
          "data": {
            "text/plain": [
              "(1460, 81)"
            ]
          },
          "metadata": {},
          "execution_count": 60
        }
      ]
    },
    {
      "cell_type": "code",
      "source": [
        "df2.columns"
      ],
      "metadata": {
        "colab": {
          "base_uri": "https://localhost:8080/"
        },
        "id": "Z6iru1Bj9OOB",
        "outputId": "6ea02968-051a-49dc-816e-ff8df224a3d5"
      },
      "execution_count": null,
      "outputs": [
        {
          "output_type": "execute_result",
          "data": {
            "text/plain": [
              "Index(['Id', 'MSSubClass', 'MSZoning', 'LotFrontage', 'LotArea', 'Street',\n",
              "       'Alley', 'LotShape', 'LandContour', 'Utilities', 'LotConfig',\n",
              "       'LandSlope', 'Neighborhood', 'Condition1', 'Condition2', 'BldgType',\n",
              "       'HouseStyle', 'OverallQual', 'OverallCond', 'YearBuilt', 'YearRemodAdd',\n",
              "       'RoofStyle', 'RoofMatl', 'Exterior1st', 'Exterior2nd', 'MasVnrType',\n",
              "       'MasVnrArea', 'ExterQual', 'ExterCond', 'Foundation', 'BsmtQual',\n",
              "       'BsmtCond', 'BsmtExposure', 'BsmtFinType1', 'BsmtFinSF1',\n",
              "       'BsmtFinType2', 'BsmtFinSF2', 'BsmtUnfSF', 'TotalBsmtSF', 'Heating',\n",
              "       'HeatingQC', 'CentralAir', 'Electrical', '1stFlrSF', '2ndFlrSF',\n",
              "       'LowQualFinSF', 'GrLivArea', 'BsmtFullBath', 'BsmtHalfBath', 'FullBath',\n",
              "       'HalfBath', 'BedroomAbvGr', 'KitchenAbvGr', 'KitchenQual',\n",
              "       'TotRmsAbvGrd', 'Functional', 'Fireplaces', 'FireplaceQu', 'GarageType',\n",
              "       'GarageYrBlt', 'GarageFinish', 'GarageCars', 'GarageArea', 'GarageQual',\n",
              "       'GarageCond', 'PavedDrive', 'WoodDeckSF', 'OpenPorchSF',\n",
              "       'EnclosedPorch', '3SsnPorch', 'ScreenPorch', 'PoolArea', 'PoolQC',\n",
              "       'Fence', 'MiscFeature', 'MiscVal', 'MoSold', 'YrSold', 'SaleType',\n",
              "       'SaleCondition', 'SalePrice'],\n",
              "      dtype='object')"
            ]
          },
          "metadata": {},
          "execution_count": 61
        }
      ]
    },
    {
      "cell_type": "code",
      "source": [
        "cols_to_drop = [\n",
        "    'Id','Alley','MiscFeature','PoolQC','Fence','FireplaceQu',\n",
        "    'Utilities','MiscVal','Condition2','GarageYrBlt',\n",
        "    'TotalBsmtSF','GarageArea','MoSold'\n",
        "]"
      ],
      "metadata": {
        "id": "G_gxNTp49Vrr"
      },
      "execution_count": null,
      "outputs": []
    },
    {
      "cell_type": "code",
      "source": [
        "df2=df2.drop(cols_to_drop,axis=1)"
      ],
      "metadata": {
        "id": "-PL3ENln-BJ3"
      },
      "execution_count": null,
      "outputs": []
    },
    {
      "cell_type": "code",
      "source": [
        "[col for col in df.columns if df[col].isnull().sum()>0]"
      ],
      "metadata": {
        "colab": {
          "base_uri": "https://localhost:8080/"
        },
        "id": "7XY1Nm-u-KsA",
        "outputId": "c8607d43-2cf1-401c-d2a9-e97c4cc14231"
      },
      "execution_count": null,
      "outputs": [
        {
          "output_type": "execute_result",
          "data": {
            "text/plain": [
              "[]"
            ]
          },
          "metadata": {},
          "execution_count": 67
        }
      ]
    },
    {
      "cell_type": "code",
      "source": [
        "X = df2.drop('SalePrice',axis=1)\n",
        "y = df2['SalePrice']"
      ],
      "metadata": {
        "id": "hZ3EkKyT-ixJ"
      },
      "execution_count": null,
      "outputs": []
    },
    {
      "cell_type": "code",
      "source": [
        "X = pd.get_dummies(X,drop_first=True)"
      ],
      "metadata": {
        "id": "j-nzW2yu-r8-"
      },
      "execution_count": null,
      "outputs": []
    },
    {
      "cell_type": "code",
      "source": [
        "X.shape"
      ],
      "metadata": {
        "colab": {
          "base_uri": "https://localhost:8080/"
        },
        "id": "4QPW0HKv-zYW",
        "outputId": "98c6de42-8a33-4d46-c2b4-148a16660e04"
      },
      "execution_count": null,
      "outputs": [
        {
          "output_type": "execute_result",
          "data": {
            "text/plain": [
              "(1460, 218)"
            ]
          },
          "metadata": {},
          "execution_count": 72
        }
      ]
    },
    {
      "cell_type": "code",
      "source": [
        "x_train,x_test,y_train,y_test=train_test_split(X,y,test_size=0.3,random_state=0)"
      ],
      "metadata": {
        "id": "ZyKsu6BI-3Ch"
      },
      "execution_count": null,
      "outputs": []
    },
    {
      "cell_type": "code",
      "source": [
        "grouped_feature_ls = []\n",
        "correlated_groups = []\n",
        "def correlation (dataset, threshold):\n",
        "    col_corr = set()\n",
        "    corr_matrix = dataset.corr()\n",
        "    for i in range(len(corr_matrix.columns)):\n",
        "        for j in range(i):\n",
        "            if abs(corr_matrix.iloc[i, j]) > threshold:\n",
        "                colname=corr_matrix.columns[i]\n",
        "                col_corr.add(colname)\n",
        "    return col_corr\n",
        "corr_features=correlation (x_test, 0.9)\n",
        "correlated_features = set(corr_features)\n",
        "print(len(correlated_features))"
      ],
      "metadata": {
        "colab": {
          "base_uri": "https://localhost:8080/"
        },
        "id": "rL3dQeae_CkW",
        "outputId": "37a4a8e0-4e5e-4435-8458-33b85626b9b7"
      },
      "execution_count": null,
      "outputs": [
        {
          "output_type": "stream",
          "name": "stdout",
          "text": [
            "10\n"
          ]
        }
      ]
    },
    {
      "cell_type": "code",
      "source": [
        "x_train.drop(labels=correlated_features, axis=1, inplace=True)\n",
        "x_test.drop(labels=correlated_features, axis=1, inplace=True)"
      ],
      "metadata": {
        "id": "6nk9OnzC_Jaf"
      },
      "execution_count": null,
      "outputs": []
    },
    {
      "cell_type": "code",
      "source": [
        "x_train.shape"
      ],
      "metadata": {
        "colab": {
          "base_uri": "https://localhost:8080/"
        },
        "id": "ebJxouqo_ciz",
        "outputId": "b486a57c-1509-42fe-8124-082d2d049e1d"
      },
      "execution_count": null,
      "outputs": [
        {
          "output_type": "execute_result",
          "data": {
            "text/plain": [
              "(1022, 208)"
            ]
          },
          "metadata": {},
          "execution_count": 76
        }
      ]
    },
    {
      "cell_type": "code",
      "source": [
        "constant_features=[features for features in x_train.columns if x_train[features].std()==0]\n",
        "len(constant_features)"
      ],
      "metadata": {
        "colab": {
          "base_uri": "https://localhost:8080/"
        },
        "id": "AKq3BKSdCdAz",
        "outputId": "a01ce595-c302-4e0a-879e-7ac0f37d0fca"
      },
      "execution_count": null,
      "outputs": [
        {
          "output_type": "execute_result",
          "data": {
            "text/plain": [
              "2"
            ]
          },
          "metadata": {},
          "execution_count": 85
        }
      ]
    },
    {
      "cell_type": "code",
      "source": [
        "x_train.drop(labels=constant_features,axis=1,inplace=True)\n",
        "x_test.drop(labels=constant_features,axis=1,inplace=True)"
      ],
      "metadata": {
        "id": "cktb0w_WCw_B"
      },
      "execution_count": null,
      "outputs": []
    },
    {
      "cell_type": "code",
      "source": [
        "quasi_constant_feat=[]\n",
        "\n",
        "for feature in x_train.columns:\n",
        "  predominant=(x_train[feature].value_counts()/float(len(x_train))).sort_values(ascending=False).values[0]\n",
        "  if predominant>0.999:\n",
        "    quasi_constant_feat.append(feature)\n",
        "\n",
        "len(quasi_constant_feat)"
      ],
      "metadata": {
        "colab": {
          "base_uri": "https://localhost:8080/"
        },
        "id": "pNzxneiXC2DD",
        "outputId": "4ac87133-5570-4197-e896-f8dad7a89c2e"
      },
      "execution_count": null,
      "outputs": [
        {
          "output_type": "execute_result",
          "data": {
            "text/plain": [
              "17"
            ]
          },
          "metadata": {},
          "execution_count": 87
        }
      ]
    },
    {
      "cell_type": "code",
      "source": [
        "x_train.drop(labels=quasi_constant_feat,axis=1,inplace=True)\n",
        "x_test.drop(labels=quasi_constant_feat,axis=1,inplace=True)"
      ],
      "metadata": {
        "id": "LVgqH0QtC5NA"
      },
      "execution_count": null,
      "outputs": []
    },
    {
      "cell_type": "code",
      "source": [
        "dup=[]\n",
        "for i in range (0,len(x_train.columns)):\n",
        "    col1=x_train.columns[i]\n",
        "    for col2 in x_train.columns[i+1:]:\n",
        "        if x_train[col1].equals(x_train[col2]):\n",
        "            dup.append(col2)\n",
        "dup_features=set(dup)\n",
        "print(len(dup_features))"
      ],
      "metadata": {
        "colab": {
          "base_uri": "https://localhost:8080/"
        },
        "id": "-CKDrcp7C8zx",
        "outputId": "5ae42789-2eee-402a-ec30-dd90e5a88c99"
      },
      "execution_count": null,
      "outputs": [
        {
          "output_type": "stream",
          "name": "stdout",
          "text": [
            "0\n"
          ]
        }
      ]
    },
    {
      "cell_type": "code",
      "source": [
        "x_train.columns"
      ],
      "metadata": {
        "colab": {
          "base_uri": "https://localhost:8080/"
        },
        "id": "-adonpfFDSJR",
        "outputId": "95e772b4-e456-4567-c035-2ec7652157f6"
      },
      "execution_count": null,
      "outputs": [
        {
          "output_type": "execute_result",
          "data": {
            "text/plain": [
              "Index(['MSSubClass', 'LotFrontage', 'LotArea', 'OverallQual', 'OverallCond',\n",
              "       'YearBuilt', 'YearRemodAdd', 'MasVnrArea', 'BsmtFinSF1', 'BsmtFinSF2',\n",
              "       ...\n",
              "       'PavedDrive_Y', 'SaleType_ConLD', 'SaleType_ConLI', 'SaleType_ConLw',\n",
              "       'SaleType_New', 'SaleType_Oth', 'SaleType_WD', 'SaleCondition_Alloca',\n",
              "       'SaleCondition_Family', 'SaleCondition_Normal'],\n",
              "      dtype='object', length=189)"
            ]
          },
          "metadata": {},
          "execution_count": 92
        }
      ]
    },
    {
      "cell_type": "code",
      "source": [
        "import pandas as pd\n",
        "from sklearn.feature_selection import mutual_info_regression, SelectKBest\n",
        "mi = mutual_info_regression(x_train.fillna(0), y_train)\n",
        "mi = pd.Series(mi, index=x_train.columns)\n",
        "selector = SelectKBest(score_func=mutual_info_regression, k=10)\n",
        "selector.fit(x_train.fillna(0), y_train)\n",
        "selected_features = x_train.columns[selector.get_support()]\n",
        "print(\"Top 10 Selected Features:\\n\", selected_features.tolist())\n",
        "x_train_selected = selector.transform(x_train.fillna(0))\n",
        "x_train_selected = pd.DataFrame(x_train_selected, columns=selected_features)"
      ],
      "metadata": {
        "colab": {
          "base_uri": "https://localhost:8080/"
        },
        "id": "3ldTmOzuE8Nw",
        "outputId": "22366479-b037-4689-9ff2-0f19f25b8ddf"
      },
      "execution_count": null,
      "outputs": [
        {
          "output_type": "stream",
          "name": "stdout",
          "text": [
            "Top 10 Selected Features:\n",
            " ['MSSubClass', 'OverallQual', 'YearBuilt', 'YearRemodAdd', '1stFlrSF', '2ndFlrSF', 'GrLivArea', 'FullBath', 'GarageCars', 'ExterQual_TA']\n"
          ]
        }
      ]
    },
    {
      "cell_type": "code",
      "source": [
        "sfs3=SFS(RandomForestRegressor(n_jobs=4),k_features=5,forward=True,verbose=2,scoring='r2',cv=3)"
      ],
      "metadata": {
        "id": "9-WPcT7g_e97"
      },
      "execution_count": null,
      "outputs": []
    },
    {
      "cell_type": "code",
      "source": [
        "sfs3=sfs3.fit(np.array(x_train_selected.fillna(0)),y_train)"
      ],
      "metadata": {
        "colab": {
          "base_uri": "https://localhost:8080/"
        },
        "id": "NeRQO_0s_oHv",
        "outputId": "63653d42-1fc8-4efd-a5a4-a5fd7d1b888b"
      },
      "execution_count": null,
      "outputs": [
        {
          "output_type": "stream",
          "name": "stderr",
          "text": [
            "[Parallel(n_jobs=1)]: Done  10 out of  10 | elapsed:    6.4s finished\n",
            "\n",
            "[2025-08-19 16:28:07] Features: 1/5 -- score: 0.6673562750390666[Parallel(n_jobs=1)]: Done   9 out of   9 | elapsed:    5.5s finished\n",
            "\n",
            "[2025-08-19 16:28:13] Features: 2/5 -- score: 0.7231721070431775[Parallel(n_jobs=1)]: Done   8 out of   8 | elapsed:    5.7s finished\n",
            "\n",
            "[2025-08-19 16:28:18] Features: 3/5 -- score: 0.7291772684488752[Parallel(n_jobs=1)]: Done   7 out of   7 | elapsed:    4.9s finished\n",
            "\n",
            "[2025-08-19 16:28:23] Features: 4/5 -- score: 0.788394474166712[Parallel(n_jobs=1)]: Done   6 out of   6 | elapsed:    5.4s finished\n",
            "\n",
            "[2025-08-19 16:28:29] Features: 5/5 -- score: 0.8125773460241416"
          ]
        }
      ]
    },
    {
      "cell_type": "code",
      "source": [
        "print('best accracy score',sfs3.k_score_)\n",
        "print('best subset(indices)',sfs3.k_feature_idx_)\n",
        "print('Best subset (corresponding names):', sfs3.k_feature_names_)"
      ],
      "metadata": {
        "colab": {
          "base_uri": "https://localhost:8080/"
        },
        "id": "l-81tp7O_r2x",
        "outputId": "244a19f7-ef25-4811-829b-e3725c60a133"
      },
      "execution_count": null,
      "outputs": [
        {
          "output_type": "stream",
          "name": "stdout",
          "text": [
            "best accracy score 0.8125773460241416\n",
            "best subset(indices) (1, 3, 5, 6, 8)\n",
            "Best subset (corresponding names): ('1', '3', '5', '6', '8')\n"
          ]
        }
      ]
    },
    {
      "cell_type": "code",
      "source": [
        "sfs4=SFS(RandomForestRegressor(n_jobs=4),k_features=5,forward=False,verbose=2,scoring='r2',cv=3)\n",
        "sfs4=sfs4.fit(np.array(x_train_selected.fillna(0)),y_train)\n",
        "print('best accracy score',sfs4.k_score_)\n",
        "print('best subset(indices)',sfs4.k_feature_idx_)\n",
        "print('Best subset (corresponding names):', sfs4.k_feature_names_)"
      ],
      "metadata": {
        "colab": {
          "base_uri": "https://localhost:8080/"
        },
        "id": "WqWxqurIGg5U",
        "outputId": "3b50c82f-9ed7-4b60-dfc9-12a718889aaa"
      },
      "execution_count": null,
      "outputs": [
        {
          "output_type": "stream",
          "name": "stderr",
          "text": [
            "[Parallel(n_jobs=1)]: Done  10 out of  10 | elapsed:   10.7s finished\n",
            "\n",
            "[2025-08-19 16:28:47] Features: 9/5 -- score: 0.8350610784949204[Parallel(n_jobs=1)]: Done   9 out of   9 | elapsed:    9.4s finished\n",
            "\n",
            "[2025-08-19 16:28:56] Features: 8/5 -- score: 0.8283122059404621[Parallel(n_jobs=1)]: Done   8 out of   8 | elapsed:    8.4s finished\n",
            "\n",
            "[2025-08-19 16:29:05] Features: 7/5 -- score: 0.8264787797459299[Parallel(n_jobs=1)]: Done   7 out of   7 | elapsed:    6.1s finished\n",
            "\n",
            "[2025-08-19 16:29:11] Features: 6/5 -- score: 0.822148908195197"
          ]
        },
        {
          "output_type": "stream",
          "name": "stdout",
          "text": [
            "best accracy score 0.8145455597317088\n",
            "best subset(indices) (0, 1, 3, 5, 6)\n",
            "Best subset (corresponding names): ('0', '1', '3', '5', '6')\n"
          ]
        },
        {
          "output_type": "stream",
          "name": "stderr",
          "text": [
            "[Parallel(n_jobs=1)]: Done   6 out of   6 | elapsed:    5.3s finished\n",
            "\n",
            "[2025-08-19 16:29:16] Features: 5/5 -- score: 0.8145455597317088"
          ]
        }
      ]
    },
    {
      "cell_type": "code",
      "source": [
        "efs=EFS(RandomForestRegressor(n_jobs=4),min_features=1,max_features=4,scoring='r2',cv=5)\n",
        "efs=efs.fit(x_train_selected,y_train)\n",
        "print('best accuracy score',efs.best_score_)\n",
        "print('best subset(indices)',efs.best_idx_)\n",
        "print('Best subset (corresponding names):', efs.best_feature_names_)"
      ],
      "metadata": {
        "colab": {
          "base_uri": "https://localhost:8080/"
        },
        "id": "utXS3MOuG3IJ",
        "outputId": "31a8d727-0b84-46df-f548-e95f3d20bbf5"
      },
      "execution_count": null,
      "outputs": [
        {
          "output_type": "stream",
          "name": "stderr",
          "text": [
            "Features: 385/385"
          ]
        },
        {
          "output_type": "stream",
          "name": "stdout",
          "text": [
            "best accuracy score 0.8048682273096786\n",
            "best subset(indices) (1, 2, 5, 6)\n",
            "Best subset (corresponding names): ('OverallQual', 'YearBuilt', '2ndFlrSF', 'GrLivArea')\n"
          ]
        }
      ]
    },
    {
      "cell_type": "code",
      "source": [
        "efs_results = pd.DataFrame.from_dict(efs.get_metric_dict()).T\n",
        "efs_results.sort_values(by='avg_score', ascending=True, inplace=True)\n",
        "efs_results"
      ],
      "metadata": {
        "colab": {
          "base_uri": "https://localhost:8080/",
          "height": 423
        },
        "id": "rrO91LAwIYXL",
        "outputId": "d2afc8cc-36a7-4d13-81ed-328f7b5287fe"
      },
      "execution_count": null,
      "outputs": [
        {
          "output_type": "execute_result",
          "data": {
            "text/plain": [
              "      feature_idx                                          cv_scores  \\\n",
              "5            (5,)  [0.3104163023544969, 0.05589299743493281, 0.16...   \n",
              "4            (4,)  [0.14710721842087082, 0.2261922528043201, 0.27...   \n",
              "3            (3,)  [0.2311716040271503, 0.28557946642610843, 0.20...   \n",
              "0            (0,)  [0.28326858434012503, 0.2775444154498774, 0.17...   \n",
              "12         (0, 3)  [0.208440651600043, 0.3395366513699528, 0.2680...   \n",
              "..            ...                                                ...   \n",
              "266  (1, 2, 4, 6)  [0.6527072476996706, 0.8736761868236149, 0.769...   \n",
              "285  (1, 3, 5, 6)  [0.6907238835089766, 0.853403268359594, 0.8031...   \n",
              "280  (1, 3, 4, 5)  [0.7248535125663562, 0.8378041949987876, 0.809...   \n",
              "265  (1, 2, 4, 5)  [0.7239966547695562, 0.84896264000877, 0.79863...   \n",
              "270  (1, 2, 5, 6)  [0.7097189718494867, 0.8699535133824932, 0.790...   \n",
              "\n",
              "    avg_score                                     feature_names  ci_bound  \\\n",
              "5    0.124113                                       (2ndFlrSF,)  0.134779   \n",
              "4     0.14813                                       (1stFlrSF,)  0.161422   \n",
              "3    0.221323                                   (YearRemodAdd,)  0.063787   \n",
              "0    0.225765                                     (MSSubClass,)  0.076959   \n",
              "12     0.2717                        (MSSubClass, YearRemodAdd)  0.053925   \n",
              "..        ...                                               ...       ...   \n",
              "266  0.790598     (OverallQual, YearBuilt, 1stFlrSF, GrLivArea)  0.098346   \n",
              "285  0.797573  (OverallQual, YearRemodAdd, 2ndFlrSF, GrLivArea)  0.073806   \n",
              "280  0.799895   (OverallQual, YearRemodAdd, 1stFlrSF, 2ndFlrSF)  0.050673   \n",
              "265  0.802881      (OverallQual, YearBuilt, 1stFlrSF, 2ndFlrSF)  0.055106   \n",
              "270  0.804868     (OverallQual, YearBuilt, 2ndFlrSF, GrLivArea)  0.069196   \n",
              "\n",
              "      std_dev   std_err  \n",
              "5    0.104863  0.052431  \n",
              "4    0.125591  0.062796  \n",
              "3    0.049629  0.024814  \n",
              "0    0.059876  0.029938  \n",
              "12   0.041955  0.020978  \n",
              "..        ...       ...  \n",
              "266  0.076516  0.038258  \n",
              "285  0.057424  0.028712  \n",
              "280  0.039425  0.019713  \n",
              "265  0.042874  0.021437  \n",
              "270  0.053837  0.026918  \n",
              "\n",
              "[385 rows x 7 columns]"
            ],
            "text/html": [
              "\n",
              "  <div id=\"df-4e96f16f-2636-49d8-b674-0d523a12d1e9\" class=\"colab-df-container\">\n",
              "    <div>\n",
              "<style scoped>\n",
              "    .dataframe tbody tr th:only-of-type {\n",
              "        vertical-align: middle;\n",
              "    }\n",
              "\n",
              "    .dataframe tbody tr th {\n",
              "        vertical-align: top;\n",
              "    }\n",
              "\n",
              "    .dataframe thead th {\n",
              "        text-align: right;\n",
              "    }\n",
              "</style>\n",
              "<table border=\"1\" class=\"dataframe\">\n",
              "  <thead>\n",
              "    <tr style=\"text-align: right;\">\n",
              "      <th></th>\n",
              "      <th>feature_idx</th>\n",
              "      <th>cv_scores</th>\n",
              "      <th>avg_score</th>\n",
              "      <th>feature_names</th>\n",
              "      <th>ci_bound</th>\n",
              "      <th>std_dev</th>\n",
              "      <th>std_err</th>\n",
              "    </tr>\n",
              "  </thead>\n",
              "  <tbody>\n",
              "    <tr>\n",
              "      <th>5</th>\n",
              "      <td>(5,)</td>\n",
              "      <td>[0.3104163023544969, 0.05589299743493281, 0.16...</td>\n",
              "      <td>0.124113</td>\n",
              "      <td>(2ndFlrSF,)</td>\n",
              "      <td>0.134779</td>\n",
              "      <td>0.104863</td>\n",
              "      <td>0.052431</td>\n",
              "    </tr>\n",
              "    <tr>\n",
              "      <th>4</th>\n",
              "      <td>(4,)</td>\n",
              "      <td>[0.14710721842087082, 0.2261922528043201, 0.27...</td>\n",
              "      <td>0.14813</td>\n",
              "      <td>(1stFlrSF,)</td>\n",
              "      <td>0.161422</td>\n",
              "      <td>0.125591</td>\n",
              "      <td>0.062796</td>\n",
              "    </tr>\n",
              "    <tr>\n",
              "      <th>3</th>\n",
              "      <td>(3,)</td>\n",
              "      <td>[0.2311716040271503, 0.28557946642610843, 0.20...</td>\n",
              "      <td>0.221323</td>\n",
              "      <td>(YearRemodAdd,)</td>\n",
              "      <td>0.063787</td>\n",
              "      <td>0.049629</td>\n",
              "      <td>0.024814</td>\n",
              "    </tr>\n",
              "    <tr>\n",
              "      <th>0</th>\n",
              "      <td>(0,)</td>\n",
              "      <td>[0.28326858434012503, 0.2775444154498774, 0.17...</td>\n",
              "      <td>0.225765</td>\n",
              "      <td>(MSSubClass,)</td>\n",
              "      <td>0.076959</td>\n",
              "      <td>0.059876</td>\n",
              "      <td>0.029938</td>\n",
              "    </tr>\n",
              "    <tr>\n",
              "      <th>12</th>\n",
              "      <td>(0, 3)</td>\n",
              "      <td>[0.208440651600043, 0.3395366513699528, 0.2680...</td>\n",
              "      <td>0.2717</td>\n",
              "      <td>(MSSubClass, YearRemodAdd)</td>\n",
              "      <td>0.053925</td>\n",
              "      <td>0.041955</td>\n",
              "      <td>0.020978</td>\n",
              "    </tr>\n",
              "    <tr>\n",
              "      <th>...</th>\n",
              "      <td>...</td>\n",
              "      <td>...</td>\n",
              "      <td>...</td>\n",
              "      <td>...</td>\n",
              "      <td>...</td>\n",
              "      <td>...</td>\n",
              "      <td>...</td>\n",
              "    </tr>\n",
              "    <tr>\n",
              "      <th>266</th>\n",
              "      <td>(1, 2, 4, 6)</td>\n",
              "      <td>[0.6527072476996706, 0.8736761868236149, 0.769...</td>\n",
              "      <td>0.790598</td>\n",
              "      <td>(OverallQual, YearBuilt, 1stFlrSF, GrLivArea)</td>\n",
              "      <td>0.098346</td>\n",
              "      <td>0.076516</td>\n",
              "      <td>0.038258</td>\n",
              "    </tr>\n",
              "    <tr>\n",
              "      <th>285</th>\n",
              "      <td>(1, 3, 5, 6)</td>\n",
              "      <td>[0.6907238835089766, 0.853403268359594, 0.8031...</td>\n",
              "      <td>0.797573</td>\n",
              "      <td>(OverallQual, YearRemodAdd, 2ndFlrSF, GrLivArea)</td>\n",
              "      <td>0.073806</td>\n",
              "      <td>0.057424</td>\n",
              "      <td>0.028712</td>\n",
              "    </tr>\n",
              "    <tr>\n",
              "      <th>280</th>\n",
              "      <td>(1, 3, 4, 5)</td>\n",
              "      <td>[0.7248535125663562, 0.8378041949987876, 0.809...</td>\n",
              "      <td>0.799895</td>\n",
              "      <td>(OverallQual, YearRemodAdd, 1stFlrSF, 2ndFlrSF)</td>\n",
              "      <td>0.050673</td>\n",
              "      <td>0.039425</td>\n",
              "      <td>0.019713</td>\n",
              "    </tr>\n",
              "    <tr>\n",
              "      <th>265</th>\n",
              "      <td>(1, 2, 4, 5)</td>\n",
              "      <td>[0.7239966547695562, 0.84896264000877, 0.79863...</td>\n",
              "      <td>0.802881</td>\n",
              "      <td>(OverallQual, YearBuilt, 1stFlrSF, 2ndFlrSF)</td>\n",
              "      <td>0.055106</td>\n",
              "      <td>0.042874</td>\n",
              "      <td>0.021437</td>\n",
              "    </tr>\n",
              "    <tr>\n",
              "      <th>270</th>\n",
              "      <td>(1, 2, 5, 6)</td>\n",
              "      <td>[0.7097189718494867, 0.8699535133824932, 0.790...</td>\n",
              "      <td>0.804868</td>\n",
              "      <td>(OverallQual, YearBuilt, 2ndFlrSF, GrLivArea)</td>\n",
              "      <td>0.069196</td>\n",
              "      <td>0.053837</td>\n",
              "      <td>0.026918</td>\n",
              "    </tr>\n",
              "  </tbody>\n",
              "</table>\n",
              "<p>385 rows × 7 columns</p>\n",
              "</div>\n",
              "    <div class=\"colab-df-buttons\">\n",
              "\n",
              "  <div class=\"colab-df-container\">\n",
              "    <button class=\"colab-df-convert\" onclick=\"convertToInteractive('df-4e96f16f-2636-49d8-b674-0d523a12d1e9')\"\n",
              "            title=\"Convert this dataframe to an interactive table.\"\n",
              "            style=\"display:none;\">\n",
              "\n",
              "  <svg xmlns=\"http://www.w3.org/2000/svg\" height=\"24px\" viewBox=\"0 -960 960 960\">\n",
              "    <path d=\"M120-120v-720h720v720H120Zm60-500h600v-160H180v160Zm220 220h160v-160H400v160Zm0 220h160v-160H400v160ZM180-400h160v-160H180v160Zm440 0h160v-160H620v160ZM180-180h160v-160H180v160Zm440 0h160v-160H620v160Z\"/>\n",
              "  </svg>\n",
              "    </button>\n",
              "\n",
              "  <style>\n",
              "    .colab-df-container {\n",
              "      display:flex;\n",
              "      gap: 12px;\n",
              "    }\n",
              "\n",
              "    .colab-df-convert {\n",
              "      background-color: #E8F0FE;\n",
              "      border: none;\n",
              "      border-radius: 50%;\n",
              "      cursor: pointer;\n",
              "      display: none;\n",
              "      fill: #1967D2;\n",
              "      height: 32px;\n",
              "      padding: 0 0 0 0;\n",
              "      width: 32px;\n",
              "    }\n",
              "\n",
              "    .colab-df-convert:hover {\n",
              "      background-color: #E2EBFA;\n",
              "      box-shadow: 0px 1px 2px rgba(60, 64, 67, 0.3), 0px 1px 3px 1px rgba(60, 64, 67, 0.15);\n",
              "      fill: #174EA6;\n",
              "    }\n",
              "\n",
              "    .colab-df-buttons div {\n",
              "      margin-bottom: 4px;\n",
              "    }\n",
              "\n",
              "    [theme=dark] .colab-df-convert {\n",
              "      background-color: #3B4455;\n",
              "      fill: #D2E3FC;\n",
              "    }\n",
              "\n",
              "    [theme=dark] .colab-df-convert:hover {\n",
              "      background-color: #434B5C;\n",
              "      box-shadow: 0px 1px 3px 1px rgba(0, 0, 0, 0.15);\n",
              "      filter: drop-shadow(0px 1px 2px rgba(0, 0, 0, 0.3));\n",
              "      fill: #FFFFFF;\n",
              "    }\n",
              "  </style>\n",
              "\n",
              "    <script>\n",
              "      const buttonEl =\n",
              "        document.querySelector('#df-4e96f16f-2636-49d8-b674-0d523a12d1e9 button.colab-df-convert');\n",
              "      buttonEl.style.display =\n",
              "        google.colab.kernel.accessAllowed ? 'block' : 'none';\n",
              "\n",
              "      async function convertToInteractive(key) {\n",
              "        const element = document.querySelector('#df-4e96f16f-2636-49d8-b674-0d523a12d1e9');\n",
              "        const dataTable =\n",
              "          await google.colab.kernel.invokeFunction('convertToInteractive',\n",
              "                                                    [key], {});\n",
              "        if (!dataTable) return;\n",
              "\n",
              "        const docLinkHtml = 'Like what you see? Visit the ' +\n",
              "          '<a target=\"_blank\" href=https://colab.research.google.com/notebooks/data_table.ipynb>data table notebook</a>'\n",
              "          + ' to learn more about interactive tables.';\n",
              "        element.innerHTML = '';\n",
              "        dataTable['output_type'] = 'display_data';\n",
              "        await google.colab.output.renderOutput(dataTable, element);\n",
              "        const docLink = document.createElement('div');\n",
              "        docLink.innerHTML = docLinkHtml;\n",
              "        element.appendChild(docLink);\n",
              "      }\n",
              "    </script>\n",
              "  </div>\n",
              "\n",
              "\n",
              "    <div id=\"df-d1ef35b4-d65e-4e32-b78e-077b65584993\">\n",
              "      <button class=\"colab-df-quickchart\" onclick=\"quickchart('df-d1ef35b4-d65e-4e32-b78e-077b65584993')\"\n",
              "                title=\"Suggest charts\"\n",
              "                style=\"display:none;\">\n",
              "\n",
              "<svg xmlns=\"http://www.w3.org/2000/svg\" height=\"24px\"viewBox=\"0 0 24 24\"\n",
              "     width=\"24px\">\n",
              "    <g>\n",
              "        <path d=\"M19 3H5c-1.1 0-2 .9-2 2v14c0 1.1.9 2 2 2h14c1.1 0 2-.9 2-2V5c0-1.1-.9-2-2-2zM9 17H7v-7h2v7zm4 0h-2V7h2v10zm4 0h-2v-4h2v4z\"/>\n",
              "    </g>\n",
              "</svg>\n",
              "      </button>\n",
              "\n",
              "<style>\n",
              "  .colab-df-quickchart {\n",
              "      --bg-color: #E8F0FE;\n",
              "      --fill-color: #1967D2;\n",
              "      --hover-bg-color: #E2EBFA;\n",
              "      --hover-fill-color: #174EA6;\n",
              "      --disabled-fill-color: #AAA;\n",
              "      --disabled-bg-color: #DDD;\n",
              "  }\n",
              "\n",
              "  [theme=dark] .colab-df-quickchart {\n",
              "      --bg-color: #3B4455;\n",
              "      --fill-color: #D2E3FC;\n",
              "      --hover-bg-color: #434B5C;\n",
              "      --hover-fill-color: #FFFFFF;\n",
              "      --disabled-bg-color: #3B4455;\n",
              "      --disabled-fill-color: #666;\n",
              "  }\n",
              "\n",
              "  .colab-df-quickchart {\n",
              "    background-color: var(--bg-color);\n",
              "    border: none;\n",
              "    border-radius: 50%;\n",
              "    cursor: pointer;\n",
              "    display: none;\n",
              "    fill: var(--fill-color);\n",
              "    height: 32px;\n",
              "    padding: 0;\n",
              "    width: 32px;\n",
              "  }\n",
              "\n",
              "  .colab-df-quickchart:hover {\n",
              "    background-color: var(--hover-bg-color);\n",
              "    box-shadow: 0 1px 2px rgba(60, 64, 67, 0.3), 0 1px 3px 1px rgba(60, 64, 67, 0.15);\n",
              "    fill: var(--button-hover-fill-color);\n",
              "  }\n",
              "\n",
              "  .colab-df-quickchart-complete:disabled,\n",
              "  .colab-df-quickchart-complete:disabled:hover {\n",
              "    background-color: var(--disabled-bg-color);\n",
              "    fill: var(--disabled-fill-color);\n",
              "    box-shadow: none;\n",
              "  }\n",
              "\n",
              "  .colab-df-spinner {\n",
              "    border: 2px solid var(--fill-color);\n",
              "    border-color: transparent;\n",
              "    border-bottom-color: var(--fill-color);\n",
              "    animation:\n",
              "      spin 1s steps(1) infinite;\n",
              "  }\n",
              "\n",
              "  @keyframes spin {\n",
              "    0% {\n",
              "      border-color: transparent;\n",
              "      border-bottom-color: var(--fill-color);\n",
              "      border-left-color: var(--fill-color);\n",
              "    }\n",
              "    20% {\n",
              "      border-color: transparent;\n",
              "      border-left-color: var(--fill-color);\n",
              "      border-top-color: var(--fill-color);\n",
              "    }\n",
              "    30% {\n",
              "      border-color: transparent;\n",
              "      border-left-color: var(--fill-color);\n",
              "      border-top-color: var(--fill-color);\n",
              "      border-right-color: var(--fill-color);\n",
              "    }\n",
              "    40% {\n",
              "      border-color: transparent;\n",
              "      border-right-color: var(--fill-color);\n",
              "      border-top-color: var(--fill-color);\n",
              "    }\n",
              "    60% {\n",
              "      border-color: transparent;\n",
              "      border-right-color: var(--fill-color);\n",
              "    }\n",
              "    80% {\n",
              "      border-color: transparent;\n",
              "      border-right-color: var(--fill-color);\n",
              "      border-bottom-color: var(--fill-color);\n",
              "    }\n",
              "    90% {\n",
              "      border-color: transparent;\n",
              "      border-bottom-color: var(--fill-color);\n",
              "    }\n",
              "  }\n",
              "</style>\n",
              "\n",
              "      <script>\n",
              "        async function quickchart(key) {\n",
              "          const quickchartButtonEl =\n",
              "            document.querySelector('#' + key + ' button');\n",
              "          quickchartButtonEl.disabled = true;  // To prevent multiple clicks.\n",
              "          quickchartButtonEl.classList.add('colab-df-spinner');\n",
              "          try {\n",
              "            const charts = await google.colab.kernel.invokeFunction(\n",
              "                'suggestCharts', [key], {});\n",
              "          } catch (error) {\n",
              "            console.error('Error during call to suggestCharts:', error);\n",
              "          }\n",
              "          quickchartButtonEl.classList.remove('colab-df-spinner');\n",
              "          quickchartButtonEl.classList.add('colab-df-quickchart-complete');\n",
              "        }\n",
              "        (() => {\n",
              "          let quickchartButtonEl =\n",
              "            document.querySelector('#df-d1ef35b4-d65e-4e32-b78e-077b65584993 button');\n",
              "          quickchartButtonEl.style.display =\n",
              "            google.colab.kernel.accessAllowed ? 'block' : 'none';\n",
              "        })();\n",
              "      </script>\n",
              "    </div>\n",
              "\n",
              "  <div id=\"id_6e27a92a-b2df-42b5-99eb-73df295dcdb7\">\n",
              "    <style>\n",
              "      .colab-df-generate {\n",
              "        background-color: #E8F0FE;\n",
              "        border: none;\n",
              "        border-radius: 50%;\n",
              "        cursor: pointer;\n",
              "        display: none;\n",
              "        fill: #1967D2;\n",
              "        height: 32px;\n",
              "        padding: 0 0 0 0;\n",
              "        width: 32px;\n",
              "      }\n",
              "\n",
              "      .colab-df-generate:hover {\n",
              "        background-color: #E2EBFA;\n",
              "        box-shadow: 0px 1px 2px rgba(60, 64, 67, 0.3), 0px 1px 3px 1px rgba(60, 64, 67, 0.15);\n",
              "        fill: #174EA6;\n",
              "      }\n",
              "\n",
              "      [theme=dark] .colab-df-generate {\n",
              "        background-color: #3B4455;\n",
              "        fill: #D2E3FC;\n",
              "      }\n",
              "\n",
              "      [theme=dark] .colab-df-generate:hover {\n",
              "        background-color: #434B5C;\n",
              "        box-shadow: 0px 1px 3px 1px rgba(0, 0, 0, 0.15);\n",
              "        filter: drop-shadow(0px 1px 2px rgba(0, 0, 0, 0.3));\n",
              "        fill: #FFFFFF;\n",
              "      }\n",
              "    </style>\n",
              "    <button class=\"colab-df-generate\" onclick=\"generateWithVariable('efs_results')\"\n",
              "            title=\"Generate code using this dataframe.\"\n",
              "            style=\"display:none;\">\n",
              "\n",
              "  <svg xmlns=\"http://www.w3.org/2000/svg\" height=\"24px\"viewBox=\"0 0 24 24\"\n",
              "       width=\"24px\">\n",
              "    <path d=\"M7,19H8.4L18.45,9,17,7.55,7,17.6ZM5,21V16.75L18.45,3.32a2,2,0,0,1,2.83,0l1.4,1.43a1.91,1.91,0,0,1,.58,1.4,1.91,1.91,0,0,1-.58,1.4L9.25,21ZM18.45,9,17,7.55Zm-12,3A5.31,5.31,0,0,0,4.9,8.1,5.31,5.31,0,0,0,1,6.5,5.31,5.31,0,0,0,4.9,4.9,5.31,5.31,0,0,0,6.5,1,5.31,5.31,0,0,0,8.1,4.9,5.31,5.31,0,0,0,12,6.5,5.46,5.46,0,0,0,6.5,12Z\"/>\n",
              "  </svg>\n",
              "    </button>\n",
              "    <script>\n",
              "      (() => {\n",
              "      const buttonEl =\n",
              "        document.querySelector('#id_6e27a92a-b2df-42b5-99eb-73df295dcdb7 button.colab-df-generate');\n",
              "      buttonEl.style.display =\n",
              "        google.colab.kernel.accessAllowed ? 'block' : 'none';\n",
              "\n",
              "      buttonEl.onclick = () => {\n",
              "        google.colab.notebook.generateWithVariable('efs_results');\n",
              "      }\n",
              "      })();\n",
              "    </script>\n",
              "  </div>\n",
              "\n",
              "    </div>\n",
              "  </div>\n"
            ],
            "application/vnd.google.colaboratory.intrinsic+json": {
              "type": "dataframe",
              "variable_name": "efs_results",
              "summary": "{\n  \"name\": \"efs_results\",\n  \"rows\": 385,\n  \"fields\": [\n    {\n      \"column\": \"feature_idx\",\n      \"properties\": {\n        \"dtype\": \"string\",\n        \"num_unique_values\": 385,\n        \"samples\": [\n          [\n            5,\n            6,\n            8,\n            9\n          ],\n          [\n            1,\n            2,\n            3,\n            5\n          ],\n          [\n            1,\n            4,\n            5,\n            9\n          ]\n        ],\n        \"semantic_type\": \"\",\n        \"description\": \"\"\n      }\n    },\n    {\n      \"column\": \"cv_scores\",\n      \"properties\": {\n        \"dtype\": \"object\",\n        \"semantic_type\": \"\",\n        \"description\": \"\"\n      }\n    },\n    {\n      \"column\": \"avg_score\",\n      \"properties\": {\n        \"dtype\": \"date\",\n        \"min\": 0.12411320158482957,\n        \"max\": 0.8048682273096786,\n        \"num_unique_values\": 385,\n        \"samples\": [\n          0.7151480699064786,\n          0.7054535719464485,\n          0.771125606153399\n        ],\n        \"semantic_type\": \"\",\n        \"description\": \"\"\n      }\n    },\n    {\n      \"column\": \"feature_names\",\n      \"properties\": {\n        \"dtype\": \"string\",\n        \"num_unique_values\": 385,\n        \"samples\": [\n          [\n            \"2ndFlrSF\",\n            \"GrLivArea\",\n            \"GarageCars\",\n            \"ExterQual_TA\"\n          ],\n          [\n            \"OverallQual\",\n            \"YearBuilt\",\n            \"YearRemodAdd\",\n            \"2ndFlrSF\"\n          ],\n          [\n            \"OverallQual\",\n            \"1stFlrSF\",\n            \"2ndFlrSF\",\n            \"ExterQual_TA\"\n          ]\n        ],\n        \"semantic_type\": \"\",\n        \"description\": \"\"\n      }\n    },\n    {\n      \"column\": \"ci_bound\",\n      \"properties\": {\n        \"dtype\": \"date\",\n        \"min\": 0.002957039270425237,\n        \"max\": 0.16142152899856066,\n        \"num_unique_values\": 385,\n        \"samples\": [\n          0.04626144880663841,\n          0.058479191095440974,\n          0.06594084115311964\n        ],\n        \"semantic_type\": \"\",\n        \"description\": \"\"\n      }\n    },\n    {\n      \"column\": \"std_dev\",\n      \"properties\": {\n        \"dtype\": \"date\",\n        \"min\": 0.0023006770136094583,\n        \"max\": 0.12559143362856826,\n        \"num_unique_values\": 385,\n        \"samples\": [\n          0.03599297883872815,\n          0.04549879741989635,\n          0.05130421466375673\n        ],\n        \"semantic_type\": \"\",\n        \"description\": \"\"\n      }\n    },\n    {\n      \"column\": \"std_err\",\n      \"properties\": {\n        \"dtype\": \"date\",\n        \"min\": 0.0011503385068047291,\n        \"max\": 0.06279571681428413,\n        \"num_unique_values\": 385,\n        \"samples\": [\n          0.017996489419364076,\n          0.022749398709948174,\n          0.025652107331878365\n        ],\n        \"semantic_type\": \"\",\n        \"description\": \"\"\n      }\n    }\n  ]\n}"
            }
          },
          "metadata": {},
          "execution_count": 118
        }
      ]
    },
    {
      "cell_type": "code",
      "source": [
        "from sklearn.ensemble import RandomForestRegressor\n",
        "rfr = RandomForestRegressor(random_state=0, criterion='squared_error')\n",
        "rfr.fit(x_train, y_train)\n",
        "for feature in zip(x_train.columns, rfr.feature_importances_):\n",
        "    print(feature)"
      ],
      "metadata": {
        "colab": {
          "base_uri": "https://localhost:8080/"
        },
        "id": "j24T0Lo5Nb64",
        "outputId": "41d62773-7ddd-44f5-c31e-63d4439d6c43"
      },
      "execution_count": 143,
      "outputs": [
        {
          "output_type": "stream",
          "name": "stdout",
          "text": [
            "('MSSubClass', np.float64(0.0029478157624586586))\n",
            "('LotFrontage', np.float64(0.009389239791431428))\n",
            "('LotArea', np.float64(0.019686993886258962))\n",
            "('OverallQual', np.float64(0.5565839953079916))\n",
            "('OverallCond', np.float64(0.00559011256988828))\n",
            "('YearBuilt', np.float64(0.019248658452805253))\n",
            "('YearRemodAdd', np.float64(0.007255883796809439))\n",
            "('MasVnrArea', np.float64(0.014368011606219547))\n",
            "('BsmtFinSF1', np.float64(0.03427012049872494))\n",
            "('BsmtFinSF2', np.float64(0.0010343020039719295))\n",
            "('BsmtUnfSF', np.float64(0.008051941569982518))\n",
            "('1stFlrSF', np.float64(0.04554019990772116))\n",
            "('2ndFlrSF', np.float64(0.009062621789479156))\n",
            "('LowQualFinSF', np.float64(8.291837497339758e-05))\n",
            "('GrLivArea', np.float64(0.12933999600023888))\n",
            "('BsmtFullBath', np.float64(0.0009172222415062764))\n",
            "('BsmtHalfBath', np.float64(0.0008851025764347891))\n",
            "('FullBath', np.float64(0.0030700678285506735))\n",
            "('HalfBath', np.float64(0.0012071219627734515))\n",
            "('BedroomAbvGr', np.float64(0.004089291610617657))\n",
            "('KitchenAbvGr', np.float64(0.0010585490458947977))\n",
            "('TotRmsAbvGrd', np.float64(0.0060182350654816585))\n",
            "('Fireplaces', np.float64(0.003502674462444036))\n",
            "('GarageCars', np.float64(0.03895201447602875))\n",
            "('WoodDeckSF', np.float64(0.0068665044906711095))\n",
            "('OpenPorchSF', np.float64(0.006269007499216033))\n",
            "('EnclosedPorch', np.float64(0.0006926075116202972))\n",
            "('3SsnPorch', np.float64(0.00015614305060318681))\n",
            "('ScreenPorch', np.float64(0.0010973440474658564))\n",
            "('PoolArea', np.float64(1.9130298739166222e-05))\n",
            "('YrSold', np.float64(0.001986943730771866))\n",
            "('MSZoning_FV', np.float64(0.00015950707235933378))\n",
            "('MSZoning_RH', np.float64(1.1288862282733976e-05))\n",
            "('MSZoning_RL', np.float64(0.0009087711628666192))\n",
            "('MSZoning_RM', np.float64(0.0016797055081142751))\n",
            "('Street_Pave', np.float64(2.237186945796556e-05))\n",
            "('LotShape_IR2', np.float64(0.00014066916144524186))\n",
            "('LotShape_IR3', np.float64(1.1780390699697825e-05))\n",
            "('LotShape_Reg', np.float64(0.0023377380726130655))\n",
            "('LandContour_HLS', np.float64(0.0001382915943140716))\n",
            "('LandContour_Low', np.float64(0.00023630414676847883))\n",
            "('LandContour_Lvl', np.float64(0.001136835315620926))\n",
            "('LotConfig_CulDSac', np.float64(0.00040013488869798794))\n",
            "('LotConfig_FR2', np.float64(0.00016874240048967389))\n",
            "('LotConfig_Inside', np.float64(0.0005578375785066222))\n",
            "('LandSlope_Mod', np.float64(0.00029632365354692917))\n",
            "('LandSlope_Sev', np.float64(0.00015946115462151677))\n",
            "('Neighborhood_Blueste', np.float64(3.6450599224983393e-06))\n",
            "('Neighborhood_BrDale', np.float64(1.7513120354598036e-05))\n",
            "('Neighborhood_BrkSide', np.float64(8.183486274134656e-05))\n",
            "('Neighborhood_ClearCr', np.float64(0.00021052700056175668))\n",
            "('Neighborhood_CollgCr', np.float64(0.00047970653518139577))\n",
            "('Neighborhood_Crawfor', np.float64(0.0008858510031130777))\n",
            "('Neighborhood_Edwards', np.float64(0.0004278474095382337))\n",
            "('Neighborhood_Gilbert', np.float64(0.000134932047992652))\n",
            "('Neighborhood_IDOTRR', np.float64(0.0003774557524324521))\n",
            "('Neighborhood_MeadowV', np.float64(2.5226634231004163e-05))\n",
            "('Neighborhood_Mitchel', np.float64(5.5259608774500646e-05))\n",
            "('Neighborhood_NAmes', np.float64(0.00015894138685821846))\n",
            "('Neighborhood_NPkVill', np.float64(8.780961654149907e-06))\n",
            "('Neighborhood_NWAmes', np.float64(0.00012749705184985881))\n",
            "('Neighborhood_NoRidge', np.float64(0.0008709807358876571))\n",
            "('Neighborhood_NridgHt', np.float64(0.0003135430489853722))\n",
            "('Neighborhood_OldTown', np.float64(0.00044295542862263346))\n",
            "('Neighborhood_SWISU', np.float64(9.101228431462787e-05))\n",
            "('Neighborhood_Sawyer', np.float64(0.0002222020662427757))\n",
            "('Neighborhood_SawyerW', np.float64(5.6414193430520054e-05))\n",
            "('Neighborhood_StoneBr', np.float64(0.0002296720168612077))\n",
            "('Neighborhood_Timber', np.float64(0.00010100958297723987))\n",
            "('Neighborhood_Veenker', np.float64(5.009278226837033e-05))\n",
            "('Condition1_Feedr', np.float64(0.000128987996069774))\n",
            "('Condition1_Norm', np.float64(0.0006702882460816045))\n",
            "('Condition1_PosA', np.float64(1.6848475332188407e-05))\n",
            "('Condition1_PosN', np.float64(0.0007789962139578056))\n",
            "('Condition1_RRAe', np.float64(6.263712629214463e-05))\n",
            "('Condition1_RRAn', np.float64(5.3134648480440905e-05))\n",
            "('Condition1_RRNe', np.float64(2.942663393907555e-06))\n",
            "('BldgType_2fmCon', np.float64(9.269770902538396e-06))\n",
            "('BldgType_Duplex', np.float64(1.5832716921778586e-05))\n",
            "('BldgType_Twnhs', np.float64(1.718395598443268e-05))\n",
            "('BldgType_TwnhsE', np.float64(9.937627305585093e-05))\n",
            "('HouseStyle_1.5Unf', np.float64(2.339237314597612e-06))\n",
            "('HouseStyle_1Story', np.float64(0.00020121085943449038))\n",
            "('HouseStyle_2.5Fin', np.float64(2.2856167563108302e-05))\n",
            "('HouseStyle_2.5Unf', np.float64(1.0281150061508923e-05))\n",
            "('HouseStyle_2Story', np.float64(0.00045216787531668107))\n",
            "('HouseStyle_SFoyer', np.float64(1.297115793000785e-05))\n",
            "('HouseStyle_SLvl', np.float64(2.181368930563694e-05))\n",
            "('RoofStyle_Gable', np.float64(0.000899755477835495))\n",
            "('RoofStyle_Gambrel', np.float64(4.866986190555435e-05))\n",
            "('RoofStyle_Mansard', np.float64(6.69016151017492e-06))\n",
            "('RoofStyle_Shed', np.float64(1.2521654938654034e-05))\n",
            "('RoofMatl_CompShg', np.float64(0.00010755173003185416))\n",
            "('RoofMatl_Tar&Grv', np.float64(4.398794524506678e-05))\n",
            "('RoofMatl_WdShake', np.float64(4.3990686119216276e-05))\n",
            "('RoofMatl_WdShngl', np.float64(0.00045876724713352085))\n",
            "('Exterior1st_BrkFace', np.float64(0.0003980544606476957))\n",
            "('Exterior1st_CemntBd', np.float64(0.0003023012593480566))\n",
            "('Exterior1st_HdBoard', np.float64(0.0015292733873898616))\n",
            "('Exterior1st_MetalSd', np.float64(0.00034678361441146976))\n",
            "('Exterior1st_Plywood', np.float64(0.000331611365551504))\n",
            "('Exterior1st_Stone', np.float64(7.995879712488858e-09))\n",
            "('Exterior1st_Stucco', np.float64(2.384662987126229e-05))\n",
            "('Exterior1st_VinylSd', np.float64(0.0007306168418520645))\n",
            "('Exterior1st_Wd Sdng', np.float64(0.00020836450040236218))\n",
            "('Exterior1st_WdShing', np.float64(1.6800818282488147e-05))\n",
            "('Exterior2nd_Brk Cmn', np.float64(1.559894886830199e-05))\n",
            "('Exterior2nd_BrkFace', np.float64(0.00018457886640036478))\n",
            "('Exterior2nd_ImStucc', np.float64(9.233446768649446e-06))\n",
            "('Exterior2nd_Plywood', np.float64(0.0002148737165520043))\n",
            "('Exterior2nd_Stone', np.float64(6.932188801242204e-06))\n",
            "('Exterior2nd_Stucco', np.float64(2.5868334580613547e-05))\n",
            "('Exterior2nd_Wd Sdng', np.float64(0.00017053745767479583))\n",
            "('Exterior2nd_Wd Shng', np.float64(0.00014833517392628357))\n",
            "('MasVnrType_BrkFace', np.float64(0.0003929806530127496))\n",
            "('MasVnrType_Stone', np.float64(0.00039959191946760967))\n",
            "('ExterQual_Fa', np.float64(3.5918914330646634e-05))\n",
            "('ExterQual_Gd', np.float64(0.0012915561727312034))\n",
            "('ExterQual_TA', np.float64(0.0009620830909340169))\n",
            "('ExterCond_Fa', np.float64(0.0003721113046623013))\n",
            "('ExterCond_Gd', np.float64(0.00019483642391029046))\n",
            "('Foundation_CBlock', np.float64(0.00023683051376212862))\n",
            "('Foundation_PConc', np.float64(0.00027297083032458907))\n",
            "('Foundation_Slab', np.float64(0.00022671535219120095))\n",
            "('Foundation_Stone', np.float64(1.3367622937372823e-05))\n",
            "('BsmtQual_Fa', np.float64(6.206857376827271e-05))\n",
            "('BsmtQual_Gd', np.float64(0.004227240866657863))\n",
            "('BsmtQual_TA', np.float64(0.00024254448618879859))\n",
            "('BsmtCond_Gd', np.float64(0.00015757636996097848))\n",
            "('BsmtCond_Po', np.float64(4.930215935131543e-06))\n",
            "('BsmtCond_TA', np.float64(0.00044043936710371216))\n",
            "('BsmtExposure_Gd', np.float64(0.001231583531844664))\n",
            "('BsmtExposure_Mn', np.float64(0.00017313518452059408))\n",
            "('BsmtExposure_No', np.float64(0.0013995917811986675))\n",
            "('BsmtFinType1_BLQ', np.float64(0.0001419360631611597))\n",
            "('BsmtFinType1_GLQ', np.float64(0.000717654041593517))\n",
            "('BsmtFinType1_LwQ', np.float64(8.353877711513828e-05))\n",
            "('BsmtFinType1_Rec', np.float64(0.0002299951510372361))\n",
            "('BsmtFinType1_Unf', np.float64(0.00038642532618884387))\n",
            "('BsmtFinType2_BLQ', np.float64(0.0001678373463175491))\n",
            "('BsmtFinType2_GLQ', np.float64(5.390522314953175e-06))\n",
            "('BsmtFinType2_LwQ', np.float64(0.00010292908852913728))\n",
            "('BsmtFinType2_Rec', np.float64(2.5037221343555014e-05))\n",
            "('BsmtFinType2_Unf', np.float64(0.0001755617021934677))\n",
            "('Heating_GasA', np.float64(0.0002777224711657739))\n",
            "('Heating_GasW', np.float64(3.5719530866211824e-05))\n",
            "('Heating_Grav', np.float64(2.4891238608328453e-06))\n",
            "('Heating_Wall', np.float64(2.752202346850094e-06))\n",
            "('HeatingQC_Fa', np.float64(0.00011760808582809837))\n",
            "('HeatingQC_Gd', np.float64(0.00023044736007381072))\n",
            "('HeatingQC_TA', np.float64(0.0005392560143815668))\n",
            "('CentralAir_Y', np.float64(0.005175146558272167))\n",
            "('Electrical_FuseF', np.float64(3.217999365242215e-05))\n",
            "('Electrical_FuseP', np.float64(6.008193868282343e-07))\n",
            "('Electrical_SBrkr', np.float64(0.00017718240940288403))\n",
            "('KitchenQual_Fa', np.float64(7.325102483149544e-05))\n",
            "('KitchenQual_Gd', np.float64(0.004584991119985591))\n",
            "('KitchenQual_TA', np.float64(0.001863611771789454))\n",
            "('Functional_Maj2', np.float64(3.3846151200451825e-05))\n",
            "('Functional_Min1', np.float64(4.958682570076445e-05))\n",
            "('Functional_Min2', np.float64(4.967564758351789e-05))\n",
            "('Functional_Mod', np.float64(0.00012223110005650064))\n",
            "('Functional_Typ', np.float64(0.00031645151817381515))\n",
            "('GarageType_Attchd', np.float64(0.002370946345052076))\n",
            "('GarageType_Basment', np.float64(2.5863922051464358e-05))\n",
            "('GarageType_BuiltIn', np.float64(0.00027792916239775405))\n",
            "('GarageType_CarPort', np.float64(3.4302200821078264e-05))\n",
            "('GarageType_Detchd', np.float64(0.0015164784960420472))\n",
            "('GarageFinish_RFn', np.float64(0.0009007193601318911))\n",
            "('GarageFinish_Unf', np.float64(0.0008574589951473289))\n",
            "('GarageQual_Fa', np.float64(0.00013913979233226575))\n",
            "('GarageQual_Gd', np.float64(2.3092639937287855e-05))\n",
            "('GarageQual_Po', np.float64(1.134039280052303e-06))\n",
            "('GarageQual_TA', np.float64(0.0008860732389403968))\n",
            "('GarageCond_Fa', np.float64(3.667699041318738e-05))\n",
            "('GarageCond_Gd', np.float64(1.3941762034155194e-05))\n",
            "('GarageCond_Po', np.float64(3.223138772210164e-06))\n",
            "('GarageCond_TA', np.float64(0.0006342128087680582))\n",
            "('PavedDrive_P', np.float64(0.00010076246599933009))\n",
            "('PavedDrive_Y', np.float64(0.0002545240953749654))\n",
            "('SaleType_ConLD', np.float64(8.579907711058275e-06))\n",
            "('SaleType_ConLI', np.float64(8.956383802474154e-06))\n",
            "('SaleType_ConLw', np.float64(5.706541709867135e-06))\n",
            "('SaleType_New', np.float64(0.0007934531856365118))\n",
            "('SaleType_Oth', np.float64(4.384118458635014e-06))\n",
            "('SaleType_WD', np.float64(0.0005175735297006858))\n",
            "('SaleCondition_Alloca', np.float64(5.0606730833643335e-05))\n",
            "('SaleCondition_Family', np.float64(4.527368087904475e-05))\n",
            "('SaleCondition_Normal', np.float64(0.0005857317036733397))\n"
          ]
        }
      ]
    },
    {
      "cell_type": "code",
      "source": [
        "from sklearn.feature_selection import SelectFromModel\n",
        "sfm = SelectFromModel(estimator=rfr, threshold=0.2)\n",
        "sfm = sfm.fit(x_train, y_train)\n",
        "feature_names=x_train.columns\n",
        "print('The most important features based on random forest classifier:')\n",
        "for feature_list_index in sfm.get_support(indices=True):\n",
        "    print('- ' + feature_names[feature_list_index])"
      ],
      "metadata": {
        "colab": {
          "base_uri": "https://localhost:8080/"
        },
        "id": "dDLimDy0NjsH",
        "outputId": "1ca6ddb0-9d2a-4aa3-a5f8-3066e7648bfa"
      },
      "execution_count": 144,
      "outputs": [
        {
          "output_type": "stream",
          "name": "stdout",
          "text": [
            "The most important features based on random forest classifier:\n",
            "- OverallQual\n"
          ]
        }
      ]
    },
    {
      "cell_type": "code",
      "source": [
        "from sklearn.metrics import mean_squared_error, r2_score\n",
        "rfr_full = RandomForestRegressor(random_state=0, criterion='squared_error')\n",
        "rfr_full.fit(x_train, y_train)\n",
        "pred_full = rfr_full.predict(x_test)\n",
        "print(\"R² Score:\", r2_score(y_test, pred_full))\n",
        "print(\"MSE:\", mean_squared_error(y_test, pred_full))"
      ],
      "metadata": {
        "colab": {
          "base_uri": "https://localhost:8080/"
        },
        "id": "JHdac1zGNsp0",
        "outputId": "ba04b4e9-35e9-4394-8b7f-6b050fa7856f"
      },
      "execution_count": 145,
      "outputs": [
        {
          "output_type": "stream",
          "name": "stdout",
          "text": [
            "R² Score: 0.8664108554774486\n",
            "MSE: 906935558.7691807\n"
          ]
        }
      ]
    },
    {
      "cell_type": "code",
      "source": [
        "x_important_train = sfm.transform(x_train)\n",
        "x_important_test = sfm.transform(x_test)"
      ],
      "metadata": {
        "id": "DEQPgM5FPG6g"
      },
      "execution_count": 146,
      "outputs": []
    },
    {
      "cell_type": "code",
      "source": [
        "print(x_important_train.shape)\n",
        "print(x_important_test.shape)"
      ],
      "metadata": {
        "id": "rEG-hcGpQWVy",
        "colab": {
          "base_uri": "https://localhost:8080/"
        },
        "outputId": "09e54f23-3543-468b-edb5-72bad1dfe958"
      },
      "execution_count": 147,
      "outputs": [
        {
          "output_type": "stream",
          "name": "stdout",
          "text": [
            "(1022, 1)\n",
            "(438, 1)\n"
          ]
        }
      ]
    },
    {
      "cell_type": "code",
      "source": [
        "rfr_lim = RandomForestRegressor(random_state=0, criterion='squared_error')\n",
        "rfr_lim.fit(x_important_train, y_train)\n",
        "pred_lim = rfc_lim.predict(x_important_test)\n",
        "print(\"R² Score (limited features):\", r2_score(y_test, pred_lim))\n",
        "print(\"MSE (limited features):\", mean_squared_error(y_test, pred_lim))"
      ],
      "metadata": {
        "colab": {
          "base_uri": "https://localhost:8080/"
        },
        "id": "1JKEfECURUH-",
        "outputId": "6aa48ad9-17d8-4dc8-c7be-4f0c5f3117c7"
      },
      "execution_count": 148,
      "outputs": [
        {
          "output_type": "stream",
          "name": "stdout",
          "text": [
            "R² Score (limited features): 0.6914271092644155\n",
            "MSE (limited features): 2094898714.1171165\n"
          ]
        }
      ]
    },
    {
      "cell_type": "code",
      "source": [],
      "metadata": {
        "id": "kjrTHE_DRY7G"
      },
      "execution_count": null,
      "outputs": []
    }
  ]
}